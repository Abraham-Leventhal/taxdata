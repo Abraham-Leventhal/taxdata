{
 "cells": [
  {
   "cell_type": "code",
   "execution_count": 1,
   "metadata": {
    "collapsed": false
   },
   "outputs": [],
   "source": [
    "import numpy as np\n",
    "import pandas as pd\n",
    "from pandas import DataFrame as df\n",
    "from cylp.cy import CyClpSimplex\n",
    "from cylp.py.modeling.CyLPModel import CyLPArray, CyLPModel\n",
    "from solve_lp_for_year import solve_lp_for_year"
   ]
  },
  {
   "cell_type": "code",
   "execution_count": 2,
   "metadata": {
    "collapsed": false
   },
   "outputs": [],
   "source": [
    "puf = pd.read_csv(\"finalProduction.csv\")\n",
    "Stage_I_factors = df.from_csv(\"Stage_I_factors_transpose.csv\", index_col = 0)\n",
    "Stage_II_targets = df.from_csv(\"Stage_II_targets.csv\", index_col= 0)"
   ]
  },
  {
   "cell_type": "code",
   "execution_count": 91,
   "metadata": {
    "collapsed": false
   },
   "outputs": [],
   "source": [
    "length = len(puf.s006)\n",
    "z = np.empty([length, 18])\n",
    "z[:,0] = puf.s006/100"
   ]
  },
  {
   "cell_type": "code",
   "execution_count": 95,
   "metadata": {
    "collapsed": false
   },
   "outputs": [
    {
     "name": "stdout",
     "output_type": "stream",
     "text": [
      "Preparing coefficient matrix for year 2010 .....\n",
      "Preparing targets for year 2010 .....\n",
      "Targets for year 2010 are:\n",
      "[ -4.29165370e+07  -3.89390405e+07  -5.90662315e+06  -1.33883101e+07\n",
      "  -4.66910280e+07  -5.56632241e+10  -3.73695122e+10  -1.50459444e+11\n",
      "  -1.95730341e+10  -3.96793186e+10  -2.97842856e+11  -8.51417344e+10\n",
      "  -2.24009287e+10  -2.44424635e+11  -5.49259983e+10  -9.36550156e+09\n",
      "  -6.53321324e+10  -1.58639281e+11  -2.35111655e+11  -2.66753879e+11\n",
      "  -2.51317404e+11  -6.37762906e+11  -5.57245249e+11  -1.02902387e+12\n",
      "  -3.07373028e+11   3.87913312e+09   4.84856399e+10]\n",
      "Adding constraints for year 2010 .....\n",
      "Setting up the LP model for year 2010 .....\n",
      "Solving LP for year 2010 .....\n",
      "DONE solving LP for year 2010\n"
     ]
    }
   ],
   "source": [
    "z[:,1] = solve_lp_for_year(puf, Stage_I_factors, Stage_II_targets, year = '2010', tol = 0.45)"
   ]
  },
  {
   "cell_type": "code",
   "execution_count": 17,
   "metadata": {
    "collapsed": false
   },
   "outputs": [
    {
     "name": "stdout",
     "output_type": "stream",
     "text": [
      "Preparing coefficient matrix for year 2011 .....\n",
      "Preparing targets for year 2011 .....\n",
      "Targets for year 2011 are:\n",
      "[ -4.24101568e+07  -4.07963581e+07  -6.24815627e+06  -1.38249197e+07\n",
      "  -4.89896417e+07  -5.87970583e+10  -4.00924693e+10  -1.56273625e+11\n",
      "  -2.06060629e+10  -4.33883311e+10  -3.21980252e+11  -9.30518149e+10\n",
      "  -2.50537276e+10  -2.49784893e+11  -5.67473747e+10  -1.21100542e+10\n",
      "  -6.89463403e+10  -1.66949135e+11  -2.52820612e+11  -2.88880087e+11\n",
      "  -2.75118544e+11  -6.80438743e+11  -5.95532236e+11  -1.04080435e+12\n",
      "  -2.74368006e+11   1.72659165e+10   5.53714375e+10]\n",
      "Adding constraints for year 2011 .....\n",
      "Setting up the LP model for year 2011 .....\n",
      "Solving LP for year 2011 .....\n",
      "DONE solving LP for year 2011\n"
     ]
    }
   ],
   "source": [
    "z[:,2] = solve_lp_for_year(puf, Stage_I_factors, Stage_II_targets, year = '2011', tol = 0.45)"
   ]
  },
  {
   "cell_type": "code",
   "execution_count": 14,
   "metadata": {
    "collapsed": false
   },
   "outputs": [
    {
     "name": "stdout",
     "output_type": "stream",
     "text": [
      "Preparing coefficient matrix for year 2012 .....\n",
      "Preparing targets for year 2012 .....\n",
      "Targets for year 2012 are:\n",
      "[ -4.35117416e+07  -4.10591653e+07  -6.46558785e+06  -1.49063652e+07\n",
      "  -5.02280455e+07  -6.23646228e+10  -4.30445101e+10  -1.54611541e+11\n",
      "  -2.05428658e+10  -4.50552594e+10  -3.39460022e+11  -9.23602831e+10\n",
      "  -2.50242145e+10  -2.60667918e+11  -5.62620864e+10  -1.37837590e+10\n",
      "  -7.15916827e+10  -1.77623007e+11  -2.65596077e+11  -3.02786298e+11\n",
      "  -2.86549774e+11  -7.04271604e+11  -6.12804202e+11  -1.01251831e+12\n",
      "  -2.44516352e+11   3.67222482e+10   1.22178360e+11]\n",
      "Adding constraints for year 2012 .....\n",
      "Setting up the LP model for year 2012 .....\n",
      "Solving LP for year 2012 .....\n",
      "DONE solving LP for year 2012\n"
     ]
    }
   ],
   "source": [
    "z[:,3] = solve_lp_for_year(puf, Stage_I_factors, Stage_II_targets, year = '2012', tol = 0.52)"
   ]
  },
  {
   "cell_type": "code",
   "execution_count": 21,
   "metadata": {
    "collapsed": false
   },
   "outputs": [
    {
     "name": "stdout",
     "output_type": "stream",
     "text": [
      "Preparing coefficient matrix for year 2013 .....\n",
      "Preparing targets for year 2013 .....\n",
      "Targets for year 2013 are:\n",
      "[ -4.37858679e+07  -4.27813757e+07  -6.78367811e+06  -1.58091132e+07\n",
      "  -5.30277997e+07  -6.73864617e+10  -4.73863464e+10  -1.60975905e+11\n",
      "  -2.17756971e+10  -5.02784325e+10  -3.48925800e+11  -1.02084512e+11\n",
      "  -2.84385774e+10  -2.70057802e+11  -5.82411042e+10  -1.49364435e+10\n",
      "  -7.48618102e+10  -1.86393189e+11  -2.74936077e+11  -3.21854625e+11\n",
      "  -2.87964840e+11  -7.35848167e+11  -6.29773773e+11  -1.02552527e+12\n",
      "  -2.16831471e+11   4.09558828e+10   7.31960077e+10]\n",
      "Adding constraints for year 2013 .....\n",
      "Setting up the LP model for year 2013 .....\n",
      "Solving LP for year 2013 .....\n",
      "DONE solving LP for year 2013\n"
     ]
    }
   ],
   "source": [
    "z[:,4] = solve_lp_for_year(puf, Stage_I_factors, Stage_II_targets, year = '2013', tol = 0.47)"
   ]
  },
  {
   "cell_type": "code",
   "execution_count": 23,
   "metadata": {
    "collapsed": false
   },
   "outputs": [
    {
     "name": "stdout",
     "output_type": "stream",
     "text": [
      "Preparing coefficient matrix for year 2014 .....\n",
      "Preparing targets for year 2014 .....\n",
      "Targets for year 2014 are:\n",
      "[ -4.30377681e+07  -4.49474115e+07  -6.63572575e+06  -1.69372858e+07\n",
      "  -5.34474767e+07  -7.00667914e+10  -4.95781121e+10  -1.58664864e+11\n",
      "  -2.15566918e+10  -5.11094863e+10  -3.62857644e+11  -1.00129036e+11\n",
      "  -2.79206891e+10  -2.79236992e+11  -5.75650197e+10  -1.64485710e+10\n",
      "  -7.75656449e+10  -1.98688711e+11  -2.86579109e+11  -3.26095237e+11\n",
      "  -2.93596376e+11  -7.64554440e+11  -6.40194960e+11  -9.97383942e+11\n",
      "  -1.72863717e+11   6.43074430e+10   1.15206086e+11]\n",
      "Adding constraints for year 2014 .....\n",
      "Setting up the LP model for year 2014 .....\n",
      "Solving LP for year 2014 .....\n",
      "DONE solving LP for year 2014\n"
     ]
    }
   ],
   "source": [
    "z[:,5] = solve_lp_for_year(puf, Stage_I_factors, Stage_II_targets, year = '2014', tol = 0.50)"
   ]
  },
  {
   "cell_type": "code",
   "execution_count": 30,
   "metadata": {
    "collapsed": false
   },
   "outputs": [
    {
     "name": "stdout",
     "output_type": "stream",
     "text": [
      "Preparing coefficient matrix for year 2015 .....\n",
      "Preparing targets for year 2015 .....\n",
      "Targets for year 2015 are:\n",
      "[ -4.39933940e+07  -4.60343280e+07  -6.74789229e+06  -1.75165084e+07\n",
      "  -5.55079453e+07  -7.46659694e+10  -5.35354286e+10  -1.63319709e+11\n",
      "  -2.25028008e+10  -5.54790797e+10  -3.83281099e+11  -1.07517093e+11\n",
      "  -3.05342427e+10  -2.88818454e+11  -5.90087946e+10  -1.68408211e+10\n",
      "  -7.91613228e+10  -2.02902465e+11  -2.92515851e+11  -3.32654818e+11\n",
      "  -2.99646088e+11  -7.79832495e+11  -6.53555954e+11  -1.02014534e+12\n",
      "  -1.80102121e+11   6.35267419e+10   1.14508866e+11]\n",
      "Adding constraints for year 2015 .....\n",
      "Setting up the LP model for year 2015 .....\n",
      "Solving LP for year 2015 .....\n",
      "DONE solving LP for year 2015\n"
     ]
    }
   ],
   "source": [
    "z[:,6] = solve_lp_for_year(puf, Stage_I_factors, Stage_II_targets, year = '2015', tol = 0.50)"
   ]
  },
  {
   "cell_type": "code",
   "execution_count": 36,
   "metadata": {
    "collapsed": false
   },
   "outputs": [
    {
     "name": "stdout",
     "output_type": "stream",
     "text": [
      "Preparing coefficient matrix for year 2016 .....\n",
      "Preparing targets for year 2016 .....\n",
      "Targets for year 2016 are:\n",
      "[ -4.50347097e+07  -4.71971708e+07  -6.87876703e+06  -1.81014898e+07\n",
      "  -5.79411552e+07  -7.96206812e+10  -5.78114366e+10  -1.69318154e+11\n",
      "  -2.36724815e+10  -6.04924603e+10  -4.04732666e+11  -1.16648918e+11\n",
      "  -3.37457830e+10  -2.98427705e+11  -6.08856225e+10  -1.73263078e+10\n",
      "  -8.12451168e+10  -2.08411495e+11  -3.00352862e+11  -3.41354188e+11\n",
      "  -3.07740674e+11  -7.99924892e+11  -6.71110132e+11  -1.05066406e+12\n",
      "  -1.90385525e+11   6.21530976e+10   1.13142679e+11]\n",
      "Adding constraints for year 2016 .....\n",
      "Setting up the LP model for year 2016 .....\n",
      "Solving LP for year 2016 .....\n",
      "DONE solving LP for year 2016\n"
     ]
    }
   ],
   "source": [
    "z[:,7] = solve_lp_for_year(puf, Stage_I_factors, Stage_II_targets, year = '2016', tol = 0.51)"
   ]
  },
  {
   "cell_type": "code",
   "execution_count": 41,
   "metadata": {
    "collapsed": false
   },
   "outputs": [
    {
     "name": "stdout",
     "output_type": "stream",
     "text": [
      "Preparing coefficient matrix for year 2017 .....\n",
      "Preparing targets for year 2017 .....\n",
      "Targets for year 2017 are:\n",
      "[ -4.61319142e+07  -4.84152720e+07  -7.01937734e+06  -1.86980748e+07\n",
      "  -6.05833866e+07  -8.48652122e+10  -6.23430408e+10  -1.76073977e+11\n",
      "  -2.49741662e+10  -6.59422707e+10  -4.27170763e+11  -1.26823398e+11\n",
      "  -3.72857210e+10  -3.08306303e+11  -6.29455171e+10  -1.78632089e+10\n",
      "  -8.35867268e+10  -2.14605529e+11  -3.09188815e+11  -3.51174142e+11\n",
      "  -3.16903532e+11  -8.22547103e+11  -6.90874473e+11  -1.08525351e+12\n",
      "  -2.02262603e+11   6.04672610e+10   1.11420884e+11]\n",
      "Adding constraints for year 2017 .....\n",
      "Setting up the LP model for year 2017 .....\n",
      "Solving LP for year 2017 .....\n",
      "DONE solving LP for year 2017\n"
     ]
    }
   ],
   "source": [
    "z[:,8] = solve_lp_for_year(puf, Stage_I_factors, Stage_II_targets, year = '2017', tol = 0.51)"
   ]
  },
  {
   "cell_type": "code",
   "execution_count": 47,
   "metadata": {
    "collapsed": false
   },
   "outputs": [
    {
     "name": "stdout",
     "output_type": "stream",
     "text": [
      "Preparing coefficient matrix for year 2018 .....\n",
      "Preparing targets for year 2018 .....\n",
      "Targets for year 2018 are:\n",
      "[ -4.72291964e+07  -4.96460929e+07  -7.15497425e+06  -1.93251656e+07\n",
      "  -6.30199611e+07  -9.01895282e+10  -6.69314961e+10  -1.82332338e+11\n",
      "  -2.62072350e+10  -7.13069079e+10  -4.50246511e+11  -1.36523399e+11\n",
      "  -4.06742518e+10  -3.18629496e+11  -6.49115722e+10  -1.83696487e+10\n",
      "  -8.57429651e+10  -2.20309017e+11  -3.17291358e+11  -3.60159003e+11\n",
      "  -3.25261168e+11  -8.43311907e+11  -7.09034101e+11  -1.11681980e+12\n",
      "  -2.12926898e+11   5.90209431e+10   1.09965049e+11]\n",
      "Adding constraints for year 2018 .....\n",
      "Setting up the LP model for year 2018 .....\n",
      "Solving LP for year 2018 .....\n",
      "DONE solving LP for year 2018\n"
     ]
    }
   ],
   "source": [
    "z[:,9] = solve_lp_for_year(puf, Stage_I_factors, Stage_II_targets, year = '2018', tol = 0.52)"
   ]
  },
  {
   "cell_type": "code",
   "execution_count": 52,
   "metadata": {
    "collapsed": false
   },
   "outputs": [
    {
     "name": "stdout",
     "output_type": "stream",
     "text": [
      "Preparing coefficient matrix for year 2019 .....\n",
      "Preparing targets for year 2019 .....\n",
      "Targets for year 2019 are:\n",
      "[ -4.83105433e+07  -5.08756449e+07  -7.28201100e+06  -1.99814058e+07\n",
      "  -6.51639560e+07  -9.55021303e+10  -7.15217628e+10  -1.87823011e+11\n",
      "  -2.73255239e+10  -7.64285232e+10  -4.73749613e+11  -1.45269097e+11\n",
      "  -4.37889085e+10  -3.29448414e+11  -6.66148865e+10  -1.88274850e+10\n",
      "  -8.76182254e+10  -2.25268477e+11  -3.24288290e+11  -3.67889270e+11\n",
      "  -3.32412905e+11  -8.61275396e+11  -7.24767956e+11  -1.14384687e+12\n",
      "  -2.21787901e+11   5.79268027e+10   1.08901076e+11]\n",
      "Adding constraints for year 2019 .....\n",
      "Setting up the LP model for year 2019 .....\n",
      "Solving LP for year 2019 .....\n",
      "DONE solving LP for year 2019\n"
     ]
    }
   ],
   "source": [
    "z[:,10] = solve_lp_for_year(puf, Stage_I_factors, Stage_II_targets, year = '2019', tol = 0.52)"
   ]
  },
  {
   "cell_type": "code",
   "execution_count": 58,
   "metadata": {
    "collapsed": false
   },
   "outputs": [
    {
     "name": "stdout",
     "output_type": "stream",
     "text": [
      "Preparing coefficient matrix for year 2020 .....\n",
      "Preparing targets for year 2020 .....\n",
      "Targets for year 2020 are:\n",
      "[ -4.93847089e+07  -5.21137108e+07  -7.40139180e+06  -2.06695229e+07\n",
      "  -6.71413251e+07  -1.00920097e+11  -7.61813655e+10  -1.92706525e+11\n",
      "  -2.83607822e+10  -8.14327700e+10  -4.97927945e+11  -1.53393547e+11\n",
      "  -4.67089709e+10  -3.40807324e+11  -6.81280682e+10  -1.92471912e+10\n",
      "  -8.92632739e+10  -2.29619623e+11  -3.30376593e+11  -3.74584640e+11\n",
      "  -3.38569188e+11  -8.76932782e+11  -7.38512507e+11  -1.16715111e+12\n",
      "  -2.29183674e+11   5.71095276e+10   1.08138775e+11]\n",
      "Adding constraints for year 2020 .....\n",
      "Setting up the LP model for year 2020 .....\n",
      "Solving LP for year 2020 .....\n",
      "DONE solving LP for year 2020\n"
     ]
    }
   ],
   "source": [
    "z[:,11] = solve_lp_for_year(puf, Stage_I_factors, Stage_II_targets, year = '2020', tol = 0.52)"
   ]
  },
  {
   "cell_type": "code",
   "execution_count": 64,
   "metadata": {
    "collapsed": false
   },
   "outputs": [
    {
     "name": "stdout",
     "output_type": "stream",
     "text": [
      "Preparing coefficient matrix for year 2021 .....\n",
      "Preparing targets for year 2021 .....\n",
      "Targets for year 2021 are:\n",
      "[ -5.04612788e+07  -5.33488981e+07  -7.52371521e+06  -2.13506257e+07\n",
      "  -6.90731801e+07  -1.06277813e+11  -8.07948031e+10  -1.97700464e+11\n",
      "  -2.94046777e+10  -8.64281367e+10  -5.21807571e+11  -1.61637387e+11\n",
      "  -4.96309195e+10  -3.52012946e+11  -6.96627679e+10  -1.96713242e+10\n",
      "  -9.09408489e+10  -2.34055980e+11  -3.36594840e+11  -3.81430187e+11\n",
      "  -3.44870315e+11  -8.92922208e+11  -7.52539131e+11  -1.19098324e+12\n",
      "  -2.36779181e+11   5.62599419e+10   1.07345108e+11]\n",
      "Adding constraints for year 2021 .....\n",
      "Setting up the LP model for year 2021 .....\n",
      "Solving LP for year 2021 .....\n",
      "DONE solving LP for year 2021\n"
     ]
    }
   ],
   "source": [
    "z[:,12] = solve_lp_for_year(puf, Stage_I_factors, Stage_II_targets, year = '2021', tol = 0.54)"
   ]
  },
  {
   "cell_type": "code",
   "execution_count": 69,
   "metadata": {
    "collapsed": false
   },
   "outputs": [
    {
     "name": "stdout",
     "output_type": "stream",
     "text": [
      "Preparing coefficient matrix for year 2022 .....\n",
      "Preparing targets for year 2022 .....\n",
      "Targets for year 2022 are:\n",
      "[ -5.15521556e+07  -5.46088033e+07  -7.64419220e+06  -2.20575694e+07\n",
      "  -7.08095172e+07  -1.11814400e+11  -8.55656735e+10  -2.02548938e+11\n",
      "  -3.04438543e+10  -9.15172125e+10  -5.46564938e+11  -1.69805131e+11\n",
      "  -5.25600496e+10  -3.63675138e+11  -7.11637357e+10  -2.00896898e+10\n",
      "  -9.25627984e+10  -2.38348015e+11  -3.42587957e+11  -3.88011498e+11\n",
      "  -3.50915912e+11  -9.08332111e+11  -7.66081532e+11  -1.21390953e+12\n",
      "  -2.44047479e+11   5.54524704e+10   1.06583436e+11]\n",
      "Adding constraints for year 2022 .....\n",
      "Setting up the LP model for year 2022 .....\n",
      "Solving LP for year 2022 .....\n",
      "DONE solving LP for year 2022\n"
     ]
    }
   ],
   "source": [
    "z[:,13] = solve_lp_for_year(puf, Stage_I_factors, Stage_II_targets, year = '2022', tol = 0.53)"
   ]
  },
  {
   "cell_type": "code",
   "execution_count": 75,
   "metadata": {
    "collapsed": false
   },
   "outputs": [
    {
     "name": "stdout",
     "output_type": "stream",
     "text": [
      "Preparing coefficient matrix for year 2023 .....\n",
      "Preparing targets for year 2023 .....\n",
      "Targets for year 2023 are:\n",
      "[ -5.26309532e+07  -5.58539827e+07  -7.76345451e+06  -2.27519674e+07\n",
      "  -7.25747968e+07  -1.17297205e+11  -9.02670464e+10  -2.07394613e+11\n",
      "  -3.14784775e+10  -9.65512328e+10  -5.70985488e+11  -1.77974385e+11\n",
      "  -5.54856778e+10  -3.75157963e+11  -7.26643504e+10  -2.05078285e+10\n",
      "  -9.41925467e+10  -2.42659984e+11  -3.48615073e+11  -3.94634545e+11\n",
      "  -3.57003285e+11  -9.23829366e+11  -7.79694343e+11  -1.23697854e+12\n",
      "  -2.51372851e+11   5.46364113e+10   1.05815236e+11]\n",
      "Adding constraints for year 2023 .....\n",
      "Setting up the LP model for year 2023 .....\n",
      "Solving LP for year 2023 .....\n",
      "DONE solving LP for year 2023\n"
     ]
    }
   ],
   "source": [
    "z[:,14] = solve_lp_for_year(puf, Stage_I_factors, Stage_II_targets, year = '2023', tol = 0.53)"
   ]
  },
  {
   "cell_type": "code",
   "execution_count": 80,
   "metadata": {
    "collapsed": false
   },
   "outputs": [
    {
     "name": "stdout",
     "output_type": "stream",
     "text": [
      "Preparing coefficient matrix for year 2024 .....\n",
      "Preparing targets for year 2024 .....\n",
      "Targets for year 2024 are:\n",
      "[ -5.37016270e+07  -5.70854667e+07  -7.88375390e+06  -2.34348281e+07\n",
      "  -7.43995147e+07  -1.22679376e+11  -9.49071631e+10  -2.12327689e+11\n",
      "  -3.25180641e+10  -1.01561814e+11  -5.95033786e+11  -1.86137698e+11\n",
      "  -5.84239410e+10  -3.86397925e+11  -7.41986920e+10  -2.09278534e+10\n",
      "  -9.58448048e+10  -2.47030962e+11  -3.54735461e+11  -4.01367179e+11\n",
      "  -3.63198759e+11  -9.39562891e+11  -7.93506338e+11  -1.26044127e+12\n",
      "  -2.58863840e+11   5.37872304e+10   1.05012099e+11]\n",
      "Adding constraints for year 2024 .....\n",
      "Setting up the LP model for year 2024 .....\n",
      "Solving LP for year 2024 .....\n",
      "DONE solving LP for year 2024\n"
     ]
    }
   ],
   "source": [
    "z[:,15] = solve_lp_for_year(puf, Stage_I_factors, Stage_II_targets, year = '2024', tol = 0.54)"
   ]
  },
  {
   "cell_type": "code",
   "execution_count": 85,
   "metadata": {
    "collapsed": false
   },
   "outputs": [
    {
     "name": "stdout",
     "output_type": "stream",
     "text": [
      "Preparing coefficient matrix for year 2025 .....\n",
      "Preparing targets for year 2025 .....\n",
      "Targets for year 2025 are:\n",
      "[ -5.48007865e+07  -5.83534411e+07  -8.00557705e+06  -2.41441471e+07\n",
      "  -7.62398019e+07  -1.28297448e+11  -9.97543973e+10  -2.17410789e+11\n",
      "  -3.36009959e+10  -1.06789349e+11  -6.20071094e+11  -1.94685992e+11\n",
      "  -6.14674930e+10  -3.98091850e+11  -7.57593589e+10  -2.13611752e+10\n",
      "  -9.75426808e+10  -2.51526647e+11  -3.61026191e+11  -4.08281034e+11\n",
      "  -3.69565712e+11  -9.55716548e+11  -8.07705815e+11  -1.28462368e+12\n",
      "  -2.66679401e+11   5.28474038e+10   1.04088840e+11]\n",
      "Adding constraints for year 2025 .....\n",
      "Setting up the LP model for year 2025 .....\n",
      "Solving LP for year 2025 .....\n",
      "DONE solving LP for year 2025\n"
     ]
    }
   ],
   "source": [
    "z[:,16] = solve_lp_for_year(puf, Stage_I_factors, Stage_II_targets, year = '2025', tol = 0.54)"
   ]
  },
  {
   "cell_type": "code",
   "execution_count": 92,
   "metadata": {
    "collapsed": false
   },
   "outputs": [
    {
     "name": "stdout",
     "output_type": "stream",
     "text": [
      "Preparing coefficient matrix for year 2026 .....\n",
      "Preparing targets for year 2026 .....\n",
      "Targets for year 2026 are:\n",
      "[ -5.58638717e+07  -5.95726029e+07  -8.12645894e+06  -2.48120019e+07\n",
      "  -7.81127411e+07  -1.33649948e+11  -1.04365049e+11  -2.22478206e+11\n",
      "  -3.46613091e+10  -1.11826758e+11  -6.43816927e+11  -2.03042609e+11\n",
      "  -6.44571876e+10  -4.09098961e+11  -7.73226671e+10  -2.17890317e+10\n",
      "  -9.92463636e+10  -2.56034979e+11  -3.67353693e+11  -4.15249383e+11\n",
      "  -3.75992308e+11  -9.71967249e+11  -8.21968708e+11  -1.30897458e+12\n",
      "  -2.74569418e+11   5.19007746e+10   1.03169110e+11]\n",
      "Adding constraints for year 2026 .....\n",
      "Setting up the LP model for year 2026 .....\n",
      "Solving LP for year 2026 .....\n",
      "DONE solving LP for year 2026\n"
     ]
    }
   ],
   "source": [
    "z[:,17] = solve_lp_for_year(puf, Stage_I_factors, Stage_II_targets, year = '2026', tol = 0.54)"
   ]
  },
  {
   "cell_type": "code",
   "execution_count": 23,
   "metadata": {
    "collapsed": true
   },
   "outputs": [],
   "source": [
    "z = df(z, columns=['WT2009','WT2010','WT2011','WT2012','WT2013','WT2014',\n",
    "                   'WT2015','WT2016','WT2017','WT2018','WT2019','WT2020','WT2021',\n",
    "                   'WT2022','WT2023','WT2024', 'WT2025', 'WT2026'])\n",
    "z = z.round(0).astype('int64')\n",
    "z.to_csv('puf_weights.csv', index = False)"
   ]
  },
  {
   "cell_type": "code",
   "execution_count": null,
   "metadata": {
    "collapsed": true
   },
   "outputs": [],
   "source": []
  }
 ],
 "metadata": {
  "anaconda-cloud": {},
  "kernelspec": {
   "display_name": "Python [default]",
   "language": "python",
   "name": "python2"
  },
  "language_info": {
   "codemirror_mode": {
    "name": "ipython",
    "version": 2
   },
   "file_extension": ".py",
   "mimetype": "text/x-python",
   "name": "python",
   "nbconvert_exporter": "python",
   "pygments_lexer": "ipython2",
   "version": "2.7.13"
  }
 },
 "nbformat": 4,
 "nbformat_minor": 0
}
