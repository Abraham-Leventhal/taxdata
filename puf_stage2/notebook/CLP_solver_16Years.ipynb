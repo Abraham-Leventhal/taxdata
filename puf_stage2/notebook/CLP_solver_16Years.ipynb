{
 "cells": [
  {
   "cell_type": "code",
   "execution_count": 1,
   "metadata": {
    "collapsed": true
   },
   "outputs": [],
   "source": [
    "import numpy as np\n",
    "import pandas as pd\n",
    "from pandas import DataFrame as df\n",
    "from cylp.cy import CyClpSimplex\n",
    "from cylp.py.modeling.CyLPModel import CyLPArray, CyLPModel\n",
    "from solve_lp_for_year import solve_lp_for_year"
   ]
  },
  {
   "cell_type": "code",
   "execution_count": 2,
   "metadata": {
    "collapsed": true
   },
   "outputs": [],
   "source": [
    "puf = pd.read_csv(\"../../puf_data/cps-matched-puf.csv\")\n",
    "Stage_I_factors = df.from_csv(\"../../stage1/Stage_I_factors_transpose.csv\", index_col = 0)\n",
    "Stage_II_targets = df.from_csv(\"../../stage1/Stage_II_targets.csv\", index_col= 0)"
   ]
  },
  {
   "cell_type": "code",
   "execution_count": 3,
   "metadata": {
    "collapsed": true
   },
   "outputs": [],
   "source": [
    "length = len(puf.s006)\n",
    "z = np.empty([length, 18])\n",
    "z[:,0] = puf.s006/100"
   ]
  },
  {
   "cell_type": "code",
   "execution_count": 6,
   "metadata": {},
   "outputs": [
    {
     "name": "stdout",
     "output_type": "stream",
     "text": [
      "Preparing coefficient matrix for year 2012 .....\n",
      "Preparing targets for year 2012 .....\n",
      "Targets for year 2012 are:\n",
      "[ -4.11146744e+07  -4.79393665e+07  -7.82155943e+06  -1.99778749e+07\n",
      "  -5.96748881e+07  -4.16675480e+10  -6.65319987e+10  -1.91329734e+11\n",
      "  -2.80960204e+10  -1.10091470e+11  -4.43896452e+11  -1.24617062e+11\n",
      "  -2.85172243e+10  -3.58157544e+11  -7.38050405e+10  -9.20198929e+09\n",
      "  -3.22907552e+10  -1.70662717e+11  -2.76307894e+11  -3.06290977e+11\n",
      "  -3.08208095e+11  -7.38799034e+11  -6.86852508e+11  -1.28534721e+12\n",
      "  -4.73358274e+11   9.55629212e+09   7.35316432e+10]\n",
      "Adding constraints for year 2012 .....\n",
      "Setting up the LP model for year 2012 .....\n",
      "Solving LP for year 2012 .....\n",
      "DONE solving LP for year 2012\n"
     ]
    }
   ],
   "source": [
    "z[:,1] = solve_lp_for_year(puf, Stage_I_factors, Stage_II_targets, year = '2012', tol = 0.48)"
   ]
  },
  {
   "cell_type": "code",
   "execution_count": 10,
   "metadata": {},
   "outputs": [
    {
     "name": "stdout",
     "output_type": "stream",
     "text": [
      "Preparing coefficient matrix for year 2013 .....\n",
      "Preparing targets for year 2013 .....\n",
      "Targets for year 2013 are:\n",
      "[ -4.13943816e+07  -4.98190230e+07  -8.16588099e+06  -2.10616110e+07\n",
      "  -6.26476200e+07  -4.51754596e+10  -7.20742474e+10  -1.98863326e+11\n",
      "  -2.93805839e+10  -1.19047589e+11  -4.56989515e+11  -1.36110185e+11\n",
      "  -3.15532331e+10  -3.71071425e+11  -7.62419569e+10  -1.03042186e+10\n",
      "  -3.49959622e+10  -1.79608114e+11  -2.86039505e+11  -3.26083911e+11\n",
      "  -3.09905894e+11  -7.72207932e+11  -7.05556801e+11  -1.30315839e+12\n",
      "  -4.48652595e+11   1.34326785e+10   2.13975292e+10]\n",
      "Adding constraints for year 2013 .....\n",
      "Setting up the LP model for year 2013 .....\n",
      "Solving LP for year 2013 .....\n",
      "DONE solving LP for year 2013\n"
     ]
    }
   ],
   "source": [
    "z[:,2] = solve_lp_for_year(puf, Stage_I_factors, Stage_II_targets, year = '2013', tol = 0.48)"
   ]
  },
  {
   "cell_type": "code",
   "execution_count": 13,
   "metadata": {},
   "outputs": [
    {
     "name": "stdout",
     "output_type": "stream",
     "text": [
      "Preparing coefficient matrix for year 2014 .....\n",
      "Preparing targets for year 2014 .....\n",
      "Targets for year 2014 are:\n",
      "[ -4.07505988e+07  -5.20480858e+07  -8.02047730e+06  -2.23693458e+07\n",
      "  -6.30644239e+07  -4.70605880e+10  -7.49334924e+10  -1.96762642e+11\n",
      "  -2.92839073e+10  -1.20892344e+11  -4.74739012e+11  -1.34721564e+11\n",
      "  -3.13676418e+10  -3.83708230e+11  -7.56340500e+10  -1.18673203e+10\n",
      "  -3.79521977e+10  -1.92493966e+11  -2.98077950e+11  -3.30520073e+11\n",
      "  -3.15769495e+11  -8.02661926e+11  -7.16418026e+11  -1.27324899e+12\n",
      "  -4.02777852e+11   3.78834631e+10   6.54132882e+10]\n",
      "Adding constraints for year 2014 .....\n",
      "Setting up the LP model for year 2014 .....\n",
      "Solving LP for year 2014 .....\n",
      "DONE solving LP for year 2014\n"
     ]
    }
   ],
   "source": [
    "z[:,3] = solve_lp_for_year(puf, Stage_I_factors, Stage_II_targets, year = '2014', tol = 0.49)"
   ]
  },
  {
   "cell_type": "code",
   "execution_count": 16,
   "metadata": {},
   "outputs": [
    {
     "name": "stdout",
     "output_type": "stream",
     "text": [
      "Preparing coefficient matrix for year 2015 .....\n",
      "Preparing targets for year 2015 .....\n",
      "Targets for year 2015 are:\n",
      "[ -4.17406774e+07  -5.32847306e+07  -8.15666900e+06  -2.31385804e+07\n",
      "  -6.52765144e+07  -5.02981553e+10  -8.00216606e+10  -2.02428099e+11\n",
      "  -3.03073590e+10  -1.28531637e+11  -4.99756311e+11  -1.43719231e+11\n",
      "  -3.37860363e+10  -3.96844678e+11  -7.74904192e+10  -1.21938953e+10\n",
      "  -3.90805170e+10  -1.96772568e+11  -3.04297890e+11  -3.37344389e+11\n",
      "  -3.22331443e+11  -8.19227867e+11  -7.31313014e+11  -1.30064784e+12\n",
      "  -4.13912874e+11   3.66034075e+10   6.38671077e+10]\n",
      "Adding constraints for year 2015 .....\n",
      "Setting up the LP model for year 2015 .....\n",
      "Solving LP for year 2015 .....\n",
      "DONE solving LP for year 2015\n"
     ]
    }
   ],
   "source": [
    "z[:,4] = solve_lp_for_year(puf, Stage_I_factors, Stage_II_targets, year = '2015', tol = 0.50)"
   ]
  },
  {
   "cell_type": "code",
   "execution_count": 20,
   "metadata": {},
   "outputs": [
    {
     "name": "stdout",
     "output_type": "stream",
     "text": [
      "Preparing coefficient matrix for year 2016 .....\n",
      "Preparing targets for year 2016 .....\n",
      "Targets for year 2016 are:\n",
      "[ -4.27893305e+07  -5.46019554e+07  -8.31285065e+06  -2.39059757e+07\n",
      "  -6.78764915e+07  -5.37162279e+10  -8.54369448e+10  -2.09465909e+11\n",
      "  -3.15254037e+10  -1.37092165e+11  -5.25599710e+11  -1.54437001e+11\n",
      "  -3.66210278e+10  -4.10036165e+11  -7.98183855e+10  -1.25947259e+10\n",
      "  -4.05383766e+10  -2.02239863e+11  -3.12341611e+11  -3.46188556e+11\n",
      "  -3.30875798e+11  -8.40381040e+11  -7.50357614e+11  -1.33612941e+12\n",
      "  -4.28506244e+11   3.47213212e+10   6.15890172e+10]\n",
      "Adding constraints for year 2016 .....\n",
      "Setting up the LP model for year 2016 .....\n",
      "Solving LP for year 2016 .....\n",
      "DONE solving LP for year 2016\n"
     ]
    }
   ],
   "source": [
    "z[:,5] = solve_lp_for_year(puf, Stage_I_factors, Stage_II_targets, year = '2016', tol = 0.50)"
   ]
  },
  {
   "cell_type": "code",
   "execution_count": 23,
   "metadata": {},
   "outputs": [
    {
     "name": "stdout",
     "output_type": "stream",
     "text": [
      "Preparing coefficient matrix for year 2017 .....\n",
      "Preparing targets for year 2017 .....\n",
      "Targets for year 2017 are:\n",
      "[ -4.38956849e+07  -5.59926927e+07  -8.48285300e+06  -2.46959581e+07\n",
      "  -7.07111949e+07  -5.73778749e+10  -9.12368886e+10  -2.17468734e+11\n",
      "  -3.28826605e+10  -1.46480483e+11  -5.52828848e+11  -1.66508906e+11\n",
      "  -3.98110449e+10  -4.23585490e+11  -8.24279914e+10  -1.30460664e+10\n",
      "  -4.22151912e+10  -2.08466116e+11  -3.21530416e+11  -3.56297381e+11\n",
      "  -3.40660948e+11  -8.64421351e+11  -7.72016555e+11  -1.37671295e+12\n",
      "  -4.45358583e+11   3.23988106e+10   5.87616016e+10]\n",
      "Adding constraints for year 2017 .....\n",
      "Setting up the LP model for year 2017 .....\n",
      "Solving LP for year 2017 .....\n",
      "DONE solving LP for year 2017\n"
     ]
    }
   ],
   "source": [
    "z[:,6] = solve_lp_for_year(puf, Stage_I_factors, Stage_II_targets, year = '2017', tol = 0.51)"
   ]
  },
  {
   "cell_type": "code",
   "execution_count": 26,
   "metadata": {},
   "outputs": [
    {
     "name": "stdout",
     "output_type": "stream",
     "text": [
      "Preparing coefficient matrix for year 2018 .....\n",
      "Preparing targets for year 2018 .....\n",
      "Targets for year 2018 are:\n",
      "[ -4.50089140e+07  -5.73901966e+07  -8.64536615e+06  -2.55250563e+07\n",
      "  -7.33233779e+07  -6.10909625e+10  -9.70854537e+10  -2.24891451e+11\n",
      "  -3.41691020e+10  -1.55679336e+11  -5.80820099e+11  -1.77975721e+11\n",
      "  -4.28706783e+10  -4.37799388e+11  -8.48314529e+10  -1.34692041e+10\n",
      "  -4.37515855e+10  -2.14190422e+11  -3.29930560e+11  -3.65529314e+11\n",
      "  -3.49579280e+11  -8.86520550e+11  -7.91915901e+11  -1.41379800e+12\n",
      "  -4.60699441e+11   3.03616673e+10   5.62793969e+10]\n",
      "Adding constraints for year 2018 .....\n",
      "Setting up the LP model for year 2018 .....\n",
      "Solving LP for year 2018 .....\n",
      "DONE solving LP for year 2018\n"
     ]
    }
   ],
   "source": [
    "z[:,7] = solve_lp_for_year(puf, Stage_I_factors, Stage_II_targets, year = '2018', tol = 0.51)"
   ]
  },
  {
   "cell_type": "code",
   "execution_count": 30,
   "metadata": {},
   "outputs": [
    {
     "name": "stdout",
     "output_type": "stream",
     "text": [
      "Preparing coefficient matrix for year 2019 .....\n",
      "Preparing targets for year 2019 .....\n",
      "Targets for year 2019 are:\n",
      "[ -4.61230415e+07  -5.87835190e+07  -8.79823850e+06  -2.63919141e+07\n",
      "  -7.56319697e+07  -6.48090186e+10  -1.02954453e+11  -2.31520759e+11\n",
      "  -3.53617468e+10  -1.64560356e+11  -6.09389100e+11  -1.88551074e+11\n",
      "  -4.57140266e+10  -4.52663115e+11  -8.70099178e+10  -1.38495179e+10\n",
      "  -4.50821707e+10  -2.19181545e+11  -3.37188460e+11  -3.73492970e+11\n",
      "  -3.57246230e+11  -9.05791736e+11  -8.09252704e+11  -1.44581350e+12\n",
      "  -4.73844936e+11   2.87372496e+10   5.42990204e+10]\n",
      "Adding constraints for year 2019 .....\n",
      "Setting up the LP model for year 2019 .....\n",
      "Solving LP for year 2019 .....\n",
      "DONE solving LP for year 2019\n"
     ]
    }
   ],
   "source": [
    "z[:,8] = solve_lp_for_year(puf, Stage_I_factors, Stage_II_targets, year = '2019', tol = 0.51)"
   ]
  },
  {
   "cell_type": "code",
   "execution_count": 33,
   "metadata": {},
   "outputs": [
    {
     "name": "stdout",
     "output_type": "stream",
     "text": [
      "Preparing coefficient matrix for year 2020 .....\n",
      "Preparing targets for year 2020 .....\n",
      "Targets for year 2020 are:\n",
      "[ -4.72472144e+07  -6.01855109e+07  -8.94306717e+06  -2.73012183e+07\n",
      "  -7.77672596e+07  -6.86023283e+10  -1.08909485e+11  -2.37485685e+11\n",
      "  -3.64716035e+10  -1.73256465e+11  -6.38873100e+11  -1.98463898e+11\n",
      "  -4.83825367e+10  -4.68305283e+11  -8.89439894e+10  -1.41952484e+10\n",
      "  -4.62415433e+10  -2.23560993e+11  -3.43486580e+11  -3.80389704e+11\n",
      "  -3.63858821e+11  -9.22698457e+11  -8.24446280e+11  -1.47357107e+12\n",
      "  -4.85150140e+11   2.74600702e+10   5.27390424e+10]\n",
      "Adding constraints for year 2020 .....\n",
      "Setting up the LP model for year 2020 .....\n",
      "Solving LP for year 2020 .....\n",
      "DONE solving LP for year 2020\n"
     ]
    }
   ],
   "source": [
    "z[:,9] = solve_lp_for_year(puf, Stage_I_factors, Stage_II_targets, year = '2020', tol = 0.52)"
   ]
  },
  {
   "cell_type": "code",
   "execution_count": 36,
   "metadata": {},
   "outputs": [
    {
     "name": "stdout",
     "output_type": "stream",
     "text": [
      "Preparing coefficient matrix for year 2021 .....\n",
      "Preparing targets for year 2021 .....\n",
      "Targets for year 2021 are:\n",
      "[ -4.83622982e+07  -6.15765454e+07  -9.08844033e+06  -2.81989365e+07\n",
      "  -7.98450497e+07  -7.23491488e+10  -1.14805532e+11  -2.43564941e+11\n",
      "  -3.75946625e+10  -1.81922143e+11  -6.67999813e+11  -2.08395717e+11\n",
      "  -5.10900341e+10  -4.83648228e+11  -9.09262458e+10  -1.45448987e+10\n",
      "  -4.74242180e+10  -2.28020187e+11  -3.49913204e+11  -3.87429905e+11\n",
      "  -3.70614744e+11  -9.39911329e+11  -8.39918524e+11  -1.50190163e+12\n",
      "  -4.96712502e+11   2.61252165e+10   5.11085704e+10]\n",
      "Adding constraints for year 2021 .....\n",
      "Setting up the LP model for year 2021 .....\n",
      "Solving LP for year 2021 .....\n",
      "DONE solving LP for year 2021\n"
     ]
    }
   ],
   "source": [
    "z[:,10] = solve_lp_for_year(puf, Stage_I_factors, Stage_II_targets, year = '2021', tol = 0.52)"
   ]
  },
  {
   "cell_type": "code",
   "execution_count": 40,
   "metadata": {},
   "outputs": [
    {
     "name": "stdout",
     "output_type": "stream",
     "text": [
      "Preparing coefficient matrix for year 2022 .....\n",
      "Preparing targets for year 2022 .....\n",
      "Targets for year 2022 are:\n",
      "[ -4.95055118e+07  -6.29996738e+07  -9.23392909e+06  -2.91304526e+07\n",
      "  -8.17361052e+07  -7.62183561e+10  -1.20869549e+11  -2.49488680e+11\n",
      "  -3.87095717e+10  -1.90725336e+11  -6.98199641e+11  -2.18370987e+11\n",
      "  -5.37834430e+10  -4.99664918e+11  -9.28836822e+10  -1.48895064e+10\n",
      "  -4.85714401e+10  -2.32343077e+11  -3.56109854e+11  -3.94211560e+11\n",
      "  -3.77112261e+11  -9.56579360e+11  -8.54896243e+11  -1.52922093e+12\n",
      "  -5.07860507e+11   2.48607063e+10   4.95570807e+10]\n",
      "Adding constraints for year 2022 .....\n",
      "Setting up the LP model for year 2022 .....\n",
      "Solving LP for year 2022 .....\n",
      "DONE solving LP for year 2022\n"
     ]
    }
   ],
   "source": [
    "z[:,11] = solve_lp_for_year(puf, Stage_I_factors, Stage_II_targets, year = '2022', tol = 0.52)"
   ]
  },
  {
   "cell_type": "code",
   "execution_count": 43,
   "metadata": {},
   "outputs": [
    {
     "name": "stdout",
     "output_type": "stream",
     "text": [
      "Preparing coefficient matrix for year 2023 .....\n",
      "Preparing targets for year 2023 .....\n",
      "Targets for year 2023 are:\n",
      "[ -5.06381738e+07  -6.44113155e+07  -9.37850053e+06  -3.00537555e+07\n",
      "  -8.36578715e+07  -8.00491077e+10  -1.26891548e+11  -2.55448594e+11\n",
      "  -3.98210369e+10  -1.99470550e+11  -7.28056331e+11  -2.28295524e+11\n",
      "  -5.64846265e+10  -5.15500290e+11  -9.48174640e+10  -1.52344361e+10\n",
      "  -4.97236320e+10  -2.36687074e+11  -3.62344896e+11  -4.01036842e+11\n",
      "  -3.83653809e+11  -9.73335068e+11  -8.69953617e+11  -1.55670744e+12\n",
      "  -5.19072842e+11   2.35870045e+10   4.79965563e+10]\n",
      "Adding constraints for year 2023 .....\n",
      "Setting up the LP model for year 2023 .....\n",
      "Solving LP for year 2023 .....\n",
      "DONE solving LP for year 2023\n"
     ]
    }
   ],
   "source": [
    "z[:,12] = solve_lp_for_year(puf, Stage_I_factors, Stage_II_targets, year = '2023', tol = 0.53)"
   ]
  },
  {
   "cell_type": "code",
   "execution_count": 46,
   "metadata": {},
   "outputs": [
    {
     "name": "stdout",
     "output_type": "stream",
     "text": [
      "Preparing coefficient matrix for year 2024 .....\n",
      "Preparing targets for year 2024 .....\n",
      "Targets for year 2024 are:\n",
      "[ -5.17465811e+07  -6.57947861e+07  -9.52114994e+06  -3.09500856e+07\n",
      "  -8.56241450e+07  -8.37969735e+10  -1.32780889e+11  -2.61410488e+11\n",
      "  -4.09288992e+10  -2.08096431e+11  -7.57191370e+11  -2.38177945e+11\n",
      "  -5.91605316e+10  -5.30904661e+11  -9.67709028e+10  -1.55780413e+10\n",
      "  -5.08789143e+10  -2.41045501e+11  -3.68615374e+11  -4.07903828e+11\n",
      "  -3.90239610e+11  -9.90156277e+11  -8.85071682e+11  -1.58434772e+12\n",
      "  -5.30344632e+11   2.22999601e+10   4.64232706e+10]\n",
      "Adding constraints for year 2024 .....\n",
      "Setting up the LP model for year 2024 .....\n",
      "Solving LP for year 2024 .....\n",
      "DONE solving LP for year 2024\n"
     ]
    }
   ],
   "source": [
    "z[:,13] = solve_lp_for_year(puf, Stage_I_factors, Stage_II_targets, year = '2024', tol = 0.54)"
   ]
  },
  {
   "cell_type": "code",
   "execution_count": 49,
   "metadata": {},
   "outputs": [
    {
     "name": "stdout",
     "output_type": "stream",
     "text": [
      "Preparing coefficient matrix for year 2025 .....\n",
      "Preparing targets for year 2025 .....\n",
      "Targets for year 2025 are:\n",
      "[ -5.28976684e+07  -6.72291272e+07  -9.66882963e+06  -3.18846300e+07\n",
      "  -8.76245784e+07  -8.77457055e+10  -1.38972514e+11  -2.67658257e+11\n",
      "  -4.20897191e+10  -2.17184759e+11  -7.87726136e+11  -2.48609094e+11\n",
      "  -6.19722357e+10  -5.46915928e+11  -9.87996679e+10  -1.59379207e+10\n",
      "  -5.20958421e+10  -2.45594853e+11  -3.75151999e+11  -4.15060671e+11\n",
      "  -3.97107412e+11  -1.00766837e+12  -9.00816331e+11  -1.61319542e+12\n",
      "  -5.42209415e+11   2.08666115e+10   4.46567201e+10]\n",
      "Adding constraints for year 2025 .....\n",
      "Setting up the LP model for year 2025 .....\n",
      "Solving LP for year 2025 .....\n",
      "DONE solving LP for year 2025\n"
     ]
    }
   ],
   "source": [
    "z[:,14] = solve_lp_for_year(puf, Stage_I_factors, Stage_II_targets, year = '2025', tol = 0.55)"
   ]
  },
  {
   "cell_type": "code",
   "execution_count": 53,
   "metadata": {},
   "outputs": [
    {
     "name": "stdout",
     "output_type": "stream",
     "text": [
      "Preparing coefficient matrix for year 2026 .....\n",
      "Preparing targets for year 2026 .....\n",
      "Targets for year 2026 are:\n",
      "[ -5.40078095e+07  -6.86122864e+07  -9.81554275e+06  -3.27689805e+07\n",
      "  -8.96584054e+07  -9.14907021e+10  -1.44863872e+11  -2.73832162e+11\n",
      "  -4.32206442e+10  -2.25910144e+11  -8.16697709e+11  -2.58732320e+11\n",
      "  -6.47184879e+10  -5.62109898e+11  -1.00807067e+11  -1.62934273e+10\n",
      "  -5.33114091e+10  -2.50152029e+11  -3.81729851e+11  -4.22268566e+11\n",
      "  -4.04031683e+11  -1.02523805e+12  -9.16615227e+11  -1.64221390e+12\n",
      "  -5.54119195e+11   1.94297728e+10   4.28954043e+10]\n",
      "Adding constraints for year 2026 .....\n",
      "Setting up the LP model for year 2026 .....\n",
      "Solving LP for year 2026 .....\n",
      "DONE solving LP for year 2026\n"
     ]
    }
   ],
   "source": [
    "z[:,15] = solve_lp_for_year(puf, Stage_I_factors, Stage_II_targets, year = '2026', tol = 0.55)"
   ]
  },
  {
   "cell_type": "code",
   "execution_count": 56,
   "metadata": {},
   "outputs": [
    {
     "name": "stdout",
     "output_type": "stream",
     "text": [
      "Preparing coefficient matrix for year 2027 .....\n",
      "Preparing targets for year 2027 .....\n",
      "Targets for year 2027 are:\n",
      "[ -5.50515708e+07  -6.99187117e+07  -9.95504461e+06  -3.35959476e+07\n",
      "  -9.17196899e+07  -9.49998092e+10  -1.50386004e+11  -2.79851290e+11\n",
      "  -4.43154667e+10  -2.34180956e+11  -8.43779531e+11  -2.68458643e+11\n",
      "  -6.73380138e+10  -5.76263691e+11  -1.02768814e+11  -1.66399922e+10\n",
      "  -5.45088310e+10  -2.54652937e+11  -3.88253829e+11  -4.29422793e+11\n",
      "  -4.10911192e+11  -1.04261578e+12  -9.32243790e+11  -1.67098461e+12\n",
      "  -5.65904488e+11   1.80096209e+10   4.11632183e+10]\n",
      "Adding constraints for year 2027 .....\n",
      "Setting up the LP model for year 2027 .....\n",
      "Solving LP for year 2027 .....\n",
      "DONE solving LP for year 2027\n"
     ]
    }
   ],
   "source": [
    "z[:,17] = solve_lp_for_year(puf, Stage_I_factors, Stage_II_targets, year = '2027', tol = 0.56)"
   ]
  },
  {
   "cell_type": "code",
   "execution_count": 23,
   "metadata": {
    "collapsed": true
   },
   "outputs": [],
   "source": [
    "z = df(z, columns=['WT2011','WT2012','WT2013','WT2014',\n",
    "                   'WT2015','WT2016','WT2017','WT2018','WT2019','WT2020','WT2021',\n",
    "                   'WT2022','WT2023','WT2024', 'WT2025', 'WT2026', 'WT2027'])\n",
    "z = z.round(0).astype('int64')\n",
    "z.to_csv('puf_weights.csv', index = False)"
   ]
  },
  {
   "cell_type": "code",
   "execution_count": null,
   "metadata": {
    "collapsed": true
   },
   "outputs": [],
   "source": []
  }
 ],
 "metadata": {
  "anaconda-cloud": {},
  "kernelspec": {
   "display_name": "Python [conda env:taxdata-dev]",
   "language": "python",
   "name": "conda-env-taxdata-dev-py"
  },
  "language_info": {
   "codemirror_mode": {
    "name": "ipython",
    "version": 2
   },
   "file_extension": ".py",
   "mimetype": "text/x-python",
   "name": "python",
   "nbconvert_exporter": "python",
   "pygments_lexer": "ipython2",
   "version": "2.7.13"
  }
 },
 "nbformat": 4,
 "nbformat_minor": 2
}
