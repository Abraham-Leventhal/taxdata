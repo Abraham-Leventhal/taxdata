{
 "cells": [
  {
   "cell_type": "code",
   "execution_count": 1,
   "metadata": {
    "collapsed": false
   },
   "outputs": [],
   "source": [
    "import numpy as np\n",
    "import pandas as pd\n",
    "from pandas import DataFrame as df\n",
    "from cylp.cy import CyClpSimplex\n",
    "from cylp.py.modeling.CyLPModel import CyLPArray, CyLPModel\n",
    "from solve_lp_for_year import solve_lp_for_year"
   ]
  },
  {
   "cell_type": "code",
   "execution_count": 2,
   "metadata": {
    "collapsed": false
   },
   "outputs": [],
   "source": [
    "puf = pd.read_csv(\"../../puf_data/cps-matched-puf.csv\")\n",
    "Stage_I_factors = df.from_csv(\"Stage_I_factors_transpose.csv\", index_col = 0)\n",
    "Stage_II_targets = df.from_csv(\"Stage_II_targets.csv\", index_col= 0)"
   ]
  },
  {
   "cell_type": "code",
   "execution_count": 3,
   "metadata": {
    "collapsed": false
   },
   "outputs": [],
   "source": [
    "length = len(puf.s006)\n",
    "z = np.empty([length, 18])\n",
    "z[:,0] = puf.s006/100"
   ]
  },
  {
   "cell_type": "code",
   "execution_count": 6,
   "metadata": {
    "collapsed": false
   },
   "outputs": [
    {
     "name": "stdout",
     "output_type": "stream",
     "text": [
      "Preparing coefficient matrix for year 2010 .....\n",
      "Preparing targets for year 2010 .....\n",
      "Targets for year 2010 are:\n",
      "[ -3.82942030e+07  -3.76415496e+07  -6.22801124e+06  -1.30357225e+07\n",
      "  -4.64979023e+07  -5.49873686e+10  -3.69255963e+10  -1.46449052e+11\n",
      "  -1.67206160e+10  -3.55200430e+10  -2.77213627e+11  -8.12721601e+10\n",
      "  -1.82834975e+10  -2.42230093e+11  -5.22449893e+10  -9.61904921e+09\n",
      "  -6.00747856e+10  -1.47101966e+11  -2.25061685e+11  -2.59940777e+11\n",
      "  -2.37553590e+11  -6.00336804e+11  -5.26590283e+11  -9.64605923e+11\n",
      "  -2.65069360e+11   4.26104394e+09   4.87746453e+10]\n",
      "Adding constraints for year 2010 .....\n",
      "Setting up the LP model for year 2010 .....\n",
      "Solving LP for year 2010 .....\n",
      "DONE solving LP for year 2010\n"
     ]
    }
   ],
   "source": [
    "z[:,1] = solve_lp_for_year(puf, Stage_I_factors, Stage_II_targets, year = '2010', tol = 0.41)"
   ]
  },
  {
   "cell_type": "code",
   "execution_count": 9,
   "metadata": {
    "collapsed": false
   },
   "outputs": [
    {
     "name": "stdout",
     "output_type": "stream",
     "text": [
      "Preparing coefficient matrix for year 2011 .....\n",
      "Preparing targets for year 2011 .....\n",
      "Targets for year 2011 are:\n",
      "[ -3.77064456e+07  -3.94758452e+07  -6.57543796e+06  -1.34646011e+07\n",
      "  -4.87934905e+07  -5.81159742e+10  -3.96468716e+10  -1.52199840e+11\n",
      "  -1.77033576e+10  -3.91611694e+10  -3.00969048e+11  -8.91280179e+10\n",
      "  -2.08570508e+10  -2.47542232e+11  -5.40202592e+10  -1.23687884e+10\n",
      "  -6.35982143e+10  -1.55209551e+11  -2.42593660e+11  -2.81950249e+11\n",
      "  -2.61123600e+11  -6.42381834e+11  -5.64371317e+11  -9.75300462e+11\n",
      "  -2.31331754e+11   1.76550554e+10   5.56652293e+10]\n",
      "Adding constraints for year 2011 .....\n",
      "Setting up the LP model for year 2011 .....\n",
      "Solving LP for year 2011 .....\n",
      "DONE solving LP for year 2011\n"
     ]
    }
   ],
   "source": [
    "z[:,2] = solve_lp_for_year(puf, Stage_I_factors, Stage_II_targets, year = '2011', tol = 0.43)"
   ]
  },
  {
   "cell_type": "code",
   "execution_count": 12,
   "metadata": {
    "collapsed": false
   },
   "outputs": [
    {
     "name": "stdout",
     "output_type": "stream",
     "text": [
      "Preparing coefficient matrix for year 2012 .....\n",
      "Preparing targets for year 2012 .....\n",
      "Targets for year 2012 are:\n",
      "[ -3.88078190e+07  -3.97367494e+07  -6.79530359e+06  -1.45303776e+07\n",
      "  -5.00357329e+07  -6.17520337e+10  -4.26619048e+10  -1.50611659e+11\n",
      "  -1.76393143e+10  -4.08827568e+10  -3.18254805e+11  -8.85791335e+10\n",
      "  -2.07579262e+10  -2.58327732e+11  -5.35460804e+10  -1.40499301e+10\n",
      "  -6.62615789e+10  -1.65891613e+11  -2.55368154e+11  -2.95889135e+11\n",
      "  -2.72669097e+11  -6.66501537e+11  -5.81988461e+11  -9.47506226e+11\n",
      "  -2.01603318e+11   3.71165866e+10   1.22469066e+11]\n",
      "Adding constraints for year 2012 .....\n",
      "Setting up the LP model for year 2012 .....\n",
      "Solving LP for year 2012 .....\n",
      "DONE solving LP for year 2012\n"
     ]
    }
   ],
   "source": [
    "z[:,3] = solve_lp_for_year(puf, Stage_I_factors, Stage_II_targets, year = '2012', tol = 0.52)"
   ]
  },
  {
   "cell_type": "code",
   "execution_count": 17,
   "metadata": {
    "collapsed": false
   },
   "outputs": [
    {
     "name": "stdout",
     "output_type": "stream",
     "text": [
      "Preparing coefficient matrix for year 2013 .....\n",
      "Preparing targets for year 2013 .....\n",
      "Targets for year 2013 are:\n",
      "[ -3.89972862e+07  -4.14343590e+07  -7.12037847e+06  -1.54195619e+07\n",
      "  -5.28336967e+07  -6.67926030e+10  -4.70242168e+10  -1.56936204e+11\n",
      "  -1.88195779e+10  -4.60546519e+10  -3.27255105e+11  -9.82973283e+10\n",
      "  -2.40653611e+10  -2.67633193e+11  -5.54810939e+10  -1.52106294e+10\n",
      "  -6.94437076e+10  -1.74454443e+11  -2.64523854e+11  -3.14847653e+11\n",
      "  -2.73884234e+11  -6.97523627e+11  -5.98553917e+11  -9.59557960e+11\n",
      "  -1.73200451e+11   4.13595686e+10   7.34905998e+10]\n",
      "Adding constraints for year 2013 .....\n",
      "Setting up the LP model for year 2013 .....\n",
      "Solving LP for year 2013 .....\n",
      "DONE solving LP for year 2013\n"
     ]
    }
   ],
   "source": [
    "z[:,4] = solve_lp_for_year(puf, Stage_I_factors, Stage_II_targets, year = '2013', tol = 0.46)"
   ]
  },
  {
   "cell_type": "code",
   "execution_count": 20,
   "metadata": {
    "collapsed": false
   },
   "outputs": [
    {
     "name": "stdout",
     "output_type": "stream",
     "text": [
      "Preparing coefficient matrix for year 2014 .....\n",
      "Preparing targets for year 2014 .....\n",
      "Targets for year 2014 are:\n",
      "[ -3.82548619e+07  -4.36003760e+07  -6.97414683e+06  -1.65344813e+07\n",
      "  -5.32569748e+07  -6.95336777e+10  -4.92716225e+10  -1.54694864e+11\n",
      "  -1.86034491e+10  -4.69387701e+10  -3.41043469e+11  -9.64714818e+10\n",
      "  -2.34918286e+10  -2.76729895e+11  -5.48181220e+10  -1.67289379e+10\n",
      "  -7.21699654e+10  -1.86771754e+11  -2.76178779e+11  -3.19125472e+11\n",
      "  -2.79633129e+11  -7.26528151e+11  -6.09315774e+11  -9.31928312e+11\n",
      "  -1.29394068e+11   6.47151909e+10   1.15497614e+11]\n",
      "Adding constraints for year 2014 .....\n",
      "Setting up the LP model for year 2014 .....\n",
      "Solving LP for year 2014 .....\n",
      "DONE solving LP for year 2014\n"
     ]
    }
   ],
   "source": [
    "z[:,5] = solve_lp_for_year(puf, Stage_I_factors, Stage_II_targets, year = '2014', tol = 0.50)"
   ]
  },
  {
   "cell_type": "code",
   "execution_count": 23,
   "metadata": {
    "collapsed": false
   },
   "outputs": [
    {
     "name": "stdout",
     "output_type": "stream",
     "text": [
      "Preparing coefficient matrix for year 2015 .....\n",
      "Preparing targets for year 2015 .....\n",
      "Targets for year 2015 are:\n",
      "[ -3.91426166e+07  -4.46672248e+07  -7.09236600e+06  -1.70998986e+07\n",
      "  -5.53167284e+07  -7.41607046e+10  -5.32571545e+10  -1.59331661e+11\n",
      "  -1.95072805e+10  -5.12775253e+10  -3.61057595e+11  -1.03881448e+11\n",
      "  -2.60066574e+10  -2.86225431e+11  -5.62287220e+10  -1.71290039e+10\n",
      "  -7.36985146e+10  -1.90820907e+11  -2.81967672e+11  -3.25603196e+11\n",
      "  -2.85544076e+11  -7.41415722e+11  -6.22417692e+11  -9.54016553e+11\n",
      "  -1.36080299e+11   6.39429539e+10   1.14802929e+11]\n",
      "Adding constraints for year 2015 .....\n",
      "Setting up the LP model for year 2015 .....\n",
      "Solving LP for year 2015 .....\n",
      "DONE solving LP for year 2015\n"
     ]
    }
   ],
   "source": [
    "z[:,6] = solve_lp_for_year(puf, Stage_I_factors, Stage_II_targets, year = '2015', tol = 0.51)"
   ]
  },
  {
   "cell_type": "code",
   "execution_count": 26,
   "metadata": {
    "collapsed": false
   },
   "outputs": [
    {
     "name": "stdout",
     "output_type": "stream",
     "text": [
      "Preparing coefficient matrix for year 2016 .....\n",
      "Preparing targets for year 2016 .....\n",
      "Targets for year 2016 are:\n",
      "[ -4.01011321e+07  -4.58059353e+07  -7.23016603e+06  -1.76710057e+07\n",
      "  -5.77483367e+07  -7.91363993e+10  -5.75556380e+10  -1.65294042e+11\n",
      "  -2.06255199e+10  -5.62428860e+10  -3.82046400e+11  -1.13012923e+11\n",
      "  -2.91109191e+10  -2.95748327e+11  -5.80629485e+10  -1.76226180e+10\n",
      "  -7.56969520e+10  -1.96127478e+11  -2.89624410e+11  -3.34196451e+11\n",
      "  -2.93447590e+11  -7.60977039e+11  -6.39590101e+11  -9.83620259e+11\n",
      "  -1.45666348e+11   6.25786532e+10   1.13440422e+11]\n",
      "Adding constraints for year 2016 .....\n",
      "Setting up the LP model for year 2016 .....\n",
      "Solving LP for year 2016 .....\n",
      "DONE solving LP for year 2016\n"
     ]
    }
   ],
   "source": [
    "z[:,7] = solve_lp_for_year(puf, Stage_I_factors, Stage_II_targets, year = '2016', tol = 0.51)"
   ]
  },
  {
   "cell_type": "code",
   "execution_count": 29,
   "metadata": {
    "collapsed": false
   },
   "outputs": [
    {
     "name": "stdout",
     "output_type": "stream",
     "text": [
      "Preparing coefficient matrix for year 2017 .....\n",
      "Preparing targets for year 2017 .....\n",
      "Targets for year 2017 are:\n",
      "[ -4.11075943e+07  -4.69977056e+07  -7.37821355e+06  -1.82533713e+07\n",
      "  -6.03885707e+07  -8.43996106e+10  -6.21079055e+10  -1.72005676e+11\n",
      "  -2.18708743e+10  -6.16366166e+10  -4.03989506e+11  -1.23178026e+11\n",
      "  -3.25376600e+10  -3.05538421e+11  -6.00754481e+10  -1.81679584e+10\n",
      "  -7.79438680e+10  -2.02099084e+11  -2.98262831e+11  -3.43898035e+11\n",
      "  -3.02393814e+11  -7.82999059e+11  -6.58914229e+11  -1.01717576e+12\n",
      "  -1.56771300e+11   6.09027300e+10   1.11722856e+11]\n",
      "Adding constraints for year 2017 .....\n",
      "Setting up the LP model for year 2017 .....\n",
      "Solving LP for year 2017 .....\n",
      "DONE solving LP for year 2017\n"
     ]
    }
   ],
   "source": [
    "z[:,8] = solve_lp_for_year(puf, Stage_I_factors, Stage_II_targets, year = '2017', tol = 0.52)"
   ]
  },
  {
   "cell_type": "code",
   "execution_count": 32,
   "metadata": {
    "collapsed": false
   },
   "outputs": [
    {
     "name": "stdout",
     "output_type": "stream",
     "text": [
      "Preparing coefficient matrix for year 2018 .....\n",
      "Preparing targets for year 2018 .....\n",
      "Targets for year 2018 are:\n",
      "[ -4.21194926e+07  -4.82035702e+07  -7.52104497e+06  -1.88655523e+07\n",
      "  -6.28236416e+07  -8.97482017e+10  -6.67219628e+10  -1.78229699e+11\n",
      "  -2.30508692e+10  -6.69538465e+10  -4.26580620e+11  -1.32883164e+11\n",
      "  -3.58128927e+10  -3.15768815e+11  -6.19980048e+10  -1.86830649e+10\n",
      "  -8.00127892e+10  -2.07594130e+11  -3.06179456e+11  -3.52774738e+11\n",
      "  -3.10558838e+11  -8.03227317e+11  -6.76693514e+11  -1.04781752e+12\n",
      "  -1.66721297e+11   5.94662467e+10   1.10270697e+11]\n",
      "Adding constraints for year 2018 .....\n",
      "Setting up the LP model for year 2018 .....\n",
      "Solving LP for year 2018 .....\n",
      "DONE solving LP for year 2018\n"
     ]
    }
   ],
   "source": [
    "z[:,9] = solve_lp_for_year(puf, Stage_I_factors, Stage_II_targets, year = '2018', tol = 0.52)"
   ]
  },
  {
   "cell_type": "code",
   "execution_count": 36,
   "metadata": {
    "collapsed": false
   },
   "outputs": [
    {
     "name": "stdout",
     "output_type": "stream",
     "text": [
      "Preparing coefficient matrix for year 2019 .....\n",
      "Preparing targets for year 2019 .....\n",
      "Targets for year 2019 are:\n",
      "[ -4.31237881e+07  -4.94103488e+07  -7.65494179e+06  -1.95061925e+07\n",
      "  -6.49668070e+07  -9.50921016e+10  -7.13439693e+10  -1.83699539e+11\n",
      "  -2.41211654e+10  -7.20401983e+10  -4.49619923e+11  -1.41653072e+11\n",
      "  -3.88157931e+10  -3.26490636e+11  -6.36636051e+10  -1.91497399e+10\n",
      "  -8.18117564e+10  -2.12366686e+11  -3.13008543e+11  -3.60411924e+11\n",
      "  -3.17552508e+11  -8.20746169e+11  -6.92131644e+11  -1.07407809e+12\n",
      "  -1.74954861e+11   5.83816913e+10   1.09209617e+11]\n",
      "Adding constraints for year 2019 .....\n",
      "Setting up the LP model for year 2019 .....\n",
      "Solving LP for year 2019 .....\n",
      "DONE solving LP for year 2019\n"
     ]
    }
   ],
   "source": [
    "z[:,10] = solve_lp_for_year(puf, Stage_I_factors, Stage_II_targets, year = '2019', tol = 0.53)"
   ]
  },
  {
   "cell_type": "code",
   "execution_count": 40,
   "metadata": {
    "collapsed": false
   },
   "outputs": [
    {
     "name": "stdout",
     "output_type": "stream",
     "text": [
      "Preparing coefficient matrix for year 2020 .....\n",
      "Preparing targets for year 2020 .....\n",
      "Targets for year 2020 are:\n",
      "[ -4.41278718e+07  -5.06274414e+07  -7.78090296e+06  -2.01779158e+07\n",
      "  -6.69439637e+07  -1.00548188e+11  -7.60413167e+10  -1.88574540e+11\n",
      "  -2.51126713e+10  -7.70200973e+10  -4.73349212e+11  -1.49819661e+11\n",
      "  -4.16244290e+10  -3.37747509e+11  -6.51440660e+10  -1.95785313e+10\n",
      "  -8.33899851e+10  -2.16549061e+11  -3.18944113e+11  -3.67027279e+11\n",
      "  -3.23581205e+11  -8.36039781e+11  -7.05656038e+11  -1.09675485e+12\n",
      "  -1.81797577e+11   5.75738641e+10   1.08449510e+11]\n",
      "Adding constraints for year 2020 .....\n",
      "Setting up the LP model for year 2020 .....\n",
      "Solving LP for year 2020 .....\n",
      "DONE solving LP for year 2020\n"
     ]
    }
   ],
   "source": [
    "z[:,11] = solve_lp_for_year(puf, Stage_I_factors, Stage_II_targets, year = '2020', tol = 0.53)"
   ]
  },
  {
   "cell_type": "code",
   "execution_count": 43,
   "metadata": {
    "collapsed": false
   },
   "outputs": [
    {
     "name": "stdout",
     "output_type": "stream",
     "text": [
      "Preparing coefficient matrix for year 2021 .....\n",
      "Preparing targets for year 2021 .....\n",
      "Targets for year 2021 are:\n",
      "[ -4.51332916e+07  -5.18413936e+07  -7.90983107e+06  -2.08428664e+07\n",
      "  -6.88754821e+07  -1.05942453e+11  -8.06910958e+10  -1.93557509e+11\n",
      "  -2.61121699e+10  -8.19890228e+10  -4.96779012e+11  -1.58101797e+11\n",
      "  -4.44354323e+10  -3.48852599e+11  -6.66451937e+10  -2.00116547e+10\n",
      "  -8.49991485e+10  -2.20813800e+11  -3.25007312e+11  -3.73790555e+11\n",
      "  -3.29749193e+11  -8.51650828e+11  -7.19448266e+11  -1.11993441e+12\n",
      "  -1.88827669e+11   5.67337077e+10   1.07658168e+11]\n",
      "Adding constraints for year 2021 .....\n",
      "Setting up the LP model for year 2021 .....\n",
      "Solving LP for year 2021 .....\n",
      "DONE solving LP for year 2021\n"
     ]
    }
   ],
   "source": [
    "z[:,12] = solve_lp_for_year(puf, Stage_I_factors, Stage_II_targets, year = '2021', tol = 0.53)"
   ]
  },
  {
   "cell_type": "code",
   "execution_count": 47,
   "metadata": {
    "collapsed": false
   },
   "outputs": [
    {
     "name": "stdout",
     "output_type": "stream",
     "text": [
      "Preparing coefficient matrix for year 2022 .....\n",
      "Preparing targets for year 2022 .....\n",
      "Targets for year 2022 are:\n",
      "[ -4.61550073e+07  -5.30805270e+07  -8.03689926e+06  -2.15330022e+07\n",
      "  -7.06117643e+07  -1.11519414e+11  -8.55017494e+10  -1.98400562e+11\n",
      "  -2.71081402e+10  -8.70562769e+10  -5.21085471e+11  -1.66316870e+11\n",
      "  -4.72518077e+10  -3.60410176e+11  -6.81143226e+10  -2.04392847e+10\n",
      "  -8.65558908e+10  -2.24939632e+11  -3.30849682e+11  -3.80294230e+11\n",
      "  -3.35673502e+11  -8.66713343e+11  -7.32787342e+11  -1.14226137e+12\n",
      "  -1.95555211e+11   5.59357686e+10   1.06898537e+11]\n",
      "Adding constraints for year 2022 .....\n",
      "Setting up the LP model for year 2022 .....\n",
      "Solving LP for year 2022 .....\n",
      "DONE solving LP for year 2022\n"
     ]
    }
   ],
   "source": [
    "z[:,13] = solve_lp_for_year(puf, Stage_I_factors, Stage_II_targets, year = '2022', tol = 0.54)"
   ]
  },
  {
   "cell_type": "code",
   "execution_count": 50,
   "metadata": {
    "collapsed": false
   },
   "outputs": [
    {
     "name": "stdout",
     "output_type": "stream",
     "text": [
      "Preparing coefficient matrix for year 2023 .....\n",
      "Preparing targets for year 2023 .....\n",
      "Targets for year 2023 are:\n",
      "[ -4.71644254e+07  -5.43049036e+07  -8.16272805e+06  -2.22108338e+07\n",
      "  -7.23769163e+07  -1.17041432e+11  -9.02418448e+10  -2.03239404e+11\n",
      "  -2.80994340e+10  -9.20673738e+10  -5.45057322e+11  -1.74530913e+11\n",
      "  -5.00656320e+10  -3.71789891e+11  -6.95827863e+10  -2.08665773e+10\n",
      "  -8.81198820e+10  -2.29084709e+11  -3.36725583e+11  -3.86838773e+11\n",
      "  -3.41637040e+11  -8.81856680e+11  -7.46189661e+11  -1.16471983e+12\n",
      "  -2.02335762e+11   5.51291743e+10   1.06132443e+11]\n",
      "Adding constraints for year 2023 .....\n",
      "Setting up the LP model for year 2023 .....\n",
      "Solving LP for year 2023 .....\n",
      "DONE solving LP for year 2023\n"
     ]
    }
   ],
   "source": [
    "z[:,14] = solve_lp_for_year(puf, Stage_I_factors, Stage_II_targets, year = '2023', tol = 0.54)"
   ]
  },
  {
   "cell_type": "code",
   "execution_count": 53,
   "metadata": {
    "collapsed": false
   },
   "outputs": [
    {
     "name": "stdout",
     "output_type": "stream",
     "text": [
      "Preparing coefficient matrix for year 2024 .....\n",
      "Preparing targets for year 2024 .....\n",
      "Targets for year 2024 are:\n",
      "[ -4.81651646e+07  -5.55154747e+07  -8.28957262e+06  -2.28774733e+07\n",
      "  -7.42013882e+07  -1.22461037e+11  -9.49190710e+10  -2.08163332e+11\n",
      "  -2.90953665e+10  -9.70531745e+10  -5.68659225e+11  -1.82735016e+11\n",
      "  -5.28933153e+10  -3.82928889e+11  -7.10843770e+10  -2.12956026e+10\n",
      "  -8.97052998e+10  -2.33287193e+11  -3.42693561e+11  -3.93491269e+11\n",
      "  -3.47704183e+11  -8.97224651e+11  -7.59778903e+11  -1.18755203e+12\n",
      "  -2.09273754e+11   5.42893758e+10   1.05331523e+11]\n",
      "Adding constraints for year 2024 .....\n",
      "Setting up the LP model for year 2024 .....\n",
      "Solving LP for year 2024 .....\n",
      "DONE solving LP for year 2024\n"
     ]
    }
   ],
   "source": [
    "z[:,15] = solve_lp_for_year(puf, Stage_I_factors, Stage_II_targets, year = '2024', tol = 0.54)"
   ]
  },
  {
   "cell_type": "code",
   "execution_count": 57,
   "metadata": {
    "collapsed": false
   },
   "outputs": [
    {
     "name": "stdout",
     "output_type": "stream",
     "text": [
      "Preparing coefficient matrix for year 2025 .....\n",
      "Preparing targets for year 2025 .....\n",
      "Targets for year 2025 are:\n",
      "[ -4.91934341e+07  -5.67622035e+07  -8.41809213e+06  -2.35699497e+07\n",
      "  -7.60415243e+07  -1.28118804e+11  -9.98055305e+10  -2.13239049e+11\n",
      "  -3.01340296e+10  -1.02256991e+11  -5.93239109e+11  -1.91328304e+11\n",
      "  -5.58230045e+10  -3.94517985e+11  -7.26121323e+10  -2.17382375e+10\n",
      "  -9.13358887e+10  -2.37612306e+11  -3.48829788e+11  -4.00324733e+11\n",
      "  -3.53943985e+11  -9.13015127e+11  -7.73761434e+11  -1.21110794e+12\n",
      "  -2.16531958e+11   5.33591921e+10   1.04410432e+11]\n",
      "Adding constraints for year 2025 .....\n",
      "Setting up the LP model for year 2025 .....\n",
      "Solving LP for year 2025 .....\n",
      "DONE solving LP for year 2025\n"
     ]
    }
   ],
   "source": [
    "z[:,16] = solve_lp_for_year(puf, Stage_I_factors, Stage_II_targets, year = '2025', tol = 0.55)"
   ]
  },
  {
   "cell_type": "code",
   "execution_count": 60,
   "metadata": {
    "collapsed": false
   },
   "outputs": [
    {
     "name": "stdout",
     "output_type": "stream",
     "text": [
      "Preparing coefficient matrix for year 2026 .....\n",
      "Preparing targets for year 2026 .....\n",
      "Targets for year 2026 are:\n",
      "[ -5.01855755e+07  -5.79602147e+07  -8.54552946e+06  -2.42218940e+07\n",
      "  -7.79140801e+07  -1.33506895e+11  -1.04451635e+11  -2.18294607e+11\n",
      "  -3.11500836e+10  -1.07267353e+11  -6.16538823e+11  -1.99721329e+11\n",
      "  -5.87029394e+10  -4.05426067e+11  -7.41418260e+10  -2.21749660e+10\n",
      "  -9.29711309e+10  -2.41949410e+11  -3.55002699e+11  -4.07210639e+11\n",
      "  -3.60236399e+11  -9.28884956e+11  -7.87786300e+11  -1.23480200e+12\n",
      "  -2.23856642e+11   5.24219003e+10   1.03493059e+11]\n",
      "Adding constraints for year 2026 .....\n",
      "Setting up the LP model for year 2026 .....\n",
      "Solving LP for year 2026 .....\n",
      "DONE solving LP for year 2026\n"
     ]
    }
   ],
   "source": [
    "z[:,17] = solve_lp_for_year(puf, Stage_I_factors, Stage_II_targets, year = '2026', tol = 0.55)"
   ]
  },
  {
   "cell_type": "code",
   "execution_count": 23,
   "metadata": {
    "collapsed": true
   },
   "outputs": [],
   "source": [
    "z = df(z, columns=['WT2009','WT2010','WT2011','WT2012','WT2013','WT2014',\n",
    "                   'WT2015','WT2016','WT2017','WT2018','WT2019','WT2020','WT2021',\n",
    "                   'WT2022','WT2023','WT2024', 'WT2025', 'WT2026'])\n",
    "z = z.round(0).astype('int64')\n",
    "z.to_csv('puf_weights.csv', index = False)"
   ]
  },
  {
   "cell_type": "code",
   "execution_count": null,
   "metadata": {
    "collapsed": true
   },
   "outputs": [],
   "source": []
  }
 ],
 "metadata": {
  "anaconda-cloud": {},
  "kernelspec": {
   "display_name": "Python [default]",
   "language": "python",
   "name": "python2"
  },
  "language_info": {
   "codemirror_mode": {
    "name": "ipython",
    "version": 2
   },
   "file_extension": ".py",
   "mimetype": "text/x-python",
   "name": "python",
   "nbconvert_exporter": "python",
   "pygments_lexer": "ipython2",
   "version": "2.7.13"
  }
 },
 "nbformat": 4,
 "nbformat_minor": 0
}
