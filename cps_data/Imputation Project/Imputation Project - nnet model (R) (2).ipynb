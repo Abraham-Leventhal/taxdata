{
 "cells": [
  {
   "cell_type": "markdown",
   "metadata": {},
   "source": [
    "# nnet P22250 Imputation"
   ]
  },
  {
   "cell_type": "markdown",
   "metadata": {},
   "source": [
    "## Data"
   ]
  },
  {
   "cell_type": "code",
   "execution_count": 59,
   "metadata": {},
   "outputs": [],
   "source": [
    "library('nnet')"
   ]
  },
  {
   "cell_type": "code",
   "execution_count": 60,
   "metadata": {},
   "outputs": [],
   "source": [
    "# read, change sign col to factor, drop aggregate rows.\n",
    "\n",
    "puf <- read.csv('puf2011.csv')\n",
    "puf$P22250_sign <- sign(puf$P22250)\n",
    "puf <- puf[!(puf$RECID %in% c(999996, 999997, 999998, 999999)),]\n",
    "\n",
    "#80% training data, 20% testing\n",
    "\n",
    "set.seed(1994)\n",
    "sample <- sample(2, nrow(puf), replace = TRUE, prob = c(0.8,0.2))\n",
    "training <- puf[sample == 1,]\n",
    "testing <- puf[sample == 2,]\n",
    "\n",
    "# Write training and testing data to csv for later use in Python's sklearn \n",
    "\n",
    "write.csv(training, file = 'puf80%training')\n",
    "write.csv(testing, file = 'puf20%testing')"
   ]
  },
  {
   "cell_type": "code",
   "execution_count": 61,
   "metadata": {},
   "outputs": [],
   "source": [
    "# Change sign column to factor, prune puf, training and testing datasets to include only predictors & response\n",
    "\n",
    "puf$P22250_sign <- as.factor(puf$P22250_sign)\n",
    "\n",
    "predictors <- c('DSI', 'EIC', 'MARS', 'XTOT', 'E00200', 'E00300', 'E00400','E00600', \n",
    "               'E00650', 'E00800', 'E00900', 'E01100', 'E01400', 'E01500', 'E01700',\n",
    "               'E02100', 'E02300', 'E02400', 'E03150', 'E03210', 'E03240', 'E03270',\n",
    "               'E03300', 'E17500', 'E18400', 'E18500', 'E19200', 'E19800', 'E20100',\n",
    "               'E20400', 'E32800', 'F2441', 'N24')\n",
    "response <- 'P22250_sign'\n",
    "\n",
    "puf <- puf[, c(predictors, response)]\n",
    "training <- training[, c(predictors, response)]\n",
    "testing <- testing[, c(predictors, response)]"
   ]
  },
  {
   "cell_type": "code",
   "execution_count": 62,
   "metadata": {
    "scrolled": false
   },
   "outputs": [
    {
     "name": "stdout",
     "output_type": "stream",
     "text": [
      "# weights:  105 (68 variable)\n",
      "initial  value 144108.269742 \n",
      "iter  10 value 140867.179647\n",
      "iter  20 value 138589.315503\n",
      "iter  30 value 136602.376007\n",
      "iter  40 value 135230.640806\n",
      "iter  50 value 131855.142331\n",
      "iter  60 value 86188.631740\n",
      "iter  70 value 80173.463898\n",
      "iter  80 value 76944.317456\n",
      "iter  90 value 76474.395805\n",
      "iter 100 value 75839.531023\n",
      "iter 110 value 75792.118327\n",
      "iter 120 value 75774.428135\n",
      "iter 130 value 75524.342249\n",
      "iter 140 value 75222.597179\n",
      "iter 150 value 74588.897844\n",
      "iter 160 value 74437.651063\n",
      "iter 170 value 74408.325228\n",
      "final  value 74407.927993 \n",
      "converged\n"
     ]
    }
   ],
   "source": [
    "#Model\n",
    "P22250_model <- multinom(P22250_sign ~ ., data = training, maxit = 500)"
   ]
  },
  {
   "cell_type": "markdown",
   "metadata": {},
   "source": [
    "## Summary"
   ]
  },
  {
   "cell_type": "code",
   "execution_count": 63,
   "metadata": {},
   "outputs": [
    {
     "name": "stdout",
     "output_type": "stream",
     "text": [
      "[1] \"Model Summary\"\n"
     ]
    },
    {
     "data": {
      "text/html": [
       "<table>\n",
       "<thead><tr><th></th><th scope=col>Coefficients_0</th><th scope=col>Std_Errors_0</th><th scope=col>T_Stats_0</th><th scope=col>Coefficients_1</th><th scope=col>Std_Errors_1</th><th scope=col>T_Stats_1</th></tr></thead>\n",
       "<tbody>\n",
       "\t<tr><th scope=row>(Intercept)</th><td> 3.112499e+00</td><td>2.361219e-08 </td><td> 1.318175e+08</td><td>-1.378111e-01</td><td>1.391492e-08 </td><td>-9.903836e+06</td></tr>\n",
       "\t<tr><th scope=row>DSI</th><td> 7.592383e-01</td><td>3.687069e-12 </td><td> 2.059192e+11</td><td> 2.528583e-01</td><td>2.293313e-12 </td><td> 1.102589e+11</td></tr>\n",
       "\t<tr><th scope=row>EIC</th><td> 1.534153e+00</td><td>2.779099e-10 </td><td> 5.520325e+09</td><td> 6.628599e-03</td><td>1.838842e-10 </td><td> 3.604767e+07</td></tr>\n",
       "\t<tr><th scope=row>MARS</th><td> 6.186998e-02</td><td>4.112774e-08 </td><td> 1.504337e+06</td><td>-1.428183e-02</td><td>2.455599e-08 </td><td>-5.816027e+05</td></tr>\n",
       "\t<tr><th scope=row>XTOT</th><td>-3.631604e-01</td><td>5.793565e-08 </td><td>-6.268340e+06</td><td> 2.983405e-03</td><td>3.576640e-08 </td><td> 8.341361e+04</td></tr>\n",
       "\t<tr><th scope=row>E00200</th><td>-8.671794e-07</td><td>2.285494e-08 </td><td>-3.794276e+01</td><td>-1.417845e-08</td><td>7.140882e-09 </td><td>-1.985532e+00</td></tr>\n",
       "\t<tr><th scope=row>E00300</th><td>-2.071553e-06</td><td>1.697768e-07 </td><td>-1.220163e+01</td><td> 1.076609e-07</td><td>3.477696e-08 </td><td> 3.095754e+00</td></tr>\n",
       "\t<tr><th scope=row>E00400</th><td>-2.730946e-06</td><td>2.212968e-07 </td><td>-1.234065e+01</td><td>-1.151207e-07</td><td>4.951397e-08 </td><td>-2.325014e+00</td></tr>\n",
       "\t<tr><th scope=row>E00600</th><td>-4.431918e-05</td><td>1.289552e-06 </td><td>-3.436788e+01</td><td>-7.055359e-08</td><td>4.711402e-08 </td><td>-1.497507e+00</td></tr>\n",
       "\t<tr><th scope=row>E00650</th><td> 4.399775e-05</td><td>1.294609e-06 </td><td> 3.398535e+01</td><td> 8.564496e-08</td><td>5.078378e-08 </td><td> 1.686463e+00</td></tr>\n",
       "\t<tr><th scope=row>E00800</th><td>-2.081589e-05</td><td>6.054344e-06 </td><td>-3.438175e+00</td><td>-1.877669e-05</td><td>1.142251e-05 </td><td>-1.643833e+00</td></tr>\n",
       "\t<tr><th scope=row>E00900</th><td> 1.028682e-08</td><td>3.726316e-08 </td><td> 2.760588e-01</td><td>-3.419669e-08</td><td>3.302580e-08 </td><td>-1.035454e+00</td></tr>\n",
       "\t<tr><th scope=row>E01100</th><td> 7.723325e+00</td><td>7.797342e-15 </td><td> 9.905074e+14</td><td> 1.091106e+00</td><td>6.772559e-15 </td><td> 1.611069e+14</td></tr>\n",
       "\t<tr><th scope=row>E01400</th><td>-1.265223e-06</td><td>1.397712e-07 </td><td>-9.052099e+00</td><td> 1.009527e-08</td><td>6.115853e-08 </td><td> 1.650672e-01</td></tr>\n",
       "\t<tr><th scope=row>E01500</th><td>-4.234591e-07</td><td>3.091502e-08 </td><td>-1.369752e+01</td><td>-6.228912e-09</td><td>2.063086e-08 </td><td>-3.019221e-01</td></tr>\n",
       "\t<tr><th scope=row>E01700</th><td>-3.336380e-07</td><td>2.155218e-07 </td><td>-1.548047e+00</td><td>-2.038577e-08</td><td>1.511786e-07 </td><td>-1.348456e-01</td></tr>\n",
       "\t<tr><th scope=row>E02100</th><td> 2.178944e-07</td><td>1.305226e-07 </td><td> 1.669399e+00</td><td> 9.996288e-08</td><td>1.207013e-07 </td><td> 8.281840e-01</td></tr>\n",
       "\t<tr><th scope=row>E02300</th><td> 2.636660e-05</td><td>4.529038e-06 </td><td> 5.821677e+00</td><td>-6.135292e-06</td><td>6.154835e-06 </td><td>-9.968247e-01</td></tr>\n",
       "\t<tr><th scope=row>E02400</th><td>-2.098379e-05</td><td>7.609348e-07 </td><td>-2.757634e+01</td><td>-4.519687e-06</td><td>7.832355e-07 </td><td>-5.770534e+00</td></tr>\n",
       "\t<tr><th scope=row>E03150</th><td>-5.201573e-05</td><td>6.300934e-06 </td><td>-8.255240e+00</td><td> 5.175148e-06</td><td>6.836697e-06 </td><td> 7.569661e-01</td></tr>\n",
       "\t<tr><th scope=row>E03210</th><td> 6.503220e-04</td><td>3.886598e-05 </td><td> 1.673242e+01</td><td>-5.527788e-05</td><td>2.191469e-05 </td><td>-2.522412e+00</td></tr>\n",
       "\t<tr><th scope=row>E03240</th><td>-5.931607e-07</td><td>3.169187e-07 </td><td>-1.871649e+00</td><td>-4.370530e-07</td><td>1.851025e-07 </td><td>-2.361141e+00</td></tr>\n",
       "\t<tr><th scope=row>E03270</th><td>-2.721151e-05</td><td>1.908037e-06 </td><td>-1.426152e+01</td><td> 3.579463e-06</td><td>1.699000e-06 </td><td> 2.106806e+00</td></tr>\n",
       "\t<tr><th scope=row>E03300</th><td>-1.166133e-05</td><td>6.972250e-07 </td><td>-1.672534e+01</td><td>-1.010469e-07</td><td>4.598425e-07 </td><td>-2.197423e-01</td></tr>\n",
       "\t<tr><th scope=row>E17500</th><td>-4.087913e-06</td><td>9.985887e-07 </td><td>-4.093690e+00</td><td>-7.440220e-08</td><td>6.937245e-07 </td><td>-1.072504e-01</td></tr>\n",
       "\t<tr><th scope=row>E18400</th><td>-7.565622e-07</td><td>1.363520e-07 </td><td>-5.548597e+00</td><td> 2.399118e-08</td><td>3.687586e-08 </td><td> 6.505931e-01</td></tr>\n",
       "\t<tr><th scope=row>E18500</th><td>-3.455970e-05</td><td>1.009004e-06 </td><td>-3.425129e+01</td><td>-4.114491e-07</td><td>4.268407e-07 </td><td>-9.639404e-01</td></tr>\n",
       "\t<tr><th scope=row>E19200</th><td>-8.020431e-07</td><td>3.737553e-07 </td><td>-2.145904e+00</td><td> 5.046273e-07</td><td>1.459847e-07 </td><td> 3.456713e+00</td></tr>\n",
       "\t<tr><th scope=row>E19800</th><td> 7.493459e-08</td><td>1.196391e-07 </td><td> 6.263386e-01</td><td>-4.130784e-09</td><td>3.416611e-08 </td><td>-1.209030e-01</td></tr>\n",
       "\t<tr><th scope=row>E20100</th><td>-7.350646e-08</td><td>1.166861e-07 </td><td>-6.299504e-01</td><td> 2.006192e-08</td><td>3.002590e-08 </td><td> 6.681537e-01</td></tr>\n",
       "\t<tr><th scope=row>E20400</th><td>-3.486855e-05</td><td>1.173548e-06 </td><td>-2.971207e+01</td><td>-6.746593e-08</td><td>1.056090e-07 </td><td>-6.388272e-01</td></tr>\n",
       "\t<tr><th scope=row>E32800</th><td> 1.064367e-04</td><td>1.352445e-05 </td><td> 7.869943e+00</td><td>-2.144270e-05</td><td>1.621093e-05 </td><td>-1.322731e+00</td></tr>\n",
       "\t<tr><th scope=row>F2441</th><td>-1.748162e-01</td><td>5.513009e-09 </td><td>-3.170977e+07</td><td> 4.498559e-02</td><td>6.554556e-09 </td><td> 6.863255e+06</td></tr>\n",
       "\t<tr><th scope=row>N24</th><td> 2.727864e-01</td><td>1.324888e-08 </td><td> 2.058938e+07</td><td> 2.698453e-02</td><td>1.017300e-08 </td><td> 2.652563e+06</td></tr>\n",
       "</tbody>\n",
       "</table>\n"
      ],
      "text/latex": [
       "\\begin{tabular}{r|llllll}\n",
       "  & Coefficients\\_0 & Std\\_Errors\\_0 & T\\_Stats\\_0 & Coefficients\\_1 & Std\\_Errors\\_1 & T\\_Stats\\_1\\\\\n",
       "\\hline\n",
       "\t(Intercept) &  3.112499e+00 & 2.361219e-08  &  1.318175e+08 & -1.378111e-01 & 1.391492e-08  & -9.903836e+06\\\\\n",
       "\tDSI &  7.592383e-01 & 3.687069e-12  &  2.059192e+11 &  2.528583e-01 & 2.293313e-12  &  1.102589e+11\\\\\n",
       "\tEIC &  1.534153e+00 & 2.779099e-10  &  5.520325e+09 &  6.628599e-03 & 1.838842e-10  &  3.604767e+07\\\\\n",
       "\tMARS &  6.186998e-02 & 4.112774e-08  &  1.504337e+06 & -1.428183e-02 & 2.455599e-08  & -5.816027e+05\\\\\n",
       "\tXTOT & -3.631604e-01 & 5.793565e-08  & -6.268340e+06 &  2.983405e-03 & 3.576640e-08  &  8.341361e+04\\\\\n",
       "\tE00200 & -8.671794e-07 & 2.285494e-08  & -3.794276e+01 & -1.417845e-08 & 7.140882e-09  & -1.985532e+00\\\\\n",
       "\tE00300 & -2.071553e-06 & 1.697768e-07  & -1.220163e+01 &  1.076609e-07 & 3.477696e-08  &  3.095754e+00\\\\\n",
       "\tE00400 & -2.730946e-06 & 2.212968e-07  & -1.234065e+01 & -1.151207e-07 & 4.951397e-08  & -2.325014e+00\\\\\n",
       "\tE00600 & -4.431918e-05 & 1.289552e-06  & -3.436788e+01 & -7.055359e-08 & 4.711402e-08  & -1.497507e+00\\\\\n",
       "\tE00650 &  4.399775e-05 & 1.294609e-06  &  3.398535e+01 &  8.564496e-08 & 5.078378e-08  &  1.686463e+00\\\\\n",
       "\tE00800 & -2.081589e-05 & 6.054344e-06  & -3.438175e+00 & -1.877669e-05 & 1.142251e-05  & -1.643833e+00\\\\\n",
       "\tE00900 &  1.028682e-08 & 3.726316e-08  &  2.760588e-01 & -3.419669e-08 & 3.302580e-08  & -1.035454e+00\\\\\n",
       "\tE01100 &  7.723325e+00 & 7.797342e-15  &  9.905074e+14 &  1.091106e+00 & 6.772559e-15  &  1.611069e+14\\\\\n",
       "\tE01400 & -1.265223e-06 & 1.397712e-07  & -9.052099e+00 &  1.009527e-08 & 6.115853e-08  &  1.650672e-01\\\\\n",
       "\tE01500 & -4.234591e-07 & 3.091502e-08  & -1.369752e+01 & -6.228912e-09 & 2.063086e-08  & -3.019221e-01\\\\\n",
       "\tE01700 & -3.336380e-07 & 2.155218e-07  & -1.548047e+00 & -2.038577e-08 & 1.511786e-07  & -1.348456e-01\\\\\n",
       "\tE02100 &  2.178944e-07 & 1.305226e-07  &  1.669399e+00 &  9.996288e-08 & 1.207013e-07  &  8.281840e-01\\\\\n",
       "\tE02300 &  2.636660e-05 & 4.529038e-06  &  5.821677e+00 & -6.135292e-06 & 6.154835e-06  & -9.968247e-01\\\\\n",
       "\tE02400 & -2.098379e-05 & 7.609348e-07  & -2.757634e+01 & -4.519687e-06 & 7.832355e-07  & -5.770534e+00\\\\\n",
       "\tE03150 & -5.201573e-05 & 6.300934e-06  & -8.255240e+00 &  5.175148e-06 & 6.836697e-06  &  7.569661e-01\\\\\n",
       "\tE03210 &  6.503220e-04 & 3.886598e-05  &  1.673242e+01 & -5.527788e-05 & 2.191469e-05  & -2.522412e+00\\\\\n",
       "\tE03240 & -5.931607e-07 & 3.169187e-07  & -1.871649e+00 & -4.370530e-07 & 1.851025e-07  & -2.361141e+00\\\\\n",
       "\tE03270 & -2.721151e-05 & 1.908037e-06  & -1.426152e+01 &  3.579463e-06 & 1.699000e-06  &  2.106806e+00\\\\\n",
       "\tE03300 & -1.166133e-05 & 6.972250e-07  & -1.672534e+01 & -1.010469e-07 & 4.598425e-07  & -2.197423e-01\\\\\n",
       "\tE17500 & -4.087913e-06 & 9.985887e-07  & -4.093690e+00 & -7.440220e-08 & 6.937245e-07  & -1.072504e-01\\\\\n",
       "\tE18400 & -7.565622e-07 & 1.363520e-07  & -5.548597e+00 &  2.399118e-08 & 3.687586e-08  &  6.505931e-01\\\\\n",
       "\tE18500 & -3.455970e-05 & 1.009004e-06  & -3.425129e+01 & -4.114491e-07 & 4.268407e-07  & -9.639404e-01\\\\\n",
       "\tE19200 & -8.020431e-07 & 3.737553e-07  & -2.145904e+00 &  5.046273e-07 & 1.459847e-07  &  3.456713e+00\\\\\n",
       "\tE19800 &  7.493459e-08 & 1.196391e-07  &  6.263386e-01 & -4.130784e-09 & 3.416611e-08  & -1.209030e-01\\\\\n",
       "\tE20100 & -7.350646e-08 & 1.166861e-07  & -6.299504e-01 &  2.006192e-08 & 3.002590e-08  &  6.681537e-01\\\\\n",
       "\tE20400 & -3.486855e-05 & 1.173548e-06  & -2.971207e+01 & -6.746593e-08 & 1.056090e-07  & -6.388272e-01\\\\\n",
       "\tE32800 &  1.064367e-04 & 1.352445e-05  &  7.869943e+00 & -2.144270e-05 & 1.621093e-05  & -1.322731e+00\\\\\n",
       "\tF2441 & -1.748162e-01 & 5.513009e-09  & -3.170977e+07 &  4.498559e-02 & 6.554556e-09  &  6.863255e+06\\\\\n",
       "\tN24 &  2.727864e-01 & 1.324888e-08  &  2.058938e+07 &  2.698453e-02 & 1.017300e-08  &  2.652563e+06\\\\\n",
       "\\end{tabular}\n"
      ],
      "text/markdown": [
       "\n",
       "| <!--/--> | Coefficients_0 | Std_Errors_0 | T_Stats_0 | Coefficients_1 | Std_Errors_1 | T_Stats_1 | \n",
       "|---|---|---|---|---|---|---|---|---|---|---|---|---|---|---|---|---|---|---|---|---|---|---|---|---|---|---|---|---|---|---|---|---|---|\n",
       "| (Intercept) |  3.112499e+00 | 2.361219e-08  |  1.318175e+08 | -1.378111e-01 | 1.391492e-08  | -9.903836e+06 | \n",
       "| DSI |  7.592383e-01 | 3.687069e-12  |  2.059192e+11 |  2.528583e-01 | 2.293313e-12  |  1.102589e+11 | \n",
       "| EIC |  1.534153e+00 | 2.779099e-10  |  5.520325e+09 |  6.628599e-03 | 1.838842e-10  |  3.604767e+07 | \n",
       "| MARS |  6.186998e-02 | 4.112774e-08  |  1.504337e+06 | -1.428183e-02 | 2.455599e-08  | -5.816027e+05 | \n",
       "| XTOT | -3.631604e-01 | 5.793565e-08  | -6.268340e+06 |  2.983405e-03 | 3.576640e-08  |  8.341361e+04 | \n",
       "| E00200 | -8.671794e-07 | 2.285494e-08  | -3.794276e+01 | -1.417845e-08 | 7.140882e-09  | -1.985532e+00 | \n",
       "| E00300 | -2.071553e-06 | 1.697768e-07  | -1.220163e+01 |  1.076609e-07 | 3.477696e-08  |  3.095754e+00 | \n",
       "| E00400 | -2.730946e-06 | 2.212968e-07  | -1.234065e+01 | -1.151207e-07 | 4.951397e-08  | -2.325014e+00 | \n",
       "| E00600 | -4.431918e-05 | 1.289552e-06  | -3.436788e+01 | -7.055359e-08 | 4.711402e-08  | -1.497507e+00 | \n",
       "| E00650 |  4.399775e-05 | 1.294609e-06  |  3.398535e+01 |  8.564496e-08 | 5.078378e-08  |  1.686463e+00 | \n",
       "| E00800 | -2.081589e-05 | 6.054344e-06  | -3.438175e+00 | -1.877669e-05 | 1.142251e-05  | -1.643833e+00 | \n",
       "| E00900 |  1.028682e-08 | 3.726316e-08  |  2.760588e-01 | -3.419669e-08 | 3.302580e-08  | -1.035454e+00 | \n",
       "| E01100 |  7.723325e+00 | 7.797342e-15  |  9.905074e+14 |  1.091106e+00 | 6.772559e-15  |  1.611069e+14 | \n",
       "| E01400 | -1.265223e-06 | 1.397712e-07  | -9.052099e+00 |  1.009527e-08 | 6.115853e-08  |  1.650672e-01 | \n",
       "| E01500 | -4.234591e-07 | 3.091502e-08  | -1.369752e+01 | -6.228912e-09 | 2.063086e-08  | -3.019221e-01 | \n",
       "| E01700 | -3.336380e-07 | 2.155218e-07  | -1.548047e+00 | -2.038577e-08 | 1.511786e-07  | -1.348456e-01 | \n",
       "| E02100 |  2.178944e-07 | 1.305226e-07  |  1.669399e+00 |  9.996288e-08 | 1.207013e-07  |  8.281840e-01 | \n",
       "| E02300 |  2.636660e-05 | 4.529038e-06  |  5.821677e+00 | -6.135292e-06 | 6.154835e-06  | -9.968247e-01 | \n",
       "| E02400 | -2.098379e-05 | 7.609348e-07  | -2.757634e+01 | -4.519687e-06 | 7.832355e-07  | -5.770534e+00 | \n",
       "| E03150 | -5.201573e-05 | 6.300934e-06  | -8.255240e+00 |  5.175148e-06 | 6.836697e-06  |  7.569661e-01 | \n",
       "| E03210 |  6.503220e-04 | 3.886598e-05  |  1.673242e+01 | -5.527788e-05 | 2.191469e-05  | -2.522412e+00 | \n",
       "| E03240 | -5.931607e-07 | 3.169187e-07  | -1.871649e+00 | -4.370530e-07 | 1.851025e-07  | -2.361141e+00 | \n",
       "| E03270 | -2.721151e-05 | 1.908037e-06  | -1.426152e+01 |  3.579463e-06 | 1.699000e-06  |  2.106806e+00 | \n",
       "| E03300 | -1.166133e-05 | 6.972250e-07  | -1.672534e+01 | -1.010469e-07 | 4.598425e-07  | -2.197423e-01 | \n",
       "| E17500 | -4.087913e-06 | 9.985887e-07  | -4.093690e+00 | -7.440220e-08 | 6.937245e-07  | -1.072504e-01 | \n",
       "| E18400 | -7.565622e-07 | 1.363520e-07  | -5.548597e+00 |  2.399118e-08 | 3.687586e-08  |  6.505931e-01 | \n",
       "| E18500 | -3.455970e-05 | 1.009004e-06  | -3.425129e+01 | -4.114491e-07 | 4.268407e-07  | -9.639404e-01 | \n",
       "| E19200 | -8.020431e-07 | 3.737553e-07  | -2.145904e+00 |  5.046273e-07 | 1.459847e-07  |  3.456713e+00 | \n",
       "| E19800 |  7.493459e-08 | 1.196391e-07  |  6.263386e-01 | -4.130784e-09 | 3.416611e-08  | -1.209030e-01 | \n",
       "| E20100 | -7.350646e-08 | 1.166861e-07  | -6.299504e-01 |  2.006192e-08 | 3.002590e-08  |  6.681537e-01 | \n",
       "| E20400 | -3.486855e-05 | 1.173548e-06  | -2.971207e+01 | -6.746593e-08 | 1.056090e-07  | -6.388272e-01 | \n",
       "| E32800 |  1.064367e-04 | 1.352445e-05  |  7.869943e+00 | -2.144270e-05 | 1.621093e-05  | -1.322731e+00 | \n",
       "| F2441 | -1.748162e-01 | 5.513009e-09  | -3.170977e+07 |  4.498559e-02 | 6.554556e-09  |  6.863255e+06 | \n",
       "| N24 |  2.727864e-01 | 1.324888e-08  |  2.058938e+07 |  2.698453e-02 | 1.017300e-08  |  2.652563e+06 | \n",
       "\n",
       "\n"
      ],
      "text/plain": [
       "            Coefficients_0 Std_Errors_0 T_Stats_0     Coefficients_1\n",
       "(Intercept)  3.112499e+00  2.361219e-08  1.318175e+08 -1.378111e-01 \n",
       "DSI          7.592383e-01  3.687069e-12  2.059192e+11  2.528583e-01 \n",
       "EIC          1.534153e+00  2.779099e-10  5.520325e+09  6.628599e-03 \n",
       "MARS         6.186998e-02  4.112774e-08  1.504337e+06 -1.428183e-02 \n",
       "XTOT        -3.631604e-01  5.793565e-08 -6.268340e+06  2.983405e-03 \n",
       "E00200      -8.671794e-07  2.285494e-08 -3.794276e+01 -1.417845e-08 \n",
       "E00300      -2.071553e-06  1.697768e-07 -1.220163e+01  1.076609e-07 \n",
       "E00400      -2.730946e-06  2.212968e-07 -1.234065e+01 -1.151207e-07 \n",
       "E00600      -4.431918e-05  1.289552e-06 -3.436788e+01 -7.055359e-08 \n",
       "E00650       4.399775e-05  1.294609e-06  3.398535e+01  8.564496e-08 \n",
       "E00800      -2.081589e-05  6.054344e-06 -3.438175e+00 -1.877669e-05 \n",
       "E00900       1.028682e-08  3.726316e-08  2.760588e-01 -3.419669e-08 \n",
       "E01100       7.723325e+00  7.797342e-15  9.905074e+14  1.091106e+00 \n",
       "E01400      -1.265223e-06  1.397712e-07 -9.052099e+00  1.009527e-08 \n",
       "E01500      -4.234591e-07  3.091502e-08 -1.369752e+01 -6.228912e-09 \n",
       "E01700      -3.336380e-07  2.155218e-07 -1.548047e+00 -2.038577e-08 \n",
       "E02100       2.178944e-07  1.305226e-07  1.669399e+00  9.996288e-08 \n",
       "E02300       2.636660e-05  4.529038e-06  5.821677e+00 -6.135292e-06 \n",
       "E02400      -2.098379e-05  7.609348e-07 -2.757634e+01 -4.519687e-06 \n",
       "E03150      -5.201573e-05  6.300934e-06 -8.255240e+00  5.175148e-06 \n",
       "E03210       6.503220e-04  3.886598e-05  1.673242e+01 -5.527788e-05 \n",
       "E03240      -5.931607e-07  3.169187e-07 -1.871649e+00 -4.370530e-07 \n",
       "E03270      -2.721151e-05  1.908037e-06 -1.426152e+01  3.579463e-06 \n",
       "E03300      -1.166133e-05  6.972250e-07 -1.672534e+01 -1.010469e-07 \n",
       "E17500      -4.087913e-06  9.985887e-07 -4.093690e+00 -7.440220e-08 \n",
       "E18400      -7.565622e-07  1.363520e-07 -5.548597e+00  2.399118e-08 \n",
       "E18500      -3.455970e-05  1.009004e-06 -3.425129e+01 -4.114491e-07 \n",
       "E19200      -8.020431e-07  3.737553e-07 -2.145904e+00  5.046273e-07 \n",
       "E19800       7.493459e-08  1.196391e-07  6.263386e-01 -4.130784e-09 \n",
       "E20100      -7.350646e-08  1.166861e-07 -6.299504e-01  2.006192e-08 \n",
       "E20400      -3.486855e-05  1.173548e-06 -2.971207e+01 -6.746593e-08 \n",
       "E32800       1.064367e-04  1.352445e-05  7.869943e+00 -2.144270e-05 \n",
       "F2441       -1.748162e-01  5.513009e-09 -3.170977e+07  4.498559e-02 \n",
       "N24          2.727864e-01  1.324888e-08  2.058938e+07  2.698453e-02 \n",
       "            Std_Errors_1 T_Stats_1    \n",
       "(Intercept) 1.391492e-08 -9.903836e+06\n",
       "DSI         2.293313e-12  1.102589e+11\n",
       "EIC         1.838842e-10  3.604767e+07\n",
       "MARS        2.455599e-08 -5.816027e+05\n",
       "XTOT        3.576640e-08  8.341361e+04\n",
       "E00200      7.140882e-09 -1.985532e+00\n",
       "E00300      3.477696e-08  3.095754e+00\n",
       "E00400      4.951397e-08 -2.325014e+00\n",
       "E00600      4.711402e-08 -1.497507e+00\n",
       "E00650      5.078378e-08  1.686463e+00\n",
       "E00800      1.142251e-05 -1.643833e+00\n",
       "E00900      3.302580e-08 -1.035454e+00\n",
       "E01100      6.772559e-15  1.611069e+14\n",
       "E01400      6.115853e-08  1.650672e-01\n",
       "E01500      2.063086e-08 -3.019221e-01\n",
       "E01700      1.511786e-07 -1.348456e-01\n",
       "E02100      1.207013e-07  8.281840e-01\n",
       "E02300      6.154835e-06 -9.968247e-01\n",
       "E02400      7.832355e-07 -5.770534e+00\n",
       "E03150      6.836697e-06  7.569661e-01\n",
       "E03210      2.191469e-05 -2.522412e+00\n",
       "E03240      1.851025e-07 -2.361141e+00\n",
       "E03270      1.699000e-06  2.106806e+00\n",
       "E03300      4.598425e-07 -2.197423e-01\n",
       "E17500      6.937245e-07 -1.072504e-01\n",
       "E18400      3.687586e-08  6.505931e-01\n",
       "E18500      4.268407e-07 -9.639404e-01\n",
       "E19200      1.459847e-07  3.456713e+00\n",
       "E19800      3.416611e-08 -1.209030e-01\n",
       "E20100      3.002590e-08  6.681537e-01\n",
       "E20400      1.056090e-07 -6.388272e-01\n",
       "E32800      1.621093e-05 -1.322731e+00\n",
       "F2441       6.554556e-09  6.863255e+06\n",
       "N24         1.017300e-08  2.652563e+06"
      ]
     },
     "metadata": {},
     "output_type": "display_data"
    },
    {
     "name": "stdout",
     "output_type": "stream",
     "text": [
      "[1] \"Residual Deviance\"\n"
     ]
    },
    {
     "data": {
      "text/html": [
       "148815.855985149"
      ],
      "text/latex": [
       "148815.855985149"
      ],
      "text/markdown": [
       "148815.855985149"
      ],
      "text/plain": [
       "[1] 148815.9"
      ]
     },
     "metadata": {},
     "output_type": "display_data"
    }
   ],
   "source": [
    "model_sum <- summary(P22250_model)\n",
    "\n",
    "print('Model Summary')\n",
    "\n",
    "# Pulls coefficients & standard errors from summary, creates df and adds columns for t-stats\n",
    "\n",
    "model_sum_df <- rbind(model_sum$coefficients, model_sum$standard.errors)\n",
    "model_sum_df <- data.frame(t(model_sum_df))\n",
    "model_sum_df <- model_sum_df[,c(1, 3, 2, 4)]\n",
    "colnames(model_sum_df) <- c('Coefficients_0', 'Std_Errors_0', 'Coefficients_1', 'Std_Errors_1')\n",
    "\n",
    "T_Stats_0 <- model_sum_df[,'Coefficients_0']/model_sum_df[,'Std_Errors_0']\n",
    "T_Stats_1 <- model_sum_df[,'Coefficients_1']/model_sum_df[,'Std_Errors_1']\n",
    "model_sum_df$T_Stats_0 <- T_Stats_0\n",
    "model_sum_df$T_Stats_1 <- T_Stats_1\n",
    "\n",
    "model_sum_df <- model_sum_df[,c(1,2,5,3,4,6)]\n",
    "\n",
    "model_sum_df\n",
    "\n",
    "# Adds residual deviance\n",
    "\n",
    "print('Residual Deviance')\n",
    "model_sum$deviance"
   ]
  },
  {
   "cell_type": "markdown",
   "metadata": {},
   "source": [
    "## Intercept-only summary"
   ]
  },
  {
   "cell_type": "code",
   "execution_count": 64,
   "metadata": {
    "scrolled": true
   },
   "outputs": [
    {
     "name": "stdout",
     "output_type": "stream",
     "text": [
      "# weights:  6 (2 variable)\n",
      "initial  value 179937.312312 \n",
      "final  value 124030.211417 \n",
      "converged\n",
      "[1] \"Model summary\"\n"
     ]
    },
    {
     "data": {
      "text/html": [
       "<table>\n",
       "<thead><tr><th></th><th scope=col>Coefficients</th><th scope=col>Std Errors</th><th scope=col>T-stats</th></tr></thead>\n",
       "<tbody>\n",
       "\t<tr><th scope=row>0</th><td> 1.6431718 </td><td>0.007149548</td><td>229.82877  </td></tr>\n",
       "\t<tr><th scope=row>1</th><td>-0.1696247 </td><td>0.009673945</td><td>-17.53418  </td></tr>\n",
       "</tbody>\n",
       "</table>\n"
      ],
      "text/latex": [
       "\\begin{tabular}{r|lll}\n",
       "  & Coefficients & Std Errors & T-stats\\\\\n",
       "\\hline\n",
       "\t0 &  1.6431718  & 0.007149548 & 229.82877  \\\\\n",
       "\t1 & -0.1696247  & 0.009673945 & -17.53418  \\\\\n",
       "\\end{tabular}\n"
      ],
      "text/markdown": [
       "\n",
       "| <!--/--> | Coefficients | Std Errors | T-stats | \n",
       "|---|---|\n",
       "| 0 |  1.6431718  | 0.007149548 | 229.82877   | \n",
       "| 1 | -0.1696247  | 0.009673945 | -17.53418   | \n",
       "\n",
       "\n"
      ],
      "text/plain": [
       "  Coefficients Std Errors  T-stats  \n",
       "0  1.6431718   0.007149548 229.82877\n",
       "1 -0.1696247   0.009673945 -17.53418"
      ]
     },
     "metadata": {},
     "output_type": "display_data"
    },
    {
     "name": "stdout",
     "output_type": "stream",
     "text": [
      "[1] \"Residual deviance\"\n"
     ]
    },
    {
     "data": {
      "text/html": [
       "248060.422834896"
      ],
      "text/latex": [
       "248060.422834896"
      ],
      "text/markdown": [
       "248060.422834896"
      ],
      "text/plain": [
       "[1] 248060.4"
      ]
     },
     "metadata": {},
     "output_type": "display_data"
    },
    {
     "name": "stdout",
     "output_type": "stream",
     "text": [
      "[1] \"Predicted probabilities\"\n"
     ]
    },
    {
     "data": {
      "text/html": [
       "<table>\n",
       "<thead><tr><th scope=col>-1</th><th scope=col>0</th><th scope=col>1</th></tr></thead>\n",
       "<tbody>\n",
       "\t<tr><td>0.1425409</td><td>0.7371572</td><td>0.1203019</td></tr>\n",
       "</tbody>\n",
       "</table>\n"
      ],
      "text/latex": [
       "\\begin{tabular}{lll}\n",
       " -1 & 0 & 1\\\\\n",
       "\\hline\n",
       "\t 0.1425409 & 0.7371572 & 0.1203019\\\\\n",
       "\\end{tabular}\n"
      ],
      "text/markdown": [
       "\n",
       "-1 | 0 | 1 | \n",
       "|---|\n",
       "| 0.1425409 | 0.7371572 | 0.1203019 | \n",
       "\n",
       "\n"
      ],
      "text/plain": [
       "     -1        0         1        \n",
       "[1,] 0.1425409 0.7371572 0.1203019"
      ]
     },
     "metadata": {},
     "output_type": "display_data"
    }
   ],
   "source": [
    "# Model, prediction df, summary\n",
    "\n",
    "int_P22250_model <- multinom(P22250_sign ~ 1 , data = puf)\n",
    "int_P22250_model_probs <- predict(int_P22250_model, puf, type = 'prob')\n",
    "int_model_sum <- summary(int_P22250_model)\n",
    "\n",
    "print('Model summary')\n",
    "int_model_sum_df <- data.frame(int_model_sum$coefficients, int_model_sum$standard.errors,\n",
    "                           int_model_sum$coefficients/int_model_sum$standard.errors)\n",
    "names(int_model_sum_df) <- c('Coefficients', 'Std Errors', 'T-stats')\n",
    "int_model_sum_df\n",
    "\n",
    "print('Residual deviance')\n",
    "int_P22250_model$deviance\n",
    "\n",
    "print('Predicted probabilities')\n",
    "t(int_P22250_model_probs[1,])"
   ]
  },
  {
   "cell_type": "markdown",
   "metadata": {},
   "source": [
    "# Imputation & testing"
   ]
  },
  {
   "cell_type": "markdown",
   "metadata": {},
   "source": [
    "## Stochastic imputation function"
   ]
  },
  {
   "cell_type": "code",
   "execution_count": 65,
   "metadata": {},
   "outputs": [],
   "source": [
    "# 'probs0,' 'probs0_full' contain predicted sign probabilities for testing, full datasets. \n",
    "# Probabilities are written to csv for log-loss computation.\n",
    "\n",
    "probs0 <- predict(P22250_model, testing, type = 'prob')\n",
    "write.csv(probs0, file = 'nnet_predictions_test')\n",
    "probs0_full <- predict(P22250_model, puf, type = 'prob')\n",
    "write.csv(probs0_full, file = 'nnet_predictions_full')\n",
    "\n",
    "# Create imputation function. Arguments = random uniform in [0,1] and one row of probs0 named probs.\n",
    "# Function outputs predicted category if its associated CDF value > runif.\n",
    "# Probs[[1]] = P(negative), Probs[[2]] = P(zero), Probs[[3]] = P(positive)\n",
    "\n",
    "stoch_imp <- function(runif, probs){\n",
    "    if (runif < probs[[1]]) {\n",
    "        return (-1)\n",
    "    }\n",
    "    else if (runif < (probs[[2]] + probs[[1]])) {\n",
    "        return (0)\n",
    "    }\n",
    "    else {\n",
    "        return (1)\n",
    "    }\n",
    "}\n"
   ]
  },
  {
   "cell_type": "markdown",
   "metadata": {},
   "source": [
    "## Imputation"
   ]
  },
  {
   "cell_type": "code",
   "execution_count": 66,
   "metadata": {},
   "outputs": [],
   "source": [
    "# Creates empty prediction column in testing, and a vector of runifs in [0,1] which is the length of \n",
    "# the testing dataset.\n",
    "\n",
    "testing$P22250_p0_sign <- NA\n",
    "set.seed(1995)\n",
    "test_rand0 <- runif(nrow(testing))\n",
    "\n",
    "count <- 1\n",
    "\n",
    "# Inserts output of stoch_imp function row-by-row into the testing dataframe's empty prediction column,\n",
    "# given runif and corresponding row of probs0 as arguments. \n",
    "\n",
    "for(i in test_rand0){\n",
    "    probs <- probs0[count,]\n",
    "    testing[count,'P22250_p0_sign'] <- stoch_imp(i, probs)\n",
    "    count <- count + 1\n",
    "}\n"
   ]
  },
  {
   "cell_type": "markdown",
   "metadata": {},
   "source": [
    "## Testing"
   ]
  },
  {
   "cell_type": "markdown",
   "metadata": {},
   "source": [
    "### Percent accuracy"
   ]
  },
  {
   "cell_type": "code",
   "execution_count": 67,
   "metadata": {},
   "outputs": [
    {
     "data": {
      "text/html": [
       "0.68978628154417"
      ],
      "text/latex": [
       "0.68978628154417"
      ],
      "text/markdown": [
       "0.68978628154417"
      ],
      "text/plain": [
       "[1] 0.6897863"
      ]
     },
     "metadata": {},
     "output_type": "display_data"
    }
   ],
   "source": [
    "# Creates df containing columns for predicted and actual P22250 signs (P22250_sign = actual, P22250_p0_sign = predicted)\n",
    "\n",
    "P22250_test <- data.frame(testing$P22250_sign, testing$P22250_p0_sign)\n",
    "\n",
    "# Prepares columns for analysis\n",
    "\n",
    "names(P22250_test) <- c('actual', 'predicted')\n",
    "P22250_test$actual <- as.numeric(as.character(P22250_test$actual))\n",
    "\n",
    "# Create boolean accuracy column, 0 = wrong, 1 = correct prediction.\n",
    "\n",
    "P22250_test$correct_sign <- P22250_test$actual == P22250_test$predicted\n",
    "\n",
    "accuracy = mean(P22250_test$correct_sign)\n",
    "\n",
    "accuracy"
   ]
  },
  {
   "cell_type": "code",
   "execution_count": null,
   "metadata": {},
   "outputs": [],
   "source": []
  }
 ],
 "metadata": {
  "kernelspec": {
   "display_name": "R",
   "language": "R",
   "name": "ir"
  },
  "language_info": {
   "codemirror_mode": "r",
   "file_extension": ".r",
   "mimetype": "text/x-r-source",
   "name": "R",
   "pygments_lexer": "r",
   "version": "3.5.0"
  }
 },
 "nbformat": 4,
 "nbformat_minor": 2
}
