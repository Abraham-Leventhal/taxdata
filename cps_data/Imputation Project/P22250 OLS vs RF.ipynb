{
 "cells": [
  {
   "cell_type": "code",
   "execution_count": 1,
   "metadata": {},
   "outputs": [],
   "source": [
    "import numpy as np\n",
    "import pandas as pd\n",
    "import statsmodels.api as sm\n",
    "import seaborn as sns\n",
    "import matplotlib.pyplot as plt\n",
    "\n",
    "from statsmodels import regression\n",
    "from sklearn import ensemble\n",
    "from sklearn import linear_model\n",
    "from sklearn import metrics\n",
    "from sklearn import model_selection\n",
    "from sklearn.model_selection import train_test_split"
   ]
  },
  {
   "cell_type": "markdown",
   "metadata": {},
   "source": [
    "## Data"
   ]
  },
  {
   "cell_type": "code",
   "execution_count": 2,
   "metadata": {},
   "outputs": [
    {
     "name": "stderr",
     "output_type": "stream",
     "text": [
      "/anaconda3/lib/python3.6/site-packages/ipykernel_launcher.py:31: RuntimeWarning: divide by zero encountered in log\n",
      "/anaconda3/lib/python3.6/site-packages/ipykernel_launcher.py:51: RuntimeWarning: divide by zero encountered in log\n"
     ]
    }
   ],
   "source": [
    "# Remove aggregate rows, replace NaN with 0\n",
    "\n",
    "puf = pd.read_csv('puf2011.csv')\n",
    "\n",
    "puf = puf[(puf['RECID'] != 999996) &\n",
    "          (puf['RECID'] != 999997) &\n",
    "          (puf['RECID'] != 999998) &\n",
    "          (puf['RECID'] != 999999)\n",
    "         ]\n",
    "           \n",
    "puf = puf.fillna(0)\n",
    "\n",
    "# Constant column\n",
    "\n",
    "puf['constant'] = 1\n",
    "\n",
    "#  MARS to K - 1 dummies\n",
    "\n",
    "puf[['MARS2', 'MARS3', 'MARS4']] = pd.get_dummies(puf['MARS'], drop_first = True)\n",
    "\n",
    "# E19800 and E20100 combined in CPS\n",
    "\n",
    "puf['E19800_E20100'] = puf['E19800'] + puf['E20100']\n",
    "\n",
    "# Categorical dependent variable for 1st stage\n",
    "\n",
    "puf['sign'] = np.where(puf['P22250'] == 0, 'zer', np.where(puf['P22250'] > 0, 'pos', 'neg'))\n",
    "\n",
    "# Log response column. When x < 0, result is -log(-x)\n",
    "\n",
    "puf['log_P22250'] = np.where(puf['P22250'] == 0, 0, np.sign(puf['P22250'])*np.log(abs(puf['P22250'])))\n",
    "\n",
    "# All variables shared between puf and cps, except for E00650 (colinear w/E00600)\n",
    "\n",
    "predictors =  [\n",
    "              'DSI', 'EIC', 'MARS2', 'MARS3', 'MARS4', 'XTOT', \n",
    "              'E00200', 'E00300', 'E00400', 'E00600', 'E00800', 'E00900', \n",
    "              'E01400', 'E01500', 'E01700', 'E02100', 'E02300', 'E02400', \n",
    "              'E03150', 'E03210', 'E03240', 'E03270', 'E03300', 'E17500', \n",
    "              'E18400', 'E18500', 'E19200', 'E19800_E20100','E20400', \n",
    "              'E32800', 'F2441', 'N24', 'E01100'\n",
    "              ]\n",
    "\n",
    "# Log columns for continuous predictors.  When x < 0, result is -log(-x)\n",
    "\n",
    "discretes = ['DSI', 'EIC', 'MARS2', 'MARS3', 'MARS4', 'XTOT', 'F2441', 'N24']\n",
    "\n",
    "logs = []\n",
    "for i in predictors:\n",
    "    if i not in discretes:\n",
    "        puf['log_' + i] = np.where(puf[i] == 0, 0, np.sign(puf[i])*np.log(abs(puf[i])))     \n",
    "        logs.append('log_' + i)\n",
    "\n",
    "keep = ['RECID', 'AGIR1', 'sign', 'P22250', 'log_P22250', 'constant'] + predictors + logs\n",
    "\n",
    "puf = puf[keep]\n",
    "\n",
    "np.random.seed(100)\n",
    "\n",
    "train, test = train_test_split(puf.copy(), test_size=0.2)\n",
    "\n",
    "# Sub-df's where P22250 > 0 or < 0 pos or neg for 2nd stage imputation\n",
    "\n",
    "pos_train = train.copy()[train.copy()['P22250'] > 0]\n",
    "neg_train = train.copy()[train.copy()['P22250'] < 0]\n",
    "\n",
    "pos_test =  test.copy()[test.copy()['P22250'] > 0]\n",
    "neg_test =  test.copy()[test.copy()['P22250'] < 0]\n"
   ]
  },
  {
   "cell_type": "markdown",
   "metadata": {},
   "source": [
    "## Random Forests\n",
    "1-stage prediction"
   ]
  },
  {
   "cell_type": "code",
   "execution_count": 3,
   "metadata": {},
   "outputs": [
    {
     "name": "stderr",
     "output_type": "stream",
     "text": [
      "[Parallel(n_jobs=-1)]: Done  42 tasks      | elapsed:  1.3min\n",
      "[Parallel(n_jobs=-1)]: Done 100 out of 100 | elapsed:  3.0min finished\n"
     ]
    },
    {
     "data": {
      "text/plain": [
       "RandomForestRegressor(bootstrap=True, criterion='mse', max_depth=None,\n",
       "           max_features='auto', max_leaf_nodes=None,\n",
       "           min_impurity_decrease=0.0, min_impurity_split=None,\n",
       "           min_samples_leaf=1, min_samples_split=2,\n",
       "           min_weight_fraction_leaf=0.0, n_estimators=100, n_jobs=-1,\n",
       "           oob_score=False, random_state=3, verbose=True, warm_start=False)"
      ]
     },
     "execution_count": 3,
     "metadata": {},
     "output_type": "execute_result"
    }
   ],
   "source": [
    "# 100 estimators\n",
    "N_ESTIMATORS = 100\n",
    "rf = ensemble.RandomForestRegressor(n_estimators=N_ESTIMATORS, \n",
    "                                    min_samples_leaf=1, random_state=3, \n",
    "                                    verbose=True, \n",
    "                                    n_jobs=-1)  # Use maximum number of cores.\n",
    "rf.fit(train[predictors], train['P22250'])"
   ]
  },
  {
   "cell_type": "code",
   "execution_count": 4,
   "metadata": {},
   "outputs": [
    {
     "data": {
      "text/plain": [
       "E00300           0.140773\n",
       "E00600           0.102607\n",
       "E00200           0.100833\n",
       "E18400           0.084332\n",
       "E19800_E20100    0.072810\n",
       "E20400           0.065087\n",
       "E19200           0.057776\n",
       "E18500           0.053526\n",
       "E03300           0.044759\n",
       "XTOT             0.041464\n",
       "dtype: float64"
      ]
     },
     "execution_count": 4,
     "metadata": {},
     "output_type": "execute_result"
    }
   ],
   "source": [
    "feature_importance = pd.Series(rf.feature_importances_, index=predictors)\n",
    "feature_importance.sort_values(ascending=False)[:10]"
   ]
  },
  {
   "cell_type": "markdown",
   "metadata": {},
   "source": [
    "rf_preds = array of estimators"
   ]
  },
  {
   "cell_type": "code",
   "execution_count": 5,
   "metadata": {},
   "outputs": [],
   "source": [
    "rf_preds = []\n",
    "for estimator in rf.estimators_:\n",
    "    rf_preds.append(estimator.predict(test[predictors]))\n",
    "rf_preds = np.array(rf_preds).transpose()  # One row per record."
   ]
  },
  {
   "cell_type": "markdown",
   "metadata": {},
   "source": [
    "### Validation"
   ]
  },
  {
   "cell_type": "markdown",
   "metadata": {},
   "source": [
    "Log-loss\n",
    "\n",
    "We can calculate the RF model's predicted probability for each sign (and thus its log-loss) using the % of estimators predicting that sign for each observation.\n",
    "\n",
    "Note: `metrics.log_loss()` assumes that the order of the columns of predicted probabilities correspond to their categories' alphabetical order. Our categories are `'neg'`, `'zer'` and `'pos'`, which have the alphabetical order of `'neg'`, `'pos'`, `'zer'`, thus they appear in that order in `rf_pred_proba` as `[preds_neg, preds_pos, preds_zer]`"
   ]
  },
  {
   "cell_type": "code",
   "execution_count": 6,
   "metadata": {},
   "outputs": [
    {
     "data": {
      "text/plain": [
       "0.5767110204358304"
      ]
     },
     "execution_count": 6,
     "metadata": {},
     "output_type": "execute_result"
    }
   ],
   "source": [
    "preds_neg = np.sum(rf_preds < 0, axis=1) / 100\n",
    "preds_zer = np.sum(rf_preds == 0, axis=1) / 100\n",
    "preds_pos = np.sum(rf_preds > 0, axis=1) / 100\n",
    "\n",
    "rf_pred_proba = list(map(list, zip(*[preds_neg, preds_pos, preds_zer])))\n",
    "\n",
    "metrics.log_loss(test['sign'], rf_pred_proba)"
   ]
  },
  {
   "cell_type": "markdown",
   "metadata": {},
   "source": [
    "Continuous prediction\n",
    "\n",
    "Random estimator selected so that imputation is stochastic"
   ]
  },
  {
   "cell_type": "code",
   "execution_count": 7,
   "metadata": {},
   "outputs": [],
   "source": [
    "rand_col = np.random.randint(N_ESTIMATORS, size=rf_preds.shape[0])\n",
    "random_tree = rf_preds[np.arange(rf_preds.shape[0]), rand_col]"
   ]
  },
  {
   "cell_type": "code",
   "execution_count": 8,
   "metadata": {},
   "outputs": [],
   "source": [
    "pred_random_tree = pd.DataFrame({'actual': test['P22250'],\n",
    "                                 'actual_sign': test['sign'],\n",
    "                                 'pred': random_tree})\n",
    "pred_random_tree['error'] = pred_random_tree.pred - pred_random_tree.actual\n",
    "pred_random_tree['pred_sign'] = np.where(pred_random_tree['pred'] == 0, 'zer', np.where(pred_random_tree['pred'] > 0, 'pos', 'neg'))\n",
    "pred_random_tree['correct_sign'] = (\n",
    "    pred_random_tree.actual_sign == pred_random_tree.pred_sign)\n",
    "pred_random_tree['count'] = 1"
   ]
  },
  {
   "cell_type": "markdown",
   "metadata": {},
   "source": [
    "RMSE on whole test set"
   ]
  },
  {
   "cell_type": "code",
   "execution_count": 9,
   "metadata": {},
   "outputs": [
    {
     "data": {
      "text/plain": [
       "886796.139738029"
      ]
     },
     "execution_count": 9,
     "metadata": {},
     "output_type": "execute_result"
    }
   ],
   "source": [
    "pred_random_tree.error.pow(2).mean() ** 0.5"
   ]
  },
  {
   "cell_type": "markdown",
   "metadata": {},
   "source": [
    "RMSE on positive data"
   ]
  },
  {
   "cell_type": "code",
   "execution_count": 10,
   "metadata": {},
   "outputs": [
    {
     "data": {
      "text/plain": [
       "1227639.780955069"
      ]
     },
     "execution_count": 10,
     "metadata": {},
     "output_type": "execute_result"
    }
   ],
   "source": [
    "pred_random_tree[pred_random_tree['actual'] > 0]['error'].pow(2).mean()**0.5"
   ]
  },
  {
   "cell_type": "markdown",
   "metadata": {},
   "source": [
    "RMSE on negative data"
   ]
  },
  {
   "cell_type": "code",
   "execution_count": 11,
   "metadata": {},
   "outputs": [
    {
     "data": {
      "text/plain": [
       "999927.2267220098"
      ]
     },
     "execution_count": 11,
     "metadata": {},
     "output_type": "execute_result"
    }
   ],
   "source": [
    "pred_random_tree[pred_random_tree['actual'] < 0]['error'].pow(2).mean()**0.5"
   ]
  },
  {
   "cell_type": "markdown",
   "metadata": {},
   "source": [
    "## OLS"
   ]
  },
  {
   "cell_type": "markdown",
   "metadata": {},
   "source": [
    "### Positive data\n",
    "\n",
    "#### Regressing on log(P22250)"
   ]
  },
  {
   "cell_type": "code",
   "execution_count": 12,
   "metadata": {},
   "outputs": [
    {
     "data": {
      "text/html": [
       "<table class=\"simpletable\">\n",
       "<caption>OLS Regression Results</caption>\n",
       "<tr>\n",
       "  <th>Dep. Variable:</th>       <td>log_P22250</td>    <th>  R-squared:         </th> <td>   0.119</td> \n",
       "</tr>\n",
       "<tr>\n",
       "  <th>Model:</th>                   <td>OLS</td>       <th>  Adj. R-squared:    </th> <td>   0.118</td> \n",
       "</tr>\n",
       "<tr>\n",
       "  <th>Method:</th>             <td>Least Squares</td>  <th>  F-statistic:       </th> <td>   152.1</td> \n",
       "</tr>\n",
       "<tr>\n",
       "  <th>Date:</th>             <td>Tue, 07 Aug 2018</td> <th>  Prob (F-statistic):</th>  <td>  0.00</td>  \n",
       "</tr>\n",
       "<tr>\n",
       "  <th>Time:</th>                 <td>10:19:43</td>     <th>  Log-Likelihood:    </th> <td> -39127.</td> \n",
       "</tr>\n",
       "<tr>\n",
       "  <th>No. Observations:</th>      <td> 15800</td>      <th>  AIC:               </th> <td>7.828e+04</td>\n",
       "</tr>\n",
       "<tr>\n",
       "  <th>Df Residuals:</th>          <td> 15785</td>      <th>  BIC:               </th> <td>7.840e+04</td>\n",
       "</tr>\n",
       "<tr>\n",
       "  <th>Df Model:</th>              <td>    14</td>      <th>                     </th>     <td> </td>    \n",
       "</tr>\n",
       "<tr>\n",
       "  <th>Covariance Type:</th>      <td>nonrobust</td>    <th>                     </th>     <td> </td>    \n",
       "</tr>\n",
       "</table>\n",
       "<table class=\"simpletable\">\n",
       "<tr>\n",
       "        <td></td>           <th>coef</th>     <th>std err</th>      <th>t</th>      <th>P>|t|</th>  <th>[0.025</th>    <th>0.975]</th>  \n",
       "</tr>\n",
       "<tr>\n",
       "  <th>constant</th>      <td>    7.2283</td> <td>    0.054</td> <td>  132.703</td> <td> 0.000</td> <td>    7.122</td> <td>    7.335</td>\n",
       "</tr>\n",
       "<tr>\n",
       "  <th>DSI</th>           <td>   -2.0860</td> <td>    0.293</td> <td>   -7.114</td> <td> 0.000</td> <td>   -2.661</td> <td>   -1.511</td>\n",
       "</tr>\n",
       "<tr>\n",
       "  <th>EIC</th>           <td>   -1.0299</td> <td>    0.224</td> <td>   -4.605</td> <td> 0.000</td> <td>   -1.468</td> <td>   -0.592</td>\n",
       "</tr>\n",
       "<tr>\n",
       "  <th>XTOT</th>          <td>    0.0957</td> <td>    0.018</td> <td>    5.192</td> <td> 0.000</td> <td>    0.060</td> <td>    0.132</td>\n",
       "</tr>\n",
       "<tr>\n",
       "  <th>E00200</th>        <td> 1.545e-07</td> <td>  1.7e-08</td> <td>    9.082</td> <td> 0.000</td> <td> 1.21e-07</td> <td> 1.88e-07</td>\n",
       "</tr>\n",
       "<tr>\n",
       "  <th>E00300</th>        <td>  2.98e-07</td> <td> 5.45e-08</td> <td>    5.464</td> <td> 0.000</td> <td> 1.91e-07</td> <td> 4.05e-07</td>\n",
       "</tr>\n",
       "<tr>\n",
       "  <th>E00400</th>        <td> 7.882e-07</td> <td> 1.08e-07</td> <td>    7.272</td> <td> 0.000</td> <td> 5.76e-07</td> <td>    1e-06</td>\n",
       "</tr>\n",
       "<tr>\n",
       "  <th>E00600</th>        <td> 1.508e-07</td> <td> 3.46e-08</td> <td>    4.365</td> <td> 0.000</td> <td> 8.31e-08</td> <td> 2.19e-07</td>\n",
       "</tr>\n",
       "<tr>\n",
       "  <th>E01400</th>        <td> 7.844e-07</td> <td> 1.36e-07</td> <td>    5.772</td> <td> 0.000</td> <td> 5.18e-07</td> <td> 1.05e-06</td>\n",
       "</tr>\n",
       "<tr>\n",
       "  <th>E18400</th>        <td> 2.452e-07</td> <td> 7.18e-08</td> <td>    3.417</td> <td> 0.001</td> <td> 1.05e-07</td> <td> 3.86e-07</td>\n",
       "</tr>\n",
       "<tr>\n",
       "  <th>E18500</th>        <td> 1.623e-05</td> <td> 9.19e-07</td> <td>   17.659</td> <td> 0.000</td> <td> 1.44e-05</td> <td>  1.8e-05</td>\n",
       "</tr>\n",
       "<tr>\n",
       "  <th>E19200</th>        <td> 1.283e-06</td> <td>  2.5e-07</td> <td>    5.127</td> <td> 0.000</td> <td> 7.92e-07</td> <td> 1.77e-06</td>\n",
       "</tr>\n",
       "<tr>\n",
       "  <th>E19800_E20100</th> <td> 1.066e-07</td> <td> 4.49e-08</td> <td>    2.371</td> <td> 0.018</td> <td> 1.85e-08</td> <td> 1.95e-07</td>\n",
       "</tr>\n",
       "<tr>\n",
       "  <th>E20400</th>        <td> 1.245e-06</td> <td> 1.88e-07</td> <td>    6.631</td> <td> 0.000</td> <td> 8.77e-07</td> <td> 1.61e-06</td>\n",
       "</tr>\n",
       "<tr>\n",
       "  <th>E32800</th>        <td>   -0.0002</td> <td> 3.48e-05</td> <td>   -4.385</td> <td> 0.000</td> <td>   -0.000</td> <td>-8.45e-05</td>\n",
       "</tr>\n",
       "</table>\n",
       "<table class=\"simpletable\">\n",
       "<tr>\n",
       "  <th>Omnibus:</th>       <td>553.708</td> <th>  Durbin-Watson:     </th> <td>   1.991</td> \n",
       "</tr>\n",
       "<tr>\n",
       "  <th>Prob(Omnibus):</th> <td> 0.000</td>  <th>  Jarque-Bera (JB):  </th> <td> 612.602</td> \n",
       "</tr>\n",
       "<tr>\n",
       "  <th>Skew:</th>          <td>-0.478</td>  <th>  Prob(JB):          </th> <td>9.44e-134</td>\n",
       "</tr>\n",
       "<tr>\n",
       "  <th>Kurtosis:</th>      <td> 3.128</td>  <th>  Cond. No.          </th> <td>2.02e+07</td> \n",
       "</tr>\n",
       "</table><br/><br/>Warnings:<br/>[1] Standard Errors assume that the covariance matrix of the errors is correctly specified.<br/>[2] The condition number is large, 2.02e+07. This might indicate that there are<br/>strong multicollinearity or other numerical problems."
      ],
      "text/plain": [
       "<class 'statsmodels.iolib.summary.Summary'>\n",
       "\"\"\"\n",
       "                            OLS Regression Results                            \n",
       "==============================================================================\n",
       "Dep. Variable:             log_P22250   R-squared:                       0.119\n",
       "Model:                            OLS   Adj. R-squared:                  0.118\n",
       "Method:                 Least Squares   F-statistic:                     152.1\n",
       "Date:                Tue, 07 Aug 2018   Prob (F-statistic):               0.00\n",
       "Time:                        10:19:43   Log-Likelihood:                -39127.\n",
       "No. Observations:               15800   AIC:                         7.828e+04\n",
       "Df Residuals:                   15785   BIC:                         7.840e+04\n",
       "Df Model:                          14                                         \n",
       "Covariance Type:            nonrobust                                         \n",
       "=================================================================================\n",
       "                    coef    std err          t      P>|t|      [0.025      0.975]\n",
       "---------------------------------------------------------------------------------\n",
       "constant          7.2283      0.054    132.703      0.000       7.122       7.335\n",
       "DSI              -2.0860      0.293     -7.114      0.000      -2.661      -1.511\n",
       "EIC              -1.0299      0.224     -4.605      0.000      -1.468      -0.592\n",
       "XTOT              0.0957      0.018      5.192      0.000       0.060       0.132\n",
       "E00200         1.545e-07    1.7e-08      9.082      0.000    1.21e-07    1.88e-07\n",
       "E00300          2.98e-07   5.45e-08      5.464      0.000    1.91e-07    4.05e-07\n",
       "E00400         7.882e-07   1.08e-07      7.272      0.000    5.76e-07       1e-06\n",
       "E00600         1.508e-07   3.46e-08      4.365      0.000    8.31e-08    2.19e-07\n",
       "E01400         7.844e-07   1.36e-07      5.772      0.000    5.18e-07    1.05e-06\n",
       "E18400         2.452e-07   7.18e-08      3.417      0.001    1.05e-07    3.86e-07\n",
       "E18500         1.623e-05   9.19e-07     17.659      0.000    1.44e-05     1.8e-05\n",
       "E19200         1.283e-06    2.5e-07      5.127      0.000    7.92e-07    1.77e-06\n",
       "E19800_E20100  1.066e-07   4.49e-08      2.371      0.018    1.85e-08    1.95e-07\n",
       "E20400         1.245e-06   1.88e-07      6.631      0.000    8.77e-07    1.61e-06\n",
       "E32800           -0.0002   3.48e-05     -4.385      0.000      -0.000   -8.45e-05\n",
       "==============================================================================\n",
       "Omnibus:                      553.708   Durbin-Watson:                   1.991\n",
       "Prob(Omnibus):                  0.000   Jarque-Bera (JB):              612.602\n",
       "Skew:                          -0.478   Prob(JB):                    9.44e-134\n",
       "Kurtosis:                       3.128   Cond. No.                     2.02e+07\n",
       "==============================================================================\n",
       "\n",
       "Warnings:\n",
       "[1] Standard Errors assume that the covariance matrix of the errors is correctly specified.\n",
       "[2] The condition number is large, 2.02e+07. This might indicate that there are\n",
       "strong multicollinearity or other numerical problems.\n",
       "\"\"\""
      ]
     },
     "execution_count": 12,
     "metadata": {},
     "output_type": "execute_result"
    }
   ],
   "source": [
    "# None of the non-zero observations of E01100 made it into training data, so pos_train['E01100'] \n",
    "# is just a column of zeroes, and is thus excluded.\n",
    "# Predictors included are those with p values <= 0.1\n",
    "\n",
    "ols_pos_predictors = [\n",
    "                     'constant', 'DSI', 'EIC', 'XTOT', 'E00200', 'E00300', \n",
    "                     'E00400', 'E00600', 'E01400', 'E18400', 'E18500', 'E19200', \n",
    "                     'E19800_E20100', 'E20400', 'E32800'\n",
    "                     ]\n",
    "\n",
    "ols_pos_fit = sm.OLS(pos_train['log_P22250'], pos_train[ols_pos_predictors]).fit()\n",
    "summary = ols_pos_fit.summary()\n",
    "\n",
    "summary"
   ]
  },
  {
   "cell_type": "markdown",
   "metadata": {},
   "source": [
    "RMSE is massive"
   ]
  },
  {
   "cell_type": "code",
   "execution_count": 13,
   "metadata": {},
   "outputs": [
    {
     "data": {
      "text/plain": [
       "19746052052.35679"
      ]
     },
     "execution_count": 13,
     "metadata": {},
     "output_type": "execute_result"
    }
   ],
   "source": [
    "ols_pos_pred = np.exp(ols_pos_fit.predict(pos_test[ols_pos_predictors]))\n",
    "(pos_test['P22250'] - ols_pos_pred).pow(2).mean()**0.5"
   ]
  },
  {
   "cell_type": "markdown",
   "metadata": {},
   "source": [
    "#### Regressing on log(P22250), using log-transformed continuous predictors"
   ]
  },
  {
   "cell_type": "code",
   "execution_count": 14,
   "metadata": {},
   "outputs": [
    {
     "data": {
      "text/html": [
       "<table class=\"simpletable\">\n",
       "<caption>OLS Regression Results</caption>\n",
       "<tr>\n",
       "  <th>Dep. Variable:</th>       <td>log_P22250</td>    <th>  R-squared:         </th> <td>   0.204</td> \n",
       "</tr>\n",
       "<tr>\n",
       "  <th>Model:</th>                   <td>OLS</td>       <th>  Adj. R-squared:    </th> <td>   0.203</td> \n",
       "</tr>\n",
       "<tr>\n",
       "  <th>Method:</th>             <td>Least Squares</td>  <th>  F-statistic:       </th> <td>   238.1</td> \n",
       "</tr>\n",
       "<tr>\n",
       "  <th>Date:</th>             <td>Tue, 07 Aug 2018</td> <th>  Prob (F-statistic):</th>  <td>  0.00</td>  \n",
       "</tr>\n",
       "<tr>\n",
       "  <th>Time:</th>                 <td>10:19:43</td>     <th>  Log-Likelihood:    </th> <td> -38323.</td> \n",
       "</tr>\n",
       "<tr>\n",
       "  <th>No. Observations:</th>      <td> 15800</td>      <th>  AIC:               </th> <td>7.668e+04</td>\n",
       "</tr>\n",
       "<tr>\n",
       "  <th>Df Residuals:</th>          <td> 15782</td>      <th>  BIC:               </th> <td>7.682e+04</td>\n",
       "</tr>\n",
       "<tr>\n",
       "  <th>Df Model:</th>              <td>    17</td>      <th>                     </th>     <td> </td>    \n",
       "</tr>\n",
       "<tr>\n",
       "  <th>Covariance Type:</th>      <td>nonrobust</td>    <th>                     </th>     <td> </td>    \n",
       "</tr>\n",
       "</table>\n",
       "<table class=\"simpletable\">\n",
       "<tr>\n",
       "       <td></td>         <th>coef</th>     <th>std err</th>      <th>t</th>      <th>P>|t|</th>  <th>[0.025</th>    <th>0.975]</th>  \n",
       "</tr>\n",
       "<tr>\n",
       "  <th>constant</th>   <td>    4.7811</td> <td>    0.089</td> <td>   54.000</td> <td> 0.000</td> <td>    4.608</td> <td>    4.955</td>\n",
       "</tr>\n",
       "<tr>\n",
       "  <th>DSI</th>        <td>   -1.0334</td> <td>    0.281</td> <td>   -3.682</td> <td> 0.000</td> <td>   -1.584</td> <td>   -0.483</td>\n",
       "</tr>\n",
       "<tr>\n",
       "  <th>MARS3</th>      <td>    0.7251</td> <td>    0.152</td> <td>    4.758</td> <td> 0.000</td> <td>    0.426</td> <td>    1.024</td>\n",
       "</tr>\n",
       "<tr>\n",
       "  <th>N24</th>        <td>    0.1314</td> <td>    0.025</td> <td>    5.217</td> <td> 0.000</td> <td>    0.082</td> <td>    0.181</td>\n",
       "</tr>\n",
       "<tr>\n",
       "  <th>log_E00200</th> <td>   -0.0084</td> <td>    0.005</td> <td>   -1.834</td> <td> 0.067</td> <td>   -0.017</td> <td>    0.001</td>\n",
       "</tr>\n",
       "<tr>\n",
       "  <th>log_E00300</th> <td>    0.2174</td> <td>    0.008</td> <td>   27.163</td> <td> 0.000</td> <td>    0.202</td> <td>    0.233</td>\n",
       "</tr>\n",
       "<tr>\n",
       "  <th>log_E00400</th> <td>    0.0137</td> <td>    0.006</td> <td>    2.450</td> <td> 0.014</td> <td>    0.003</td> <td>    0.025</td>\n",
       "</tr>\n",
       "<tr>\n",
       "  <th>log_E00600</th> <td>    0.1513</td> <td>    0.009</td> <td>   17.788</td> <td> 0.000</td> <td>    0.135</td> <td>    0.168</td>\n",
       "</tr>\n",
       "<tr>\n",
       "  <th>log_E01500</th> <td>   -0.0336</td> <td>    0.005</td> <td>   -7.345</td> <td> 0.000</td> <td>   -0.043</td> <td>   -0.025</td>\n",
       "</tr>\n",
       "<tr>\n",
       "  <th>log_E02400</th> <td>   -0.0303</td> <td>    0.006</td> <td>   -4.939</td> <td> 0.000</td> <td>   -0.042</td> <td>   -0.018</td>\n",
       "</tr>\n",
       "<tr>\n",
       "  <th>log_E03210</th> <td>   -0.0968</td> <td>    0.037</td> <td>   -2.627</td> <td> 0.009</td> <td>   -0.169</td> <td>   -0.025</td>\n",
       "</tr>\n",
       "<tr>\n",
       "  <th>log_E03270</th> <td>   -0.0164</td> <td>    0.006</td> <td>   -2.569</td> <td> 0.010</td> <td>   -0.029</td> <td>   -0.004</td>\n",
       "</tr>\n",
       "<tr>\n",
       "  <th>log_E03300</th> <td>   -0.0576</td> <td>    0.007</td> <td>   -7.897</td> <td> 0.000</td> <td>   -0.072</td> <td>   -0.043</td>\n",
       "</tr>\n",
       "<tr>\n",
       "  <th>log_E17500</th> <td>   -0.0735</td> <td>    0.010</td> <td>   -7.285</td> <td> 0.000</td> <td>   -0.093</td> <td>   -0.054</td>\n",
       "</tr>\n",
       "<tr>\n",
       "  <th>log_E18400</th> <td>   -0.0220</td> <td>    0.005</td> <td>   -4.292</td> <td> 0.000</td> <td>   -0.032</td> <td>   -0.012</td>\n",
       "</tr>\n",
       "<tr>\n",
       "  <th>log_E19200</th> <td>    0.0446</td> <td>    0.005</td> <td>    8.142</td> <td> 0.000</td> <td>    0.034</td> <td>    0.055</td>\n",
       "</tr>\n",
       "<tr>\n",
       "  <th>log_E20400</th> <td>    0.0752</td> <td>    0.006</td> <td>   12.237</td> <td> 0.000</td> <td>    0.063</td> <td>    0.087</td>\n",
       "</tr>\n",
       "<tr>\n",
       "  <th>log_E32800</th> <td>   -0.0587</td> <td>    0.016</td> <td>   -3.739</td> <td> 0.000</td> <td>   -0.090</td> <td>   -0.028</td>\n",
       "</tr>\n",
       "</table>\n",
       "<table class=\"simpletable\">\n",
       "<tr>\n",
       "  <th>Omnibus:</th>       <td>436.191</td> <th>  Durbin-Watson:     </th> <td>   2.006</td> \n",
       "</tr>\n",
       "<tr>\n",
       "  <th>Prob(Omnibus):</th> <td> 0.000</td>  <th>  Jarque-Bera (JB):  </th> <td> 473.257</td> \n",
       "</tr>\n",
       "<tr>\n",
       "  <th>Skew:</th>          <td>-0.413</td>  <th>  Prob(JB):          </th> <td>1.71e-103</td>\n",
       "</tr>\n",
       "<tr>\n",
       "  <th>Kurtosis:</th>      <td> 3.192</td>  <th>  Cond. No.          </th> <td>    269.</td> \n",
       "</tr>\n",
       "</table><br/><br/>Warnings:<br/>[1] Standard Errors assume that the covariance matrix of the errors is correctly specified."
      ],
      "text/plain": [
       "<class 'statsmodels.iolib.summary.Summary'>\n",
       "\"\"\"\n",
       "                            OLS Regression Results                            \n",
       "==============================================================================\n",
       "Dep. Variable:             log_P22250   R-squared:                       0.204\n",
       "Model:                            OLS   Adj. R-squared:                  0.203\n",
       "Method:                 Least Squares   F-statistic:                     238.1\n",
       "Date:                Tue, 07 Aug 2018   Prob (F-statistic):               0.00\n",
       "Time:                        10:19:43   Log-Likelihood:                -38323.\n",
       "No. Observations:               15800   AIC:                         7.668e+04\n",
       "Df Residuals:                   15782   BIC:                         7.682e+04\n",
       "Df Model:                          17                                         \n",
       "Covariance Type:            nonrobust                                         \n",
       "==============================================================================\n",
       "                 coef    std err          t      P>|t|      [0.025      0.975]\n",
       "------------------------------------------------------------------------------\n",
       "constant       4.7811      0.089     54.000      0.000       4.608       4.955\n",
       "DSI           -1.0334      0.281     -3.682      0.000      -1.584      -0.483\n",
       "MARS3          0.7251      0.152      4.758      0.000       0.426       1.024\n",
       "N24            0.1314      0.025      5.217      0.000       0.082       0.181\n",
       "log_E00200    -0.0084      0.005     -1.834      0.067      -0.017       0.001\n",
       "log_E00300     0.2174      0.008     27.163      0.000       0.202       0.233\n",
       "log_E00400     0.0137      0.006      2.450      0.014       0.003       0.025\n",
       "log_E00600     0.1513      0.009     17.788      0.000       0.135       0.168\n",
       "log_E01500    -0.0336      0.005     -7.345      0.000      -0.043      -0.025\n",
       "log_E02400    -0.0303      0.006     -4.939      0.000      -0.042      -0.018\n",
       "log_E03210    -0.0968      0.037     -2.627      0.009      -0.169      -0.025\n",
       "log_E03270    -0.0164      0.006     -2.569      0.010      -0.029      -0.004\n",
       "log_E03300    -0.0576      0.007     -7.897      0.000      -0.072      -0.043\n",
       "log_E17500    -0.0735      0.010     -7.285      0.000      -0.093      -0.054\n",
       "log_E18400    -0.0220      0.005     -4.292      0.000      -0.032      -0.012\n",
       "log_E19200     0.0446      0.005      8.142      0.000       0.034       0.055\n",
       "log_E20400     0.0752      0.006     12.237      0.000       0.063       0.087\n",
       "log_E32800    -0.0587      0.016     -3.739      0.000      -0.090      -0.028\n",
       "==============================================================================\n",
       "Omnibus:                      436.191   Durbin-Watson:                   2.006\n",
       "Prob(Omnibus):                  0.000   Jarque-Bera (JB):              473.257\n",
       "Skew:                          -0.413   Prob(JB):                    1.71e-103\n",
       "Kurtosis:                       3.192   Cond. No.                         269.\n",
       "==============================================================================\n",
       "\n",
       "Warnings:\n",
       "[1] Standard Errors assume that the covariance matrix of the errors is correctly specified.\n",
       "\"\"\""
      ]
     },
     "execution_count": 14,
     "metadata": {},
     "output_type": "execute_result"
    }
   ],
   "source": [
    "# Predictors included are those with p values <= 0.1\n",
    "\n",
    "ols_logpos_predictors = [\n",
    "                         'constant', 'DSI', 'MARS3', 'N24', 'log_E00200', 'log_E00300', \n",
    "                         'log_E00400', 'log_E00600', 'log_E01500', 'log_E02400', 'log_E03210', \n",
    "                         'log_E03270', 'log_E03300', 'log_E17500', 'log_E18400', 'log_E19200',\n",
    "                         'log_E20400', 'log_E32800'\n",
    "                        ]\n",
    "ols_logpos_fit = sm.OLS(pos_train['log_P22250'], pos_train[ols_logpos_predictors]).fit()\n",
    "summary = ols_logpos_fit.summary()\n",
    "\n",
    "summary"
   ]
  },
  {
   "cell_type": "markdown",
   "metadata": {},
   "source": [
    "RMSE is lower than random forest's positive predictions"
   ]
  },
  {
   "cell_type": "code",
   "execution_count": 15,
   "metadata": {},
   "outputs": [
    {
     "data": {
      "text/plain": [
       "890112.1924438546"
      ]
     },
     "execution_count": 15,
     "metadata": {},
     "output_type": "execute_result"
    }
   ],
   "source": [
    "ols_logpos_pred = np.exp(ols_logpos_fit.predict(pos_test[ols_logpos_predictors]))\n",
    "(pos_test['P22250'] - ols_logpos_pred).pow(2).mean()**0.5"
   ]
  },
  {
   "cell_type": "markdown",
   "metadata": {},
   "source": [
    "### Negative data\n",
    "\n",
    "#### Regressing on log(P22250)"
   ]
  },
  {
   "cell_type": "code",
   "execution_count": 16,
   "metadata": {},
   "outputs": [
    {
     "data": {
      "text/html": [
       "<table class=\"simpletable\">\n",
       "<caption>OLS Regression Results</caption>\n",
       "<tr>\n",
       "  <th>Dep. Variable:</th>       <td>log_P22250</td>    <th>  R-squared:         </th> <td>   0.118</td> \n",
       "</tr>\n",
       "<tr>\n",
       "  <th>Model:</th>                   <td>OLS</td>       <th>  Adj. R-squared:    </th> <td>   0.118</td> \n",
       "</tr>\n",
       "<tr>\n",
       "  <th>Method:</th>             <td>Least Squares</td>  <th>  F-statistic:       </th> <td>   131.5</td> \n",
       "</tr>\n",
       "<tr>\n",
       "  <th>Date:</th>             <td>Tue, 07 Aug 2018</td> <th>  Prob (F-statistic):</th>  <td>  0.00</td>  \n",
       "</tr>\n",
       "<tr>\n",
       "  <th>Time:</th>                 <td>10:19:43</td>     <th>  Log-Likelihood:    </th> <td> -45001.</td> \n",
       "</tr>\n",
       "<tr>\n",
       "  <th>No. Observations:</th>      <td> 18600</td>      <th>  AIC:               </th> <td>9.004e+04</td>\n",
       "</tr>\n",
       "<tr>\n",
       "  <th>Df Residuals:</th>          <td> 18580</td>      <th>  BIC:               </th> <td>9.020e+04</td>\n",
       "</tr>\n",
       "<tr>\n",
       "  <th>Df Model:</th>              <td>    19</td>      <th>                     </th>     <td> </td>    \n",
       "</tr>\n",
       "<tr>\n",
       "  <th>Covariance Type:</th>      <td>nonrobust</td>    <th>                     </th>     <td> </td>    \n",
       "</tr>\n",
       "</table>\n",
       "<table class=\"simpletable\">\n",
       "<tr>\n",
       "      <td></td>        <th>coef</th>     <th>std err</th>      <th>t</th>      <th>P>|t|</th>  <th>[0.025</th>    <th>0.975]</th>  \n",
       "</tr>\n",
       "<tr>\n",
       "  <th>constant</th> <td>   -8.0031</td> <td>    0.029</td> <td> -273.851</td> <td> 0.000</td> <td>   -8.060</td> <td>   -7.946</td>\n",
       "</tr>\n",
       "<tr>\n",
       "  <th>DSI</th>      <td>    2.0478</td> <td>    0.278</td> <td>    7.372</td> <td> 0.000</td> <td>    1.503</td> <td>    2.592</td>\n",
       "</tr>\n",
       "<tr>\n",
       "  <th>EIC</th>      <td>    0.3723</td> <td>    0.162</td> <td>    2.298</td> <td> 0.022</td> <td>    0.055</td> <td>    0.690</td>\n",
       "</tr>\n",
       "<tr>\n",
       "  <th>MARS3</th>    <td>   -0.5615</td> <td>    0.140</td> <td>   -4.017</td> <td> 0.000</td> <td>   -0.836</td> <td>   -0.288</td>\n",
       "</tr>\n",
       "<tr>\n",
       "  <th>E00200</th>   <td>-6.888e-08</td> <td> 1.27e-08</td> <td>   -5.434</td> <td> 0.000</td> <td>-9.37e-08</td> <td> -4.4e-08</td>\n",
       "</tr>\n",
       "<tr>\n",
       "  <th>E00300</th>   <td>-1.539e-07</td> <td>  5.3e-08</td> <td>   -2.901</td> <td> 0.004</td> <td>-2.58e-07</td> <td>-4.99e-08</td>\n",
       "</tr>\n",
       "<tr>\n",
       "  <th>E00400</th>   <td>-6.337e-07</td> <td> 9.36e-08</td> <td>   -6.771</td> <td> 0.000</td> <td>-8.17e-07</td> <td> -4.5e-07</td>\n",
       "</tr>\n",
       "<tr>\n",
       "  <th>E00600</th>   <td>-2.037e-07</td> <td>  3.8e-08</td> <td>   -5.368</td> <td> 0.000</td> <td>-2.78e-07</td> <td>-1.29e-07</td>\n",
       "</tr>\n",
       "<tr>\n",
       "  <th>E01400</th>   <td>-8.916e-07</td> <td> 1.19e-07</td> <td>   -7.523</td> <td> 0.000</td> <td>-1.12e-06</td> <td>-6.59e-07</td>\n",
       "</tr>\n",
       "<tr>\n",
       "  <th>E01500</th>   <td> 1.299e-07</td> <td> 4.91e-08</td> <td>    2.647</td> <td> 0.008</td> <td> 3.37e-08</td> <td> 2.26e-07</td>\n",
       "</tr>\n",
       "<tr>\n",
       "  <th>E02100</th>   <td> 6.018e-07</td> <td> 1.97e-07</td> <td>    3.056</td> <td> 0.002</td> <td> 2.16e-07</td> <td> 9.88e-07</td>\n",
       "</tr>\n",
       "<tr>\n",
       "  <th>E02400</th>   <td>-9.171e-06</td> <td> 1.48e-06</td> <td>   -6.179</td> <td> 0.000</td> <td>-1.21e-05</td> <td>-6.26e-06</td>\n",
       "</tr>\n",
       "<tr>\n",
       "  <th>E03210</th>   <td>    0.0007</td> <td>    0.000</td> <td>    4.636</td> <td> 0.000</td> <td>    0.000</td> <td>    0.001</td>\n",
       "</tr>\n",
       "<tr>\n",
       "  <th>E03270</th>   <td>-1.025e-05</td> <td> 3.25e-06</td> <td>   -3.153</td> <td> 0.002</td> <td>-1.66e-05</td> <td>-3.88e-06</td>\n",
       "</tr>\n",
       "<tr>\n",
       "  <th>E18400</th>   <td>-2.317e-07</td> <td> 6.31e-08</td> <td>   -3.672</td> <td> 0.000</td> <td>-3.55e-07</td> <td>-1.08e-07</td>\n",
       "</tr>\n",
       "<tr>\n",
       "  <th>E18500</th>   <td>-1.695e-05</td> <td> 8.65e-07</td> <td>  -19.594</td> <td> 0.000</td> <td>-1.86e-05</td> <td>-1.53e-05</td>\n",
       "</tr>\n",
       "<tr>\n",
       "  <th>E19200</th>   <td>-9.216e-07</td> <td> 2.65e-07</td> <td>   -3.482</td> <td> 0.000</td> <td>-1.44e-06</td> <td>-4.03e-07</td>\n",
       "</tr>\n",
       "<tr>\n",
       "  <th>E20400</th>   <td>-2.473e-06</td> <td> 2.19e-07</td> <td>  -11.314</td> <td> 0.000</td> <td> -2.9e-06</td> <td>-2.04e-06</td>\n",
       "</tr>\n",
       "<tr>\n",
       "  <th>E32800</th>   <td>   -0.0001</td> <td> 5.16e-05</td> <td>   -2.494</td> <td> 0.013</td> <td>   -0.000</td> <td>-2.75e-05</td>\n",
       "</tr>\n",
       "<tr>\n",
       "  <th>F2441</th>    <td>    0.6328</td> <td>    0.106</td> <td>    5.943</td> <td> 0.000</td> <td>    0.424</td> <td>    0.842</td>\n",
       "</tr>\n",
       "</table>\n",
       "<table class=\"simpletable\">\n",
       "<tr>\n",
       "  <th>Omnibus:</th>       <td>941.187</td> <th>  Durbin-Watson:     </th> <td>   2.013</td> \n",
       "</tr>\n",
       "<tr>\n",
       "  <th>Prob(Omnibus):</th> <td> 0.000</td>  <th>  Jarque-Bera (JB):  </th> <td>1099.948</td> \n",
       "</tr>\n",
       "<tr>\n",
       "  <th>Skew:</th>          <td> 0.562</td>  <th>  Prob(JB):          </th> <td>1.41e-239</td>\n",
       "</tr>\n",
       "<tr>\n",
       "  <th>Kurtosis:</th>      <td> 3.394</td>  <th>  Cond. No.          </th> <td>2.61e+07</td> \n",
       "</tr>\n",
       "</table><br/><br/>Warnings:<br/>[1] Standard Errors assume that the covariance matrix of the errors is correctly specified.<br/>[2] The condition number is large, 2.61e+07. This might indicate that there are<br/>strong multicollinearity or other numerical problems."
      ],
      "text/plain": [
       "<class 'statsmodels.iolib.summary.Summary'>\n",
       "\"\"\"\n",
       "                            OLS Regression Results                            \n",
       "==============================================================================\n",
       "Dep. Variable:             log_P22250   R-squared:                       0.118\n",
       "Model:                            OLS   Adj. R-squared:                  0.118\n",
       "Method:                 Least Squares   F-statistic:                     131.5\n",
       "Date:                Tue, 07 Aug 2018   Prob (F-statistic):               0.00\n",
       "Time:                        10:19:43   Log-Likelihood:                -45001.\n",
       "No. Observations:               18600   AIC:                         9.004e+04\n",
       "Df Residuals:                   18580   BIC:                         9.020e+04\n",
       "Df Model:                          19                                         \n",
       "Covariance Type:            nonrobust                                         \n",
       "==============================================================================\n",
       "                 coef    std err          t      P>|t|      [0.025      0.975]\n",
       "------------------------------------------------------------------------------\n",
       "constant      -8.0031      0.029   -273.851      0.000      -8.060      -7.946\n",
       "DSI            2.0478      0.278      7.372      0.000       1.503       2.592\n",
       "EIC            0.3723      0.162      2.298      0.022       0.055       0.690\n",
       "MARS3         -0.5615      0.140     -4.017      0.000      -0.836      -0.288\n",
       "E00200     -6.888e-08   1.27e-08     -5.434      0.000   -9.37e-08    -4.4e-08\n",
       "E00300     -1.539e-07    5.3e-08     -2.901      0.004   -2.58e-07   -4.99e-08\n",
       "E00400     -6.337e-07   9.36e-08     -6.771      0.000   -8.17e-07    -4.5e-07\n",
       "E00600     -2.037e-07    3.8e-08     -5.368      0.000   -2.78e-07   -1.29e-07\n",
       "E01400     -8.916e-07   1.19e-07     -7.523      0.000   -1.12e-06   -6.59e-07\n",
       "E01500      1.299e-07   4.91e-08      2.647      0.008    3.37e-08    2.26e-07\n",
       "E02100      6.018e-07   1.97e-07      3.056      0.002    2.16e-07    9.88e-07\n",
       "E02400     -9.171e-06   1.48e-06     -6.179      0.000   -1.21e-05   -6.26e-06\n",
       "E03210         0.0007      0.000      4.636      0.000       0.000       0.001\n",
       "E03270     -1.025e-05   3.25e-06     -3.153      0.002   -1.66e-05   -3.88e-06\n",
       "E18400     -2.317e-07   6.31e-08     -3.672      0.000   -3.55e-07   -1.08e-07\n",
       "E18500     -1.695e-05   8.65e-07    -19.594      0.000   -1.86e-05   -1.53e-05\n",
       "E19200     -9.216e-07   2.65e-07     -3.482      0.000   -1.44e-06   -4.03e-07\n",
       "E20400     -2.473e-06   2.19e-07    -11.314      0.000    -2.9e-06   -2.04e-06\n",
       "E32800        -0.0001   5.16e-05     -2.494      0.013      -0.000   -2.75e-05\n",
       "F2441          0.6328      0.106      5.943      0.000       0.424       0.842\n",
       "==============================================================================\n",
       "Omnibus:                      941.187   Durbin-Watson:                   2.013\n",
       "Prob(Omnibus):                  0.000   Jarque-Bera (JB):             1099.948\n",
       "Skew:                           0.562   Prob(JB):                    1.41e-239\n",
       "Kurtosis:                       3.394   Cond. No.                     2.61e+07\n",
       "==============================================================================\n",
       "\n",
       "Warnings:\n",
       "[1] Standard Errors assume that the covariance matrix of the errors is correctly specified.\n",
       "[2] The condition number is large, 2.61e+07. This might indicate that there are\n",
       "strong multicollinearity or other numerical problems.\n",
       "\"\"\""
      ]
     },
     "execution_count": 16,
     "metadata": {},
     "output_type": "execute_result"
    }
   ],
   "source": [
    "# Predictors with p value <= 0.1\n",
    "\n",
    "ols_neg_predictors = [\n",
    "                      'constant', 'DSI', 'EIC', 'MARS3', 'E00200', 'E00300', 'E00400', \n",
    "                      'E00600', 'E01400', 'E01500', 'E02100', 'E02400', 'E03210', 'E03270',\n",
    "                      'E18400', 'E18500', 'E19200', 'E20400', 'E32800', 'F2441'\n",
    "                      ]\n",
    "\n",
    "\n",
    "ols_neg_fit = sm.OLS(neg_train['log_P22250'], neg_train[ols_neg_predictors]).fit()\n",
    "summary = ols_neg_fit.summary()\n",
    "\n",
    "summary"
   ]
  },
  {
   "cell_type": "markdown",
   "metadata": {},
   "source": [
    "RMSE is even larger than positive predictors'"
   ]
  },
  {
   "cell_type": "code",
   "execution_count": 17,
   "metadata": {},
   "outputs": [
    {
     "data": {
      "text/plain": [
       "23007880474031.184"
      ]
     },
     "execution_count": 17,
     "metadata": {},
     "output_type": "execute_result"
    }
   ],
   "source": [
    "ols_neg_pred = -np.exp(-ols_neg_fit.predict(neg_test[ols_neg_predictors]))\n",
    "(neg_test['P22250'] - ols_neg_pred).pow(2).mean()**0.5"
   ]
  },
  {
   "cell_type": "markdown",
   "metadata": {},
   "source": [
    "#### Regressing on log(P22250), using log-transformed continuous predictors"
   ]
  },
  {
   "cell_type": "code",
   "execution_count": 18,
   "metadata": {},
   "outputs": [
    {
     "data": {
      "text/html": [
       "<table class=\"simpletable\">\n",
       "<caption>OLS Regression Results</caption>\n",
       "<tr>\n",
       "  <th>Dep. Variable:</th>       <td>log_P22250</td>    <th>  R-squared:         </th> <td>   0.207</td> \n",
       "</tr>\n",
       "<tr>\n",
       "  <th>Model:</th>                   <td>OLS</td>       <th>  Adj. R-squared:    </th> <td>   0.206</td> \n",
       "</tr>\n",
       "<tr>\n",
       "  <th>Method:</th>             <td>Least Squares</td>  <th>  F-statistic:       </th> <td>   269.0</td> \n",
       "</tr>\n",
       "<tr>\n",
       "  <th>Date:</th>             <td>Tue, 07 Aug 2018</td> <th>  Prob (F-statistic):</th>  <td>  0.00</td>  \n",
       "</tr>\n",
       "<tr>\n",
       "  <th>Time:</th>                 <td>10:19:43</td>     <th>  Log-Likelihood:    </th> <td> -44020.</td> \n",
       "</tr>\n",
       "<tr>\n",
       "  <th>No. Observations:</th>      <td> 18600</td>      <th>  AIC:               </th> <td>8.808e+04</td>\n",
       "</tr>\n",
       "<tr>\n",
       "  <th>Df Residuals:</th>          <td> 18581</td>      <th>  BIC:               </th> <td>8.823e+04</td>\n",
       "</tr>\n",
       "<tr>\n",
       "  <th>Df Model:</th>              <td>    18</td>      <th>                     </th>     <td> </td>    \n",
       "</tr>\n",
       "<tr>\n",
       "  <th>Covariance Type:</th>      <td>nonrobust</td>    <th>                     </th>     <td> </td>    \n",
       "</tr>\n",
       "</table>\n",
       "<table class=\"simpletable\">\n",
       "<tr>\n",
       "          <td></td>             <th>coef</th>     <th>std err</th>      <th>t</th>      <th>P>|t|</th>  <th>[0.025</th>    <th>0.975]</th>  \n",
       "</tr>\n",
       "<tr>\n",
       "  <th>constant</th>          <td>   -5.5988</td> <td>    0.082</td> <td>  -68.144</td> <td> 0.000</td> <td>   -5.760</td> <td>   -5.438</td>\n",
       "</tr>\n",
       "<tr>\n",
       "  <th>DSI</th>               <td>    1.2281</td> <td>    0.270</td> <td>    4.555</td> <td> 0.000</td> <td>    0.700</td> <td>    1.757</td>\n",
       "</tr>\n",
       "<tr>\n",
       "  <th>EIC</th>               <td>   -0.4802</td> <td>    0.156</td> <td>   -3.085</td> <td> 0.002</td> <td>   -0.785</td> <td>   -0.175</td>\n",
       "</tr>\n",
       "<tr>\n",
       "  <th>MARS3</th>             <td>   -0.4808</td> <td>    0.134</td> <td>   -3.576</td> <td> 0.000</td> <td>   -0.744</td> <td>   -0.217</td>\n",
       "</tr>\n",
       "<tr>\n",
       "  <th>XTOT</th>              <td>   -0.0506</td> <td>    0.017</td> <td>   -3.000</td> <td> 0.003</td> <td>   -0.084</td> <td>   -0.018</td>\n",
       "</tr>\n",
       "<tr>\n",
       "  <th>F2441</th>             <td>    0.2700</td> <td>    0.062</td> <td>    4.381</td> <td> 0.000</td> <td>    0.149</td> <td>    0.391</td>\n",
       "</tr>\n",
       "<tr>\n",
       "  <th>log_E00200</th>        <td>    0.0338</td> <td>    0.004</td> <td>    8.690</td> <td> 0.000</td> <td>    0.026</td> <td>    0.041</td>\n",
       "</tr>\n",
       "<tr>\n",
       "  <th>log_E00300</th>        <td>   -0.1557</td> <td>    0.007</td> <td>  -21.567</td> <td> 0.000</td> <td>   -0.170</td> <td>   -0.142</td>\n",
       "</tr>\n",
       "<tr>\n",
       "  <th>log_E00400</th>        <td>   -0.0237</td> <td>    0.005</td> <td>   -4.801</td> <td> 0.000</td> <td>   -0.033</td> <td>   -0.014</td>\n",
       "</tr>\n",
       "<tr>\n",
       "  <th>log_E00600</th>        <td>   -0.1825</td> <td>    0.008</td> <td>  -23.440</td> <td> 0.000</td> <td>   -0.198</td> <td>   -0.167</td>\n",
       "</tr>\n",
       "<tr>\n",
       "  <th>log_E01500</th>        <td>    0.0204</td> <td>    0.006</td> <td>    3.615</td> <td> 0.000</td> <td>    0.009</td> <td>    0.031</td>\n",
       "</tr>\n",
       "<tr>\n",
       "  <th>log_E01700</th>        <td>    0.0157</td> <td>    0.007</td> <td>    2.197</td> <td> 0.028</td> <td>    0.002</td> <td>    0.030</td>\n",
       "</tr>\n",
       "<tr>\n",
       "  <th>log_E03270</th>        <td>    0.0131</td> <td>    0.006</td> <td>    2.360</td> <td> 0.018</td> <td>    0.002</td> <td>    0.024</td>\n",
       "</tr>\n",
       "<tr>\n",
       "  <th>log_E03300</th>        <td>    0.0309</td> <td>    0.006</td> <td>    4.868</td> <td> 0.000</td> <td>    0.018</td> <td>    0.043</td>\n",
       "</tr>\n",
       "<tr>\n",
       "  <th>log_E17500</th>        <td>    0.0554</td> <td>    0.009</td> <td>    6.421</td> <td> 0.000</td> <td>    0.038</td> <td>    0.072</td>\n",
       "</tr>\n",
       "<tr>\n",
       "  <th>log_E18400</th>        <td>    0.0193</td> <td>    0.005</td> <td>    4.076</td> <td> 0.000</td> <td>    0.010</td> <td>    0.029</td>\n",
       "</tr>\n",
       "<tr>\n",
       "  <th>log_E19200</th>        <td>   -0.0344</td> <td>    0.005</td> <td>   -7.105</td> <td> 0.000</td> <td>   -0.044</td> <td>   -0.025</td>\n",
       "</tr>\n",
       "<tr>\n",
       "  <th>log_E19800_E20100</th> <td>    0.0321</td> <td>    0.007</td> <td>    4.628</td> <td> 0.000</td> <td>    0.019</td> <td>    0.046</td>\n",
       "</tr>\n",
       "<tr>\n",
       "  <th>log_E20400</th>        <td>   -0.0992</td> <td>    0.006</td> <td>  -17.286</td> <td> 0.000</td> <td>   -0.110</td> <td>   -0.088</td>\n",
       "</tr>\n",
       "</table>\n",
       "<table class=\"simpletable\">\n",
       "<tr>\n",
       "  <th>Omnibus:</th>       <td>623.801</td> <th>  Durbin-Watson:     </th> <td>   2.004</td> \n",
       "</tr>\n",
       "<tr>\n",
       "  <th>Prob(Omnibus):</th> <td> 0.000</td>  <th>  Jarque-Bera (JB):  </th> <td> 869.103</td> \n",
       "</tr>\n",
       "<tr>\n",
       "  <th>Skew:</th>          <td> 0.355</td>  <th>  Prob(JB):          </th> <td>1.89e-189</td>\n",
       "</tr>\n",
       "<tr>\n",
       "  <th>Kurtosis:</th>      <td> 3.786</td>  <th>  Cond. No.          </th> <td>    328.</td> \n",
       "</tr>\n",
       "</table><br/><br/>Warnings:<br/>[1] Standard Errors assume that the covariance matrix of the errors is correctly specified."
      ],
      "text/plain": [
       "<class 'statsmodels.iolib.summary.Summary'>\n",
       "\"\"\"\n",
       "                            OLS Regression Results                            \n",
       "==============================================================================\n",
       "Dep. Variable:             log_P22250   R-squared:                       0.207\n",
       "Model:                            OLS   Adj. R-squared:                  0.206\n",
       "Method:                 Least Squares   F-statistic:                     269.0\n",
       "Date:                Tue, 07 Aug 2018   Prob (F-statistic):               0.00\n",
       "Time:                        10:19:43   Log-Likelihood:                -44020.\n",
       "No. Observations:               18600   AIC:                         8.808e+04\n",
       "Df Residuals:                   18581   BIC:                         8.823e+04\n",
       "Df Model:                          18                                         \n",
       "Covariance Type:            nonrobust                                         \n",
       "=====================================================================================\n",
       "                        coef    std err          t      P>|t|      [0.025      0.975]\n",
       "-------------------------------------------------------------------------------------\n",
       "constant             -5.5988      0.082    -68.144      0.000      -5.760      -5.438\n",
       "DSI                   1.2281      0.270      4.555      0.000       0.700       1.757\n",
       "EIC                  -0.4802      0.156     -3.085      0.002      -0.785      -0.175\n",
       "MARS3                -0.4808      0.134     -3.576      0.000      -0.744      -0.217\n",
       "XTOT                 -0.0506      0.017     -3.000      0.003      -0.084      -0.018\n",
       "F2441                 0.2700      0.062      4.381      0.000       0.149       0.391\n",
       "log_E00200            0.0338      0.004      8.690      0.000       0.026       0.041\n",
       "log_E00300           -0.1557      0.007    -21.567      0.000      -0.170      -0.142\n",
       "log_E00400           -0.0237      0.005     -4.801      0.000      -0.033      -0.014\n",
       "log_E00600           -0.1825      0.008    -23.440      0.000      -0.198      -0.167\n",
       "log_E01500            0.0204      0.006      3.615      0.000       0.009       0.031\n",
       "log_E01700            0.0157      0.007      2.197      0.028       0.002       0.030\n",
       "log_E03270            0.0131      0.006      2.360      0.018       0.002       0.024\n",
       "log_E03300            0.0309      0.006      4.868      0.000       0.018       0.043\n",
       "log_E17500            0.0554      0.009      6.421      0.000       0.038       0.072\n",
       "log_E18400            0.0193      0.005      4.076      0.000       0.010       0.029\n",
       "log_E19200           -0.0344      0.005     -7.105      0.000      -0.044      -0.025\n",
       "log_E19800_E20100     0.0321      0.007      4.628      0.000       0.019       0.046\n",
       "log_E20400           -0.0992      0.006    -17.286      0.000      -0.110      -0.088\n",
       "==============================================================================\n",
       "Omnibus:                      623.801   Durbin-Watson:                   2.004\n",
       "Prob(Omnibus):                  0.000   Jarque-Bera (JB):              869.103\n",
       "Skew:                           0.355   Prob(JB):                    1.89e-189\n",
       "Kurtosis:                       3.786   Cond. No.                         328.\n",
       "==============================================================================\n",
       "\n",
       "Warnings:\n",
       "[1] Standard Errors assume that the covariance matrix of the errors is correctly specified.\n",
       "\"\"\""
      ]
     },
     "execution_count": 18,
     "metadata": {},
     "output_type": "execute_result"
    }
   ],
   "source": [
    "# Predictors included are those with p values <= 0.1\n",
    "\n",
    "ols_logneg_predictors = [\n",
    "                         'constant', 'DSI', 'EIC', 'MARS3', 'XTOT', 'F2441', 'log_E00200', \n",
    "                         'log_E00300', 'log_E00400', 'log_E00600', 'log_E01500', 'log_E01700', \n",
    "                         'log_E03270', 'log_E03300', 'log_E17500', 'log_E18400', 'log_E19200', \n",
    "                         'log_E19800_E20100', 'log_E20400'\n",
    "                        ]\n",
    "ols_logneg_fit = sm.OLS(neg_train['log_P22250'], neg_train[ols_logneg_predictors]).fit()\n",
    "summary = ols_logneg_fit.summary()\n",
    "\n",
    "summary"
   ]
  },
  {
   "cell_type": "markdown",
   "metadata": {},
   "source": [
    "RMSE is again much better when regressing on log(predictors)"
   ]
  },
  {
   "cell_type": "code",
   "execution_count": 19,
   "metadata": {},
   "outputs": [
    {
     "data": {
      "text/plain": [
       "602248.0174974591"
      ]
     },
     "execution_count": 19,
     "metadata": {},
     "output_type": "execute_result"
    }
   ],
   "source": [
    "ols_logneg_pred = -np.exp(-ols_logneg_fit.predict(neg_test[ols_logneg_predictors]))\n",
    "(neg_test['P22250'] - ols_logneg_pred).pow(2).mean()**0.5"
   ]
  }
 ],
 "metadata": {
  "kernelspec": {
   "display_name": "Python 3",
   "language": "python",
   "name": "python3"
  },
  "language_info": {
   "codemirror_mode": {
    "name": "ipython",
    "version": 3
   },
   "file_extension": ".py",
   "mimetype": "text/x-python",
   "name": "python",
   "nbconvert_exporter": "python",
   "pygments_lexer": "ipython3",
   "version": "3.6.4"
  }
 },
 "nbformat": 4,
 "nbformat_minor": 2
}
