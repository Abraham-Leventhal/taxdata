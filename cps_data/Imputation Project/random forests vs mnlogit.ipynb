{
 "cells": [
  {
   "cell_type": "markdown",
   "metadata": {},
   "source": [
    "## Setup\n",
    "\n",
    "### Imports"
   ]
  },
  {
   "cell_type": "code",
   "execution_count": 1,
   "metadata": {},
   "outputs": [],
   "source": [
    "import pandas as pd\n",
    "import numpy as np\n",
    "import statsmodels.formula.api as smf\n",
    "from sklearn import ensemble\n",
    "from sklearn import linear_model\n",
    "from sklearn import metrics\n",
    "from sklearn import model_selection\n",
    "from sklearn.model_selection import train_test_split\n",
    "import os"
   ]
  },
  {
   "cell_type": "markdown",
   "metadata": {},
   "source": [
    "## Data\n",
    "\n",
    "Get PUF records."
   ]
  },
  {
   "cell_type": "code",
   "execution_count": 2,
   "metadata": {},
   "outputs": [],
   "source": [
    "# Remove aggregate rows, replace NaN with 0\n",
    "\n",
    "puf = pd.read_csv('puf2011.csv')\n",
    "\n",
    "puf = puf[(puf['RECID'] != 999996) &\n",
    "          (puf['RECID'] != 999997) &\n",
    "          (puf['RECID'] != 999998) &\n",
    "          (puf['RECID'] != 999999)\n",
    "         ]\n",
    "           \n",
    "# E19800 and E20100 combined in CPS\n",
    "\n",
    "puf['E19800_E20100'] = puf['E19800'] + puf['E20100']\n",
    "\n",
    "# MARS -> category\n",
    "\n",
    "puf['MARS'] = puf['MARS'].astype('category')\n",
    "\n",
    "puf['sign'] = np.sign(puf['P22250'])\n",
    "\n",
    "# Variables shared b/t puf, cps (doesn't include E00650, combines E19800 & E20100)\n",
    "\n",
    "predictors =  [\n",
    "              'EIC', 'DSI', 'MARS', 'XTOT', 'E00200', 'E00300', 'E00400', \n",
    "              'E00600', 'E00800', 'E00900', 'E01100', 'E01400', 'E01500', \n",
    "              'E01700', 'E02100', 'E02300', 'E02400', 'E03150', 'E03210', \n",
    "              'E03240', 'E03270', 'E03300', 'E17500', 'E18400', 'E18500', \n",
    "              'E19200', 'E19800_E20100','E20400', 'E32800', 'F2441', 'N24'\n",
    "              ]\n",
    "\n",
    "keep = ['RECID', 'P22250', 'sign', 'AGIR1'] + predictors\n",
    "\n",
    "puf = puf[keep]\n",
    "\n",
    "np.random.seed(1010)\n",
    "\n",
    "train, test = train_test_split(puf.copy(), test_size=0.2)"
   ]
  },
  {
   "cell_type": "code",
   "execution_count": 3,
   "metadata": {},
   "outputs": [],
   "source": [
    "X_train = train[predictors]\n",
    "X_test = test[predictors]\n",
    "\n",
    "Y_train = train['P22250']\n",
    "Y_test = test['P22250']\n",
    "\n",
    "Y_train_sign = train['sign']\n",
    "Y_test_sign = test['sign']"
   ]
  },
  {
   "cell_type": "markdown",
   "metadata": {},
   "source": [
    "## Model\n",
    "\n",
    "Train a random forests model."
   ]
  },
  {
   "cell_type": "code",
   "execution_count": 4,
   "metadata": {},
   "outputs": [
    {
     "name": "stderr",
     "output_type": "stream",
     "text": [
      "[Parallel(n_jobs=-1)]: Done  42 tasks      | elapsed:  1.3min\n",
      "[Parallel(n_jobs=-1)]: Done 100 out of 100 | elapsed:  3.0min finished\n"
     ]
    },
    {
     "data": {
      "text/plain": [
       "RandomForestRegressor(bootstrap=True, criterion='mse', max_depth=None,\n",
       "           max_features='auto', max_leaf_nodes=None,\n",
       "           min_impurity_decrease=0.0, min_impurity_split=None,\n",
       "           min_samples_leaf=1, min_samples_split=2,\n",
       "           min_weight_fraction_leaf=0.0, n_estimators=100, n_jobs=-1,\n",
       "           oob_score=False, random_state=3, verbose=True, warm_start=False)"
      ]
     },
     "execution_count": 4,
     "metadata": {},
     "output_type": "execute_result"
    }
   ],
   "source": [
    "# 100 estimators\n",
    "N_ESTIMATORS = 100\n",
    "rf = ensemble.RandomForestRegressor(n_estimators=N_ESTIMATORS, \n",
    "                                    min_samples_leaf=1, random_state=3, \n",
    "                                    verbose=True, \n",
    "                                    n_jobs=-1)  # Use maximum number of cores.\n",
    "rf.fit(X_train, Y_train)"
   ]
  },
  {
   "cell_type": "markdown",
   "metadata": {},
   "source": [
    "### Model description\n",
    "\n",
    "Show the ten most important features."
   ]
  },
  {
   "cell_type": "code",
   "execution_count": 5,
   "metadata": {},
   "outputs": [
    {
     "data": {
      "text/plain": [
       "E00300           0.153667\n",
       "E00600           0.097812\n",
       "E19200           0.078997\n",
       "E03300           0.076603\n",
       "E03270           0.073783\n",
       "E00200           0.065784\n",
       "E18400           0.065574\n",
       "E00900           0.054671\n",
       "E19800_E20100    0.050012\n",
       "E20400           0.047910\n",
       "dtype: float64"
      ]
     },
     "execution_count": 5,
     "metadata": {},
     "output_type": "execute_result"
    }
   ],
   "source": [
    "feature_importance = pd.Series(rf.feature_importances_, index=X_train.columns)\n",
    "feature_importance.sort_values(ascending=False)[:10]"
   ]
  },
  {
   "cell_type": "markdown",
   "metadata": {},
   "source": [
    "## Predict\n",
    "\n",
    "### Top-line (average)"
   ]
  },
  {
   "cell_type": "code",
   "execution_count": 6,
   "metadata": {},
   "outputs": [
    {
     "name": "stderr",
     "output_type": "stream",
     "text": [
      "[Parallel(n_jobs=4)]: Done  42 tasks      | elapsed:    0.3s\n",
      "[Parallel(n_jobs=4)]: Done 100 out of 100 | elapsed:    0.6s finished\n"
     ]
    }
   ],
   "source": [
    "pred = pd.DataFrame({'actual': Y_test,\n",
    "                     'pred': rf.predict(X_test)})\n",
    "pred['error'] = pred.pred - pred.actual\n",
    "pred['actual_sign'] = np.sign(pred.actual)\n",
    "pred['pred_sign'] = np.sign(pred.pred)\n",
    "pred['correct_sign'] = (pred.actual_sign == pred.pred_sign)\n",
    "pred['count'] = 1"
   ]
  },
  {
   "cell_type": "markdown",
   "metadata": {},
   "source": [
    "MAE, RMSE, and % negative/zero/positive."
   ]
  },
  {
   "cell_type": "code",
   "execution_count": 7,
   "metadata": {},
   "outputs": [
    {
     "data": {
      "text/plain": [
       "42133.70693954704"
      ]
     },
     "execution_count": 7,
     "metadata": {},
     "output_type": "execute_result"
    }
   ],
   "source": [
    "pred.error.abs().mean()"
   ]
  },
  {
   "cell_type": "code",
   "execution_count": 8,
   "metadata": {},
   "outputs": [
    {
     "data": {
      "text/plain": [
       "796340.1642941299"
      ]
     },
     "execution_count": 8,
     "metadata": {},
     "output_type": "execute_result"
    }
   ],
   "source": [
    "pred.error.pow(2).mean() ** 0.5"
   ]
  },
  {
   "cell_type": "code",
   "execution_count": 9,
   "metadata": {},
   "outputs": [
    {
     "data": {
      "text/html": [
       "<div>\n",
       "<style scoped>\n",
       "    .dataframe tbody tr th:only-of-type {\n",
       "        vertical-align: middle;\n",
       "    }\n",
       "\n",
       "    .dataframe tbody tr th {\n",
       "        vertical-align: top;\n",
       "    }\n",
       "\n",
       "    .dataframe thead th {\n",
       "        text-align: right;\n",
       "    }\n",
       "</style>\n",
       "<table border=\"1\" class=\"dataframe\">\n",
       "  <thead>\n",
       "    <tr style=\"text-align: right;\">\n",
       "      <th>pred_sign</th>\n",
       "      <th>-1.0</th>\n",
       "      <th>0.0</th>\n",
       "      <th>1.0</th>\n",
       "      <th>All</th>\n",
       "    </tr>\n",
       "    <tr>\n",
       "      <th>actual_sign</th>\n",
       "      <th></th>\n",
       "      <th></th>\n",
       "      <th></th>\n",
       "      <th></th>\n",
       "    </tr>\n",
       "  </thead>\n",
       "  <tbody>\n",
       "    <tr>\n",
       "      <th>-1.0</th>\n",
       "      <td>2979</td>\n",
       "      <td>63</td>\n",
       "      <td>1699</td>\n",
       "      <td>4741</td>\n",
       "    </tr>\n",
       "    <tr>\n",
       "      <th>0.0</th>\n",
       "      <td>7467</td>\n",
       "      <td>11441</td>\n",
       "      <td>5167</td>\n",
       "      <td>24075</td>\n",
       "    </tr>\n",
       "    <tr>\n",
       "      <th>1.0</th>\n",
       "      <td>2391</td>\n",
       "      <td>42</td>\n",
       "      <td>1509</td>\n",
       "      <td>3942</td>\n",
       "    </tr>\n",
       "    <tr>\n",
       "      <th>All</th>\n",
       "      <td>12837</td>\n",
       "      <td>11546</td>\n",
       "      <td>8375</td>\n",
       "      <td>32758</td>\n",
       "    </tr>\n",
       "  </tbody>\n",
       "</table>\n",
       "</div>"
      ],
      "text/plain": [
       "pred_sign     -1.0    0.0   1.0    All\n",
       "actual_sign                           \n",
       "-1.0          2979     63  1699   4741\n",
       "0.0           7467  11441  5167  24075\n",
       "1.0           2391     42  1509   3942\n",
       "All          12837  11546  8375  32758"
      ]
     },
     "execution_count": 9,
     "metadata": {},
     "output_type": "execute_result"
    }
   ],
   "source": [
    "pred.pivot_table(index='actual_sign', columns='pred_sign', values='count', \n",
    "                 aggfunc=sum, margins=True)"
   ]
  },
  {
   "cell_type": "code",
   "execution_count": 10,
   "metadata": {},
   "outputs": [
    {
     "data": {
      "text/plain": [
       "0.4862628976127969"
      ]
     },
     "execution_count": 10,
     "metadata": {},
     "output_type": "execute_result"
    }
   ],
   "source": [
    "pred.correct_sign.mean()"
   ]
  },
  {
   "cell_type": "markdown",
   "metadata": {},
   "source": [
    "### All trees"
   ]
  },
  {
   "cell_type": "markdown",
   "metadata": {},
   "source": [
    "Creates array for which rows = puf observations, columns = predictions for each observation from each estimators"
   ]
  },
  {
   "cell_type": "code",
   "execution_count": 11,
   "metadata": {},
   "outputs": [],
   "source": [
    "preds = []\n",
    "for estimator in rf.estimators_:\n",
    "    preds.append(estimator.predict(X_test))\n",
    "preds = np.array(preds).transpose()  # One row per record."
   ]
  },
  {
   "cell_type": "markdown",
   "metadata": {},
   "source": [
    "Picks a random column from the array"
   ]
  },
  {
   "cell_type": "code",
   "execution_count": 12,
   "metadata": {},
   "outputs": [],
   "source": [
    "rand_col = np.random.randint(N_ESTIMATORS, size=preds.shape[0])\n",
    "random_tree = preds[np.arange(preds.shape[0]), rand_col]"
   ]
  },
  {
   "cell_type": "code",
   "execution_count": 13,
   "metadata": {},
   "outputs": [],
   "source": [
    "pred_random_tree = pd.DataFrame({'actual': Y_test,\n",
    "                                 'pred': random_tree})\n",
    "pred_random_tree['error'] = pred_random_tree.pred - pred_random_tree.actual\n",
    "pred_random_tree['actual_sign'] = np.sign(pred_random_tree.actual)\n",
    "pred_random_tree['pred_sign'] = np.sign(pred_random_tree.pred)\n",
    "pred_random_tree['correct_sign'] = (\n",
    "    pred_random_tree.actual_sign == pred_random_tree.pred_sign)\n",
    "pred_random_tree['count'] = 1"
   ]
  },
  {
   "cell_type": "markdown",
   "metadata": {},
   "source": [
    "As expected, MAE and RMSE exceed values from the point estimate prediction."
   ]
  },
  {
   "cell_type": "code",
   "execution_count": 14,
   "metadata": {},
   "outputs": [
    {
     "data": {
      "text/plain": [
       "57869.098610995185"
      ]
     },
     "execution_count": 14,
     "metadata": {},
     "output_type": "execute_result"
    }
   ],
   "source": [
    "pred_random_tree.error.abs().mean()"
   ]
  },
  {
   "cell_type": "code",
   "execution_count": 15,
   "metadata": {},
   "outputs": [
    {
     "data": {
      "text/plain": [
       "872851.0337793779"
      ]
     },
     "execution_count": 15,
     "metadata": {},
     "output_type": "execute_result"
    }
   ],
   "source": [
    "pred_random_tree.error.pow(2).mean() ** 0.5"
   ]
  },
  {
   "cell_type": "markdown",
   "metadata": {},
   "source": [
    "But the distribution of sign is closer to correct, since it's not averaging out the zeros."
   ]
  },
  {
   "cell_type": "code",
   "execution_count": 16,
   "metadata": {},
   "outputs": [
    {
     "data": {
      "text/html": [
       "<div>\n",
       "<style scoped>\n",
       "    .dataframe tbody tr th:only-of-type {\n",
       "        vertical-align: middle;\n",
       "    }\n",
       "\n",
       "    .dataframe tbody tr th {\n",
       "        vertical-align: top;\n",
       "    }\n",
       "\n",
       "    .dataframe thead th {\n",
       "        text-align: right;\n",
       "    }\n",
       "</style>\n",
       "<table border=\"1\" class=\"dataframe\">\n",
       "  <thead>\n",
       "    <tr style=\"text-align: right;\">\n",
       "      <th>pred_sign</th>\n",
       "      <th>-1.0</th>\n",
       "      <th>0.0</th>\n",
       "      <th>1.0</th>\n",
       "      <th>All</th>\n",
       "    </tr>\n",
       "    <tr>\n",
       "      <th>actual_sign</th>\n",
       "      <th></th>\n",
       "      <th></th>\n",
       "      <th></th>\n",
       "      <th></th>\n",
       "    </tr>\n",
       "  </thead>\n",
       "  <tbody>\n",
       "    <tr>\n",
       "      <th>-1.0</th>\n",
       "      <td>1861</td>\n",
       "      <td>1357</td>\n",
       "      <td>1523</td>\n",
       "      <td>4741</td>\n",
       "    </tr>\n",
       "    <tr>\n",
       "      <th>0.0</th>\n",
       "      <td>1610</td>\n",
       "      <td>20987</td>\n",
       "      <td>1478</td>\n",
       "      <td>24075</td>\n",
       "    </tr>\n",
       "    <tr>\n",
       "      <th>1.0</th>\n",
       "      <td>1515</td>\n",
       "      <td>1250</td>\n",
       "      <td>1177</td>\n",
       "      <td>3942</td>\n",
       "    </tr>\n",
       "    <tr>\n",
       "      <th>All</th>\n",
       "      <td>4986</td>\n",
       "      <td>23594</td>\n",
       "      <td>4178</td>\n",
       "      <td>32758</td>\n",
       "    </tr>\n",
       "  </tbody>\n",
       "</table>\n",
       "</div>"
      ],
      "text/plain": [
       "pred_sign    -1.0    0.0   1.0    All\n",
       "actual_sign                          \n",
       "-1.0         1861   1357  1523   4741\n",
       "0.0          1610  20987  1478  24075\n",
       "1.0          1515   1250  1177   3942\n",
       "All          4986  23594  4178  32758"
      ]
     },
     "execution_count": 16,
     "metadata": {},
     "output_type": "execute_result"
    }
   ],
   "source": [
    "pred_random_tree.pivot_table(index='actual_sign', columns='pred_sign', \n",
    "                             values='count', aggfunc=sum, margins=True)"
   ]
  },
  {
   "cell_type": "code",
   "execution_count": 17,
   "metadata": {},
   "outputs": [
    {
     "data": {
      "text/plain": [
       "0.733408633005678"
      ]
     },
     "execution_count": 17,
     "metadata": {},
     "output_type": "execute_result"
    }
   ],
   "source": [
    "pred_random_tree.correct_sign.mean()"
   ]
  },
  {
   "cell_type": "markdown",
   "metadata": {},
   "source": [
    "#### Log-loss of sign"
   ]
  },
  {
   "cell_type": "code",
   "execution_count": 18,
   "metadata": {},
   "outputs": [
    {
     "data": {
      "text/plain": [
       "0.7124827594128645"
      ]
     },
     "execution_count": 18,
     "metadata": {},
     "output_type": "execute_result"
    }
   ],
   "source": [
    "preds_neg = np.sum(preds < 0, axis=1) / 100\n",
    "preds_zero = np.sum(preds == 0, axis=1) / 100\n",
    "preds_pos = np.sum(preds > 0, axis=1) / 100\n",
    "\n",
    "rf_pred_proba = list(map(list, zip(*[preds_neg, preds_zero, preds_pos])))\n",
    "\n",
    "metrics.log_loss(Y_test_sign, rf_pred_proba)\n",
    "# The result was 0.59 using np.random.seed(100)"
   ]
  },
  {
   "cell_type": "markdown",
   "metadata": {},
   "source": [
    "## Model"
   ]
  },
  {
   "cell_type": "markdown",
   "metadata": {},
   "source": [
    "mnlogit"
   ]
  },
  {
   "cell_type": "code",
   "execution_count": 21,
   "metadata": {
    "scrolled": true
   },
   "outputs": [
    {
     "name": "stdout",
     "output_type": "stream",
     "text": [
      "Optimization terminated successfully.\n",
      "         Current function value: 0.578467\n",
      "         Iterations 9\n"
     ]
    },
    {
     "data": {
      "text/html": [
       "<table class=\"simpletable\">\n",
       "<caption>MNLogit Regression Results</caption>\n",
       "<tr>\n",
       "  <th>Dep. Variable:</th>       <td>sign</td>       <th>  No. Observations:  </th>  <td>131028</td> \n",
       "</tr>\n",
       "<tr>\n",
       "  <th>Model:</th>              <td>MNLogit</td>     <th>  Df Residuals:      </th>  <td>130962</td> \n",
       "</tr>\n",
       "<tr>\n",
       "  <th>Method:</th>               <td>MLE</td>       <th>  Df Model:          </th>  <td>    64</td> \n",
       "</tr>\n",
       "<tr>\n",
       "  <th>Date:</th>          <td>Wed, 01 Aug 2018</td> <th>  Pseudo R-squ.:     </th>  <td>0.2352</td> \n",
       "</tr>\n",
       "<tr>\n",
       "  <th>Time:</th>              <td>17:23:06</td>     <th>  Log-Likelihood:    </th> <td> -75795.</td>\n",
       "</tr>\n",
       "<tr>\n",
       "  <th>converged:</th>           <td>True</td>       <th>  LL-Null:           </th> <td> -99104.</td>\n",
       "</tr>\n",
       "<tr>\n",
       "  <th> </th>                      <td> </td>        <th>  LLR p-value:       </th>  <td> 0.000</td> \n",
       "</tr>\n",
       "</table>\n",
       "<table class=\"simpletable\">\n",
       "<tr>\n",
       "     <th>sign=0</th>        <th>coef</th>     <th>std err</th>      <th>z</th>      <th>P>|z|</th>  <th>[0.025</th>    <th>0.975]</th>  \n",
       "</tr>\n",
       "<tr>\n",
       "  <th>Intercept</th>     <td>    3.0183</td> <td>    0.028</td> <td>  108.201</td> <td> 0.000</td> <td>    2.964</td> <td>    3.073</td>\n",
       "</tr>\n",
       "<tr>\n",
       "  <th>MARS[T.2]</th>     <td>   -0.6085</td> <td>    0.034</td> <td>  -17.763</td> <td> 0.000</td> <td>   -0.676</td> <td>   -0.541</td>\n",
       "</tr>\n",
       "<tr>\n",
       "  <th>MARS[T.3]</th>     <td>   -0.3511</td> <td>    0.069</td> <td>   -5.110</td> <td> 0.000</td> <td>   -0.486</td> <td>   -0.216</td>\n",
       "</tr>\n",
       "<tr>\n",
       "  <th>MARS[T.4]</th>     <td>    0.4550</td> <td>    0.061</td> <td>    7.474</td> <td> 0.000</td> <td>    0.336</td> <td>    0.574</td>\n",
       "</tr>\n",
       "<tr>\n",
       "  <th>EIC</th>           <td>    1.2993</td> <td>    0.073</td> <td>   17.741</td> <td> 0.000</td> <td>    1.156</td> <td>    1.443</td>\n",
       "</tr>\n",
       "<tr>\n",
       "  <th>DSI</th>           <td>    0.9788</td> <td>    0.110</td> <td>    8.917</td> <td> 0.000</td> <td>    0.764</td> <td>    1.194</td>\n",
       "</tr>\n",
       "<tr>\n",
       "  <th>XTOT</th>          <td>   -0.1144</td> <td>    0.017</td> <td>   -6.782</td> <td> 0.000</td> <td>   -0.147</td> <td>   -0.081</td>\n",
       "</tr>\n",
       "<tr>\n",
       "  <th>E00200</th>        <td>-7.765e-07</td> <td> 2.25e-08</td> <td>  -34.577</td> <td> 0.000</td> <td>-8.21e-07</td> <td>-7.33e-07</td>\n",
       "</tr>\n",
       "<tr>\n",
       "  <th>E00300</th>        <td>-2.655e-06</td> <td> 1.74e-07</td> <td>  -15.267</td> <td> 0.000</td> <td>   -3e-06</td> <td>-2.31e-06</td>\n",
       "</tr>\n",
       "<tr>\n",
       "  <th>E00400</th>        <td>-3.212e-06</td> <td> 2.22e-07</td> <td>  -14.470</td> <td> 0.000</td> <td>-3.65e-06</td> <td>-2.78e-06</td>\n",
       "</tr>\n",
       "<tr>\n",
       "  <th>E00600</th>        <td>-1.316e-06</td> <td> 1.04e-07</td> <td>  -12.638</td> <td> 0.000</td> <td>-1.52e-06</td> <td>-1.11e-06</td>\n",
       "</tr>\n",
       "<tr>\n",
       "  <th>E00800</th>        <td>-1.891e-05</td> <td> 5.35e-06</td> <td>   -3.532</td> <td> 0.000</td> <td>-2.94e-05</td> <td>-8.42e-06</td>\n",
       "</tr>\n",
       "<tr>\n",
       "  <th>E00900</th>        <td>-1.282e-09</td> <td> 3.78e-08</td> <td>   -0.034</td> <td> 0.973</td> <td>-7.54e-08</td> <td> 7.28e-08</td>\n",
       "</tr>\n",
       "<tr>\n",
       "  <th>E01400</th>        <td>-1.575e-06</td> <td> 1.45e-07</td> <td>  -10.896</td> <td> 0.000</td> <td>-1.86e-06</td> <td>-1.29e-06</td>\n",
       "</tr>\n",
       "<tr>\n",
       "  <th>E01500</th>        <td>-3.761e-07</td> <td> 2.97e-08</td> <td>  -12.644</td> <td> 0.000</td> <td>-4.34e-07</td> <td>-3.18e-07</td>\n",
       "</tr>\n",
       "<tr>\n",
       "  <th>E01700</th>        <td> -4.23e-07</td> <td> 2.14e-07</td> <td>   -1.977</td> <td> 0.048</td> <td>-8.42e-07</td> <td> -3.7e-09</td>\n",
       "</tr>\n",
       "<tr>\n",
       "  <th>E02100</th>        <td> 3.694e-07</td> <td> 1.44e-07</td> <td>    2.573</td> <td> 0.010</td> <td>  8.8e-08</td> <td> 6.51e-07</td>\n",
       "</tr>\n",
       "<tr>\n",
       "  <th>E02300</th>        <td> 2.983e-05</td> <td> 4.47e-06</td> <td>    6.678</td> <td> 0.000</td> <td> 2.11e-05</td> <td> 3.86e-05</td>\n",
       "</tr>\n",
       "<tr>\n",
       "  <th>E02400</th>        <td>-1.541e-05</td> <td> 8.63e-07</td> <td>  -17.844</td> <td> 0.000</td> <td>-1.71e-05</td> <td>-1.37e-05</td>\n",
       "</tr>\n",
       "<tr>\n",
       "  <th>E03150</th>        <td>-4.883e-05</td> <td> 6.21e-06</td> <td>   -7.863</td> <td> 0.000</td> <td> -6.1e-05</td> <td>-3.67e-05</td>\n",
       "</tr>\n",
       "<tr>\n",
       "  <th>E03210</th>        <td>    0.0007</td> <td> 6.78e-05</td> <td>   10.766</td> <td> 0.000</td> <td>    0.001</td> <td>    0.001</td>\n",
       "</tr>\n",
       "<tr>\n",
       "  <th>E03240</th>        <td> 4.695e-07</td> <td> 2.99e-07</td> <td>    1.569</td> <td> 0.117</td> <td>-1.17e-07</td> <td> 1.06e-06</td>\n",
       "</tr>\n",
       "<tr>\n",
       "  <th>E03270</th>        <td>-2.243e-05</td> <td> 1.92e-06</td> <td>  -11.656</td> <td> 0.000</td> <td>-2.62e-05</td> <td>-1.87e-05</td>\n",
       "</tr>\n",
       "<tr>\n",
       "  <th>E03300</th>        <td>-1.196e-05</td> <td> 6.91e-07</td> <td>  -17.303</td> <td> 0.000</td> <td>-1.33e-05</td> <td>-1.06e-05</td>\n",
       "</tr>\n",
       "<tr>\n",
       "  <th>E17500</th>        <td>-6.538e-06</td> <td> 1.03e-06</td> <td>   -6.369</td> <td> 0.000</td> <td>-8.55e-06</td> <td>-4.53e-06</td>\n",
       "</tr>\n",
       "<tr>\n",
       "  <th>E18400</th>        <td> -1.25e-06</td> <td> 1.37e-07</td> <td>   -9.156</td> <td> 0.000</td> <td>-1.52e-06</td> <td>-9.82e-07</td>\n",
       "</tr>\n",
       "<tr>\n",
       "  <th>E18500</th>        <td>-3.321e-05</td> <td>    1e-06</td> <td>  -33.048</td> <td> 0.000</td> <td>-3.52e-05</td> <td>-3.12e-05</td>\n",
       "</tr>\n",
       "<tr>\n",
       "  <th>E19200</th>        <td> -7.01e-07</td> <td> 3.76e-07</td> <td>   -1.862</td> <td> 0.063</td> <td>-1.44e-06</td> <td> 3.69e-08</td>\n",
       "</tr>\n",
       "<tr>\n",
       "  <th>E19800_E20100</th> <td>-3.258e-07</td> <td> 1.17e-07</td> <td>   -2.776</td> <td> 0.005</td> <td>-5.56e-07</td> <td>-9.58e-08</td>\n",
       "</tr>\n",
       "<tr>\n",
       "  <th>E20400</th>        <td>-4.446e-05</td> <td> 1.13e-06</td> <td>  -39.397</td> <td> 0.000</td> <td>-4.67e-05</td> <td>-4.22e-05</td>\n",
       "</tr>\n",
       "<tr>\n",
       "  <th>E32800</th>        <td>    0.0001</td> <td> 2.35e-05</td> <td>    4.781</td> <td> 0.000</td> <td> 6.63e-05</td> <td>    0.000</td>\n",
       "</tr>\n",
       "<tr>\n",
       "  <th>F2441</th>         <td>   -0.1526</td> <td>    0.050</td> <td>   -3.059</td> <td> 0.002</td> <td>   -0.250</td> <td>   -0.055</td>\n",
       "</tr>\n",
       "<tr>\n",
       "  <th>N24</th>           <td>    0.1175</td> <td>    0.019</td> <td>    6.285</td> <td> 0.000</td> <td>    0.081</td> <td>    0.154</td>\n",
       "</tr>\n",
       "<tr>\n",
       "     <th>sign=1</th>        <th>coef</th>     <th>std err</th>      <th>z</th>      <th>P>|z|</th>  <th>[0.025</th>    <th>0.975]</th>  \n",
       "</tr>\n",
       "<tr>\n",
       "  <th>Intercept</th>     <td>   -0.1370</td> <td>    0.034</td> <td>   -4.006</td> <td> 0.000</td> <td>   -0.204</td> <td>   -0.070</td>\n",
       "</tr>\n",
       "<tr>\n",
       "  <th>MARS[T.2]</th>     <td>    0.0187</td> <td>    0.041</td> <td>    0.457</td> <td> 0.648</td> <td>   -0.061</td> <td>    0.099</td>\n",
       "</tr>\n",
       "<tr>\n",
       "  <th>MARS[T.3]</th>     <td>   -0.1126</td> <td>    0.081</td> <td>   -1.383</td> <td> 0.167</td> <td>   -0.272</td> <td>    0.047</td>\n",
       "</tr>\n",
       "<tr>\n",
       "  <th>MARS[T.4]</th>     <td>   -0.0202</td> <td>    0.081</td> <td>   -0.250</td> <td> 0.802</td> <td>   -0.178</td> <td>    0.138</td>\n",
       "</tr>\n",
       "<tr>\n",
       "  <th>EIC</th>           <td>   -0.1400</td> <td>    0.112</td> <td>   -1.246</td> <td> 0.213</td> <td>   -0.360</td> <td>    0.080</td>\n",
       "</tr>\n",
       "<tr>\n",
       "  <th>DSI</th>           <td>    0.3083</td> <td>    0.146</td> <td>    2.117</td> <td> 0.034</td> <td>    0.023</td> <td>    0.594</td>\n",
       "</tr>\n",
       "<tr>\n",
       "  <th>XTOT</th>          <td>   -0.0135</td> <td>    0.018</td> <td>   -0.731</td> <td> 0.465</td> <td>   -0.050</td> <td>    0.023</td>\n",
       "</tr>\n",
       "<tr>\n",
       "  <th>E00200</th>        <td>-8.076e-09</td> <td> 7.48e-09</td> <td>   -1.079</td> <td> 0.280</td> <td>-2.27e-08</td> <td> 6.59e-09</td>\n",
       "</tr>\n",
       "<tr>\n",
       "  <th>E00300</th>        <td> 1.515e-07</td> <td> 3.73e-08</td> <td>    4.058</td> <td> 0.000</td> <td> 7.83e-08</td> <td> 2.25e-07</td>\n",
       "</tr>\n",
       "<tr>\n",
       "  <th>E00400</th>        <td>-1.191e-07</td> <td> 4.98e-08</td> <td>   -2.390</td> <td> 0.017</td> <td>-2.17e-07</td> <td>-2.14e-08</td>\n",
       "</tr>\n",
       "<tr>\n",
       "  <th>E00600</th>        <td>-2.543e-09</td> <td> 1.74e-08</td> <td>   -0.146</td> <td> 0.884</td> <td>-3.66e-08</td> <td> 3.16e-08</td>\n",
       "</tr>\n",
       "<tr>\n",
       "  <th>E00800</th>        <td>-1.775e-05</td> <td> 1.15e-05</td> <td>   -1.538</td> <td> 0.124</td> <td>-4.04e-05</td> <td> 4.87e-06</td>\n",
       "</tr>\n",
       "<tr>\n",
       "  <th>E00900</th>        <td>-4.404e-08</td> <td> 3.49e-08</td> <td>   -1.263</td> <td> 0.207</td> <td>-1.12e-07</td> <td> 2.43e-08</td>\n",
       "</tr>\n",
       "<tr>\n",
       "  <th>E01400</th>        <td>-1.257e-08</td> <td> 6.18e-08</td> <td>   -0.204</td> <td> 0.839</td> <td>-1.34e-07</td> <td> 1.08e-07</td>\n",
       "</tr>\n",
       "<tr>\n",
       "  <th>E01500</th>        <td>-6.525e-09</td> <td> 2.01e-08</td> <td>   -0.325</td> <td> 0.745</td> <td>-4.59e-08</td> <td> 3.28e-08</td>\n",
       "</tr>\n",
       "<tr>\n",
       "  <th>E01700</th>        <td>-8.493e-08</td> <td> 1.59e-07</td> <td>   -0.535</td> <td> 0.593</td> <td>-3.96e-07</td> <td> 2.26e-07</td>\n",
       "</tr>\n",
       "<tr>\n",
       "  <th>E02100</th>        <td>-1.417e-08</td> <td>  1.1e-07</td> <td>   -0.128</td> <td> 0.898</td> <td>-2.31e-07</td> <td> 2.02e-07</td>\n",
       "</tr>\n",
       "<tr>\n",
       "  <th>E02300</th>        <td>-5.615e-06</td> <td> 6.12e-06</td> <td>   -0.918</td> <td> 0.359</td> <td>-1.76e-05</td> <td> 6.37e-06</td>\n",
       "</tr>\n",
       "<tr>\n",
       "  <th>E02400</th>        <td>-4.386e-06</td> <td> 9.18e-07</td> <td>   -4.780</td> <td> 0.000</td> <td>-6.18e-06</td> <td>-2.59e-06</td>\n",
       "</tr>\n",
       "<tr>\n",
       "  <th>E03150</th>        <td>  2.22e-06</td> <td> 6.85e-06</td> <td>    0.324</td> <td> 0.746</td> <td>-1.12e-05</td> <td> 1.56e-05</td>\n",
       "</tr>\n",
       "<tr>\n",
       "  <th>E03210</th>        <td>-4.407e-05</td> <td> 9.87e-05</td> <td>   -0.446</td> <td> 0.655</td> <td>   -0.000</td> <td>    0.000</td>\n",
       "</tr>\n",
       "<tr>\n",
       "  <th>E03240</th>        <td>-2.463e-07</td> <td> 1.76e-07</td> <td>   -1.400</td> <td> 0.162</td> <td>-5.91e-07</td> <td> 9.85e-08</td>\n",
       "</tr>\n",
       "<tr>\n",
       "  <th>E03270</th>        <td> 4.693e-06</td> <td> 1.79e-06</td> <td>    2.619</td> <td> 0.009</td> <td> 1.18e-06</td> <td> 8.21e-06</td>\n",
       "</tr>\n",
       "<tr>\n",
       "  <th>E03300</th>        <td>-3.753e-07</td> <td> 4.65e-07</td> <td>   -0.807</td> <td> 0.420</td> <td>-1.29e-06</td> <td> 5.36e-07</td>\n",
       "</tr>\n",
       "<tr>\n",
       "  <th>E17500</th>        <td>-4.688e-07</td> <td> 7.02e-07</td> <td>   -0.667</td> <td> 0.504</td> <td>-1.85e-06</td> <td> 9.08e-07</td>\n",
       "</tr>\n",
       "<tr>\n",
       "  <th>E18400</th>        <td>-2.817e-08</td> <td> 3.55e-08</td> <td>   -0.793</td> <td> 0.428</td> <td>-9.78e-08</td> <td> 4.15e-08</td>\n",
       "</tr>\n",
       "<tr>\n",
       "  <th>E18500</th>        <td>-6.967e-07</td> <td> 4.48e-07</td> <td>   -1.554</td> <td> 0.120</td> <td>-1.58e-06</td> <td> 1.82e-07</td>\n",
       "</tr>\n",
       "<tr>\n",
       "  <th>E19200</th>        <td> 4.978e-07</td> <td> 1.45e-07</td> <td>    3.423</td> <td> 0.001</td> <td> 2.13e-07</td> <td> 7.83e-07</td>\n",
       "</tr>\n",
       "<tr>\n",
       "  <th>E19800_E20100</th> <td>-4.197e-09</td> <td> 2.36e-08</td> <td>   -0.178</td> <td> 0.859</td> <td>-5.04e-08</td> <td>  4.2e-08</td>\n",
       "</tr>\n",
       "<tr>\n",
       "  <th>E20400</th>        <td>-1.272e-07</td> <td> 9.28e-08</td> <td>   -1.371</td> <td> 0.170</td> <td>-3.09e-07</td> <td> 5.46e-08</td>\n",
       "</tr>\n",
       "<tr>\n",
       "  <th>E32800</th>        <td> 2.991e-06</td> <td> 2.82e-05</td> <td>    0.106</td> <td> 0.916</td> <td>-5.24e-05</td> <td> 5.83e-05</td>\n",
       "</tr>\n",
       "<tr>\n",
       "  <th>F2441</th>         <td>   -0.0350</td> <td>    0.059</td> <td>   -0.590</td> <td> 0.555</td> <td>   -0.151</td> <td>    0.081</td>\n",
       "</tr>\n",
       "<tr>\n",
       "  <th>N24</th>           <td>    0.0557</td> <td>    0.020</td> <td>    2.739</td> <td> 0.006</td> <td>    0.016</td> <td>    0.096</td>\n",
       "</tr>\n",
       "</table>"
      ],
      "text/plain": [
       "<class 'statsmodels.iolib.summary.Summary'>\n",
       "\"\"\"\n",
       "                          MNLogit Regression Results                          \n",
       "==============================================================================\n",
       "Dep. Variable:                   sign   No. Observations:               131028\n",
       "Model:                        MNLogit   Df Residuals:                   130962\n",
       "Method:                           MLE   Df Model:                           64\n",
       "Date:                Wed, 01 Aug 2018   Pseudo R-squ.:                  0.2352\n",
       "Time:                        17:23:06   Log-Likelihood:                -75795.\n",
       "converged:                       True   LL-Null:                       -99104.\n",
       "                                        LLR p-value:                     0.000\n",
       "=================================================================================\n",
       "       sign=0       coef    std err          z      P>|z|      [0.025      0.975]\n",
       "---------------------------------------------------------------------------------\n",
       "Intercept         3.0183      0.028    108.201      0.000       2.964       3.073\n",
       "MARS[T.2]        -0.6085      0.034    -17.763      0.000      -0.676      -0.541\n",
       "MARS[T.3]        -0.3511      0.069     -5.110      0.000      -0.486      -0.216\n",
       "MARS[T.4]         0.4550      0.061      7.474      0.000       0.336       0.574\n",
       "EIC               1.2993      0.073     17.741      0.000       1.156       1.443\n",
       "DSI               0.9788      0.110      8.917      0.000       0.764       1.194\n",
       "XTOT             -0.1144      0.017     -6.782      0.000      -0.147      -0.081\n",
       "E00200        -7.765e-07   2.25e-08    -34.577      0.000   -8.21e-07   -7.33e-07\n",
       "E00300        -2.655e-06   1.74e-07    -15.267      0.000      -3e-06   -2.31e-06\n",
       "E00400        -3.212e-06   2.22e-07    -14.470      0.000   -3.65e-06   -2.78e-06\n",
       "E00600        -1.316e-06   1.04e-07    -12.638      0.000   -1.52e-06   -1.11e-06\n",
       "E00800        -1.891e-05   5.35e-06     -3.532      0.000   -2.94e-05   -8.42e-06\n",
       "E00900        -1.282e-09   3.78e-08     -0.034      0.973   -7.54e-08    7.28e-08\n",
       "E01400        -1.575e-06   1.45e-07    -10.896      0.000   -1.86e-06   -1.29e-06\n",
       "E01500        -3.761e-07   2.97e-08    -12.644      0.000   -4.34e-07   -3.18e-07\n",
       "E01700         -4.23e-07   2.14e-07     -1.977      0.048   -8.42e-07    -3.7e-09\n",
       "E02100         3.694e-07   1.44e-07      2.573      0.010     8.8e-08    6.51e-07\n",
       "E02300         2.983e-05   4.47e-06      6.678      0.000    2.11e-05    3.86e-05\n",
       "E02400        -1.541e-05   8.63e-07    -17.844      0.000   -1.71e-05   -1.37e-05\n",
       "E03150        -4.883e-05   6.21e-06     -7.863      0.000    -6.1e-05   -3.67e-05\n",
       "E03210            0.0007   6.78e-05     10.766      0.000       0.001       0.001\n",
       "E03240         4.695e-07   2.99e-07      1.569      0.117   -1.17e-07    1.06e-06\n",
       "E03270        -2.243e-05   1.92e-06    -11.656      0.000   -2.62e-05   -1.87e-05\n",
       "E03300        -1.196e-05   6.91e-07    -17.303      0.000   -1.33e-05   -1.06e-05\n",
       "E17500        -6.538e-06   1.03e-06     -6.369      0.000   -8.55e-06   -4.53e-06\n",
       "E18400         -1.25e-06   1.37e-07     -9.156      0.000   -1.52e-06   -9.82e-07\n",
       "E18500        -3.321e-05      1e-06    -33.048      0.000   -3.52e-05   -3.12e-05\n",
       "E19200         -7.01e-07   3.76e-07     -1.862      0.063   -1.44e-06    3.69e-08\n",
       "E19800_E20100 -3.258e-07   1.17e-07     -2.776      0.005   -5.56e-07   -9.58e-08\n",
       "E20400        -4.446e-05   1.13e-06    -39.397      0.000   -4.67e-05   -4.22e-05\n",
       "E32800            0.0001   2.35e-05      4.781      0.000    6.63e-05       0.000\n",
       "F2441            -0.1526      0.050     -3.059      0.002      -0.250      -0.055\n",
       "N24               0.1175      0.019      6.285      0.000       0.081       0.154\n",
       "---------------------------------------------------------------------------------\n",
       "       sign=1       coef    std err          z      P>|z|      [0.025      0.975]\n",
       "---------------------------------------------------------------------------------\n",
       "Intercept        -0.1370      0.034     -4.006      0.000      -0.204      -0.070\n",
       "MARS[T.2]         0.0187      0.041      0.457      0.648      -0.061       0.099\n",
       "MARS[T.3]        -0.1126      0.081     -1.383      0.167      -0.272       0.047\n",
       "MARS[T.4]        -0.0202      0.081     -0.250      0.802      -0.178       0.138\n",
       "EIC              -0.1400      0.112     -1.246      0.213      -0.360       0.080\n",
       "DSI               0.3083      0.146      2.117      0.034       0.023       0.594\n",
       "XTOT             -0.0135      0.018     -0.731      0.465      -0.050       0.023\n",
       "E00200        -8.076e-09   7.48e-09     -1.079      0.280   -2.27e-08    6.59e-09\n",
       "E00300         1.515e-07   3.73e-08      4.058      0.000    7.83e-08    2.25e-07\n",
       "E00400        -1.191e-07   4.98e-08     -2.390      0.017   -2.17e-07   -2.14e-08\n",
       "E00600        -2.543e-09   1.74e-08     -0.146      0.884   -3.66e-08    3.16e-08\n",
       "E00800        -1.775e-05   1.15e-05     -1.538      0.124   -4.04e-05    4.87e-06\n",
       "E00900        -4.404e-08   3.49e-08     -1.263      0.207   -1.12e-07    2.43e-08\n",
       "E01400        -1.257e-08   6.18e-08     -0.204      0.839   -1.34e-07    1.08e-07\n",
       "E01500        -6.525e-09   2.01e-08     -0.325      0.745   -4.59e-08    3.28e-08\n",
       "E01700        -8.493e-08   1.59e-07     -0.535      0.593   -3.96e-07    2.26e-07\n",
       "E02100        -1.417e-08    1.1e-07     -0.128      0.898   -2.31e-07    2.02e-07\n",
       "E02300        -5.615e-06   6.12e-06     -0.918      0.359   -1.76e-05    6.37e-06\n",
       "E02400        -4.386e-06   9.18e-07     -4.780      0.000   -6.18e-06   -2.59e-06\n",
       "E03150          2.22e-06   6.85e-06      0.324      0.746   -1.12e-05    1.56e-05\n",
       "E03210        -4.407e-05   9.87e-05     -0.446      0.655      -0.000       0.000\n",
       "E03240        -2.463e-07   1.76e-07     -1.400      0.162   -5.91e-07    9.85e-08\n",
       "E03270         4.693e-06   1.79e-06      2.619      0.009    1.18e-06    8.21e-06\n",
       "E03300        -3.753e-07   4.65e-07     -0.807      0.420   -1.29e-06    5.36e-07\n",
       "E17500        -4.688e-07   7.02e-07     -0.667      0.504   -1.85e-06    9.08e-07\n",
       "E18400        -2.817e-08   3.55e-08     -0.793      0.428   -9.78e-08    4.15e-08\n",
       "E18500        -6.967e-07   4.48e-07     -1.554      0.120   -1.58e-06    1.82e-07\n",
       "E19200         4.978e-07   1.45e-07      3.423      0.001    2.13e-07    7.83e-07\n",
       "E19800_E20100 -4.197e-09   2.36e-08     -0.178      0.859   -5.04e-08     4.2e-08\n",
       "E20400        -1.272e-07   9.28e-08     -1.371      0.170   -3.09e-07    5.46e-08\n",
       "E32800         2.991e-06   2.82e-05      0.106      0.916   -5.24e-05    5.83e-05\n",
       "F2441            -0.0350      0.059     -0.590      0.555      -0.151       0.081\n",
       "N24               0.0557      0.020      2.739      0.006       0.016       0.096\n",
       "=================================================================================\n",
       "\"\"\""
      ]
     },
     "execution_count": 21,
     "metadata": {},
     "output_type": "execute_result"
    }
   ],
   "source": [
    "# R-style formula used, otherwise MARS couldn't be encoded as category\n",
    "# E01100 removed as it causes mnlogit coefficients to be nan\n",
    "\n",
    "predictors.remove('E01100')\n",
    "formula = 'sign ~ ' + ' + '.join(predictors)\n",
    "\n",
    "fit = smf.mnlogit(formula = formula, data = train).fit()\n",
    "summary = fit.summary()\n",
    "summary"
   ]
  },
  {
   "cell_type": "markdown",
   "metadata": {},
   "source": [
    "Mnlogit.predict() strips categorical outcomes of their labels. Common sense dictates that column 1 = P(0/zero), and we know from documentation that column 0 = P(ommitted category), which is P(-1/negative) based on the summary. Finally by process of elimination, column 2 = P(1/positive)\n",
    "\n",
    "I have opened an issue in statsmodels github here: https://github.com/statsmodels/statsmodels/issues/4804"
   ]
  },
  {
   "cell_type": "code",
   "execution_count": 22,
   "metadata": {},
   "outputs": [
    {
     "data": {
      "text/html": [
       "<div>\n",
       "<style scoped>\n",
       "    .dataframe tbody tr th:only-of-type {\n",
       "        vertical-align: middle;\n",
       "    }\n",
       "\n",
       "    .dataframe tbody tr th {\n",
       "        vertical-align: top;\n",
       "    }\n",
       "\n",
       "    .dataframe thead th {\n",
       "        text-align: right;\n",
       "    }\n",
       "</style>\n",
       "<table border=\"1\" class=\"dataframe\">\n",
       "  <thead>\n",
       "    <tr style=\"text-align: right;\">\n",
       "      <th></th>\n",
       "      <th>0</th>\n",
       "      <th>1</th>\n",
       "      <th>2</th>\n",
       "    </tr>\n",
       "  </thead>\n",
       "  <tbody>\n",
       "    <tr>\n",
       "      <th>160193</th>\n",
       "      <td>0.127306</td>\n",
       "      <td>0.761826</td>\n",
       "      <td>0.110868</td>\n",
       "    </tr>\n",
       "    <tr>\n",
       "      <th>68268</th>\n",
       "      <td>0.429558</td>\n",
       "      <td>0.262402</td>\n",
       "      <td>0.308040</td>\n",
       "    </tr>\n",
       "    <tr>\n",
       "      <th>59364</th>\n",
       "      <td>0.093445</td>\n",
       "      <td>0.826134</td>\n",
       "      <td>0.080421</td>\n",
       "    </tr>\n",
       "    <tr>\n",
       "      <th>161835</th>\n",
       "      <td>0.096010</td>\n",
       "      <td>0.820993</td>\n",
       "      <td>0.082996</td>\n",
       "    </tr>\n",
       "    <tr>\n",
       "      <th>101299</th>\n",
       "      <td>0.046216</td>\n",
       "      <td>0.910594</td>\n",
       "      <td>0.043190</td>\n",
       "    </tr>\n",
       "  </tbody>\n",
       "</table>\n",
       "</div>"
      ],
      "text/plain": [
       "               0         1         2\n",
       "160193  0.127306  0.761826  0.110868\n",
       "68268   0.429558  0.262402  0.308040\n",
       "59364   0.093445  0.826134  0.080421\n",
       "161835  0.096010  0.820993  0.082996\n",
       "101299  0.046216  0.910594  0.043190"
      ]
     },
     "execution_count": 22,
     "metadata": {},
     "output_type": "execute_result"
    }
   ],
   "source": [
    "pred1 = fit.predict(X_test)\n",
    "pred1.head()"
   ]
  },
  {
   "cell_type": "markdown",
   "metadata": {},
   "source": [
    "Renaming columns to reflect sign categories."
   ]
  },
  {
   "cell_type": "code",
   "execution_count": 23,
   "metadata": {},
   "outputs": [
    {
     "data": {
      "text/html": [
       "<div>\n",
       "<style scoped>\n",
       "    .dataframe tbody tr th:only-of-type {\n",
       "        vertical-align: middle;\n",
       "    }\n",
       "\n",
       "    .dataframe tbody tr th {\n",
       "        vertical-align: top;\n",
       "    }\n",
       "\n",
       "    .dataframe thead th {\n",
       "        text-align: right;\n",
       "    }\n",
       "</style>\n",
       "<table border=\"1\" class=\"dataframe\">\n",
       "  <thead>\n",
       "    <tr style=\"text-align: right;\">\n",
       "      <th></th>\n",
       "      <th>-1</th>\n",
       "      <th>0</th>\n",
       "      <th>1</th>\n",
       "    </tr>\n",
       "  </thead>\n",
       "  <tbody>\n",
       "    <tr>\n",
       "      <th>160193</th>\n",
       "      <td>0.127306</td>\n",
       "      <td>0.761826</td>\n",
       "      <td>0.110868</td>\n",
       "    </tr>\n",
       "    <tr>\n",
       "      <th>68268</th>\n",
       "      <td>0.429558</td>\n",
       "      <td>0.262402</td>\n",
       "      <td>0.308040</td>\n",
       "    </tr>\n",
       "    <tr>\n",
       "      <th>59364</th>\n",
       "      <td>0.093445</td>\n",
       "      <td>0.826134</td>\n",
       "      <td>0.080421</td>\n",
       "    </tr>\n",
       "    <tr>\n",
       "      <th>161835</th>\n",
       "      <td>0.096010</td>\n",
       "      <td>0.820993</td>\n",
       "      <td>0.082996</td>\n",
       "    </tr>\n",
       "    <tr>\n",
       "      <th>101299</th>\n",
       "      <td>0.046216</td>\n",
       "      <td>0.910594</td>\n",
       "      <td>0.043190</td>\n",
       "    </tr>\n",
       "  </tbody>\n",
       "</table>\n",
       "</div>"
      ],
      "text/plain": [
       "              -1         0         1\n",
       "160193  0.127306  0.761826  0.110868\n",
       "68268   0.429558  0.262402  0.308040\n",
       "59364   0.093445  0.826134  0.080421\n",
       "161835  0.096010  0.820993  0.082996\n",
       "101299  0.046216  0.910594  0.043190"
      ]
     },
     "execution_count": 23,
     "metadata": {},
     "output_type": "execute_result"
    }
   ],
   "source": [
    "pred1.rename(columns = {0: -1, 1: 0, 2: 1}, inplace = True)\n",
    "pred1.head()"
   ]
  },
  {
   "cell_type": "markdown",
   "metadata": {},
   "source": [
    "### Stochastic prediction function"
   ]
  },
  {
   "cell_type": "code",
   "execution_count": 24,
   "metadata": {},
   "outputs": [],
   "source": [
    "# Arguments = 'runif': a random uniform in [0,1], and 'row': a vector of predicted probabilities for each sign.\n",
    "# Output = predicted sign if associated CDF value > runif.\n",
    "# probs[0] = P(neg), probs[1] = P(zero), probs[2] = P(pos)\n",
    "\n",
    "def stoch_imp(runif, row):\n",
    "    \n",
    "    if runif < row[-1]:\n",
    "        return (-1.)\n",
    "    \n",
    "    elif runif < row[-1] + row[0]:\n",
    "        return (0.)\n",
    "    \n",
    "    else:\n",
    "        return (1.)\n",
    "\n",
    "# Vector of runifs the length of test\n",
    "\n",
    "np.random.seed(1995)\n",
    "runifs = np.random.uniform(size = len(test))"
   ]
  },
  {
   "cell_type": "markdown",
   "metadata": {},
   "source": [
    "Loop through pred1, outputting stoch_imp(runif, row)"
   ]
  },
  {
   "cell_type": "code",
   "execution_count": 25,
   "metadata": {
    "scrolled": false
   },
   "outputs": [],
   "source": [
    "mnl_pred_proba = []\n",
    "\n",
    "count = 0\n",
    "\n",
    "for i in runifs:\n",
    "    probs = pred1.iloc[count]\n",
    "    mnl_pred_proba.append(stoch_imp(i, probs))\n",
    "    count += 1"
   ]
  },
  {
   "cell_type": "markdown",
   "metadata": {},
   "source": [
    "% accuracy"
   ]
  },
  {
   "cell_type": "code",
   "execution_count": 26,
   "metadata": {},
   "outputs": [
    {
     "data": {
      "text/plain": [
       "0.6790097075523536"
      ]
     },
     "execution_count": 26,
     "metadata": {},
     "output_type": "execute_result"
    }
   ],
   "source": [
    "(mnl_pred_proba == Y_test_sign).mean()"
   ]
  },
  {
   "cell_type": "markdown",
   "metadata": {},
   "source": [
    "#### Log-loss of sign"
   ]
  },
  {
   "cell_type": "code",
   "execution_count": 27,
   "metadata": {},
   "outputs": [
    {
     "data": {
      "text/plain": [
       "0.5787191530726037"
      ]
     },
     "execution_count": 27,
     "metadata": {},
     "output_type": "execute_result"
    }
   ],
   "source": [
    "metrics.log_loss(Y_test_sign, pred1)"
   ]
  }
 ],
 "metadata": {
  "kernelspec": {
   "display_name": "Python 3",
   "language": "python",
   "name": "python3"
  },
  "language_info": {
   "codemirror_mode": {
    "name": "ipython",
    "version": 3
   },
   "file_extension": ".py",
   "mimetype": "text/x-python",
   "name": "python",
   "nbconvert_exporter": "python",
   "pygments_lexer": "ipython3",
   "version": "3.6.4"
  },
  "toc": {
   "base_numbering": 1,
   "nav_menu": {},
   "number_sections": true,
   "sideBar": true,
   "skip_h1_title": false,
   "title_cell": "Table of Contents",
   "title_sidebar": "Contents",
   "toc_cell": false,
   "toc_position": {},
   "toc_section_display": true,
   "toc_window_display": false
  }
 },
 "nbformat": 4,
 "nbformat_minor": 2
}
