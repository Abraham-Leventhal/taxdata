{
 "cells": [
  {
   "cell_type": "code",
   "execution_count": 43,
   "metadata": {},
   "outputs": [],
   "source": [
    "import numpy as np\n",
    "import pandas as pd\n",
    "import statsmodels.api as sm\n",
    "\n",
    "from sklearn import metrics\n",
    "from sklearn.model_selection import train_test_split"
   ]
  },
  {
   "cell_type": "markdown",
   "metadata": {},
   "source": [
    "## Data"
   ]
  },
  {
   "cell_type": "code",
   "execution_count": 44,
   "metadata": {},
   "outputs": [
    {
     "name": "stderr",
     "output_type": "stream",
     "text": [
      "/anaconda3/lib/python3.6/site-packages/ipykernel_launcher.py:34: RuntimeWarning: divide by zero encountered in log\n"
     ]
    }
   ],
   "source": [
    "# Remove aggregate rows, replace NaN with 0\n",
    "\n",
    "puf = pd.read_csv('puf2011.csv')\n",
    "\n",
    "puf = puf[(puf['RECID'] != 999996) &\n",
    "          (puf['RECID'] != 999997) &\n",
    "          (puf['RECID'] != 999998) &\n",
    "          (puf['RECID'] != 999999)\n",
    "         ]\n",
    "           \n",
    "puf = puf.fillna(0)\n",
    "\n",
    "#  MARS to k-1 dummies\n",
    "\n",
    "puf[['MARS2', 'MARS3', 'MARS4']] = pd.get_dummies(puf['MARS'], drop_first = True)\n",
    "\n",
    "# These vars are combined in cps\n",
    "\n",
    "puf['E19800_E20100'] = puf['E19800'] + puf['E20100']\n",
    "\n",
    "# All vars shared between puf and cps except E00650 (colinear w/E00600) and E01100 (crashing mnlogit)\n",
    "\n",
    "potential_pred =  [\n",
    "                  'DSI', 'EIC', 'MARS2', 'MARS3', 'MARS4', 'XTOT', 'E00200', \n",
    "                  'E00300', 'E00400', 'E00600', 'E00800', 'E00900', 'E01400', \n",
    "                  'E01500', 'E01700', 'E02100', 'E02300', 'E02400', 'E03150', \n",
    "                  'E03210', 'E03240', 'E03270', 'E03300', 'E17500', 'E18400', \n",
    "                  'E18500', 'E19200', 'E19800_E20100','E20400', 'E32800', \n",
    "                  'F2441', 'N24'\n",
    "                   ]\n",
    "        \n",
    "# Log of response       \n",
    "        \n",
    "puf['log_P22250'] = np.where(puf['P22250'] == 0, 0, np.sign(puf['P22250'])*np.log(abs(puf['P22250'])))\n",
    "\n",
    "keep = ['P22250', 'AGIR1', 'log_P22250'] + potential_pred\n",
    "\n",
    "puf = puf[keep]"
   ]
  },
  {
   "cell_type": "markdown",
   "metadata": {},
   "source": [
    "## Train / test"
   ]
  },
  {
   "cell_type": "code",
   "execution_count": 45,
   "metadata": {},
   "outputs": [],
   "source": [
    "np.random.seed(100)\n",
    "train, test = train_test_split(puf, test_size=0.2)\n",
    "\n",
    "# Subsamples of train/test where P22250 > 0, or < 0 pos or neg for 2nd stage imputation\n",
    "\n",
    "pos_train = train.copy()[train.copy()['P22250'] > 0]\n",
    "neg_train = train.copy()[train.copy()['P22250'] < 0]\n",
    "\n",
    "pos_test =  test.copy()[test.copy()['P22250'] > 0]\n",
    "neg_test =  test.copy()[test.copy()['P22250'] < 0]"
   ]
  },
  {
   "cell_type": "markdown",
   "metadata": {},
   "source": [
    "## Models"
   ]
  },
  {
   "cell_type": "markdown",
   "metadata": {},
   "source": [
    "OLS for positive data"
   ]
  },
  {
   "cell_type": "markdown",
   "metadata": {},
   "source": [
    "Using intuitively relevant predictors with low p-values, and low inter-predictor-collinearity"
   ]
  },
  {
   "cell_type": "code",
   "execution_count": 46,
   "metadata": {},
   "outputs": [
    {
     "name": "stdout",
     "output_type": "stream",
     "text": [
      "Largest predicted P22250: $559,038,014,760.08 \n",
      " MSE is: 9.003850794399043e+19 \n",
      "                             OLS Regression Results                            \n",
      "==============================================================================\n",
      "Dep. Variable:             log_P22250   R-squared:                       0.791\n",
      "Model:                            OLS   Adj. R-squared:                  0.790\n",
      "Method:                 Least Squares   F-statistic:                     4586.\n",
      "Date:                Thu, 26 Jul 2018   Prob (F-statistic):               0.00\n",
      "Time:                        11:10:07   Log-Likelihood:                -44044.\n",
      "No. Observations:               15800   AIC:                         8.811e+04\n",
      "Df Residuals:                   15787   BIC:                         8.821e+04\n",
      "Df Model:                          13                                         \n",
      "Covariance Type:            nonrobust                                         \n",
      "==============================================================================\n",
      "                 coef    std err          t      P>|t|      [0.025      0.975]\n",
      "------------------------------------------------------------------------------\n",
      "DSI            5.1387      0.393     13.068      0.000       4.368       5.909\n",
      "EIC           -1.2430      0.306     -4.065      0.000      -1.842      -0.644\n",
      "MARS2          4.0962      0.094     43.379      0.000       3.911       4.281\n",
      "MARS3          6.6282      0.220     30.183      0.000       6.198       7.059\n",
      "MARS4          4.6105      0.217     21.269      0.000       4.186       5.035\n",
      "XTOT           1.0431      0.029     36.451      0.000       0.987       1.099\n",
      "E00200      1.655e-07   2.32e-08      7.125      0.000     1.2e-07    2.11e-07\n",
      "E00300      5.707e-07    6.9e-08      8.271      0.000    4.35e-07    7.06e-07\n",
      "E00400       1.62e-06   1.46e-07     11.083      0.000    1.33e-06    1.91e-06\n",
      "E00600      3.025e-07    4.6e-08      6.569      0.000    2.12e-07    3.93e-07\n",
      "E03240      1.786e-06   5.27e-07      3.390      0.001    7.53e-07    2.82e-06\n",
      "E18400      1.837e-07   9.69e-08      1.895      0.058   -6.26e-09    3.74e-07\n",
      "E18500      2.732e-05   1.23e-06     22.253      0.000    2.49e-05    2.97e-05\n",
      "==============================================================================\n",
      "Omnibus:                       98.716   Durbin-Watson:                   1.856\n",
      "Prob(Omnibus):                  0.000   Jarque-Bera (JB):              140.028\n",
      "Skew:                           0.061   Prob(JB):                     3.92e-31\n",
      "Kurtosis:                       3.445   Cond. No.                     1.98e+07\n",
      "==============================================================================\n",
      "\n",
      "Warnings:\n",
      "[1] Standard Errors assume that the covariance matrix of the errors is correctly specified.\n",
      "[2] The condition number is large, 1.98e+07. This might indicate that there are\n",
      "strong multicollinearity or other numerical problems.\n"
     ]
    }
   ],
   "source": [
    "pred_pos =  [\n",
    "            'DSI', 'EIC', 'MARS2', 'MARS3', 'MARS4', 'XTOT', 'E00200',\n",
    "            'E00300', 'E00400', 'E00600', 'E03240',\n",
    "            'E18400', 'E18500'\n",
    "            ]\n",
    "\n",
    "endog_pos = pos_train['log_P22250']\n",
    "exog_pos = pos_train[pred_pos]\n",
    "\n",
    "fit_pos = sm.OLS(endog_pos, exog_pos).fit()\n",
    "summary_pos = fit_pos.summary()\n",
    "\n",
    "# Predictions of log(P22250), transforming back to P22250\n",
    "\n",
    "log_predictions_pos = fit_pos.predict(pos_test[pred_pos])\n",
    "predictions_pos = np.exp(log_predictions_pos)\n",
    "max_predictions_pos = round(predictions_pos.max(), 2)\n",
    "\n",
    "actual_pos = pos_test['P22250']\n",
    "\n",
    "MSE_pos = round(metrics.mean_squared_error(actual_pos, predictions_pos),2)\n",
    "\n",
    "print(\n",
    "     'Largest predicted P22250: $' + '{:,}'.format(max_predictions_pos), '\\n',\n",
    "     'MSE is: ' + str(MSE_pos), '\\n',\n",
    "      summary_pos\n",
    "     ) "
   ]
  },
  {
   "cell_type": "markdown",
   "metadata": {},
   "source": [
    "Actual largest P22250 values are in e+7 range"
   ]
  },
  {
   "cell_type": "code",
   "execution_count": 47,
   "metadata": {},
   "outputs": [
    {
     "data": {
      "text/plain": [
       "152224    39410000.0\n",
       "132670    39400000.0\n",
       "67871     32940000.0\n",
       "160082    25410000.0\n",
       "158722    21750000.0\n",
       "151429    20980000.0\n",
       "160072    18170000.0\n",
       "161329    15340000.0\n",
       "143041    13560000.0\n",
       "155360    13520000.0\n",
       "144883    13040000.0\n",
       "Name: P22250, dtype: float64"
      ]
     },
     "execution_count": 47,
     "metadata": {},
     "output_type": "execute_result"
    }
   ],
   "source": [
    "puf['P22250'].sort_values(ascending=False)[:11]"
   ]
  },
  {
   "cell_type": "markdown",
   "metadata": {},
   "source": [
    "Largest predicted values are much larger"
   ]
  },
  {
   "cell_type": "code",
   "execution_count": 48,
   "metadata": {},
   "outputs": [
    {
     "data": {
      "text/plain": [
       "162832    5.590380e+11\n",
       "159922    1.846003e+11\n",
       "158769    7.150886e+10\n",
       "138866    6.751121e+09\n",
       "163428    4.607185e+09\n",
       "150231    1.156800e+09\n",
       "149696    4.950723e+08\n",
       "162028    1.929891e+08\n",
       "158876    7.016240e+07\n",
       "162164    5.981978e+07\n",
       "162831    5.865267e+07\n",
       "dtype: float64"
      ]
     },
     "execution_count": 48,
     "metadata": {},
     "output_type": "execute_result"
    }
   ],
   "source": [
    "predictions_pos.sort_values(ascending=False)[:11]"
   ]
  },
  {
   "cell_type": "markdown",
   "metadata": {},
   "source": [
    "Summary stats"
   ]
  },
  {
   "cell_type": "code",
   "execution_count": 49,
   "metadata": {},
   "outputs": [
    {
     "name": "stdout",
     "output_type": "stream",
     "text": [
      "Mean of actual positive P22250 testing data: 96625.79933452776 \n",
      " Mean of predicted positive P22250 testing data: 212100579.44832927 \n",
      " Actual median, std dev: 4890.0, 887552.8410844681 \n",
      " Predicted median, std dev: 1471.0836236939317, 9487736751.303223\n"
     ]
    }
   ],
   "source": [
    "print(\n",
    "      'Mean of actual positive P22250 testing data: ' + str(pos_test['P22250'].mean()), '\\n',\n",
    "      'Mean of predicted positive P22250 testing data: ' + str(predictions_pos.mean()), '\\n',\n",
    "      'Actual median, std dev: ' + str(pos_test['P22250'].median()) + ', ' + str(pos_test['P22250'].std()), '\\n',\n",
    "      'Predicted median, std dev: '  + str(predictions_pos.median()) + ', ' + str(predictions_pos.std())\n",
    "     )"
   ]
  },
  {
   "cell_type": "markdown",
   "metadata": {},
   "source": [
    "Similar issue (but much worse) with different mix of continuous/discrete predictors"
   ]
  },
  {
   "cell_type": "code",
   "execution_count": 50,
   "metadata": {},
   "outputs": [
    {
     "name": "stdout",
     "output_type": "stream",
     "text": [
      "Largest predicted P22250: $1.0531054189615383e+19 \n",
      " MSE is: 2.838574413733693e+34 \n",
      "                             OLS Regression Results                            \n",
      "==============================================================================\n",
      "Dep. Variable:             log_P22250   R-squared:                       0.770\n",
      "Model:                            OLS   Adj. R-squared:                  0.770\n",
      "Method:                 Least Squares   F-statistic:                     4413.\n",
      "Date:                Thu, 26 Jul 2018   Prob (F-statistic):               0.00\n",
      "Time:                        11:10:07   Log-Likelihood:                -44775.\n",
      "No. Observations:               15800   AIC:                         8.957e+04\n",
      "Df Residuals:                   15788   BIC:                         8.967e+04\n",
      "Df Model:                          12                                         \n",
      "Covariance Type:            nonrobust                                         \n",
      "=================================================================================\n",
      "                    coef    std err          t      P>|t|      [0.025      0.975]\n",
      "---------------------------------------------------------------------------------\n",
      "MARS2             7.1288      0.050    142.938      0.000       7.031       7.227\n",
      "MARS3             7.9764      0.227     35.125      0.000       7.531       8.422\n",
      "MARS4             6.9419      0.217     31.972      0.000       6.516       7.367\n",
      "N24               0.0695      0.036      1.909      0.056      -0.002       0.141\n",
      "E00200         2.252e-07   2.41e-08      9.341      0.000    1.78e-07    2.72e-07\n",
      "E00600         2.702e-07   4.87e-08      5.548      0.000    1.75e-07    3.66e-07\n",
      "E02100        -9.765e-07   3.81e-07     -2.562      0.010   -1.72e-06    -2.3e-07\n",
      "E18400         4.682e-07   9.69e-08      4.829      0.000    2.78e-07    6.58e-07\n",
      "E18500         3.183e-05   1.27e-06     25.137      0.000    2.93e-05    3.43e-05\n",
      "E19200         3.506e-06   3.24e-07     10.822      0.000    2.87e-06    4.14e-06\n",
      "E19800_E20100  3.017e-07   6.36e-08      4.746      0.000    1.77e-07    4.26e-07\n",
      "E32800           -0.0001   5.05e-05     -2.852      0.004      -0.000    -4.5e-05\n",
      "==============================================================================\n",
      "Omnibus:                      349.202   Durbin-Watson:                   1.805\n",
      "Prob(Omnibus):                  0.000   Jarque-Bera (JB):              448.377\n",
      "Skew:                           0.286   Prob(JB):                     4.33e-98\n",
      "Kurtosis:                       3.595   Cond. No.                     1.09e+07\n",
      "==============================================================================\n",
      "\n",
      "Warnings:\n",
      "[1] Standard Errors assume that the covariance matrix of the errors is correctly specified.\n",
      "[2] The condition number is large, 1.09e+07. This might indicate that there are\n",
      "strong multicollinearity or other numerical problems.\n"
     ]
    }
   ],
   "source": [
    "pred_pos =  [\n",
    "            'MARS2', 'MARS3', 'MARS4', 'N24', 'E00200',\n",
    "            'E00600', 'E02100', 'E18400', 'E18500', 'E19200', 'E19800_E20100', 'E32800'\n",
    "            ]\n",
    "\n",
    "# Changed to float as sm.OLS was throwing exception\n",
    "\n",
    "endog_pos = pos_train['log_P22250']\n",
    "exog_pos = pos_train[pred_pos]\n",
    "\n",
    "fit_pos = sm.OLS(endog_pos, exog_pos).fit()\n",
    "summary_pos = fit_pos.summary()\n",
    "\n",
    "# Changed back to int as .predict() was throwing exception\n",
    "\n",
    "log_predictions_pos = fit_pos.predict(pos_test[pred_pos])\n",
    "predictions_pos = np.exp(log_predictions_pos)\n",
    "max_predictions_pos = round(predictions_pos.max(), 2)\n",
    "\n",
    "actual_pos = pos_test['P22250']\n",
    "\n",
    "MSE_pos = round(metrics.mean_squared_error(actual_pos, predictions_pos),2)\n",
    "\n",
    "print(\n",
    "     'Largest predicted P22250: $' + '{:,}'.format(max_predictions_pos), '\\n',\n",
    "     'MSE is: ' + str(MSE_pos), '\\n',\n",
    "      summary_pos\n",
    "     )"
   ]
  },
  {
   "cell_type": "markdown",
   "metadata": {},
   "source": [
    "Only including discrete predictors greatly underestimates P22250"
   ]
  },
  {
   "cell_type": "code",
   "execution_count": 51,
   "metadata": {},
   "outputs": [
    {
     "name": "stdout",
     "output_type": "stream",
     "text": [
      "Largest predicted P22250: $31,864.26 \n",
      " MSE is: 795348986841.39 \n",
      "                             OLS Regression Results                            \n",
      "==============================================================================\n",
      "Dep. Variable:             log_P22250   R-squared:                       0.768\n",
      "Model:                            OLS   Adj. R-squared:                  0.768\n",
      "Method:                 Least Squares   F-statistic:                     8699.\n",
      "Date:                Thu, 26 Jul 2018   Prob (F-statistic):               0.00\n",
      "Time:                        11:10:07   Log-Likelihood:                -44866.\n",
      "No. Observations:               15800   AIC:                         8.974e+04\n",
      "Df Residuals:                   15794   BIC:                         8.979e+04\n",
      "Df Model:                           6                                         \n",
      "Covariance Type:            nonrobust                                         \n",
      "==============================================================================\n",
      "                 coef    std err          t      P>|t|      [0.025      0.975]\n",
      "------------------------------------------------------------------------------\n",
      "EIC           -1.6804      0.322     -5.221      0.000      -2.311      -1.050\n",
      "DSI            5.1768      0.414     12.502      0.000       4.365       5.988\n",
      "MARS2          4.5064      0.099     45.740      0.000       4.313       4.700\n",
      "MARS3          7.5997      0.230     33.064      0.000       7.149       8.050\n",
      "MARS4          4.9850      0.228     21.864      0.000       4.538       5.432\n",
      "XTOT           1.1726      0.030     39.499      0.000       1.114       1.231\n",
      "==============================================================================\n",
      "Omnibus:                      105.290   Durbin-Watson:                   1.853\n",
      "Prob(Omnibus):                  0.000   Jarque-Bera (JB):              108.407\n",
      "Skew:                           0.190   Prob(JB):                     2.88e-24\n",
      "Kurtosis:                       3.145   Cond. No.                         38.8\n",
      "==============================================================================\n",
      "\n",
      "Warnings:\n",
      "[1] Standard Errors assume that the covariance matrix of the errors is correctly specified.\n"
     ]
    }
   ],
   "source": [
    "pred_pos =  [\n",
    "            'EIC', 'DSI', 'MARS2', 'MARS3', 'MARS4',\n",
    "            'XTOT'\n",
    "            ]\n",
    "\n",
    "# Changed to float as sm.OLS was throwing exception\n",
    "\n",
    "endog_pos = pos_train['log_P22250']\n",
    "exog_pos = pos_train[pred_pos]\n",
    "\n",
    "fit_pos = sm.OLS(endog_pos, exog_pos).fit()\n",
    "summary_pos = fit_pos.summary()\n",
    "\n",
    "# Changed back to int as .predict() was throwing exception\n",
    "\n",
    "log_predictions_pos = fit_pos.predict(pos_test[pred_pos])\n",
    "predictions_pos = np.exp(log_predictions_pos)\n",
    "max_predictions_pos = round(predictions_pos.max(), 2)\n",
    "\n",
    "actual_pos = pos_test['P22250']\n",
    "\n",
    "MSE_pos = round(metrics.mean_squared_error(actual_pos, predictions_pos),2)\n",
    "\n",
    "print(\n",
    "     'Largest predicted P22250: $' + '{:,}'.format(max_predictions_pos), '\\n',\n",
    "     'MSE is: ' + str(MSE_pos), '\\n',\n",
    "      summary_pos\n",
    "     )"
   ]
  },
  {
   "cell_type": "markdown",
   "metadata": {},
   "source": [
    "Summary stats"
   ]
  },
  {
   "cell_type": "code",
   "execution_count": 52,
   "metadata": {},
   "outputs": [
    {
     "name": "stdout",
     "output_type": "stream",
     "text": [
      "Mean of actual positive P22250 testing data: 96625.79933452776 \n",
      " Mean of predicted positive P22250 testing data: 6411.195653107481 \n",
      " Actual median, std dev: 4890.0, 887552.8410844681 \n",
      " Predicted median, std dev: 945.3514463125927, 9934.646111825858\n"
     ]
    }
   ],
   "source": [
    "print(\n",
    "      'Mean of actual positive P22250 testing data: ' + str(pos_test['P22250'].mean()), '\\n',\n",
    "      'Mean of predicted positive P22250 testing data: ' + str(predictions_pos.mean()), '\\n',\n",
    "      'Actual median, std dev: ' + str(pos_test['P22250'].median()) + ', ' + str(pos_test['P22250'].std()), '\\n',\n",
    "      'Predicted median, std dev: '  + str(predictions_pos.median()) + ', ' + str(predictions_pos.std())\n",
    "     )"
   ]
  },
  {
   "cell_type": "markdown",
   "metadata": {},
   "source": [
    "Including just 1 continuous predictor again overestimates"
   ]
  },
  {
   "cell_type": "code",
   "execution_count": 53,
   "metadata": {},
   "outputs": [
    {
     "name": "stdout",
     "output_type": "stream",
     "text": [
      "Largest predicted P22250: $1,186,290,075.72 \n",
      " MSE is: 433177998947119.8 \n",
      "                             OLS Regression Results                            \n",
      "==============================================================================\n",
      "Dep. Variable:             log_P22250   R-squared:                       0.774\n",
      "Model:                            OLS   Adj. R-squared:                  0.774\n",
      "Method:                 Least Squares   F-statistic:                     7737.\n",
      "Date:                Thu, 26 Jul 2018   Prob (F-statistic):               0.00\n",
      "Time:                        11:10:07   Log-Likelihood:                -44640.\n",
      "No. Observations:               15800   AIC:                         8.929e+04\n",
      "Df Residuals:                   15793   BIC:                         8.935e+04\n",
      "Df Model:                           7                                         \n",
      "Covariance Type:            nonrobust                                         \n",
      "==============================================================================\n",
      "                 coef    std err          t      P>|t|      [0.025      0.975]\n",
      "------------------------------------------------------------------------------\n",
      "EIC           -1.6059      0.317     -5.062      0.000      -2.228      -0.984\n",
      "DSI            5.1320      0.408     12.572      0.000       4.332       5.932\n",
      "MARS2          4.4871      0.097     46.195      0.000       4.297       4.677\n",
      "MARS3          7.3552      0.227     32.419      0.000       6.910       7.800\n",
      "MARS4          4.8687      0.225     21.654      0.000       4.428       5.309\n",
      "XTOT           1.1449      0.029     39.082      0.000       1.087       1.202\n",
      "E00300      1.341e-06   6.27e-08     21.396      0.000    1.22e-06    1.46e-06\n",
      "==============================================================================\n",
      "Omnibus:                       99.558   Durbin-Watson:                   1.852\n",
      "Prob(Omnibus):                  0.000   Jarque-Bera (JB):              120.684\n",
      "Skew:                           0.125   Prob(JB):                     6.22e-27\n",
      "Kurtosis:                       3.348   Cond. No.                     6.59e+06\n",
      "==============================================================================\n",
      "\n",
      "Warnings:\n",
      "[1] Standard Errors assume that the covariance matrix of the errors is correctly specified.\n",
      "[2] The condition number is large, 6.59e+06. This might indicate that there are\n",
      "strong multicollinearity or other numerical problems.\n"
     ]
    }
   ],
   "source": [
    "pred_pos =  [\n",
    "            'EIC', 'DSI', 'MARS2', 'MARS3', 'MARS4',\n",
    "            'XTOT', 'E00300'\n",
    "            ]\n",
    "\n",
    "# Changed to float as sm.OLS was throwing exception\n",
    "\n",
    "endog_pos = pos_train['log_P22250']\n",
    "exog_pos = pos_train[pred_pos]\n",
    "\n",
    "fit_pos = sm.OLS(endog_pos, exog_pos).fit()\n",
    "summary_pos = fit_pos.summary()\n",
    "\n",
    "# Changed back to int as .predict() was throwing exception\n",
    "\n",
    "log_predictions_pos = fit_pos.predict(pos_test[pred_pos])\n",
    "predictions_pos = np.exp(log_predictions_pos)\n",
    "max_predictions_pos = round(predictions_pos.max(), 2)\n",
    "\n",
    "actual_pos = pos_test['P22250']\n",
    "\n",
    "MSE_pos = round(metrics.mean_squared_error(actual_pos, predictions_pos),2)\n",
    "\n",
    "print(\n",
    "     'Largest predicted P22250: $' + '{:,}'.format(max_predictions_pos), '\\n',\n",
    "     'MSE is: ' + str(MSE_pos), '\\n',\n",
    "      summary_pos\n",
    "     )"
   ]
  },
  {
   "cell_type": "markdown",
   "metadata": {},
   "source": [
    "Summary stats"
   ]
  },
  {
   "cell_type": "code",
   "execution_count": 54,
   "metadata": {},
   "outputs": [
    {
     "name": "stdout",
     "output_type": "stream",
     "text": [
      "Mean of actual positive P22250 testing data: 96625.79933452776 \n",
      " Mean of predicted positive P22250 testing data: 467270.05469735333 \n",
      " Actual median, std dev: 4890.0, 887552.8410844681 \n",
      " Predicted median, std dev: 986.7399972255719, 21120206.53086928\n"
     ]
    }
   ],
   "source": [
    "print(\n",
    "      'Mean of actual positive P22250 testing data: ' + str(pos_test['P22250'].mean()), '\\n',\n",
    "      'Mean of predicted positive P22250 testing data: ' + str(predictions_pos.mean()), '\\n',\n",
    "      'Actual median, std dev: ' + str(pos_test['P22250'].median()) + ', ' + str(pos_test['P22250'].std()), '\\n',\n",
    "      'Predicted median, std dev: '  + str(predictions_pos.median()) + ', ' + str(predictions_pos.std())\n",
    "     )"
   ]
  }
 ],
 "metadata": {
  "kernelspec": {
   "display_name": "Python 3",
   "language": "python",
   "name": "python3"
  },
  "language_info": {
   "codemirror_mode": {
    "name": "ipython",
    "version": 3
   },
   "file_extension": ".py",
   "mimetype": "text/x-python",
   "name": "python",
   "nbconvert_exporter": "python",
   "pygments_lexer": "ipython3",
   "version": "3.6.4"
  }
 },
 "nbformat": 4,
 "nbformat_minor": 2
}
