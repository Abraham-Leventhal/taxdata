{
 "cells": [
  {
   "cell_type": "markdown",
   "metadata": {},
   "source": [
    "# Random forests P22250 model"
   ]
  },
  {
   "cell_type": "markdown",
   "metadata": {},
   "source": [
    "## Setup\n",
    "\n",
    "### Imports"
   ]
  },
  {
   "cell_type": "code",
   "execution_count": 1,
   "metadata": {},
   "outputs": [],
   "source": [
    "import pandas as pd\n",
    "import numpy as np\n",
    "from sklearn import ensemble\n",
    "from sklearn import linear_model\n",
    "from sklearn import metrics\n",
    "from sklearn import model_selection\n",
    "import os"
   ]
  },
  {
   "cell_type": "markdown",
   "metadata": {},
   "source": [
    "## Data\n",
    "\n",
    "Get PUF records."
   ]
  },
  {
   "cell_type": "code",
   "execution_count": 2,
   "metadata": {},
   "outputs": [],
   "source": [
    "train = pd.read_csv('puf80%training')\n",
    "test = pd.read_csv('puf20%testing')\n",
    "\n",
    "cols =  ['P22250', 'P22250_sign','DSI', 'EIC', 'MARS', 'XTOT', 'E00200', \n",
    "         'E00300', 'E00400', 'E00600', 'E00650', 'E00800', 'E00900', 'E01100', \n",
    "         'E01400', 'E01500', 'E01700', 'E02100', 'E02300', 'E02400', 'E03150', \n",
    "         'E03210', 'E03240', 'E03270', 'E03300', 'E17500', 'E18400', 'E18500', \n",
    "         'E19200', 'E19800', 'E20100', 'E20400', 'E32800', 'F2441', 'N24']\n",
    "\n",
    "predictors = cols[2:]\n",
    "\n",
    "train = train[cols]\n",
    "test = test[cols]"
   ]
  },
  {
   "cell_type": "code",
   "execution_count": 3,
   "metadata": {},
   "outputs": [],
   "source": [
    "X_train = train[predictors]\n",
    "X_test = test[predictors]\n",
    "\n",
    "Y_train = train['P22250']\n",
    "Y_test = test['P22250']\n",
    "\n",
    "Y_train_sign = train['P22250_sign']\n",
    "Y_test_sign = test['P22250_sign']"
   ]
  },
  {
   "cell_type": "markdown",
   "metadata": {},
   "source": [
    "## Model\n",
    "\n",
    "Train a random forests model."
   ]
  },
  {
   "cell_type": "code",
   "execution_count": 4,
   "metadata": {},
   "outputs": [
    {
     "name": "stderr",
     "output_type": "stream",
     "text": [
      "[Parallel(n_jobs=-1)]: Done  42 tasks      | elapsed:  1.3min\n",
      "[Parallel(n_jobs=-1)]: Done 100 out of 100 | elapsed:  3.0min finished\n"
     ]
    },
    {
     "data": {
      "text/plain": [
       "RandomForestRegressor(bootstrap=True, criterion='mse', max_depth=None,\n",
       "           max_features='auto', max_leaf_nodes=None,\n",
       "           min_impurity_decrease=0.0, min_impurity_split=None,\n",
       "           min_samples_leaf=1, min_samples_split=2,\n",
       "           min_weight_fraction_leaf=0.0, n_estimators=100, n_jobs=-1,\n",
       "           oob_score=False, random_state=3, verbose=True, warm_start=False)"
      ]
     },
     "execution_count": 4,
     "metadata": {},
     "output_type": "execute_result"
    }
   ],
   "source": [
    "# 100 estimators\n",
    "N_ESTIMATORS = 100\n",
    "rf = ensemble.RandomForestRegressor(n_estimators=N_ESTIMATORS, \n",
    "                                    min_samples_leaf=1, random_state=3, \n",
    "                                    verbose=True, \n",
    "                                    n_jobs=-1)  # Use maximum number of cores.\n",
    "rf.fit(X_train, Y_train)"
   ]
  },
  {
   "cell_type": "markdown",
   "metadata": {},
   "source": [
    "### Model description\n",
    "\n",
    "Show the ten most important features."
   ]
  },
  {
   "cell_type": "code",
   "execution_count": 5,
   "metadata": {},
   "outputs": [
    {
     "data": {
      "text/plain": [
       "E00300    0.213896\n",
       "E00200    0.088474\n",
       "E00600    0.077358\n",
       "E18400    0.066015\n",
       "E19200    0.065496\n",
       "MARS      0.058366\n",
       "E20400    0.044849\n",
       "XTOT      0.043097\n",
       "E18500    0.040825\n",
       "E00650    0.039985\n",
       "dtype: float64"
      ]
     },
     "execution_count": 5,
     "metadata": {},
     "output_type": "execute_result"
    }
   ],
   "source": [
    "feature_importance = pd.Series(rf.feature_importances_, index=X_train.columns)\n",
    "feature_importance.sort_values(ascending=False)[:10]"
   ]
  },
  {
   "cell_type": "markdown",
   "metadata": {},
   "source": [
    "## Predict\n",
    "\n",
    "### Top-line (average)"
   ]
  },
  {
   "cell_type": "code",
   "execution_count": 6,
   "metadata": {},
   "outputs": [
    {
     "name": "stderr",
     "output_type": "stream",
     "text": [
      "[Parallel(n_jobs=4)]: Done  42 tasks      | elapsed:    0.2s\n",
      "[Parallel(n_jobs=4)]: Done 100 out of 100 | elapsed:    0.6s finished\n"
     ]
    }
   ],
   "source": [
    "pred = pd.DataFrame({'actual': Y_test,\n",
    "                     'pred': rf.predict(X_test)})\n",
    "pred['error'] = pred.pred - pred.actual\n",
    "pred['actual_sign'] = np.sign(pred.actual)\n",
    "pred['pred_sign'] = np.sign(pred.pred)\n",
    "pred['correct_sign'] = (pred.actual_sign == pred.pred_sign)\n",
    "pred['count'] = 1"
   ]
  },
  {
   "cell_type": "markdown",
   "metadata": {},
   "source": [
    "MAE, RMSE, and % negative/zero/positive."
   ]
  },
  {
   "cell_type": "code",
   "execution_count": 7,
   "metadata": {},
   "outputs": [
    {
     "data": {
      "text/plain": [
       "35169.69998756283"
      ]
     },
     "execution_count": 7,
     "metadata": {},
     "output_type": "execute_result"
    }
   ],
   "source": [
    "pred.error.abs().mean()"
   ]
  },
  {
   "cell_type": "code",
   "execution_count": 8,
   "metadata": {},
   "outputs": [
    {
     "data": {
      "text/plain": [
       "294425.26134793647"
      ]
     },
     "execution_count": 8,
     "metadata": {},
     "output_type": "execute_result"
    }
   ],
   "source": [
    "pred.error.pow(2).mean() ** 0.5"
   ]
  },
  {
   "cell_type": "code",
   "execution_count": 9,
   "metadata": {},
   "outputs": [
    {
     "data": {
      "text/html": [
       "<div>\n",
       "<style scoped>\n",
       "    .dataframe tbody tr th:only-of-type {\n",
       "        vertical-align: middle;\n",
       "    }\n",
       "\n",
       "    .dataframe tbody tr th {\n",
       "        vertical-align: top;\n",
       "    }\n",
       "\n",
       "    .dataframe thead th {\n",
       "        text-align: right;\n",
       "    }\n",
       "</style>\n",
       "<table border=\"1\" class=\"dataframe\">\n",
       "  <thead>\n",
       "    <tr style=\"text-align: right;\">\n",
       "      <th>pred_sign</th>\n",
       "      <th>-1.0</th>\n",
       "      <th>0.0</th>\n",
       "      <th>1.0</th>\n",
       "      <th>All</th>\n",
       "    </tr>\n",
       "    <tr>\n",
       "      <th>actual_sign</th>\n",
       "      <th></th>\n",
       "      <th></th>\n",
       "      <th></th>\n",
       "      <th></th>\n",
       "    </tr>\n",
       "  </thead>\n",
       "  <tbody>\n",
       "    <tr>\n",
       "      <th>-1.0</th>\n",
       "      <td>3078</td>\n",
       "      <td>54</td>\n",
       "      <td>1543</td>\n",
       "      <td>4675</td>\n",
       "    </tr>\n",
       "    <tr>\n",
       "      <th>0.0</th>\n",
       "      <td>7626</td>\n",
       "      <td>11197</td>\n",
       "      <td>5161</td>\n",
       "      <td>23984</td>\n",
       "    </tr>\n",
       "    <tr>\n",
       "      <th>1.0</th>\n",
       "      <td>2465</td>\n",
       "      <td>39</td>\n",
       "      <td>1450</td>\n",
       "      <td>3954</td>\n",
       "    </tr>\n",
       "    <tr>\n",
       "      <th>All</th>\n",
       "      <td>13169</td>\n",
       "      <td>11290</td>\n",
       "      <td>8154</td>\n",
       "      <td>32613</td>\n",
       "    </tr>\n",
       "  </tbody>\n",
       "</table>\n",
       "</div>"
      ],
      "text/plain": [
       "pred_sign     -1.0    0.0   1.0    All\n",
       "actual_sign                           \n",
       "-1.0          3078     54  1543   4675\n",
       "0.0           7626  11197  5161  23984\n",
       "1.0           2465     39  1450   3954\n",
       "All          13169  11290  8154  32613"
      ]
     },
     "execution_count": 9,
     "metadata": {},
     "output_type": "execute_result"
    }
   ],
   "source": [
    "pred.pivot_table(index='actual_sign', columns='pred_sign', values='count', \n",
    "                 aggfunc=sum, margins=True)"
   ]
  },
  {
   "cell_type": "code",
   "execution_count": 10,
   "metadata": {},
   "outputs": [
    {
     "data": {
      "text/plain": [
       "0.48216968693465795"
      ]
     },
     "execution_count": 10,
     "metadata": {},
     "output_type": "execute_result"
    }
   ],
   "source": [
    "pred.correct_sign.mean()"
   ]
  },
  {
   "cell_type": "markdown",
   "metadata": {},
   "source": [
    "### All trees"
   ]
  },
  {
   "cell_type": "code",
   "execution_count": 11,
   "metadata": {},
   "outputs": [],
   "source": [
    "preds = []\n",
    "for estimator in rf.estimators_:\n",
    "    preds.append(estimator.predict(X_test))\n",
    "preds = np.array(preds).transpose()  # One row per record."
   ]
  },
  {
   "cell_type": "code",
   "execution_count": 12,
   "metadata": {},
   "outputs": [],
   "source": [
    "rand_col = np.random.randint(N_ESTIMATORS, size=preds.shape[0])\n",
    "random_tree = preds[np.arange(preds.shape[0]), rand_col]"
   ]
  },
  {
   "cell_type": "code",
   "execution_count": 13,
   "metadata": {},
   "outputs": [],
   "source": [
    "pred_random_tree = pd.DataFrame({'actual': Y_test,\n",
    "                                 'pred': random_tree})\n",
    "pred_random_tree['error'] = pred_random_tree.pred - pred_random_tree.actual\n",
    "pred_random_tree['actual_sign'] = np.sign(pred_random_tree.actual)\n",
    "pred_random_tree['pred_sign'] = np.sign(pred_random_tree.pred)\n",
    "pred_random_tree['correct_sign'] = (\n",
    "    pred_random_tree.actual_sign == pred_random_tree.pred_sign)\n",
    "pred_random_tree['count'] = 1"
   ]
  },
  {
   "cell_type": "markdown",
   "metadata": {},
   "source": [
    "As expected, MAE and RMSE exceed values from the point estimate prediction."
   ]
  },
  {
   "cell_type": "code",
   "execution_count": 14,
   "metadata": {},
   "outputs": [
    {
     "data": {
      "text/plain": [
       "48934.12760859037"
      ]
     },
     "execution_count": 14,
     "metadata": {},
     "output_type": "execute_result"
    }
   ],
   "source": [
    "pred_random_tree.error.abs().mean()"
   ]
  },
  {
   "cell_type": "code",
   "execution_count": 15,
   "metadata": {},
   "outputs": [
    {
     "data": {
      "text/plain": [
       "550189.4457893613"
      ]
     },
     "execution_count": 15,
     "metadata": {},
     "output_type": "execute_result"
    }
   ],
   "source": [
    "pred_random_tree.error.pow(2).mean() ** 0.5"
   ]
  },
  {
   "cell_type": "markdown",
   "metadata": {},
   "source": [
    "But the distribution of sign is closer to correct, since it's not averaging out the zeros."
   ]
  },
  {
   "cell_type": "code",
   "execution_count": 16,
   "metadata": {},
   "outputs": [
    {
     "data": {
      "text/html": [
       "<div>\n",
       "<style scoped>\n",
       "    .dataframe tbody tr th:only-of-type {\n",
       "        vertical-align: middle;\n",
       "    }\n",
       "\n",
       "    .dataframe tbody tr th {\n",
       "        vertical-align: top;\n",
       "    }\n",
       "\n",
       "    .dataframe thead th {\n",
       "        text-align: right;\n",
       "    }\n",
       "</style>\n",
       "<table border=\"1\" class=\"dataframe\">\n",
       "  <thead>\n",
       "    <tr style=\"text-align: right;\">\n",
       "      <th>pred_sign</th>\n",
       "      <th>-1.0</th>\n",
       "      <th>0.0</th>\n",
       "      <th>1.0</th>\n",
       "      <th>All</th>\n",
       "    </tr>\n",
       "    <tr>\n",
       "      <th>actual_sign</th>\n",
       "      <th></th>\n",
       "      <th></th>\n",
       "      <th></th>\n",
       "      <th></th>\n",
       "    </tr>\n",
       "  </thead>\n",
       "  <tbody>\n",
       "    <tr>\n",
       "      <th>-1.0</th>\n",
       "      <td>1859</td>\n",
       "      <td>1359</td>\n",
       "      <td>1457</td>\n",
       "      <td>4675</td>\n",
       "    </tr>\n",
       "    <tr>\n",
       "      <th>0.0</th>\n",
       "      <td>1635</td>\n",
       "      <td>20856</td>\n",
       "      <td>1493</td>\n",
       "      <td>23984</td>\n",
       "    </tr>\n",
       "    <tr>\n",
       "      <th>1.0</th>\n",
       "      <td>1527</td>\n",
       "      <td>1285</td>\n",
       "      <td>1142</td>\n",
       "      <td>3954</td>\n",
       "    </tr>\n",
       "    <tr>\n",
       "      <th>All</th>\n",
       "      <td>5021</td>\n",
       "      <td>23500</td>\n",
       "      <td>4092</td>\n",
       "      <td>32613</td>\n",
       "    </tr>\n",
       "  </tbody>\n",
       "</table>\n",
       "</div>"
      ],
      "text/plain": [
       "pred_sign    -1.0    0.0   1.0    All\n",
       "actual_sign                          \n",
       "-1.0         1859   1359  1457   4675\n",
       "0.0          1635  20856  1493  23984\n",
       "1.0          1527   1285  1142   3954\n",
       "All          5021  23500  4092  32613"
      ]
     },
     "execution_count": 16,
     "metadata": {},
     "output_type": "execute_result"
    }
   ],
   "source": [
    "pred_random_tree.pivot_table(index='actual_sign', columns='pred_sign', \n",
    "                             values='count', aggfunc=sum, margins=True)"
   ]
  },
  {
   "cell_type": "code",
   "execution_count": 17,
   "metadata": {},
   "outputs": [
    {
     "data": {
      "text/plain": [
       "0.7315181062766382"
      ]
     },
     "execution_count": 17,
     "metadata": {},
     "output_type": "execute_result"
    }
   ],
   "source": [
    "pred_random_tree.correct_sign.mean()"
   ]
  },
  {
   "cell_type": "markdown",
   "metadata": {},
   "source": [
    "#### Log-loss of sign"
   ]
  },
  {
   "cell_type": "code",
   "execution_count": 18,
   "metadata": {},
   "outputs": [
    {
     "data": {
      "text/plain": [
       "0.6065213242184263"
      ]
     },
     "execution_count": 18,
     "metadata": {},
     "output_type": "execute_result"
    }
   ],
   "source": [
    "preds_neg = np.sum(preds < 0, axis=1) / 100\n",
    "preds_zero = np.sum(preds == 0, axis=1) / 100\n",
    "preds_pos = np.sum(preds > 0, axis=1) / 100\n",
    "\n",
    "rf_pred_proba = list(map(list, zip(*[preds_neg, preds_zero, preds_pos])))\n",
    "\n",
    "metrics.log_loss(Y_test_sign, rf_pred_proba)"
   ]
  },
  {
   "cell_type": "markdown",
   "metadata": {},
   "source": [
    "## Multinomial logistic regression of sign"
   ]
  },
  {
   "cell_type": "code",
   "execution_count": 19,
   "metadata": {},
   "outputs": [
    {
     "name": "stderr",
     "output_type": "stream",
     "text": [
      "/anaconda3/lib/python3.6/site-packages/sklearn/utils/optimize.py:203: ConvergenceWarning: newton-cg failed to converge. Increase the number of iterations.\n",
      "  \"number of iterations.\", ConvergenceWarning)\n"
     ]
    },
    {
     "data": {
      "text/plain": [
       "LogisticRegression(C=1.0, class_weight=None, dual=False, fit_intercept=True,\n",
       "          intercept_scaling=1, max_iter=100, multi_class='multinomial',\n",
       "          n_jobs=1, penalty='l2', random_state=3, solver='newton-cg',\n",
       "          tol=0.0001, verbose=0, warm_start=False)"
      ]
     },
     "execution_count": 19,
     "metadata": {},
     "output_type": "execute_result"
    }
   ],
   "source": [
    "mult = linear_model.LogisticRegression(\n",
    "    multi_class='multinomial', solver='newton-cg', random_state=3)\n",
    "mult.fit(X_train, Y_train_sign)"
   ]
  },
  {
   "cell_type": "markdown",
   "metadata": {},
   "source": [
    "### Coefficients\n",
    "\n",
    "p-values are tricky to calculate, so just show the features with highest absolute coefficient on the zero class."
   ]
  },
  {
   "cell_type": "code",
   "execution_count": 20,
   "metadata": {},
   "outputs": [
    {
     "data": {
      "text/html": [
       "<div>\n",
       "<style scoped>\n",
       "    .dataframe tbody tr th:only-of-type {\n",
       "        vertical-align: middle;\n",
       "    }\n",
       "\n",
       "    .dataframe tbody tr th {\n",
       "        vertical-align: top;\n",
       "    }\n",
       "\n",
       "    .dataframe thead th {\n",
       "        text-align: right;\n",
       "    }\n",
       "</style>\n",
       "<table border=\"1\" class=\"dataframe\">\n",
       "  <thead>\n",
       "    <tr style=\"text-align: right;\">\n",
       "      <th></th>\n",
       "      <th>abs_zero</th>\n",
       "      <th>negative</th>\n",
       "      <th>positive</th>\n",
       "      <th>zero</th>\n",
       "    </tr>\n",
       "  </thead>\n",
       "  <tbody>\n",
       "    <tr>\n",
       "      <th>XTOT</th>\n",
       "      <td>0.052191</td>\n",
       "      <td>-0.025528</td>\n",
       "      <td>-0.026663</td>\n",
       "      <td>0.052191</td>\n",
       "    </tr>\n",
       "    <tr>\n",
       "      <th>MARS</th>\n",
       "      <td>0.051600</td>\n",
       "      <td>-0.025386</td>\n",
       "      <td>-0.026214</td>\n",
       "      <td>0.051600</td>\n",
       "    </tr>\n",
       "    <tr>\n",
       "      <th>E01100</th>\n",
       "      <td>0.015469</td>\n",
       "      <td>-0.007879</td>\n",
       "      <td>-0.007590</td>\n",
       "      <td>0.015469</td>\n",
       "    </tr>\n",
       "    <tr>\n",
       "      <th>N24</th>\n",
       "      <td>0.013334</td>\n",
       "      <td>-0.006632</td>\n",
       "      <td>-0.006702</td>\n",
       "      <td>0.013334</td>\n",
       "    </tr>\n",
       "    <tr>\n",
       "      <th>EIC</th>\n",
       "      <td>0.007890</td>\n",
       "      <td>-0.003979</td>\n",
       "      <td>-0.003911</td>\n",
       "      <td>0.007890</td>\n",
       "    </tr>\n",
       "    <tr>\n",
       "      <th>E03210</th>\n",
       "      <td>0.002384</td>\n",
       "      <td>-0.001416</td>\n",
       "      <td>-0.000968</td>\n",
       "      <td>0.002384</td>\n",
       "    </tr>\n",
       "    <tr>\n",
       "      <th>DSI</th>\n",
       "      <td>0.002189</td>\n",
       "      <td>-0.001100</td>\n",
       "      <td>-0.001089</td>\n",
       "      <td>0.002189</td>\n",
       "    </tr>\n",
       "    <tr>\n",
       "      <th>F2441</th>\n",
       "      <td>0.000403</td>\n",
       "      <td>-0.000208</td>\n",
       "      <td>-0.000194</td>\n",
       "      <td>0.000403</td>\n",
       "    </tr>\n",
       "    <tr>\n",
       "      <th>E32800</th>\n",
       "      <td>0.000232</td>\n",
       "      <td>-0.000098</td>\n",
       "      <td>-0.000135</td>\n",
       "      <td>0.000232</td>\n",
       "    </tr>\n",
       "    <tr>\n",
       "      <th>E02300</th>\n",
       "      <td>0.000145</td>\n",
       "      <td>-0.000058</td>\n",
       "      <td>-0.000086</td>\n",
       "      <td>0.000145</td>\n",
       "    </tr>\n",
       "  </tbody>\n",
       "</table>\n",
       "</div>"
      ],
      "text/plain": [
       "        abs_zero  negative  positive      zero\n",
       "XTOT    0.052191 -0.025528 -0.026663  0.052191\n",
       "MARS    0.051600 -0.025386 -0.026214  0.051600\n",
       "E01100  0.015469 -0.007879 -0.007590  0.015469\n",
       "N24     0.013334 -0.006632 -0.006702  0.013334\n",
       "EIC     0.007890 -0.003979 -0.003911  0.007890\n",
       "E03210  0.002384 -0.001416 -0.000968  0.002384\n",
       "DSI     0.002189 -0.001100 -0.001089  0.002189\n",
       "F2441   0.000403 -0.000208 -0.000194  0.000403\n",
       "E32800  0.000232 -0.000098 -0.000135  0.000232\n",
       "E02300  0.000145 -0.000058 -0.000086  0.000145"
      ]
     },
     "execution_count": 20,
     "metadata": {},
     "output_type": "execute_result"
    }
   ],
   "source": [
    "mult_coef = pd.DataFrame({\n",
    "    'negative': mult.coef_[0],\n",
    "    'zero': mult.coef_[1],\n",
    "    'positive': mult.coef_[2],\n",
    "    'abs_zero': np.abs(mult.coef_[1])},\n",
    "    index=X_train.columns)\n",
    "\n",
    "mult_coef.sort_values('abs_zero', ascending=False)[:10]"
   ]
  },
  {
   "cell_type": "markdown",
   "metadata": {},
   "source": [
    "### Predict"
   ]
  },
  {
   "cell_type": "code",
   "execution_count": 21,
   "metadata": {},
   "outputs": [
    {
     "data": {
      "text/plain": [
       "0.7756722779259805"
      ]
     },
     "execution_count": 21,
     "metadata": {},
     "output_type": "execute_result"
    }
   ],
   "source": [
    "mult_pred = pd.DataFrame({'actual': Y_test_sign,\n",
    "                          'pred': mult.predict(X_test)})\n",
    "mult_pred['sign_correct'] = (mult_pred.actual == mult_pred.pred)\n",
    "mult_pred['count'] = 1\n",
    "mult_pred.sign_correct.mean()"
   ]
  },
  {
   "cell_type": "code",
   "execution_count": 22,
   "metadata": {},
   "outputs": [
    {
     "data": {
      "text/html": [
       "<div>\n",
       "<style scoped>\n",
       "    .dataframe tbody tr th:only-of-type {\n",
       "        vertical-align: middle;\n",
       "    }\n",
       "\n",
       "    .dataframe tbody tr th {\n",
       "        vertical-align: top;\n",
       "    }\n",
       "\n",
       "    .dataframe thead th {\n",
       "        text-align: right;\n",
       "    }\n",
       "</style>\n",
       "<table border=\"1\" class=\"dataframe\">\n",
       "  <thead>\n",
       "    <tr style=\"text-align: right;\">\n",
       "      <th>pred</th>\n",
       "      <th>-1</th>\n",
       "      <th>0</th>\n",
       "      <th>1</th>\n",
       "      <th>All</th>\n",
       "    </tr>\n",
       "    <tr>\n",
       "      <th>actual</th>\n",
       "      <th></th>\n",
       "      <th></th>\n",
       "      <th></th>\n",
       "      <th></th>\n",
       "    </tr>\n",
       "  </thead>\n",
       "  <tbody>\n",
       "    <tr>\n",
       "      <th>-1</th>\n",
       "      <td>1875</td>\n",
       "      <td>2671</td>\n",
       "      <td>129</td>\n",
       "      <td>4675</td>\n",
       "    </tr>\n",
       "    <tr>\n",
       "      <th>0</th>\n",
       "      <td>629</td>\n",
       "      <td>23291</td>\n",
       "      <td>64</td>\n",
       "      <td>23984</td>\n",
       "    </tr>\n",
       "    <tr>\n",
       "      <th>1</th>\n",
       "      <td>1364</td>\n",
       "      <td>2459</td>\n",
       "      <td>131</td>\n",
       "      <td>3954</td>\n",
       "    </tr>\n",
       "    <tr>\n",
       "      <th>All</th>\n",
       "      <td>3868</td>\n",
       "      <td>28421</td>\n",
       "      <td>324</td>\n",
       "      <td>32613</td>\n",
       "    </tr>\n",
       "  </tbody>\n",
       "</table>\n",
       "</div>"
      ],
      "text/plain": [
       "pred      -1      0    1    All\n",
       "actual                         \n",
       "-1      1875   2671  129   4675\n",
       "0        629  23291   64  23984\n",
       "1       1364   2459  131   3954\n",
       "All     3868  28421  324  32613"
      ]
     },
     "execution_count": 22,
     "metadata": {},
     "output_type": "execute_result"
    }
   ],
   "source": [
    "mult_pred.pivot_table(index='actual', columns='pred', \n",
    "                      values='count', aggfunc=sum, margins=True)"
   ]
  },
  {
   "cell_type": "markdown",
   "metadata": {},
   "source": [
    "#### Log-loss"
   ]
  },
  {
   "cell_type": "code",
   "execution_count": 23,
   "metadata": {},
   "outputs": [
    {
     "data": {
      "text/plain": [
       "0.8714288788771535"
      ]
     },
     "execution_count": 23,
     "metadata": {},
     "output_type": "execute_result"
    }
   ],
   "source": [
    "mult_pred_proba = mult.predict_proba(X_test)\n",
    "metrics.log_loss(Y_test_sign, mult_pred_proba)"
   ]
  }
 ],
 "metadata": {
  "kernelspec": {
   "display_name": "Python 3",
   "language": "python",
   "name": "python3"
  },
  "language_info": {
   "codemirror_mode": {
    "name": "ipython",
    "version": 3
   },
   "file_extension": ".py",
   "mimetype": "text/x-python",
   "name": "python",
   "nbconvert_exporter": "python",
   "pygments_lexer": "ipython3",
   "version": "3.6.4"
  },
  "toc": {
   "base_numbering": 1,
   "nav_menu": {},
   "number_sections": true,
   "sideBar": true,
   "skip_h1_title": false,
   "title_cell": "Table of Contents",
   "title_sidebar": "Contents",
   "toc_cell": false,
   "toc_position": {},
   "toc_section_display": true,
   "toc_window_display": false
  }
 },
 "nbformat": 4,
 "nbformat_minor": 2
}
