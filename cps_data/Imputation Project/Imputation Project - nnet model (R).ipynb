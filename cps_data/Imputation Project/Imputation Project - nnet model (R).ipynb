{
 "cells": [
  {
   "cell_type": "markdown",
   "metadata": {},
   "source": [
    "# nnet P22250 Model"
   ]
  },
  {
   "cell_type": "code",
   "execution_count": 13,
   "metadata": {},
   "outputs": [],
   "source": [
    "library('nnet')"
   ]
  },
  {
   "cell_type": "code",
   "execution_count": 14,
   "metadata": {},
   "outputs": [],
   "source": [
    "# puf2011signed contains only predictor/response variables as well sign columns (-1,0,1 for neg/zero/pos)\n",
    "\n",
    "puf2011 <- read.csv('puf2011signed.csv')\n",
    "puf2011test <- read.csv('puf2011test')\n",
    "\n",
    "# P22250_dum = P22250's sign column\n",
    "\n",
    "puf2011$P22250_dum <- as.factor(puf2011$P22250_dum)"
   ]
  },
  {
   "cell_type": "code",
   "execution_count": 15,
   "metadata": {},
   "outputs": [],
   "source": [
    "#80% training data, 20% validation\n",
    "\n",
    "set.seed(1994)\n",
    "sample <- sample(2, nrow(puf2011), replace = TRUE, prob = c(0.8,0.2))\n",
    "training <- puf2011[sample == 1,]\n",
    "validation <- puf2011[sample == 2,]\n",
    "\n",
    "# Writes training and validation data to csv for later use in Python's sklearn \n",
    "\n",
    "write.csv(training, file = 'puf80%training')\n",
    "write.csv(validation, file = 'puf20%validation')\n"
   ]
  },
  {
   "cell_type": "code",
   "execution_count": 16,
   "metadata": {
    "scrolled": false
   },
   "outputs": [
    {
     "name": "stdout",
     "output_type": "stream",
     "text": [
      "# weights:  90 (58 variable)\n",
      "initial  value 144108.269742 \n",
      "iter  10 value 141199.529004\n",
      "iter  20 value 138914.010614\n",
      "iter  30 value 136645.050312\n",
      "iter  40 value 134404.358898\n",
      "iter  50 value 132732.392183\n",
      "iter  60 value 81914.988284\n",
      "iter  70 value 78659.009089\n",
      "iter  80 value 77592.410493\n",
      "iter  90 value 77332.207517\n",
      "iter 100 value 77324.500150\n",
      "iter 110 value 77310.057698\n",
      "iter 120 value 77134.832568\n",
      "iter 130 value 76753.415788\n",
      "iter 140 value 76628.082428\n",
      "iter 150 value 76627.210928\n",
      "iter 160 value 76626.999565\n",
      "iter 170 value 76626.052425\n",
      "iter 180 value 76555.734649\n",
      "iter 190 value 76497.404597\n",
      "iter 200 value 76496.091278\n",
      "iter 210 value 76495.774015\n",
      "iter 220 value 76492.753263\n",
      "iter 230 value 76481.332955\n",
      "iter 240 value 76390.609197\n",
      "iter 250 value 76355.207421\n",
      "iter 260 value 76354.989095\n",
      "iter 270 value 76354.816129\n",
      "iter 280 value 76354.579849\n",
      "iter 290 value 76354.294635\n",
      "iter 300 value 76284.182418\n",
      "iter 310 value 76274.089401\n",
      "iter 320 value 76274.042392\n",
      "iter 330 value 76273.033974\n",
      "iter 340 value 76272.686980\n",
      "iter 340 value 76272.686255\n",
      "final  value 76272.573473 \n",
      "converged\n"
     ]
    }
   ],
   "source": [
    "#Model\n",
    "P22250_model <- multinom(P22250_dum ~ DSI + EIC + MARS + E00200 + E00300 + E00600 + \n",
    "                                      E00800 + E00900 + E01100 + E01400 + E01500 + \n",
    "                                      E01700 + E02100 + E02300 + E02400 + E03150 + \n",
    "                                      E03210 + E03240 + E03270 + E03300 + E17500 + \n",
    "                                      E18400 + E18500 + E19200 + E19800 + E20100 + \n",
    "                                      E20400 + E32800, data = training, maxit = 500)"
   ]
  },
  {
   "cell_type": "markdown",
   "metadata": {},
   "source": [
    "## Summary"
   ]
  },
  {
   "cell_type": "code",
   "execution_count": 17,
   "metadata": {},
   "outputs": [
    {
     "name": "stdout",
     "output_type": "stream",
     "text": [
      "[1] \"Model Summary\"\n"
     ]
    },
    {
     "data": {
      "text/html": [
       "<table>\n",
       "<thead><tr><th></th><th scope=col>Coefficients_0</th><th scope=col>Std_Errors_0</th><th scope=col>T_Stats_0</th><th scope=col>Coefficients_1</th><th scope=col>Std_Errors_1</th><th scope=col>T_Stats_1</th></tr></thead>\n",
       "<tbody>\n",
       "\t<tr><th scope=row>(Intercept)</th><td> 2.701511e+00</td><td>2.394810e-08 </td><td> 1.128069e+08</td><td>-1.165657e-01</td><td>1.386505e-08 </td><td>-8.407162e+06</td></tr>\n",
       "\t<tr><th scope=row>DSI</th><td> 1.369243e+00</td><td>3.409256e-12 </td><td> 4.016250e+11</td><td> 3.161023e-01</td><td>2.202593e-12 </td><td> 1.435137e+11</td></tr>\n",
       "\t<tr><th scope=row>EIC</th><td> 1.776884e+00</td><td>2.480736e-10 </td><td> 7.162730e+09</td><td> 1.388389e-01</td><td>1.753808e-10 </td><td> 7.916427e+08</td></tr>\n",
       "\t<tr><th scope=row>MARS</th><td>-1.004924e-01</td><td>4.078906e-08 </td><td>-2.463709e+06</td><td>-1.246345e-02</td><td>2.397615e-08 </td><td>-5.198270e+05</td></tr>\n",
       "\t<tr><th scope=row>E00200</th><td>-1.013915e-06</td><td>2.315448e-08 </td><td>-4.378917e+01</td><td>-1.263558e-08</td><td>7.106322e-09 </td><td>-1.778076e+00</td></tr>\n",
       "\t<tr><th scope=row>E00300</th><td>-3.355194e-06</td><td>1.894106e-07 </td><td>-1.771387e+01</td><td> 9.547820e-08</td><td>3.364994e-08 </td><td> 2.837396e+00</td></tr>\n",
       "\t<tr><th scope=row>E00600</th><td>-1.575232e-06</td><td>1.113731e-07 </td><td>-1.414374e+01</td><td>-1.091615e-09</td><td>1.588065e-08 </td><td>-6.873868e-02</td></tr>\n",
       "\t<tr><th scope=row>E00800</th><td>-1.516250e-05</td><td>5.873933e-06 </td><td>-2.581320e+00</td><td>-2.070762e-05</td><td>1.202240e-05 </td><td>-1.722419e+00</td></tr>\n",
       "\t<tr><th scope=row>E00900</th><td> 1.911272e-08</td><td>3.617405e-08 </td><td> 5.283544e-01</td><td>-3.469739e-08</td><td>3.314916e-08 </td><td>-1.046705e+00</td></tr>\n",
       "\t<tr><th scope=row>E01100</th><td> 6.108949e-01</td><td>2.154595e-11 </td><td> 2.835311e+10</td><td> 3.530921e-01</td><td>1.759658e-11 </td><td> 2.006596e+10</td></tr>\n",
       "\t<tr><th scope=row>E01400</th><td>-1.530551e-06</td><td>1.423014e-07 </td><td>-1.075570e+01</td><td> 7.077130e-09</td><td>6.097271e-08 </td><td> 1.160705e-01</td></tr>\n",
       "\t<tr><th scope=row>E01500</th><td>-4.505743e-07</td><td>3.104400e-08 </td><td>-1.451406e+01</td><td>-7.797771e-09</td><td>2.063155e-08 </td><td>-3.779538e-01</td></tr>\n",
       "\t<tr><th scope=row>E01700</th><td>-4.126731e-07</td><td>2.152988e-07 </td><td>-1.916746e+00</td><td>-4.563716e-08</td><td>1.509043e-07 </td><td>-3.024245e-01</td></tr>\n",
       "\t<tr><th scope=row>E02100</th><td> 2.576332e-07</td><td>1.328192e-07 </td><td> 1.939729e+00</td><td> 8.486593e-08</td><td>1.190236e-07 </td><td> 7.130177e-01</td></tr>\n",
       "\t<tr><th scope=row>E02300</th><td> 2.742259e-05</td><td>4.508315e-06 </td><td> 6.082668e+00</td><td>-6.385896e-06</td><td>6.210353e-06 </td><td>-1.028266e+00</td></tr>\n",
       "\t<tr><th scope=row>E02400</th><td>-2.130673e-05</td><td>7.489494e-07 </td><td>-2.844883e+01</td><td>-5.271748e-06</td><td>7.830944e-07 </td><td>-6.731945e+00</td></tr>\n",
       "\t<tr><th scope=row>E03150</th><td>-5.953271e-05</td><td>6.257565e-06 </td><td>-9.513718e+00</td><td> 5.193829e-06</td><td>6.842391e-06 </td><td> 7.590663e-01</td></tr>\n",
       "\t<tr><th scope=row>E03210</th><td> 6.315046e-04</td><td>3.895614e-05 </td><td> 1.621066e+01</td><td>-7.563420e-05</td><td>2.144444e-05 </td><td>-3.526984e+00</td></tr>\n",
       "\t<tr><th scope=row>E03240</th><td>-8.332726e-07</td><td>3.225841e-07 </td><td>-2.583118e+00</td><td>-4.348094e-07</td><td>1.830698e-07 </td><td>-2.375101e+00</td></tr>\n",
       "\t<tr><th scope=row>E03270</th><td>-3.522434e-05</td><td>1.898360e-06 </td><td>-1.855514e+01</td><td> 3.893580e-06</td><td>1.696300e-06 </td><td> 2.295336e+00</td></tr>\n",
       "\t<tr><th scope=row>E03300</th><td>-1.273472e-05</td><td>7.083045e-07 </td><td>-1.797915e+01</td><td>-8.920666e-08</td><td>4.577952e-07 </td><td>-1.948615e-01</td></tr>\n",
       "\t<tr><th scope=row>E17500</th><td>-5.153770e-06</td><td>9.989465e-07 </td><td>-5.159206e+00</td><td>-1.308604e-07</td><td>6.888605e-07 </td><td>-1.899664e-01</td></tr>\n",
       "\t<tr><th scope=row>E18400</th><td>-8.923060e-07</td><td>1.365127e-07 </td><td>-6.536432e+00</td><td> 2.149151e-08</td><td>3.658504e-08 </td><td> 5.874398e-01</td></tr>\n",
       "\t<tr><th scope=row>E18500</th><td>-4.221051e-05</td><td>1.022591e-06 </td><td>-4.127800e+01</td><td>-4.877454e-07</td><td>4.194650e-07 </td><td>-1.162780e+00</td></tr>\n",
       "\t<tr><th scope=row>E19200</th><td>-6.282852e-07</td><td>3.813935e-07 </td><td>-1.647341e+00</td><td> 5.056988e-07</td><td>1.440042e-07 </td><td> 3.511695e+00</td></tr>\n",
       "\t<tr><th scope=row>E19800</th><td>-1.525948e-07</td><td>1.300736e-07 </td><td>-1.173142e+00</td><td>-8.237875e-09</td><td>3.374370e-08 </td><td>-2.441307e-01</td></tr>\n",
       "\t<tr><th scope=row>E20100</th><td>-6.444874e-08</td><td>1.349465e-07 </td><td>-4.775872e-01</td><td> 1.790738e-08</td><td>2.978507e-08 </td><td> 6.012199e-01</td></tr>\n",
       "\t<tr><th scope=row>E20400</th><td>-4.680609e-05</td><td>1.145134e-06 </td><td>-4.087390e+01</td><td>-1.270377e-07</td><td>1.028879e-07 </td><td>-1.234719e+00</td></tr>\n",
       "\t<tr><th scope=row>E32800</th><td> 3.737248e-05</td><td>1.353312e-05 </td><td> 2.761557e+00</td><td> 7.929575e-06</td><td>1.607169e-05 </td><td> 4.933876e-01</td></tr>\n",
       "</tbody>\n",
       "</table>\n"
      ],
      "text/latex": [
       "\\begin{tabular}{r|llllll}\n",
       "  & Coefficients\\_0 & Std\\_Errors\\_0 & T\\_Stats\\_0 & Coefficients\\_1 & Std\\_Errors\\_1 & T\\_Stats\\_1\\\\\n",
       "\\hline\n",
       "\t(Intercept) &  2.701511e+00 & 2.394810e-08  &  1.128069e+08 & -1.165657e-01 & 1.386505e-08  & -8.407162e+06\\\\\n",
       "\tDSI &  1.369243e+00 & 3.409256e-12  &  4.016250e+11 &  3.161023e-01 & 2.202593e-12  &  1.435137e+11\\\\\n",
       "\tEIC &  1.776884e+00 & 2.480736e-10  &  7.162730e+09 &  1.388389e-01 & 1.753808e-10  &  7.916427e+08\\\\\n",
       "\tMARS & -1.004924e-01 & 4.078906e-08  & -2.463709e+06 & -1.246345e-02 & 2.397615e-08  & -5.198270e+05\\\\\n",
       "\tE00200 & -1.013915e-06 & 2.315448e-08  & -4.378917e+01 & -1.263558e-08 & 7.106322e-09  & -1.778076e+00\\\\\n",
       "\tE00300 & -3.355194e-06 & 1.894106e-07  & -1.771387e+01 &  9.547820e-08 & 3.364994e-08  &  2.837396e+00\\\\\n",
       "\tE00600 & -1.575232e-06 & 1.113731e-07  & -1.414374e+01 & -1.091615e-09 & 1.588065e-08  & -6.873868e-02\\\\\n",
       "\tE00800 & -1.516250e-05 & 5.873933e-06  & -2.581320e+00 & -2.070762e-05 & 1.202240e-05  & -1.722419e+00\\\\\n",
       "\tE00900 &  1.911272e-08 & 3.617405e-08  &  5.283544e-01 & -3.469739e-08 & 3.314916e-08  & -1.046705e+00\\\\\n",
       "\tE01100 &  6.108949e-01 & 2.154595e-11  &  2.835311e+10 &  3.530921e-01 & 1.759658e-11  &  2.006596e+10\\\\\n",
       "\tE01400 & -1.530551e-06 & 1.423014e-07  & -1.075570e+01 &  7.077130e-09 & 6.097271e-08  &  1.160705e-01\\\\\n",
       "\tE01500 & -4.505743e-07 & 3.104400e-08  & -1.451406e+01 & -7.797771e-09 & 2.063155e-08  & -3.779538e-01\\\\\n",
       "\tE01700 & -4.126731e-07 & 2.152988e-07  & -1.916746e+00 & -4.563716e-08 & 1.509043e-07  & -3.024245e-01\\\\\n",
       "\tE02100 &  2.576332e-07 & 1.328192e-07  &  1.939729e+00 &  8.486593e-08 & 1.190236e-07  &  7.130177e-01\\\\\n",
       "\tE02300 &  2.742259e-05 & 4.508315e-06  &  6.082668e+00 & -6.385896e-06 & 6.210353e-06  & -1.028266e+00\\\\\n",
       "\tE02400 & -2.130673e-05 & 7.489494e-07  & -2.844883e+01 & -5.271748e-06 & 7.830944e-07  & -6.731945e+00\\\\\n",
       "\tE03150 & -5.953271e-05 & 6.257565e-06  & -9.513718e+00 &  5.193829e-06 & 6.842391e-06  &  7.590663e-01\\\\\n",
       "\tE03210 &  6.315046e-04 & 3.895614e-05  &  1.621066e+01 & -7.563420e-05 & 2.144444e-05  & -3.526984e+00\\\\\n",
       "\tE03240 & -8.332726e-07 & 3.225841e-07  & -2.583118e+00 & -4.348094e-07 & 1.830698e-07  & -2.375101e+00\\\\\n",
       "\tE03270 & -3.522434e-05 & 1.898360e-06  & -1.855514e+01 &  3.893580e-06 & 1.696300e-06  &  2.295336e+00\\\\\n",
       "\tE03300 & -1.273472e-05 & 7.083045e-07  & -1.797915e+01 & -8.920666e-08 & 4.577952e-07  & -1.948615e-01\\\\\n",
       "\tE17500 & -5.153770e-06 & 9.989465e-07  & -5.159206e+00 & -1.308604e-07 & 6.888605e-07  & -1.899664e-01\\\\\n",
       "\tE18400 & -8.923060e-07 & 1.365127e-07  & -6.536432e+00 &  2.149151e-08 & 3.658504e-08  &  5.874398e-01\\\\\n",
       "\tE18500 & -4.221051e-05 & 1.022591e-06  & -4.127800e+01 & -4.877454e-07 & 4.194650e-07  & -1.162780e+00\\\\\n",
       "\tE19200 & -6.282852e-07 & 3.813935e-07  & -1.647341e+00 &  5.056988e-07 & 1.440042e-07  &  3.511695e+00\\\\\n",
       "\tE19800 & -1.525948e-07 & 1.300736e-07  & -1.173142e+00 & -8.237875e-09 & 3.374370e-08  & -2.441307e-01\\\\\n",
       "\tE20100 & -6.444874e-08 & 1.349465e-07  & -4.775872e-01 &  1.790738e-08 & 2.978507e-08  &  6.012199e-01\\\\\n",
       "\tE20400 & -4.680609e-05 & 1.145134e-06  & -4.087390e+01 & -1.270377e-07 & 1.028879e-07  & -1.234719e+00\\\\\n",
       "\tE32800 &  3.737248e-05 & 1.353312e-05  &  2.761557e+00 &  7.929575e-06 & 1.607169e-05  &  4.933876e-01\\\\\n",
       "\\end{tabular}\n"
      ],
      "text/markdown": [
       "\n",
       "| <!--/--> | Coefficients_0 | Std_Errors_0 | T_Stats_0 | Coefficients_1 | Std_Errors_1 | T_Stats_1 | \n",
       "|---|---|---|---|---|---|---|---|---|---|---|---|---|---|---|---|---|---|---|---|---|---|---|---|---|---|---|---|---|\n",
       "| (Intercept) |  2.701511e+00 | 2.394810e-08  |  1.128069e+08 | -1.165657e-01 | 1.386505e-08  | -8.407162e+06 | \n",
       "| DSI |  1.369243e+00 | 3.409256e-12  |  4.016250e+11 |  3.161023e-01 | 2.202593e-12  |  1.435137e+11 | \n",
       "| EIC |  1.776884e+00 | 2.480736e-10  |  7.162730e+09 |  1.388389e-01 | 1.753808e-10  |  7.916427e+08 | \n",
       "| MARS | -1.004924e-01 | 4.078906e-08  | -2.463709e+06 | -1.246345e-02 | 2.397615e-08  | -5.198270e+05 | \n",
       "| E00200 | -1.013915e-06 | 2.315448e-08  | -4.378917e+01 | -1.263558e-08 | 7.106322e-09  | -1.778076e+00 | \n",
       "| E00300 | -3.355194e-06 | 1.894106e-07  | -1.771387e+01 |  9.547820e-08 | 3.364994e-08  |  2.837396e+00 | \n",
       "| E00600 | -1.575232e-06 | 1.113731e-07  | -1.414374e+01 | -1.091615e-09 | 1.588065e-08  | -6.873868e-02 | \n",
       "| E00800 | -1.516250e-05 | 5.873933e-06  | -2.581320e+00 | -2.070762e-05 | 1.202240e-05  | -1.722419e+00 | \n",
       "| E00900 |  1.911272e-08 | 3.617405e-08  |  5.283544e-01 | -3.469739e-08 | 3.314916e-08  | -1.046705e+00 | \n",
       "| E01100 |  6.108949e-01 | 2.154595e-11  |  2.835311e+10 |  3.530921e-01 | 1.759658e-11  |  2.006596e+10 | \n",
       "| E01400 | -1.530551e-06 | 1.423014e-07  | -1.075570e+01 |  7.077130e-09 | 6.097271e-08  |  1.160705e-01 | \n",
       "| E01500 | -4.505743e-07 | 3.104400e-08  | -1.451406e+01 | -7.797771e-09 | 2.063155e-08  | -3.779538e-01 | \n",
       "| E01700 | -4.126731e-07 | 2.152988e-07  | -1.916746e+00 | -4.563716e-08 | 1.509043e-07  | -3.024245e-01 | \n",
       "| E02100 |  2.576332e-07 | 1.328192e-07  |  1.939729e+00 |  8.486593e-08 | 1.190236e-07  |  7.130177e-01 | \n",
       "| E02300 |  2.742259e-05 | 4.508315e-06  |  6.082668e+00 | -6.385896e-06 | 6.210353e-06  | -1.028266e+00 | \n",
       "| E02400 | -2.130673e-05 | 7.489494e-07  | -2.844883e+01 | -5.271748e-06 | 7.830944e-07  | -6.731945e+00 | \n",
       "| E03150 | -5.953271e-05 | 6.257565e-06  | -9.513718e+00 |  5.193829e-06 | 6.842391e-06  |  7.590663e-01 | \n",
       "| E03210 |  6.315046e-04 | 3.895614e-05  |  1.621066e+01 | -7.563420e-05 | 2.144444e-05  | -3.526984e+00 | \n",
       "| E03240 | -8.332726e-07 | 3.225841e-07  | -2.583118e+00 | -4.348094e-07 | 1.830698e-07  | -2.375101e+00 | \n",
       "| E03270 | -3.522434e-05 | 1.898360e-06  | -1.855514e+01 |  3.893580e-06 | 1.696300e-06  |  2.295336e+00 | \n",
       "| E03300 | -1.273472e-05 | 7.083045e-07  | -1.797915e+01 | -8.920666e-08 | 4.577952e-07  | -1.948615e-01 | \n",
       "| E17500 | -5.153770e-06 | 9.989465e-07  | -5.159206e+00 | -1.308604e-07 | 6.888605e-07  | -1.899664e-01 | \n",
       "| E18400 | -8.923060e-07 | 1.365127e-07  | -6.536432e+00 |  2.149151e-08 | 3.658504e-08  |  5.874398e-01 | \n",
       "| E18500 | -4.221051e-05 | 1.022591e-06  | -4.127800e+01 | -4.877454e-07 | 4.194650e-07  | -1.162780e+00 | \n",
       "| E19200 | -6.282852e-07 | 3.813935e-07  | -1.647341e+00 |  5.056988e-07 | 1.440042e-07  |  3.511695e+00 | \n",
       "| E19800 | -1.525948e-07 | 1.300736e-07  | -1.173142e+00 | -8.237875e-09 | 3.374370e-08  | -2.441307e-01 | \n",
       "| E20100 | -6.444874e-08 | 1.349465e-07  | -4.775872e-01 |  1.790738e-08 | 2.978507e-08  |  6.012199e-01 | \n",
       "| E20400 | -4.680609e-05 | 1.145134e-06  | -4.087390e+01 | -1.270377e-07 | 1.028879e-07  | -1.234719e+00 | \n",
       "| E32800 |  3.737248e-05 | 1.353312e-05  |  2.761557e+00 |  7.929575e-06 | 1.607169e-05  |  4.933876e-01 | \n",
       "\n",
       "\n"
      ],
      "text/plain": [
       "            Coefficients_0 Std_Errors_0 T_Stats_0     Coefficients_1\n",
       "(Intercept)  2.701511e+00  2.394810e-08  1.128069e+08 -1.165657e-01 \n",
       "DSI          1.369243e+00  3.409256e-12  4.016250e+11  3.161023e-01 \n",
       "EIC          1.776884e+00  2.480736e-10  7.162730e+09  1.388389e-01 \n",
       "MARS        -1.004924e-01  4.078906e-08 -2.463709e+06 -1.246345e-02 \n",
       "E00200      -1.013915e-06  2.315448e-08 -4.378917e+01 -1.263558e-08 \n",
       "E00300      -3.355194e-06  1.894106e-07 -1.771387e+01  9.547820e-08 \n",
       "E00600      -1.575232e-06  1.113731e-07 -1.414374e+01 -1.091615e-09 \n",
       "E00800      -1.516250e-05  5.873933e-06 -2.581320e+00 -2.070762e-05 \n",
       "E00900       1.911272e-08  3.617405e-08  5.283544e-01 -3.469739e-08 \n",
       "E01100       6.108949e-01  2.154595e-11  2.835311e+10  3.530921e-01 \n",
       "E01400      -1.530551e-06  1.423014e-07 -1.075570e+01  7.077130e-09 \n",
       "E01500      -4.505743e-07  3.104400e-08 -1.451406e+01 -7.797771e-09 \n",
       "E01700      -4.126731e-07  2.152988e-07 -1.916746e+00 -4.563716e-08 \n",
       "E02100       2.576332e-07  1.328192e-07  1.939729e+00  8.486593e-08 \n",
       "E02300       2.742259e-05  4.508315e-06  6.082668e+00 -6.385896e-06 \n",
       "E02400      -2.130673e-05  7.489494e-07 -2.844883e+01 -5.271748e-06 \n",
       "E03150      -5.953271e-05  6.257565e-06 -9.513718e+00  5.193829e-06 \n",
       "E03210       6.315046e-04  3.895614e-05  1.621066e+01 -7.563420e-05 \n",
       "E03240      -8.332726e-07  3.225841e-07 -2.583118e+00 -4.348094e-07 \n",
       "E03270      -3.522434e-05  1.898360e-06 -1.855514e+01  3.893580e-06 \n",
       "E03300      -1.273472e-05  7.083045e-07 -1.797915e+01 -8.920666e-08 \n",
       "E17500      -5.153770e-06  9.989465e-07 -5.159206e+00 -1.308604e-07 \n",
       "E18400      -8.923060e-07  1.365127e-07 -6.536432e+00  2.149151e-08 \n",
       "E18500      -4.221051e-05  1.022591e-06 -4.127800e+01 -4.877454e-07 \n",
       "E19200      -6.282852e-07  3.813935e-07 -1.647341e+00  5.056988e-07 \n",
       "E19800      -1.525948e-07  1.300736e-07 -1.173142e+00 -8.237875e-09 \n",
       "E20100      -6.444874e-08  1.349465e-07 -4.775872e-01  1.790738e-08 \n",
       "E20400      -4.680609e-05  1.145134e-06 -4.087390e+01 -1.270377e-07 \n",
       "E32800       3.737248e-05  1.353312e-05  2.761557e+00  7.929575e-06 \n",
       "            Std_Errors_1 T_Stats_1    \n",
       "(Intercept) 1.386505e-08 -8.407162e+06\n",
       "DSI         2.202593e-12  1.435137e+11\n",
       "EIC         1.753808e-10  7.916427e+08\n",
       "MARS        2.397615e-08 -5.198270e+05\n",
       "E00200      7.106322e-09 -1.778076e+00\n",
       "E00300      3.364994e-08  2.837396e+00\n",
       "E00600      1.588065e-08 -6.873868e-02\n",
       "E00800      1.202240e-05 -1.722419e+00\n",
       "E00900      3.314916e-08 -1.046705e+00\n",
       "E01100      1.759658e-11  2.006596e+10\n",
       "E01400      6.097271e-08  1.160705e-01\n",
       "E01500      2.063155e-08 -3.779538e-01\n",
       "E01700      1.509043e-07 -3.024245e-01\n",
       "E02100      1.190236e-07  7.130177e-01\n",
       "E02300      6.210353e-06 -1.028266e+00\n",
       "E02400      7.830944e-07 -6.731945e+00\n",
       "E03150      6.842391e-06  7.590663e-01\n",
       "E03210      2.144444e-05 -3.526984e+00\n",
       "E03240      1.830698e-07 -2.375101e+00\n",
       "E03270      1.696300e-06  2.295336e+00\n",
       "E03300      4.577952e-07 -1.948615e-01\n",
       "E17500      6.888605e-07 -1.899664e-01\n",
       "E18400      3.658504e-08  5.874398e-01\n",
       "E18500      4.194650e-07 -1.162780e+00\n",
       "E19200      1.440042e-07  3.511695e+00\n",
       "E19800      3.374370e-08 -2.441307e-01\n",
       "E20100      2.978507e-08  6.012199e-01\n",
       "E20400      1.028879e-07 -1.234719e+00\n",
       "E32800      1.607169e-05  4.933876e-01"
      ]
     },
     "metadata": {},
     "output_type": "display_data"
    },
    {
     "name": "stdout",
     "output_type": "stream",
     "text": [
      "[1] \"Residual Deviance\"\n"
     ]
    },
    {
     "data": {
      "text/html": [
       "152545.146946553"
      ],
      "text/latex": [
       "152545.146946553"
      ],
      "text/markdown": [
       "152545.146946553"
      ],
      "text/plain": [
       "[1] 152545.1"
      ]
     },
     "metadata": {},
     "output_type": "display_data"
    }
   ],
   "source": [
    "model_sum <- summary(P22250_model)\n",
    "\n",
    "print('Model Summary')\n",
    "\n",
    "# Pulls coefficients & standard errors from summary, creates df and adds columns for t-stats\n",
    "\n",
    "model_sum_df <- rbind(model_sum$coefficients, model_sum$standard.errors)\n",
    "model_sum_df <- data.frame(t(model_sum_df))\n",
    "model_sum_df <- model_sum_df[,c(1, 3, 2, 4)]\n",
    "colnames(model_sum_df) <- c('Coefficients_0', 'Std_Errors_0', 'Coefficients_1', 'Std_Errors_1')\n",
    "\n",
    "T_Stats_0 <- model_sum_df[,'Coefficients_0']/model_sum_df[,'Std_Errors_0']\n",
    "T_Stats_1 <- model_sum_df[,'Coefficients_1']/model_sum_df[,'Std_Errors_1']\n",
    "model_sum_df$T_Stats_0 <- T_Stats_0\n",
    "model_sum_df$T_Stats_1 <- T_Stats_1\n",
    "\n",
    "model_sum_df <- model_sum_df[,c(1,2,5,3,4,6)]\n",
    "\n",
    "model_sum_df\n",
    "\n",
    "# Adds residual deviance\n",
    "\n",
    "print('Residual Deviance')\n",
    "model_sum$deviance"
   ]
  },
  {
   "cell_type": "markdown",
   "metadata": {},
   "source": [
    "## Intercept-only summary"
   ]
  },
  {
   "cell_type": "code",
   "execution_count": 18,
   "metadata": {
    "scrolled": true
   },
   "outputs": [
    {
     "name": "stdout",
     "output_type": "stream",
     "text": [
      "# weights:  6 (2 variable)\n",
      "initial  value 179937.312312 \n",
      "final  value 124030.211417 \n",
      "converged\n",
      "[1] \"Model summary\"\n"
     ]
    },
    {
     "data": {
      "text/html": [
       "<table>\n",
       "<thead><tr><th></th><th scope=col>Coefficients</th><th scope=col>Std Errors</th><th scope=col>T-stats</th></tr></thead>\n",
       "<tbody>\n",
       "\t<tr><th scope=row>0</th><td> 1.6431718 </td><td>0.007149548</td><td>229.82877  </td></tr>\n",
       "\t<tr><th scope=row>1</th><td>-0.1696247 </td><td>0.009673945</td><td>-17.53418  </td></tr>\n",
       "</tbody>\n",
       "</table>\n"
      ],
      "text/latex": [
       "\\begin{tabular}{r|lll}\n",
       "  & Coefficients & Std Errors & T-stats\\\\\n",
       "\\hline\n",
       "\t0 &  1.6431718  & 0.007149548 & 229.82877  \\\\\n",
       "\t1 & -0.1696247  & 0.009673945 & -17.53418  \\\\\n",
       "\\end{tabular}\n"
      ],
      "text/markdown": [
       "\n",
       "| <!--/--> | Coefficients | Std Errors | T-stats | \n",
       "|---|---|\n",
       "| 0 |  1.6431718  | 0.007149548 | 229.82877   | \n",
       "| 1 | -0.1696247  | 0.009673945 | -17.53418   | \n",
       "\n",
       "\n"
      ],
      "text/plain": [
       "  Coefficients Std Errors  T-stats  \n",
       "0  1.6431718   0.007149548 229.82877\n",
       "1 -0.1696247   0.009673945 -17.53418"
      ]
     },
     "metadata": {},
     "output_type": "display_data"
    },
    {
     "name": "stdout",
     "output_type": "stream",
     "text": [
      "[1] \"Residual deviance\"\n"
     ]
    },
    {
     "data": {
      "text/html": [
       "248060.422834896"
      ],
      "text/latex": [
       "248060.422834896"
      ],
      "text/markdown": [
       "248060.422834896"
      ],
      "text/plain": [
       "[1] 248060.4"
      ]
     },
     "metadata": {},
     "output_type": "display_data"
    },
    {
     "name": "stdout",
     "output_type": "stream",
     "text": [
      "[1] \"Predicted probabilities\"\n"
     ]
    },
    {
     "data": {
      "text/html": [
       "<table>\n",
       "<thead><tr><th scope=col>-1</th><th scope=col>0</th><th scope=col>1</th></tr></thead>\n",
       "<tbody>\n",
       "\t<tr><td>0.1425409</td><td>0.7371572</td><td>0.1203019</td></tr>\n",
       "</tbody>\n",
       "</table>\n"
      ],
      "text/latex": [
       "\\begin{tabular}{lll}\n",
       " -1 & 0 & 1\\\\\n",
       "\\hline\n",
       "\t 0.1425409 & 0.7371572 & 0.1203019\\\\\n",
       "\\end{tabular}\n"
      ],
      "text/markdown": [
       "\n",
       "-1 | 0 | 1 | \n",
       "|---|\n",
       "| 0.1425409 | 0.7371572 | 0.1203019 | \n",
       "\n",
       "\n"
      ],
      "text/plain": [
       "     -1        0         1        \n",
       "[1,] 0.1425409 0.7371572 0.1203019"
      ]
     },
     "metadata": {},
     "output_type": "display_data"
    }
   ],
   "source": [
    "# Model, prediction df, summary\n",
    "\n",
    "int_P22250_model <- multinom(P22250_dum ~ 1 , data = puf2011)\n",
    "int_P22250_model_probs <- predict(int_P22250_model, puf2011, type = 'prob')\n",
    "int_model_sum <- summary(int_P22250_model)\n",
    "\n",
    "print('Model summary')\n",
    "int_model_sum_df <- data.frame(int_model_sum$coefficients, int_model_sum$standard.errors,\n",
    "                           int_model_sum$coefficients/int_model_sum$standard.errors)\n",
    "names(int_model_sum_df) <- c('Coefficients', 'Std Errors', 'T-stats')\n",
    "int_model_sum_df\n",
    "\n",
    "print('Residual deviance')\n",
    "int_P22250_model$deviance\n",
    "\n",
    "print('Predicted probabilities')\n",
    "t(int_P22250_model_probs[1,])"
   ]
  },
  {
   "cell_type": "markdown",
   "metadata": {},
   "source": [
    "# Imputation & validation"
   ]
  },
  {
   "cell_type": "markdown",
   "metadata": {},
   "source": [
    "## Stochastic imputation function"
   ]
  },
  {
   "cell_type": "code",
   "execution_count": 25,
   "metadata": {},
   "outputs": [],
   "source": [
    "# 'probs0,' 'probs0_full' contain sign probability predictions for validation, full datasets. \n",
    "# Probabilities are written to csv for log-loss computation.\n",
    "\n",
    "probs0 <- predict(P22250_model, validation, type = 'prob')\n",
    "write.csv(probs0, file = 'nnet_predictions_valid')\n",
    "probs0_full <- predict(P22250_model, puf2011, type = 'prob')\n",
    "write.csv(probs0_full, file = 'nnet_predictions_full')\n",
    "\n",
    "# Create imputation function. Arguments = random uniform in [0,1] and one row of probs0 named probs.\n",
    "# Function outputs predicted category if its associated CDF value > runif.\n",
    "# Probs[[1]] = P(negative), Probs[[2]] = P(zero), Probs[[3]] = P(positive)\n",
    "\n",
    "stoch_imp <- function(runif, probs){\n",
    "    if (runif < probs[[1]]) {\n",
    "        return (-1)\n",
    "    }\n",
    "    else if (runif < (probs[[2]] + probs[[1]])) {\n",
    "        return (0)\n",
    "    }\n",
    "    else {\n",
    "        return (1)\n",
    "    }\n",
    "}\n"
   ]
  },
  {
   "cell_type": "markdown",
   "metadata": {},
   "source": [
    "## Imputation"
   ]
  },
  {
   "cell_type": "code",
   "execution_count": 22,
   "metadata": {},
   "outputs": [],
   "source": [
    "# Creates empty prediction column in validation, and a vector of runifs in [0,1] which is the length of \n",
    "# the validation dataset.\n",
    "\n",
    "validation$P22250_p0_dum <- NA\n",
    "set.seed(1995)\n",
    "valid_rand0 <- runif(nrow(validation))\n",
    "\n",
    "count <- 1\n",
    "\n",
    "# Inserts output of stoch_imp function row-by-row into the validation dataframe's empty prediction column,\n",
    "# given runif and corresponding row of probs0 as arguments. \n",
    "\n",
    "for(i in valid_rand0){\n",
    "    probs <- probs0[count,]\n",
    "    validation[count,'P22250_p0_dum'] <- stoch_imp(i, probs)\n",
    "    count <- count + 1\n",
    "}\n"
   ]
  },
  {
   "cell_type": "markdown",
   "metadata": {},
   "source": [
    "## Validation"
   ]
  },
  {
   "cell_type": "markdown",
   "metadata": {},
   "source": [
    "### Percent accuracy"
   ]
  },
  {
   "cell_type": "code",
   "execution_count": 42,
   "metadata": {},
   "outputs": [
    {
     "data": {
      "text/html": [
       "0.681844663171128"
      ],
      "text/latex": [
       "0.681844663171128"
      ],
      "text/markdown": [
       "0.681844663171128"
      ],
      "text/plain": [
       "[1] 0.6818447"
      ]
     },
     "metadata": {},
     "output_type": "display_data"
    }
   ],
   "source": [
    "# Creates df containing columns for predicted and actual P22250 signs (P22250_dum = actual, P22250_p0_dum = predicted)\n",
    "\n",
    "P22250_valid <- data.frame(validation$P22250_dum, validation$P22250_p0_dum)\n",
    "\n",
    "# Prepares columns for analysis\n",
    "\n",
    "names(P22250_valid) <- c('actual', 'predicted')\n",
    "P22250_valid$actual <- as.numeric(as.character(P22250_valid$actual))\n",
    "\n",
    "# Create boolean accuracy column, 0 = wrong, 1 = correct prediction.\n",
    "\n",
    "P22250_valid$correct_sign <- P22250_valid$actual == P22250_valid$predicted\n",
    "\n",
    "accuracy = mean(P22250_valid$correct_sign)\n",
    "\n",
    "accuracy"
   ]
  }
 ],
 "metadata": {
  "kernelspec": {
   "display_name": "R",
   "language": "R",
   "name": "ir"
  },
  "language_info": {
   "codemirror_mode": "r",
   "file_extension": ".r",
   "mimetype": "text/x-r-source",
   "name": "R",
   "pygments_lexer": "r",
   "version": "3.5.0"
  }
 },
 "nbformat": 4,
 "nbformat_minor": 2
}
