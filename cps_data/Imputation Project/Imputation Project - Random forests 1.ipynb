{
 "cells": [
  {
   "cell_type": "markdown",
   "metadata": {},
   "source": [
    "# Random forests imputation"
   ]
  },
  {
   "cell_type": "markdown",
   "metadata": {},
   "source": [
    "## Setup\n",
    "\n",
    "### Imports"
   ]
  },
  {
   "cell_type": "code",
   "execution_count": 63,
   "metadata": {},
   "outputs": [],
   "source": [
    "import pandas as pd\n",
    "import numpy as np\n",
    "from sklearn import ensemble\n",
    "from sklearn import linear_model\n",
    "from sklearn import metrics\n",
    "from sklearn import model_selection\n",
    "import os"
   ]
  },
  {
   "cell_type": "markdown",
   "metadata": {},
   "source": [
    "## Data\n",
    "\n",
    "Get PUF records."
   ]
  },
  {
   "cell_type": "code",
   "execution_count": 64,
   "metadata": {},
   "outputs": [],
   "source": [
    "df = pd.read_csv('puf2011.csv')\n",
    "\n",
    "# Removes aggregate rows\n",
    "df = df[(df.RECID != 999996) & \n",
    "        (df.RECID != 999997) & \n",
    "        (df.RECID != 999998) &\n",
    "        (df.RECID != 999999)]"
   ]
  },
  {
   "cell_type": "code",
   "execution_count": 65,
   "metadata": {},
   "outputs": [],
   "source": [
    "P22250_indp = ['DSI', 'EIC', 'MARS', 'E00200', 'E00300','E00600', 'E00800', 'E00900', \n",
    "               'E01100', 'E01400', 'E01500', 'E01700','E02100', 'E02300', 'E02400', \n",
    "               'E03150', 'E03210', 'E03240', 'E03270','E03300', 'E17500', 'E18400', \n",
    "               'E18500', 'E19200', 'E19800', 'E20100','E20400', 'E32800', 'P22250']\n",
    "df.drop([i for i in df.columns if i not in P22250_indp], axis=1, inplace=True)"
   ]
  },
  {
   "cell_type": "code",
   "execution_count": 66,
   "metadata": {},
   "outputs": [
    {
     "data": {
      "text/html": [
       "<div>\n",
       "<style scoped>\n",
       "    .dataframe tbody tr th:only-of-type {\n",
       "        vertical-align: middle;\n",
       "    }\n",
       "\n",
       "    .dataframe tbody tr th {\n",
       "        vertical-align: top;\n",
       "    }\n",
       "\n",
       "    .dataframe thead th {\n",
       "        text-align: right;\n",
       "    }\n",
       "</style>\n",
       "<table border=\"1\" class=\"dataframe\">\n",
       "  <thead>\n",
       "    <tr style=\"text-align: right;\">\n",
       "      <th></th>\n",
       "      <th>count</th>\n",
       "      <th>mean</th>\n",
       "      <th>std</th>\n",
       "      <th>min</th>\n",
       "      <th>25%</th>\n",
       "      <th>50%</th>\n",
       "      <th>75%</th>\n",
       "      <th>max</th>\n",
       "    </tr>\n",
       "  </thead>\n",
       "  <tbody>\n",
       "    <tr>\n",
       "      <th>DSI</th>\n",
       "      <td>163786.0</td>\n",
       "      <td>0.037586</td>\n",
       "      <td>0.190192</td>\n",
       "      <td>0.0</td>\n",
       "      <td>0.0</td>\n",
       "      <td>0.0</td>\n",
       "      <td>0.0</td>\n",
       "      <td>1.0</td>\n",
       "    </tr>\n",
       "    <tr>\n",
       "      <th>EIC</th>\n",
       "      <td>163786.0</td>\n",
       "      <td>0.156588</td>\n",
       "      <td>0.540109</td>\n",
       "      <td>0.0</td>\n",
       "      <td>0.0</td>\n",
       "      <td>0.0</td>\n",
       "      <td>0.0</td>\n",
       "      <td>3.0</td>\n",
       "    </tr>\n",
       "    <tr>\n",
       "      <th>MARS</th>\n",
       "      <td>163786.0</td>\n",
       "      <td>1.880747</td>\n",
       "      <td>0.868159</td>\n",
       "      <td>1.0</td>\n",
       "      <td>1.0</td>\n",
       "      <td>2.0</td>\n",
       "      <td>2.0</td>\n",
       "      <td>4.0</td>\n",
       "    </tr>\n",
       "    <tr>\n",
       "      <th>E00200</th>\n",
       "      <td>163786.0</td>\n",
       "      <td>219531.584958</td>\n",
       "      <td>915171.923122</td>\n",
       "      <td>0.0</td>\n",
       "      <td>3350.0</td>\n",
       "      <td>30800.0</td>\n",
       "      <td>104800.0</td>\n",
       "      <td>56530000.0</td>\n",
       "    </tr>\n",
       "    <tr>\n",
       "      <th>E00300</th>\n",
       "      <td>163786.0</td>\n",
       "      <td>21342.225465</td>\n",
       "      <td>232007.404557</td>\n",
       "      <td>0.0</td>\n",
       "      <td>0.0</td>\n",
       "      <td>30.0</td>\n",
       "      <td>1290.0</td>\n",
       "      <td>29460000.0</td>\n",
       "    </tr>\n",
       "    <tr>\n",
       "      <th>E00600</th>\n",
       "      <td>163786.0</td>\n",
       "      <td>35211.744056</td>\n",
       "      <td>369615.898863</td>\n",
       "      <td>0.0</td>\n",
       "      <td>0.0</td>\n",
       "      <td>0.0</td>\n",
       "      <td>2050.0</td>\n",
       "      <td>37050000.0</td>\n",
       "    </tr>\n",
       "    <tr>\n",
       "      <th>E00800</th>\n",
       "      <td>163786.0</td>\n",
       "      <td>32.701025</td>\n",
       "      <td>1269.963802</td>\n",
       "      <td>0.0</td>\n",
       "      <td>0.0</td>\n",
       "      <td>0.0</td>\n",
       "      <td>0.0</td>\n",
       "      <td>174000.0</td>\n",
       "    </tr>\n",
       "    <tr>\n",
       "      <th>E00900</th>\n",
       "      <td>163786.0</td>\n",
       "      <td>16520.290611</td>\n",
       "      <td>236232.722974</td>\n",
       "      <td>-29990000.0</td>\n",
       "      <td>0.0</td>\n",
       "      <td>0.0</td>\n",
       "      <td>0.0</td>\n",
       "      <td>18990000.0</td>\n",
       "    </tr>\n",
       "    <tr>\n",
       "      <th>E01100</th>\n",
       "      <td>163786.0</td>\n",
       "      <td>27.428144</td>\n",
       "      <td>1348.768565</td>\n",
       "      <td>0.0</td>\n",
       "      <td>0.0</td>\n",
       "      <td>0.0</td>\n",
       "      <td>0.0</td>\n",
       "      <td>282700.0</td>\n",
       "    </tr>\n",
       "    <tr>\n",
       "      <th>E01400</th>\n",
       "      <td>163786.0</td>\n",
       "      <td>9755.219567</td>\n",
       "      <td>96146.012962</td>\n",
       "      <td>0.0</td>\n",
       "      <td>0.0</td>\n",
       "      <td>0.0</td>\n",
       "      <td>0.0</td>\n",
       "      <td>6424000.0</td>\n",
       "    </tr>\n",
       "    <tr>\n",
       "      <th>E01500</th>\n",
       "      <td>163786.0</td>\n",
       "      <td>44050.908747</td>\n",
       "      <td>322661.103751</td>\n",
       "      <td>0.0</td>\n",
       "      <td>0.0</td>\n",
       "      <td>0.0</td>\n",
       "      <td>0.0</td>\n",
       "      <td>47380000.0</td>\n",
       "    </tr>\n",
       "    <tr>\n",
       "      <th>E01700</th>\n",
       "      <td>163786.0</td>\n",
       "      <td>6840.160881</td>\n",
       "      <td>43587.840218</td>\n",
       "      <td>0.0</td>\n",
       "      <td>0.0</td>\n",
       "      <td>0.0</td>\n",
       "      <td>0.0</td>\n",
       "      <td>3528000.0</td>\n",
       "    </tr>\n",
       "    <tr>\n",
       "      <th>E02100</th>\n",
       "      <td>163786.0</td>\n",
       "      <td>-542.660728</td>\n",
       "      <td>61779.188307</td>\n",
       "      <td>-9031000.0</td>\n",
       "      <td>0.0</td>\n",
       "      <td>0.0</td>\n",
       "      <td>0.0</td>\n",
       "      <td>3169000.0</td>\n",
       "    </tr>\n",
       "    <tr>\n",
       "      <th>E02300</th>\n",
       "      <td>163786.0</td>\n",
       "      <td>481.709279</td>\n",
       "      <td>2526.695419</td>\n",
       "      <td>0.0</td>\n",
       "      <td>0.0</td>\n",
       "      <td>0.0</td>\n",
       "      <td>0.0</td>\n",
       "      <td>100000.0</td>\n",
       "    </tr>\n",
       "    <tr>\n",
       "      <th>E02400</th>\n",
       "      <td>163786.0</td>\n",
       "      <td>4512.225953</td>\n",
       "      <td>10473.627804</td>\n",
       "      <td>0.0</td>\n",
       "      <td>0.0</td>\n",
       "      <td>0.0</td>\n",
       "      <td>0.0</td>\n",
       "      <td>99500.0</td>\n",
       "    </tr>\n",
       "    <tr>\n",
       "      <th>E03150</th>\n",
       "      <td>163786.0</td>\n",
       "      <td>160.119558</td>\n",
       "      <td>1185.796023</td>\n",
       "      <td>0.0</td>\n",
       "      <td>0.0</td>\n",
       "      <td>0.0</td>\n",
       "      <td>0.0</td>\n",
       "      <td>12000.0</td>\n",
       "    </tr>\n",
       "    <tr>\n",
       "      <th>E03210</th>\n",
       "      <td>163786.0</td>\n",
       "      <td>44.483069</td>\n",
       "      <td>269.336437</td>\n",
       "      <td>0.0</td>\n",
       "      <td>0.0</td>\n",
       "      <td>0.0</td>\n",
       "      <td>0.0</td>\n",
       "      <td>2500.0</td>\n",
       "    </tr>\n",
       "    <tr>\n",
       "      <th>E03270</th>\n",
       "      <td>163786.0</td>\n",
       "      <td>1275.136043</td>\n",
       "      <td>4424.408845</td>\n",
       "      <td>0.0</td>\n",
       "      <td>0.0</td>\n",
       "      <td>0.0</td>\n",
       "      <td>0.0</td>\n",
       "      <td>64500.0</td>\n",
       "    </tr>\n",
       "    <tr>\n",
       "      <th>E03240</th>\n",
       "      <td>163786.0</td>\n",
       "      <td>2841.828471</td>\n",
       "      <td>39038.499505</td>\n",
       "      <td>0.0</td>\n",
       "      <td>0.0</td>\n",
       "      <td>0.0</td>\n",
       "      <td>0.0</td>\n",
       "      <td>4776000.0</td>\n",
       "    </tr>\n",
       "    <tr>\n",
       "      <th>E03300</th>\n",
       "      <td>163786.0</td>\n",
       "      <td>2208.470993</td>\n",
       "      <td>14399.970689</td>\n",
       "      <td>0.0</td>\n",
       "      <td>0.0</td>\n",
       "      <td>0.0</td>\n",
       "      <td>0.0</td>\n",
       "      <td>472900.0</td>\n",
       "    </tr>\n",
       "    <tr>\n",
       "      <th>E17500</th>\n",
       "      <td>163786.0</td>\n",
       "      <td>1106.651240</td>\n",
       "      <td>9125.002382</td>\n",
       "      <td>0.0</td>\n",
       "      <td>0.0</td>\n",
       "      <td>0.0</td>\n",
       "      <td>0.0</td>\n",
       "      <td>772900.0</td>\n",
       "    </tr>\n",
       "    <tr>\n",
       "      <th>E18400</th>\n",
       "      <td>163786.0</td>\n",
       "      <td>34983.992576</td>\n",
       "      <td>205947.326212</td>\n",
       "      <td>0.0</td>\n",
       "      <td>0.0</td>\n",
       "      <td>0.0</td>\n",
       "      <td>8600.0</td>\n",
       "      <td>15160000.0</td>\n",
       "    </tr>\n",
       "    <tr>\n",
       "      <th>E18500</th>\n",
       "      <td>163786.0</td>\n",
       "      <td>6565.538996</td>\n",
       "      <td>17020.160745</td>\n",
       "      <td>0.0</td>\n",
       "      <td>0.0</td>\n",
       "      <td>0.0</td>\n",
       "      <td>6390.0</td>\n",
       "      <td>578400.0</td>\n",
       "    </tr>\n",
       "    <tr>\n",
       "      <th>E19200</th>\n",
       "      <td>163786.0</td>\n",
       "      <td>10156.961303</td>\n",
       "      <td>51492.298923</td>\n",
       "      <td>0.0</td>\n",
       "      <td>0.0</td>\n",
       "      <td>0.0</td>\n",
       "      <td>8750.0</td>\n",
       "      <td>5127000.0</td>\n",
       "    </tr>\n",
       "    <tr>\n",
       "      <th>E19800</th>\n",
       "      <td>163786.0</td>\n",
       "      <td>14357.343546</td>\n",
       "      <td>176109.665417</td>\n",
       "      <td>0.0</td>\n",
       "      <td>0.0</td>\n",
       "      <td>0.0</td>\n",
       "      <td>2910.0</td>\n",
       "      <td>30100000.0</td>\n",
       "    </tr>\n",
       "    <tr>\n",
       "      <th>E20100</th>\n",
       "      <td>163786.0</td>\n",
       "      <td>6420.921605</td>\n",
       "      <td>186886.746251</td>\n",
       "      <td>0.0</td>\n",
       "      <td>0.0</td>\n",
       "      <td>0.0</td>\n",
       "      <td>0.0</td>\n",
       "      <td>29580000.0</td>\n",
       "    </tr>\n",
       "    <tr>\n",
       "      <th>E20400</th>\n",
       "      <td>163786.0</td>\n",
       "      <td>8544.312188</td>\n",
       "      <td>75278.265853</td>\n",
       "      <td>0.0</td>\n",
       "      <td>0.0</td>\n",
       "      <td>0.0</td>\n",
       "      <td>450.0</td>\n",
       "      <td>10850000.0</td>\n",
       "    </tr>\n",
       "    <tr>\n",
       "      <th>P22250</th>\n",
       "      <td>163786.0</td>\n",
       "      <td>-3684.642961</td>\n",
       "      <td>490197.549432</td>\n",
       "      <td>-124900000.0</td>\n",
       "      <td>0.0</td>\n",
       "      <td>0.0</td>\n",
       "      <td>0.0</td>\n",
       "      <td>39410000.0</td>\n",
       "    </tr>\n",
       "    <tr>\n",
       "      <th>E32800</th>\n",
       "      <td>163786.0</td>\n",
       "      <td>122.027780</td>\n",
       "      <td>687.286729</td>\n",
       "      <td>0.0</td>\n",
       "      <td>0.0</td>\n",
       "      <td>0.0</td>\n",
       "      <td>0.0</td>\n",
       "      <td>6000.0</td>\n",
       "    </tr>\n",
       "  </tbody>\n",
       "</table>\n",
       "</div>"
      ],
      "text/plain": [
       "           count           mean            std          min     25%      50%  \\\n",
       "DSI     163786.0       0.037586       0.190192          0.0     0.0      0.0   \n",
       "EIC     163786.0       0.156588       0.540109          0.0     0.0      0.0   \n",
       "MARS    163786.0       1.880747       0.868159          1.0     1.0      2.0   \n",
       "E00200  163786.0  219531.584958  915171.923122          0.0  3350.0  30800.0   \n",
       "E00300  163786.0   21342.225465  232007.404557          0.0     0.0     30.0   \n",
       "E00600  163786.0   35211.744056  369615.898863          0.0     0.0      0.0   \n",
       "E00800  163786.0      32.701025    1269.963802          0.0     0.0      0.0   \n",
       "E00900  163786.0   16520.290611  236232.722974  -29990000.0     0.0      0.0   \n",
       "E01100  163786.0      27.428144    1348.768565          0.0     0.0      0.0   \n",
       "E01400  163786.0    9755.219567   96146.012962          0.0     0.0      0.0   \n",
       "E01500  163786.0   44050.908747  322661.103751          0.0     0.0      0.0   \n",
       "E01700  163786.0    6840.160881   43587.840218          0.0     0.0      0.0   \n",
       "E02100  163786.0    -542.660728   61779.188307   -9031000.0     0.0      0.0   \n",
       "E02300  163786.0     481.709279    2526.695419          0.0     0.0      0.0   \n",
       "E02400  163786.0    4512.225953   10473.627804          0.0     0.0      0.0   \n",
       "E03150  163786.0     160.119558    1185.796023          0.0     0.0      0.0   \n",
       "E03210  163786.0      44.483069     269.336437          0.0     0.0      0.0   \n",
       "E03270  163786.0    1275.136043    4424.408845          0.0     0.0      0.0   \n",
       "E03240  163786.0    2841.828471   39038.499505          0.0     0.0      0.0   \n",
       "E03300  163786.0    2208.470993   14399.970689          0.0     0.0      0.0   \n",
       "E17500  163786.0    1106.651240    9125.002382          0.0     0.0      0.0   \n",
       "E18400  163786.0   34983.992576  205947.326212          0.0     0.0      0.0   \n",
       "E18500  163786.0    6565.538996   17020.160745          0.0     0.0      0.0   \n",
       "E19200  163786.0   10156.961303   51492.298923          0.0     0.0      0.0   \n",
       "E19800  163786.0   14357.343546  176109.665417          0.0     0.0      0.0   \n",
       "E20100  163786.0    6420.921605  186886.746251          0.0     0.0      0.0   \n",
       "E20400  163786.0    8544.312188   75278.265853          0.0     0.0      0.0   \n",
       "P22250  163786.0   -3684.642961  490197.549432 -124900000.0     0.0      0.0   \n",
       "E32800  163786.0     122.027780     687.286729          0.0     0.0      0.0   \n",
       "\n",
       "             75%         max  \n",
       "DSI          0.0         1.0  \n",
       "EIC          0.0         3.0  \n",
       "MARS         2.0         4.0  \n",
       "E00200  104800.0  56530000.0  \n",
       "E00300    1290.0  29460000.0  \n",
       "E00600    2050.0  37050000.0  \n",
       "E00800       0.0    174000.0  \n",
       "E00900       0.0  18990000.0  \n",
       "E01100       0.0    282700.0  \n",
       "E01400       0.0   6424000.0  \n",
       "E01500       0.0  47380000.0  \n",
       "E01700       0.0   3528000.0  \n",
       "E02100       0.0   3169000.0  \n",
       "E02300       0.0    100000.0  \n",
       "E02400       0.0     99500.0  \n",
       "E03150       0.0     12000.0  \n",
       "E03210       0.0      2500.0  \n",
       "E03270       0.0     64500.0  \n",
       "E03240       0.0   4776000.0  \n",
       "E03300       0.0    472900.0  \n",
       "E17500       0.0    772900.0  \n",
       "E18400    8600.0  15160000.0  \n",
       "E18500    6390.0    578400.0  \n",
       "E19200    8750.0   5127000.0  \n",
       "E19800    2910.0  30100000.0  \n",
       "E20100       0.0  29580000.0  \n",
       "E20400     450.0  10850000.0  \n",
       "P22250       0.0  39410000.0  \n",
       "E32800       0.0      6000.0  "
      ]
     },
     "execution_count": 66,
     "metadata": {},
     "output_type": "execute_result"
    }
   ],
   "source": [
    "df.describe().transpose()"
   ]
  },
  {
   "cell_type": "markdown",
   "metadata": {},
   "source": [
    "## Model\n",
    "\n",
    "Train a random forests model."
   ]
  },
  {
   "cell_type": "code",
   "execution_count": 67,
   "metadata": {},
   "outputs": [],
   "source": [
    "YCOL = 'P22250'"
   ]
  },
  {
   "cell_type": "code",
   "execution_count": 68,
   "metadata": {},
   "outputs": [],
   "source": [
    "X_train, X_test, Y_train, Y_test = model_selection.train_test_split(\n",
    "    df.drop(YCOL, axis=1), df[YCOL], random_state=3)"
   ]
  },
  {
   "cell_type": "code",
   "execution_count": 69,
   "metadata": {},
   "outputs": [],
   "source": [
    "Y_train_sign = np.sign(Y_train)\n",
    "Y_test_sign = np.sign(Y_test)"
   ]
  },
  {
   "cell_type": "code",
   "execution_count": 70,
   "metadata": {},
   "outputs": [
    {
     "name": "stderr",
     "output_type": "stream",
     "text": [
      "[Parallel(n_jobs=-1)]: Done  42 tasks      | elapsed:  1.1min\n",
      "[Parallel(n_jobs=-1)]: Done 100 out of 100 | elapsed:  2.6min finished\n"
     ]
    },
    {
     "data": {
      "text/plain": [
       "RandomForestRegressor(bootstrap=True, criterion='mse', max_depth=None,\n",
       "           max_features='auto', max_leaf_nodes=None,\n",
       "           min_impurity_decrease=0.0, min_impurity_split=None,\n",
       "           min_samples_leaf=1, min_samples_split=2,\n",
       "           min_weight_fraction_leaf=0.0, n_estimators=100, n_jobs=-1,\n",
       "           oob_score=False, random_state=3, verbose=True, warm_start=False)"
      ]
     },
     "execution_count": 70,
     "metadata": {},
     "output_type": "execute_result"
    }
   ],
   "source": [
    "# Reduce for faster runtime.\n",
    "N_ESTIMATORS = 100\n",
    "rf = ensemble.RandomForestRegressor(n_estimators=N_ESTIMATORS, \n",
    "                                    min_samples_leaf=1, random_state=3, \n",
    "                                    verbose=True, \n",
    "                                    n_jobs=-1)  # Use maximum number of cores.\n",
    "rf.fit(X_train, Y_train)"
   ]
  },
  {
   "cell_type": "markdown",
   "metadata": {},
   "source": [
    "### Model description\n",
    "\n",
    "Show the ten most important features."
   ]
  },
  {
   "cell_type": "code",
   "execution_count": 71,
   "metadata": {},
   "outputs": [
    {
     "data": {
      "text/plain": [
       "E00300    0.203959\n",
       "E00200    0.129206\n",
       "MARS      0.115906\n",
       "E19200    0.080111\n",
       "E00600    0.079555\n",
       "E03300    0.057119\n",
       "E18400    0.047471\n",
       "E20400    0.042516\n",
       "E19800    0.041598\n",
       "E03270    0.038676\n",
       "dtype: float64"
      ]
     },
     "execution_count": 71,
     "metadata": {},
     "output_type": "execute_result"
    }
   ],
   "source": [
    "feature_importance = pd.Series(rf.feature_importances_, index=X_train.columns)\n",
    "feature_importance.sort_values(ascending=False)[:10]"
   ]
  },
  {
   "cell_type": "markdown",
   "metadata": {},
   "source": [
    "## Predict\n",
    "\n",
    "### Top-line (average)"
   ]
  },
  {
   "cell_type": "code",
   "execution_count": 72,
   "metadata": {},
   "outputs": [
    {
     "name": "stderr",
     "output_type": "stream",
     "text": [
      "[Parallel(n_jobs=4)]: Done  42 tasks      | elapsed:    0.4s\n",
      "[Parallel(n_jobs=4)]: Done 100 out of 100 | elapsed:    0.8s finished\n"
     ]
    }
   ],
   "source": [
    "pred = pd.DataFrame({'actual': Y_test,\n",
    "                     'pred': rf.predict(X_test)})\n",
    "pred['error'] = pred.pred - pred.actual\n",
    "pred['actual_sign'] = np.sign(pred.actual)\n",
    "pred['pred_sign'] = np.sign(pred.pred)\n",
    "pred['correct_sign'] = (pred.actual_sign == pred.pred_sign)\n",
    "pred['count'] = 1"
   ]
  },
  {
   "cell_type": "markdown",
   "metadata": {},
   "source": [
    "MAE, RMSE, and % negative/zero/positive."
   ]
  },
  {
   "cell_type": "code",
   "execution_count": 73,
   "metadata": {},
   "outputs": [
    {
     "data": {
      "text/plain": [
       "34899.14858268668"
      ]
     },
     "execution_count": 73,
     "metadata": {},
     "output_type": "execute_result"
    }
   ],
   "source": [
    "pred.error.abs().mean()"
   ]
  },
  {
   "cell_type": "code",
   "execution_count": 74,
   "metadata": {},
   "outputs": [
    {
     "data": {
      "text/plain": [
       "318334.00580239546"
      ]
     },
     "execution_count": 74,
     "metadata": {},
     "output_type": "execute_result"
    }
   ],
   "source": [
    "pred.error.pow(2).mean() ** 0.5"
   ]
  },
  {
   "cell_type": "code",
   "execution_count": 75,
   "metadata": {},
   "outputs": [
    {
     "data": {
      "text/html": [
       "<div>\n",
       "<style scoped>\n",
       "    .dataframe tbody tr th:only-of-type {\n",
       "        vertical-align: middle;\n",
       "    }\n",
       "\n",
       "    .dataframe tbody tr th {\n",
       "        vertical-align: top;\n",
       "    }\n",
       "\n",
       "    .dataframe thead th {\n",
       "        text-align: right;\n",
       "    }\n",
       "</style>\n",
       "<table border=\"1\" class=\"dataframe\">\n",
       "  <thead>\n",
       "    <tr style=\"text-align: right;\">\n",
       "      <th>pred_sign</th>\n",
       "      <th>-1.0</th>\n",
       "      <th>0.0</th>\n",
       "      <th>1.0</th>\n",
       "      <th>All</th>\n",
       "    </tr>\n",
       "    <tr>\n",
       "      <th>actual_sign</th>\n",
       "      <th></th>\n",
       "      <th></th>\n",
       "      <th></th>\n",
       "      <th></th>\n",
       "    </tr>\n",
       "  </thead>\n",
       "  <tbody>\n",
       "    <tr>\n",
       "      <th>-1.0</th>\n",
       "      <td>3829</td>\n",
       "      <td>66</td>\n",
       "      <td>1911</td>\n",
       "      <td>5806</td>\n",
       "    </tr>\n",
       "    <tr>\n",
       "      <th>0.0</th>\n",
       "      <td>9572</td>\n",
       "      <td>14211</td>\n",
       "      <td>6388</td>\n",
       "      <td>30171</td>\n",
       "    </tr>\n",
       "    <tr>\n",
       "      <th>1.0</th>\n",
       "      <td>3067</td>\n",
       "      <td>38</td>\n",
       "      <td>1865</td>\n",
       "      <td>4970</td>\n",
       "    </tr>\n",
       "    <tr>\n",
       "      <th>All</th>\n",
       "      <td>16468</td>\n",
       "      <td>14315</td>\n",
       "      <td>10164</td>\n",
       "      <td>40947</td>\n",
       "    </tr>\n",
       "  </tbody>\n",
       "</table>\n",
       "</div>"
      ],
      "text/plain": [
       "pred_sign     -1.0    0.0    1.0    All\n",
       "actual_sign                            \n",
       "-1.0          3829     66   1911   5806\n",
       "0.0           9572  14211   6388  30171\n",
       "1.0           3067     38   1865   4970\n",
       "All          16468  14315  10164  40947"
      ]
     },
     "execution_count": 75,
     "metadata": {},
     "output_type": "execute_result"
    }
   ],
   "source": [
    "pred.pivot_table(index='actual_sign', columns='pred_sign', values='count', \n",
    "                 aggfunc=sum, margins=True)"
   ]
  },
  {
   "cell_type": "code",
   "execution_count": 76,
   "metadata": {},
   "outputs": [
    {
     "data": {
      "text/plain": [
       "0.48611619898893693"
      ]
     },
     "execution_count": 76,
     "metadata": {},
     "output_type": "execute_result"
    }
   ],
   "source": [
    "pred.correct_sign.mean()"
   ]
  },
  {
   "cell_type": "markdown",
   "metadata": {},
   "source": [
    "### All trees"
   ]
  },
  {
   "cell_type": "code",
   "execution_count": 77,
   "metadata": {},
   "outputs": [],
   "source": [
    "preds = []\n",
    "for estimator in rf.estimators_:\n",
    "    preds.append(estimator.predict(X_test))\n",
    "preds = np.array(preds).transpose()  # One row per record."
   ]
  },
  {
   "cell_type": "code",
   "execution_count": 78,
   "metadata": {},
   "outputs": [],
   "source": [
    "rand_col = np.random.randint(N_ESTIMATORS, size=preds.shape[0])\n",
    "random_tree = preds[np.arange(preds.shape[0]), rand_col]"
   ]
  },
  {
   "cell_type": "code",
   "execution_count": 79,
   "metadata": {},
   "outputs": [],
   "source": [
    "pred_random_tree = pd.DataFrame({'actual': Y_test,\n",
    "                                 'pred': random_tree})\n",
    "pred_random_tree['error'] = pred_random_tree.pred - pred_random_tree.actual\n",
    "pred_random_tree['actual_sign'] = np.sign(pred_random_tree.actual)\n",
    "pred_random_tree['pred_sign'] = np.sign(pred_random_tree.pred)\n",
    "pred_random_tree['correct_sign'] = (\n",
    "    pred_random_tree.actual_sign == pred_random_tree.pred_sign)\n",
    "pred_random_tree['count'] = 1"
   ]
  },
  {
   "cell_type": "markdown",
   "metadata": {},
   "source": [
    "As expected, MAE and RMSE exceed values from the point estimate prediction."
   ]
  },
  {
   "cell_type": "code",
   "execution_count": 80,
   "metadata": {},
   "outputs": [
    {
     "data": {
      "text/plain": [
       "47515.089149302665"
      ]
     },
     "execution_count": 80,
     "metadata": {},
     "output_type": "execute_result"
    }
   ],
   "source": [
    "pred_random_tree.error.abs().mean()"
   ]
  },
  {
   "cell_type": "code",
   "execution_count": 81,
   "metadata": {},
   "outputs": [
    {
     "data": {
      "text/plain": [
       "514707.9658813344"
      ]
     },
     "execution_count": 81,
     "metadata": {},
     "output_type": "execute_result"
    }
   ],
   "source": [
    "pred_random_tree.error.pow(2).mean() ** 0.5"
   ]
  },
  {
   "cell_type": "markdown",
   "metadata": {},
   "source": [
    "But the distribution of sign is closer to correct, since it's not averaging out the zeros."
   ]
  },
  {
   "cell_type": "code",
   "execution_count": 82,
   "metadata": {},
   "outputs": [
    {
     "data": {
      "text/html": [
       "<div>\n",
       "<style scoped>\n",
       "    .dataframe tbody tr th:only-of-type {\n",
       "        vertical-align: middle;\n",
       "    }\n",
       "\n",
       "    .dataframe tbody tr th {\n",
       "        vertical-align: top;\n",
       "    }\n",
       "\n",
       "    .dataframe thead th {\n",
       "        text-align: right;\n",
       "    }\n",
       "</style>\n",
       "<table border=\"1\" class=\"dataframe\">\n",
       "  <thead>\n",
       "    <tr style=\"text-align: right;\">\n",
       "      <th>pred_sign</th>\n",
       "      <th>-1.0</th>\n",
       "      <th>0.0</th>\n",
       "      <th>1.0</th>\n",
       "      <th>All</th>\n",
       "    </tr>\n",
       "    <tr>\n",
       "      <th>actual_sign</th>\n",
       "      <th></th>\n",
       "      <th></th>\n",
       "      <th></th>\n",
       "      <th></th>\n",
       "    </tr>\n",
       "  </thead>\n",
       "  <tbody>\n",
       "    <tr>\n",
       "      <th>-1.0</th>\n",
       "      <td>2272</td>\n",
       "      <td>1753</td>\n",
       "      <td>1781</td>\n",
       "      <td>5806</td>\n",
       "    </tr>\n",
       "    <tr>\n",
       "      <th>0.0</th>\n",
       "      <td>2211</td>\n",
       "      <td>26060</td>\n",
       "      <td>1900</td>\n",
       "      <td>30171</td>\n",
       "    </tr>\n",
       "    <tr>\n",
       "      <th>1.0</th>\n",
       "      <td>1772</td>\n",
       "      <td>1625</td>\n",
       "      <td>1573</td>\n",
       "      <td>4970</td>\n",
       "    </tr>\n",
       "    <tr>\n",
       "      <th>All</th>\n",
       "      <td>6255</td>\n",
       "      <td>29438</td>\n",
       "      <td>5254</td>\n",
       "      <td>40947</td>\n",
       "    </tr>\n",
       "  </tbody>\n",
       "</table>\n",
       "</div>"
      ],
      "text/plain": [
       "pred_sign    -1.0    0.0   1.0    All\n",
       "actual_sign                          \n",
       "-1.0         2272   1753  1781   5806\n",
       "0.0          2211  26060  1900  30171\n",
       "1.0          1772   1625  1573   4970\n",
       "All          6255  29438  5254  40947"
      ]
     },
     "execution_count": 82,
     "metadata": {},
     "output_type": "execute_result"
    }
   ],
   "source": [
    "pred_random_tree.pivot_table(index='actual_sign', columns='pred_sign', \n",
    "                             values='count', aggfunc=sum, margins=True)"
   ]
  },
  {
   "cell_type": "code",
   "execution_count": 83,
   "metadata": {},
   "outputs": [
    {
     "data": {
      "text/plain": [
       "0.7303343346276895"
      ]
     },
     "execution_count": 83,
     "metadata": {},
     "output_type": "execute_result"
    }
   ],
   "source": [
    "pred_random_tree.correct_sign.mean()"
   ]
  },
  {
   "cell_type": "markdown",
   "metadata": {},
   "source": [
    "#### Log-loss of sign"
   ]
  },
  {
   "cell_type": "code",
   "execution_count": 84,
   "metadata": {},
   "outputs": [
    {
     "data": {
      "text/plain": [
       "0.7124920018728914"
      ]
     },
     "execution_count": 84,
     "metadata": {},
     "output_type": "execute_result"
    }
   ],
   "source": [
    "preds_neg = np.sum(preds < 0, axis=1) / 100\n",
    "preds_zero = np.sum(preds == 0, axis=1) / 100\n",
    "preds_pos = np.sum(preds > 0, axis=1) / 100\n",
    "\n",
    "rf_pred_proba = list(map(list, zip(*[preds_neg, preds_zero, preds_pos])))\n",
    "\n",
    "metrics.log_loss(Y_test_sign, rf_pred_proba)"
   ]
  },
  {
   "cell_type": "markdown",
   "metadata": {},
   "source": [
    "## Multinomial logistic regression of sign"
   ]
  },
  {
   "cell_type": "code",
   "execution_count": 85,
   "metadata": {},
   "outputs": [
    {
     "name": "stderr",
     "output_type": "stream",
     "text": [
      "/anaconda3/lib/python3.6/site-packages/sklearn/utils/optimize.py:203: ConvergenceWarning: newton-cg failed to converge. Increase the number of iterations.\n",
      "  \"number of iterations.\", ConvergenceWarning)\n"
     ]
    },
    {
     "data": {
      "text/plain": [
       "LogisticRegression(C=1.0, class_weight=None, dual=False, fit_intercept=True,\n",
       "          intercept_scaling=1, max_iter=100, multi_class='multinomial',\n",
       "          n_jobs=1, penalty='l2', random_state=3, solver='newton-cg',\n",
       "          tol=0.0001, verbose=0, warm_start=False)"
      ]
     },
     "execution_count": 85,
     "metadata": {},
     "output_type": "execute_result"
    }
   ],
   "source": [
    "mult = linear_model.LogisticRegression(\n",
    "    multi_class='multinomial', solver='newton-cg', random_state=3)\n",
    "mult.fit(X_train, Y_train_sign)"
   ]
  },
  {
   "cell_type": "markdown",
   "metadata": {},
   "source": [
    "### Coefficients\n",
    "\n",
    "p-values are tricky to calculate, so just show the features with highest absolute coefficient on the zero class."
   ]
  },
  {
   "cell_type": "code",
   "execution_count": 86,
   "metadata": {},
   "outputs": [
    {
     "data": {
      "text/html": [
       "<div>\n",
       "<style scoped>\n",
       "    .dataframe tbody tr th:only-of-type {\n",
       "        vertical-align: middle;\n",
       "    }\n",
       "\n",
       "    .dataframe tbody tr th {\n",
       "        vertical-align: top;\n",
       "    }\n",
       "\n",
       "    .dataframe thead th {\n",
       "        text-align: right;\n",
       "    }\n",
       "</style>\n",
       "<table border=\"1\" class=\"dataframe\">\n",
       "  <thead>\n",
       "    <tr style=\"text-align: right;\">\n",
       "      <th></th>\n",
       "      <th>abs_zero</th>\n",
       "      <th>negative</th>\n",
       "      <th>positive</th>\n",
       "      <th>zero</th>\n",
       "    </tr>\n",
       "  </thead>\n",
       "  <tbody>\n",
       "    <tr>\n",
       "      <th>MARS</th>\n",
       "      <td>0.053210</td>\n",
       "      <td>-0.026201</td>\n",
       "      <td>-0.027009</td>\n",
       "      <td>0.053210</td>\n",
       "    </tr>\n",
       "    <tr>\n",
       "      <th>E01100</th>\n",
       "      <td>0.021221</td>\n",
       "      <td>-0.010820</td>\n",
       "      <td>-0.010401</td>\n",
       "      <td>0.021221</td>\n",
       "    </tr>\n",
       "    <tr>\n",
       "      <th>EIC</th>\n",
       "      <td>0.008110</td>\n",
       "      <td>-0.004071</td>\n",
       "      <td>-0.004039</td>\n",
       "      <td>0.008110</td>\n",
       "    </tr>\n",
       "    <tr>\n",
       "      <th>DSI</th>\n",
       "      <td>0.002129</td>\n",
       "      <td>-0.001068</td>\n",
       "      <td>-0.001061</td>\n",
       "      <td>0.002129</td>\n",
       "    </tr>\n",
       "    <tr>\n",
       "      <th>E03210</th>\n",
       "      <td>0.001851</td>\n",
       "      <td>-0.000770</td>\n",
       "      <td>-0.001081</td>\n",
       "      <td>0.001851</td>\n",
       "    </tr>\n",
       "    <tr>\n",
       "      <th>E32800</th>\n",
       "      <td>0.000288</td>\n",
       "      <td>-0.000130</td>\n",
       "      <td>-0.000158</td>\n",
       "      <td>0.000288</td>\n",
       "    </tr>\n",
       "    <tr>\n",
       "      <th>E02300</th>\n",
       "      <td>0.000157</td>\n",
       "      <td>-0.000062</td>\n",
       "      <td>-0.000095</td>\n",
       "      <td>0.000157</td>\n",
       "    </tr>\n",
       "    <tr>\n",
       "      <th>E03150</th>\n",
       "      <td>0.000041</td>\n",
       "      <td>-0.000018</td>\n",
       "      <td>-0.000023</td>\n",
       "      <td>0.000041</td>\n",
       "    </tr>\n",
       "    <tr>\n",
       "      <th>E00800</th>\n",
       "      <td>0.000037</td>\n",
       "      <td>0.000011</td>\n",
       "      <td>-0.000049</td>\n",
       "      <td>0.000037</td>\n",
       "    </tr>\n",
       "    <tr>\n",
       "      <th>E02400</th>\n",
       "      <td>0.000028</td>\n",
       "      <td>-0.000009</td>\n",
       "      <td>-0.000019</td>\n",
       "      <td>0.000028</td>\n",
       "    </tr>\n",
       "  </tbody>\n",
       "</table>\n",
       "</div>"
      ],
      "text/plain": [
       "        abs_zero  negative  positive      zero\n",
       "MARS    0.053210 -0.026201 -0.027009  0.053210\n",
       "E01100  0.021221 -0.010820 -0.010401  0.021221\n",
       "EIC     0.008110 -0.004071 -0.004039  0.008110\n",
       "DSI     0.002129 -0.001068 -0.001061  0.002129\n",
       "E03210  0.001851 -0.000770 -0.001081  0.001851\n",
       "E32800  0.000288 -0.000130 -0.000158  0.000288\n",
       "E02300  0.000157 -0.000062 -0.000095  0.000157\n",
       "E03150  0.000041 -0.000018 -0.000023  0.000041\n",
       "E00800  0.000037  0.000011 -0.000049  0.000037\n",
       "E02400  0.000028 -0.000009 -0.000019  0.000028"
      ]
     },
     "execution_count": 86,
     "metadata": {},
     "output_type": "execute_result"
    }
   ],
   "source": [
    "mult_coef = pd.DataFrame({\n",
    "    'negative': mult.coef_[0],\n",
    "    'zero': mult.coef_[1],\n",
    "    'positive': mult.coef_[2],\n",
    "    'abs_zero': np.abs(mult.coef_[1])},\n",
    "    index=X_train.columns)\n",
    "\n",
    "mult_coef.sort_values('abs_zero', ascending=False)[:10]"
   ]
  },
  {
   "cell_type": "markdown",
   "metadata": {},
   "source": [
    "### Predict"
   ]
  },
  {
   "cell_type": "code",
   "execution_count": 87,
   "metadata": {},
   "outputs": [
    {
     "data": {
      "text/plain": [
       "0.7609348670232251"
      ]
     },
     "execution_count": 87,
     "metadata": {},
     "output_type": "execute_result"
    }
   ],
   "source": [
    "mult_pred = pd.DataFrame({'actual': Y_test_sign,\n",
    "                          'pred': mult.predict(X_test)})\n",
    "mult_pred['sign_correct'] = (mult_pred.actual == mult_pred.pred)\n",
    "mult_pred['count'] = 1\n",
    "mult_pred.sign_correct.mean()"
   ]
  },
  {
   "cell_type": "code",
   "execution_count": 88,
   "metadata": {},
   "outputs": [
    {
     "data": {
      "text/html": [
       "<div>\n",
       "<style scoped>\n",
       "    .dataframe tbody tr th:only-of-type {\n",
       "        vertical-align: middle;\n",
       "    }\n",
       "\n",
       "    .dataframe tbody tr th {\n",
       "        vertical-align: top;\n",
       "    }\n",
       "\n",
       "    .dataframe thead th {\n",
       "        text-align: right;\n",
       "    }\n",
       "</style>\n",
       "<table border=\"1\" class=\"dataframe\">\n",
       "  <thead>\n",
       "    <tr style=\"text-align: right;\">\n",
       "      <th>pred</th>\n",
       "      <th>-1.0</th>\n",
       "      <th>0.0</th>\n",
       "      <th>1.0</th>\n",
       "      <th>All</th>\n",
       "    </tr>\n",
       "    <tr>\n",
       "      <th>actual</th>\n",
       "      <th></th>\n",
       "      <th></th>\n",
       "      <th></th>\n",
       "      <th></th>\n",
       "    </tr>\n",
       "  </thead>\n",
       "  <tbody>\n",
       "    <tr>\n",
       "      <th>-1.0</th>\n",
       "      <td>2255</td>\n",
       "      <td>3372</td>\n",
       "      <td>179</td>\n",
       "      <td>5806</td>\n",
       "    </tr>\n",
       "    <tr>\n",
       "      <th>0.0</th>\n",
       "      <td>1342</td>\n",
       "      <td>28711</td>\n",
       "      <td>118</td>\n",
       "      <td>30171</td>\n",
       "    </tr>\n",
       "    <tr>\n",
       "      <th>1.0</th>\n",
       "      <td>1738</td>\n",
       "      <td>3040</td>\n",
       "      <td>192</td>\n",
       "      <td>4970</td>\n",
       "    </tr>\n",
       "    <tr>\n",
       "      <th>All</th>\n",
       "      <td>5335</td>\n",
       "      <td>35123</td>\n",
       "      <td>489</td>\n",
       "      <td>40947</td>\n",
       "    </tr>\n",
       "  </tbody>\n",
       "</table>\n",
       "</div>"
      ],
      "text/plain": [
       "pred    -1.0    0.0  1.0    All\n",
       "actual                         \n",
       "-1.0    2255   3372  179   5806\n",
       "0.0     1342  28711  118  30171\n",
       "1.0     1738   3040  192   4970\n",
       "All     5335  35123  489  40947"
      ]
     },
     "execution_count": 88,
     "metadata": {},
     "output_type": "execute_result"
    }
   ],
   "source": [
    "mult_pred.pivot_table(index='actual', columns='pred', \n",
    "                      values='count', aggfunc=sum, margins=True)"
   ]
  },
  {
   "cell_type": "markdown",
   "metadata": {},
   "source": [
    "#### Log-loss"
   ]
  },
  {
   "cell_type": "code",
   "execution_count": 89,
   "metadata": {},
   "outputs": [
    {
     "data": {
      "text/plain": [
       "0.920328648420079"
      ]
     },
     "execution_count": 89,
     "metadata": {},
     "output_type": "execute_result"
    }
   ],
   "source": [
    "mult_pred_proba = mult.predict_proba(X_test)\n",
    "metrics.log_loss(Y_test_sign, mult_pred_proba)"
   ]
  }
 ],
 "metadata": {
  "kernelspec": {
   "display_name": "Python 3",
   "language": "python",
   "name": "python3"
  },
  "language_info": {
   "codemirror_mode": {
    "name": "ipython",
    "version": 3
   },
   "file_extension": ".py",
   "mimetype": "text/x-python",
   "name": "python",
   "nbconvert_exporter": "python",
   "pygments_lexer": "ipython3",
   "version": "3.6.4"
  },
  "toc": {
   "base_numbering": 1,
   "nav_menu": {},
   "number_sections": true,
   "sideBar": true,
   "skip_h1_title": false,
   "title_cell": "Table of Contents",
   "title_sidebar": "Contents",
   "toc_cell": false,
   "toc_position": {},
   "toc_section_display": true,
   "toc_window_display": false
  }
 },
 "nbformat": 4,
 "nbformat_minor": 2
}
