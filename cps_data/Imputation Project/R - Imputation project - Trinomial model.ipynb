{
 "cells": [
  {
   "cell_type": "markdown",
   "metadata": {},
   "source": [
    "# P22250 Model"
   ]
  },
  {
   "cell_type": "code",
   "execution_count": 88,
   "metadata": {},
   "outputs": [],
   "source": [
    "library('nnet')"
   ]
  },
  {
   "cell_type": "code",
   "execution_count": 89,
   "metadata": {},
   "outputs": [],
   "source": [
    "# puf2011signed contains only the columns of interest (dependents, indepedents) as well 'dependent_dum'\n",
    "# columns which equal -1, 0 or 1 for negative / 0 / positive sign for given dependent variable.\n",
    "puf2011 <- read.csv('puf2011signed.csv')\n",
    "\n",
    "#Change P22250 sign column to factor\n",
    "puf2011$P22250_dum <- as.factor(puf2011$P22250_dum)"
   ]
  },
  {
   "cell_type": "code",
   "execution_count": 90,
   "metadata": {},
   "outputs": [],
   "source": [
    "#80% training data, 20% validation\n",
    "set.seed(1994)\n",
    "sample <- sample(2, nrow(puf2011), replace = TRUE, prob = c(0.8,0.2))\n",
    "training <- puf2011[sample == 1,]\n",
    "validation <- puf2011[sample == 2,]\n"
   ]
  },
  {
   "cell_type": "code",
   "execution_count": 91,
   "metadata": {
    "scrolled": false
   },
   "outputs": [
    {
     "name": "stdout",
     "output_type": "stream",
     "text": [
      "# weights:  99 (64 variable)\n",
      "initial  value 144108.269742 \n",
      "iter  10 value 141199.529538\n",
      "iter  20 value 138914.014521\n",
      "iter  30 value 136645.121220\n",
      "iter  40 value 134404.959155\n",
      "iter  50 value 132804.441287\n",
      "iter  60 value 85186.309161\n",
      "iter  70 value 76187.667467\n",
      "iter  80 value 75682.328161\n",
      "iter  90 value 75488.008479\n",
      "iter 100 value 75318.748665\n",
      "iter 110 value 75256.852122\n",
      "iter 120 value 75238.685100\n",
      "iter 130 value 75238.158291\n",
      "iter 130 value 75238.158194\n",
      "final  value 75238.158194 \n",
      "converged\n"
     ]
    }
   ],
   "source": [
    "#Model\n",
    "P22250_model <- multinom(P22250_dum ~ DSI + EIC + MARS1 + MARS2 + MARS3 + MARS4 +\n",
    "                                      E00200 + E00300 + E00600 + E00800 + E00900 +\n",
    "                                      E01100 + E01400 + E01500 + E01700 + E02100 + \n",
    "                                      E02300 + E02400 + E03150 + E03210 + E03240 +\n",
    "                                      E03270 + E03300 + E17500 + E18400 + E18500 + \n",
    "                                      E19200 + E19800 + E20100 + E20400 + E32800, data = training, maxit = 500)"
   ]
  },
  {
   "cell_type": "markdown",
   "metadata": {},
   "source": [
    "# Intercept-only P22250 model"
   ]
  },
  {
   "cell_type": "code",
   "execution_count": 92,
   "metadata": {},
   "outputs": [
    {
     "name": "stdout",
     "output_type": "stream",
     "text": [
      "# weights:  6 (2 variable)\n",
      "initial  value 179937.312312 \n",
      "final  value 124030.211417 \n",
      "converged\n"
     ]
    },
    {
     "data": {
      "text/plain": [
       "Call:\n",
       "multinom(formula = P22250_dum ~ 1, data = puf2011)\n",
       "\n",
       "Coefficients:\n",
       "  (Intercept)\n",
       "0   1.6431718\n",
       "1  -0.1696247\n",
       "\n",
       "Residual Deviance: 248060.4 \n",
       "AIC: 248064.4 "
      ]
     },
     "metadata": {},
     "output_type": "display_data"
    },
    {
     "data": {
      "text/html": [
       "<table>\n",
       "<thead><tr><th></th><th scope=col>-1</th><th scope=col>0</th><th scope=col>1</th></tr></thead>\n",
       "<tbody>\n",
       "\t<tr><th scope=row>1</th><td>0.1425409</td><td>0.7371572</td><td>0.1203019</td></tr>\n",
       "\t<tr><th scope=row>2</th><td>0.1425409</td><td>0.7371572</td><td>0.1203019</td></tr>\n",
       "\t<tr><th scope=row>3</th><td>0.1425409</td><td>0.7371572</td><td>0.1203019</td></tr>\n",
       "\t<tr><th scope=row>4</th><td>0.1425409</td><td>0.7371572</td><td>0.1203019</td></tr>\n",
       "\t<tr><th scope=row>5</th><td>0.1425409</td><td>0.7371572</td><td>0.1203019</td></tr>\n",
       "\t<tr><th scope=row>6</th><td>0.1425409</td><td>0.7371572</td><td>0.1203019</td></tr>\n",
       "</tbody>\n",
       "</table>\n"
      ],
      "text/latex": [
       "\\begin{tabular}{r|lll}\n",
       "  & -1 & 0 & 1\\\\\n",
       "\\hline\n",
       "\t1 & 0.1425409 & 0.7371572 & 0.1203019\\\\\n",
       "\t2 & 0.1425409 & 0.7371572 & 0.1203019\\\\\n",
       "\t3 & 0.1425409 & 0.7371572 & 0.1203019\\\\\n",
       "\t4 & 0.1425409 & 0.7371572 & 0.1203019\\\\\n",
       "\t5 & 0.1425409 & 0.7371572 & 0.1203019\\\\\n",
       "\t6 & 0.1425409 & 0.7371572 & 0.1203019\\\\\n",
       "\\end{tabular}\n"
      ],
      "text/markdown": [
       "\n",
       "| <!--/--> | -1 | 0 | 1 | \n",
       "|---|---|---|---|---|---|\n",
       "| 1 | 0.1425409 | 0.7371572 | 0.1203019 | \n",
       "| 2 | 0.1425409 | 0.7371572 | 0.1203019 | \n",
       "| 3 | 0.1425409 | 0.7371572 | 0.1203019 | \n",
       "| 4 | 0.1425409 | 0.7371572 | 0.1203019 | \n",
       "| 5 | 0.1425409 | 0.7371572 | 0.1203019 | \n",
       "| 6 | 0.1425409 | 0.7371572 | 0.1203019 | \n",
       "\n",
       "\n"
      ],
      "text/plain": [
       "  -1        0         1        \n",
       "1 0.1425409 0.7371572 0.1203019\n",
       "2 0.1425409 0.7371572 0.1203019\n",
       "3 0.1425409 0.7371572 0.1203019\n",
       "4 0.1425409 0.7371572 0.1203019\n",
       "5 0.1425409 0.7371572 0.1203019\n",
       "6 0.1425409 0.7371572 0.1203019"
      ]
     },
     "metadata": {},
     "output_type": "display_data"
    }
   ],
   "source": [
    "int_P22250_model <- multinom(P22250_dum ~ 1 , data = puf2011)\n",
    "int_P22250_model\n",
    "int_P22250_model_probs <- predict(int_P22250_model, puf2011, type = 'prob')\n",
    "head(int_P22250_model_probs)"
   ]
  },
  {
   "cell_type": "markdown",
   "metadata": {},
   "source": [
    "# Full model analysis"
   ]
  },
  {
   "cell_type": "code",
   "execution_count": 93,
   "metadata": {},
   "outputs": [
    {
     "data": {
      "text/plain": [
       "Call:\n",
       "multinom(formula = P22250_dum ~ DSI + EIC + MARS1 + MARS2 + MARS3 + \n",
       "    MARS4 + E00200 + E00300 + E00600 + E00800 + E00900 + E01100 + \n",
       "    E01400 + E01500 + E01700 + E02100 + E02300 + E02400 + E03150 + \n",
       "    E03210 + E03240 + E03270 + E03300 + E17500 + E18400 + E18500 + \n",
       "    E19200 + E19800 + E20100 + E20400 + E32800, data = training, \n",
       "    maxit = 500)\n",
       "\n",
       "Coefficients:\n",
       "  (Intercept)       DSI        EIC       MARS1       MARS2       MARS3\n",
       "0   2.1615806 1.0340209 1.38497540  0.73189817 -0.03252646  0.39561427\n",
       "1  -0.1377918 0.2595269 0.02441548 -0.02390417  0.01099370 -0.05143389\n",
       "        MARS4        E00200        E00300        E00600        E00800\n",
       "0  1.06663253 -8.616475e-07 -3.250976e-06 -1.572590e-06 -2.478288e-05\n",
       "1 -0.07347463 -1.338175e-08  9.594473e-08 -6.185212e-10 -1.714328e-05\n",
       "         E00900    E01100        E01400        E01500        E01700\n",
       "0  1.280725e-08  6.536524 -1.452021e-06 -3.888786e-07 -3.195626e-07\n",
       "1 -3.442177e-08 -4.144809  5.229577e-09 -8.776849e-09 -4.377547e-08\n",
       "        E02100        E02300        E02400        E03150        E03210\n",
       "0 2.571121e-07  3.101209e-05 -1.593203e-05 -4.323884e-05  7.010944e-04\n",
       "1 8.891650e-08 -6.356084e-06 -5.400241e-06  4.372125e-06 -5.749964e-05\n",
       "         E03240        E03270        E03300        E17500        E18400\n",
       "0 -5.536370e-07 -2.620845e-05 -1.166095e-05 -5.162933e-06 -1.076836e-06\n",
       "1 -4.411366e-07  3.507656e-06 -1.239530e-07 -1.097384e-07  2.243786e-08\n",
       "         E18500       E19200        E19800        E20100        E20400\n",
       "0 -3.701062e-05 2.744397e-07 -7.538984e-08 -7.946243e-08 -4.783028e-05\n",
       "1 -5.703514e-07 5.157693e-07 -8.036436e-09  1.910809e-08 -1.247002e-07\n",
       "        E32800\n",
       "0 6.221690e-05\n",
       "1 4.401104e-06\n",
       "\n",
       "Residual Deviance: 150476.3 \n",
       "AIC: 150600.3 "
      ]
     },
     "metadata": {},
     "output_type": "display_data"
    }
   ],
   "source": [
    "P22250_model"
   ]
  },
  {
   "cell_type": "markdown",
   "metadata": {},
   "source": [
    "# Imputation"
   ]
  },
  {
   "cell_type": "markdown",
   "metadata": {},
   "source": [
    "## Stochastic imputation function"
   ]
  },
  {
   "cell_type": "code",
   "execution_count": 94,
   "metadata": {},
   "outputs": [],
   "source": [
    "# Create df 'probs0' containing predicted probabilities for each categorical P22250 outcome for each row.\n",
    "probs0 <- predict(P22250_model, validation, type = 'prob')\n",
    "\n",
    "# Create imputation function. Arguments = random uniform in [0,1] and one row of probs0 named probs.\n",
    "# Function outputs predicted category if its associated CDF value > runif.\n",
    "# Probs[[1]] = P(negative), Probs[[2]] = P(zero), Probs[[3]] = P(positive)\n",
    "\n",
    "stoch_imp <- function(runif, probs){\n",
    "    if (runif < probs[[1]]) {\n",
    "        return (-1)\n",
    "    }\n",
    "    else if (runif < (probs[[2]] + probs[[1]])) {\n",
    "        return (0)\n",
    "    }\n",
    "    else {\n",
    "        return (1)\n",
    "    }\n",
    "}\n"
   ]
  },
  {
   "cell_type": "markdown",
   "metadata": {},
   "source": [
    "## Testing imputations with different seed values"
   ]
  },
  {
   "cell_type": "markdown",
   "metadata": {},
   "source": [
    "### Imputation 0"
   ]
  },
  {
   "cell_type": "code",
   "execution_count": 95,
   "metadata": {},
   "outputs": [],
   "source": [
    "# Creates empty prediction column in validation, and a vector of runifs in [0,1] which is the length of the validation\n",
    "# dataset. All prediction columns will be labelled P22250_p#_dum, with # corresponding to each imputation. \n",
    "\n",
    "validation$P22250_p0_dum <- NA\n",
    "set.seed(1995)\n",
    "valid_rand0 <- runif(nrow(validation))\n",
    "\n",
    "count <- 1\n",
    "\n",
    "# Inserts output of stoch_imp function row-by-row into the validation dataframe's empty prediction column,\n",
    "# given runif from valid_rand0, and the corresponding row of probs0, as arguments. \n",
    "\n",
    "for(i in valid_rand0){\n",
    "    probs <- probs0[count,]\n",
    "    validation[count,'P22250_p0_dum'] <- stoch_imp(i, probs)\n",
    "    count <- count + 1\n",
    "}\n"
   ]
  },
  {
   "cell_type": "code",
   "execution_count": 96,
   "metadata": {},
   "outputs": [
    {
     "name": "stdout",
     "output_type": "stream",
     "text": [
      "27.09 % of predictions for non-zero validation observations were accurate.\n",
      "68.55 % of predictions for full validation dataset were accurate."
     ]
    }
   ],
   "source": [
    "# Creates df containing columns for predicted and actual P22250 signs (P22250_dum = actual, P22250_p0_dum = predicted)\n",
    "P22250_valid <- data.frame(validation$P22250_dum, validation$P22250_p0_dum)\n",
    "\n",
    "# Prepares columns for analysis\n",
    "names(P22250_valid) <- c('P22250_dum', 'P22250_p0_dum')\n",
    "P22250_valid$P22250_dum <- as.numeric(as.character(P22250_valid$P22250_dum))\n",
    "\n",
    "# Creates difference column = predicted sign - actual sign. If difference = 0, prediction is correct.\n",
    "P22250_valid$difference <- (P22250_valid$P22250_p0_dum - P22250_valid$P22250_dum)\n",
    "\n",
    "# Df where actual P22250 != 0\n",
    "not_zero <- P22250_valid[P22250_valid$P22250_dum != 0,]\n",
    "\n",
    "# Sub-df's where difference column = 0 for both full and non-zero dataset.\n",
    "not_zero_correct_prediction <- not_zero[not_zero$difference == 0,]\n",
    "correct_prediction <- P22250_valid[P22250_valid$difference == 0,]\n",
    "\n",
    "# Percent of not_zero and full dataset with correct prediction. Final accuracy variables are labelled\n",
    "# 'not_zero_percent_accurate_round#' or 'percent_accurate_round#' with # corresponding to imputation. \n",
    "not_zero_percent_accurate = nrow(not_zero_correct_prediction)/nrow(not_zero)*100\n",
    "not_zero_percent_accurate_round0 <- as.character(round(not_zero_percent_accurate, 2))\n",
    "percent_accurate <- nrow(correct_prediction)/nrow(P22250_valid)*100\n",
    "percent_accurate_round0 <- as.character(round(percent_accurate, 2))\n",
    "\n",
    "#Results\n",
    "cat(not_zero_percent_accurate_round0, '% of predictions for non-zero validation observations were accurate.\\n')\n",
    "cat(percent_accurate_round0, '% of predictions for full validation dataset were accurate.')"
   ]
  },
  {
   "cell_type": "markdown",
   "metadata": {},
   "source": [
    "The imputations below are identical to the previous, except that they don't have comments, and the number represented by '#' in the following objects is increased by 1 for each imputation: P22250_p#_dum, set.seed(#), valid_rand#, not_zero_percent_accurate_round#, percent_accurate_round#. "
   ]
  },
  {
   "cell_type": "markdown",
   "metadata": {},
   "source": [
    "### Imputation 1"
   ]
  },
  {
   "cell_type": "code",
   "execution_count": 97,
   "metadata": {},
   "outputs": [
    {
     "name": "stdout",
     "output_type": "stream",
     "text": [
      "27.29 % of predictions for non-zero validation observations were accurate.\n",
      "68.42 % of predictions for full validation dataset were accurate."
     ]
    }
   ],
   "source": [
    "validation$P22250_p1_dum <- NA\n",
    "set.seed(1996)\n",
    "valid_rand1 <- runif(nrow(validation))\n",
    "\n",
    "count <- 1\n",
    "\n",
    "for(i in valid_rand1){\n",
    "    probs <- probs0[count,]\n",
    "    validation[count,'P22250_p1_dum'] <- stoch_imp(i, probs)\n",
    "    count <- count + 1\n",
    "}\n",
    "\n",
    "P22250_valid <- data.frame(validation$P22250_dum, validation$P22250_p1_dum)\n",
    "\n",
    "names(P22250_valid) <- c('P22250_dum', 'P22250_p1_dum')\n",
    "P22250_valid$P22250_dum <- as.numeric(as.character(P22250_valid$P22250_dum))\n",
    "\n",
    "P22250_valid$difference <- (P22250_valid$P22250_p1_dum - P22250_valid$P22250_dum)\n",
    "\n",
    "not_zero <- P22250_valid[P22250_valid$P22250_dum != 0,]\n",
    "\n",
    "not_zero_correct_prediction <- not_zero[not_zero$difference == 0,]\n",
    "correct_prediction <- P22250_valid[P22250_valid$difference == 0,]\n",
    "\n",
    "not_zero_percent_accurate = nrow(not_zero_correct_prediction)/nrow(not_zero)*100\n",
    "not_zero_percent_accurate_round1 <- as.character(round(not_zero_percent_accurate, 2))\n",
    "percent_accurate <- nrow(correct_prediction)/nrow(P22250_valid)*100\n",
    "percent_accurate_round1 <- as.character(round(percent_accurate, 2))\n",
    "\n",
    "cat(not_zero_percent_accurate_round1, '% of predictions for non-zero validation observations were accurate.\\n')\n",
    "cat(percent_accurate_round1, '% of predictions for full validation dataset were accurate.')"
   ]
  },
  {
   "cell_type": "markdown",
   "metadata": {},
   "source": [
    "### Imputation 2"
   ]
  },
  {
   "cell_type": "code",
   "execution_count": 98,
   "metadata": {},
   "outputs": [
    {
     "name": "stdout",
     "output_type": "stream",
     "text": [
      "27.76 % of predictions for non-zero validation observations were accurate.\n",
      "68.49 % of predictions for full validation dataset were accurate."
     ]
    }
   ],
   "source": [
    "validation$P22250_p2_dum <- NA\n",
    "set.seed(1997)\n",
    "valid_rand2 <- runif(nrow(validation))\n",
    "\n",
    "count <- 1\n",
    "\n",
    "for(i in valid_rand2){\n",
    "    probs <- probs0[count,]\n",
    "    validation[count,'P22250_p2_dum'] <- stoch_imp(i, probs)\n",
    "    count <- count + 1\n",
    "}\n",
    "\n",
    "P22250_valid <- data.frame(validation$P22250_dum, validation$P22250_p2_dum)\n",
    "\n",
    "names(P22250_valid) <- c('P22250_dum', 'P22250_p2_dum')\n",
    "P22250_valid$P22250_dum <- as.numeric(as.character(P22250_valid$P22250_dum))\n",
    "\n",
    "P22250_valid$difference <- (P22250_valid$P22250_p2_dum - P22250_valid$P22250_dum)\n",
    "\n",
    "not_zero <- P22250_valid[P22250_valid$P22250_dum != 0,]\n",
    "\n",
    "not_zero_correct_prediction <- not_zero[not_zero$difference == 0,]\n",
    "correct_prediction <- P22250_valid[P22250_valid$difference == 0,]\n",
    "\n",
    "not_zero_percent_accurate = nrow(not_zero_correct_prediction)/nrow(not_zero)*100\n",
    "not_zero_percent_accurate_round2 <- as.character(round(not_zero_percent_accurate, 2))\n",
    "percent_accurate <- nrow(correct_prediction)/nrow(P22250_valid)*100\n",
    "percent_accurate_round2 <- as.character(round(percent_accurate, 2))\n",
    "\n",
    "cat(not_zero_percent_accurate_round2, '% of predictions for non-zero validation observations were accurate.\\n')\n",
    "cat(percent_accurate_round2, '% of predictions for full validation dataset were accurate.')"
   ]
  },
  {
   "cell_type": "markdown",
   "metadata": {},
   "source": [
    "### Imputation 3"
   ]
  },
  {
   "cell_type": "code",
   "execution_count": 99,
   "metadata": {},
   "outputs": [
    {
     "name": "stdout",
     "output_type": "stream",
     "text": [
      "27.85 % of predictions for non-zero validation observations were accurate.\n",
      "68.66 % of predictions for full validation dataset were accurate."
     ]
    }
   ],
   "source": [
    "validation$P22250_p3_dum <- NA\n",
    "set.seed(1998)\n",
    "valid_rand3 <- runif(nrow(validation))\n",
    "\n",
    "count <- 1\n",
    "\n",
    "for(i in valid_rand3){\n",
    "    probs <- probs0[count,]\n",
    "    validation[count,'P22250_p3_dum'] <- stoch_imp(i, probs)\n",
    "    count <- count + 1\n",
    "}\n",
    "\n",
    "P22250_valid <- data.frame(validation$P22250_dum, validation$P22250_p3_dum)\n",
    "\n",
    "names(P22250_valid) <- c('P22250_dum', 'P22250_p3_dum')\n",
    "\n",
    "P22250_valid$P22250_dum <- as.numeric(as.character(P22250_valid$P22250_dum))\n",
    "P22250_valid$difference <- (P22250_valid$P22250_p3_dum - P22250_valid$P22250_dum)\n",
    "\n",
    "not_zero <- P22250_valid[P22250_valid$P22250_dum != 0,]\n",
    "\n",
    "not_zero_correct_prediction <- not_zero[not_zero$difference == 0,]\n",
    "correct_prediction <- P22250_valid[P22250_valid$difference == 0,]\n",
    "\n",
    "not_zero_percent_accurate = nrow(not_zero_correct_prediction)/nrow(not_zero)*100\n",
    "not_zero_percent_accurate_round3 <- as.character(round(not_zero_percent_accurate, 2))\n",
    "percent_accurate <- nrow(correct_prediction)/nrow(P22250_valid)*100\n",
    "percent_accurate_round3 <- as.character(round(percent_accurate, 2))\n",
    "\n",
    "cat(not_zero_percent_accurate_round3, '% of predictions for non-zero validation observations were accurate.\\n')\n",
    "cat(percent_accurate_round3, '% of predictions for full validation dataset were accurate.')"
   ]
  },
  {
   "cell_type": "markdown",
   "metadata": {},
   "source": [
    "### Imputation 4"
   ]
  },
  {
   "cell_type": "code",
   "execution_count": 100,
   "metadata": {},
   "outputs": [
    {
     "name": "stdout",
     "output_type": "stream",
     "text": [
      "26.98 % of predictions for non-zero validation observations were accurate.\n",
      "68.47 % of predictions for full validation dataset were accurate."
     ]
    }
   ],
   "source": [
    "validation$P22250_p4_dum <- NA\n",
    "set.seed(1999)\n",
    "valid_rand4 <- runif(nrow(validation))\n",
    "\n",
    "count <- 1\n",
    "\n",
    "for(i in valid_rand4){\n",
    "    probs <- probs0[count,]\n",
    "    validation[count,'P22250_p4_dum'] <- stoch_imp(i, probs)\n",
    "    count <- count + 1\n",
    "}\n",
    "\n",
    "P22250_valid <- data.frame(validation$P22250_dum, validation$P22250_p4_dum)\n",
    "\n",
    "names(P22250_valid) <- c('P22250_dum', 'P22250_p4_dum')\n",
    "P22250_valid$P22250_dum <- as.numeric(as.character(P22250_valid$P22250_dum))\n",
    "P22250_valid$difference <- (P22250_valid$P22250_p4_dum - P22250_valid$P22250_dum)\n",
    "\n",
    "not_zero <- P22250_valid[P22250_valid$P22250_dum != 0,]\n",
    "\n",
    "not_zero_correct_prediction <- not_zero[not_zero$difference == 0,]\n",
    "correct_prediction <- P22250_valid[P22250_valid$difference == 0,]\n",
    "\n",
    "not_zero_percent_accurate = nrow(not_zero_correct_prediction)/nrow(not_zero)*100\n",
    "not_zero_percent_accurate_round4 <- as.character(round(not_zero_percent_accurate, 2))\n",
    "percent_accurate <- nrow(correct_prediction)/nrow(P22250_valid)*100\n",
    "percent_accurate_round4 <- as.character(round(percent_accurate, 2))\n",
    "\n",
    "cat(not_zero_percent_accurate_round4, '% of predictions for non-zero validation observations were accurate.\\n')\n",
    "cat(percent_accurate_round4, '% of predictions for full validation dataset were accurate.')"
   ]
  },
  {
   "cell_type": "markdown",
   "metadata": {},
   "source": [
    "### Imputation 5"
   ]
  },
  {
   "cell_type": "code",
   "execution_count": 101,
   "metadata": {},
   "outputs": [
    {
     "name": "stdout",
     "output_type": "stream",
     "text": [
      "27.01 % of predictions for non-zero validation observations were accurate.\n",
      "68.14 % of predictions for full validation dataset were accurate."
     ]
    }
   ],
   "source": [
    "validation$P22250_p5_dum <- NA\n",
    "set.seed(2000)\n",
    "valid_rand5 <- runif(nrow(validation))\n",
    "\n",
    "count <- 1\n",
    "\n",
    "for(i in valid_rand5){\n",
    "    probs <- probs0[count,]\n",
    "    validation[count,'P22250_p5_dum'] <- stoch_imp(i, probs)\n",
    "    count <- count + 1\n",
    "}\n",
    "\n",
    "P22250_valid <- data.frame(validation$P22250_dum, validation$P22250_p5_dum)\n",
    "\n",
    "names(P22250_valid) <- c('P22250_dum', 'P22250_p5_dum')\n",
    "P22250_valid$P22250_dum <- as.numeric(as.character(P22250_valid$P22250_dum))\n",
    "P22250_valid$difference <- (P22250_valid$P22250_p5_dum - P22250_valid$P22250_dum)\n",
    "\n",
    "not_zero <- P22250_valid[P22250_valid$P22250_dum != 0,]\n",
    "\n",
    "not_zero_correct_prediction <- not_zero[not_zero$difference == 0,]\n",
    "correct_prediction <- P22250_valid[P22250_valid$difference == 0,]\n",
    "\n",
    "not_zero_percent_accurate = nrow(not_zero_correct_prediction)/nrow(not_zero)*100\n",
    "not_zero_percent_accurate_round5 <- as.character(round(not_zero_percent_accurate, 2))\n",
    "percent_accurate <- nrow(correct_prediction)/nrow(P22250_valid)*100\n",
    "percent_accurate_round5 <- as.character(round(percent_accurate, 2))\n",
    "\n",
    "cat(not_zero_percent_accurate_round5, '% of predictions for non-zero validation observations were accurate.\\n')\n",
    "cat(percent_accurate_round5, '% of predictions for full validation dataset were accurate.')"
   ]
  },
  {
   "cell_type": "markdown",
   "metadata": {},
   "source": [
    "### Imputation 6"
   ]
  },
  {
   "cell_type": "code",
   "execution_count": 102,
   "metadata": {},
   "outputs": [
    {
     "name": "stdout",
     "output_type": "stream",
     "text": [
      "26.79 % of predictions for non-zero validation observations were accurate.\n",
      "68.4 % of predictions for full validation dataset were accurate."
     ]
    }
   ],
   "source": [
    "validation$P22250_p6_dum <- NA\n",
    "set.seed(2001)\n",
    "valid_rand6 <- runif(nrow(validation))\n",
    "\n",
    "count <- 1\n",
    "\n",
    "for(i in valid_rand6){\n",
    "    probs <- probs0[count,]\n",
    "    validation[count,'P22250_p6_dum'] <- stoch_imp(i, probs)\n",
    "    count <- count + 1\n",
    "}\n",
    "\n",
    "P22250_valid <- data.frame(validation$P22250_dum, validation$P22250_p6_dum)\n",
    "\n",
    "names(P22250_valid) <- c('P22250_dum', 'P22250_p6_dum')\n",
    "P22250_valid$P22250_dum <- as.numeric(as.character(P22250_valid$P22250_dum))\n",
    "P22250_valid$difference <- (P22250_valid$P22250_p6_dum - P22250_valid$P22250_dum)\n",
    "\n",
    "not_zero <- P22250_valid[P22250_valid$P22250_dum != 0,]\n",
    "\n",
    "not_zero_correct_prediction <- not_zero[not_zero$difference == 0,]\n",
    "correct_prediction <- P22250_valid[P22250_valid$difference == 0,]\n",
    "\n",
    "not_zero_percent_accurate = nrow(not_zero_correct_prediction)/nrow(not_zero)*100\n",
    "not_zero_percent_accurate_round6 <- as.character(round(not_zero_percent_accurate, 2))\n",
    "percent_accurate <- nrow(correct_prediction)/nrow(P22250_valid)*100\n",
    "percent_accurate_round6 <- as.character(round(percent_accurate, 2))\n",
    "\n",
    "cat(not_zero_percent_accurate_round6, '% of predictions for non-zero validation observations were accurate.\\n')\n",
    "cat(percent_accurate_round6, '% of predictions for full validation dataset were accurate.')"
   ]
  },
  {
   "cell_type": "markdown",
   "metadata": {},
   "source": [
    "### Imputation 7"
   ]
  },
  {
   "cell_type": "code",
   "execution_count": 103,
   "metadata": {},
   "outputs": [
    {
     "name": "stdout",
     "output_type": "stream",
     "text": [
      "28.02 % of predictions for non-zero validation observations were accurate.\n",
      "68.64 % of predictions for full validation dataset were accurate."
     ]
    }
   ],
   "source": [
    "validation$P22250_p7_dum <- NA\n",
    "set.seed(2002)\n",
    "valid_rand7 <- runif(nrow(validation))\n",
    "\n",
    "count <- 1\n",
    "\n",
    "for(i in valid_rand7){\n",
    "    probs <- probs0[count,]\n",
    "    validation[count,'P22250_p7_dum'] <- stoch_imp(i, probs)\n",
    "    count <- count + 1\n",
    "}\n",
    "\n",
    "P22250_valid <- data.frame(validation$P22250_dum, validation$P22250_p7_dum)\n",
    "\n",
    "names(P22250_valid) <- c('P22250_dum', 'P22250_p7_dum')\n",
    "P22250_valid$P22250_dum <- as.numeric(as.character(P22250_valid$P22250_dum))\n",
    "P22250_valid$difference <- (P22250_valid$P22250_p7_dum - P22250_valid$P22250_dum)\n",
    "\n",
    "not_zero <- P22250_valid[P22250_valid$P22250_dum != 0,]\n",
    "\n",
    "not_zero_correct_prediction <- not_zero[not_zero$difference == 0,]\n",
    "correct_prediction <- P22250_valid[P22250_valid$difference == 0,]\n",
    "\n",
    "not_zero_percent_accurate = nrow(not_zero_correct_prediction)/nrow(not_zero)*100\n",
    "not_zero_percent_accurate_round7 <- as.character(round(not_zero_percent_accurate, 2))\n",
    "percent_accurate <- nrow(correct_prediction)/nrow(P22250_valid)*100\n",
    "percent_accurate_round7 <- as.character(round(percent_accurate, 2))\n",
    "\n",
    "cat(not_zero_percent_accurate_round7, '% of predictions for non-zero validation observations were accurate.\\n')\n",
    "cat(percent_accurate_round7, '% of predictions for full validation dataset were accurate.')"
   ]
  },
  {
   "cell_type": "markdown",
   "metadata": {},
   "source": [
    "## Mean model accuracy\n"
   ]
  },
  {
   "cell_type": "code",
   "execution_count": 104,
   "metadata": {},
   "outputs": [
    {
     "name": "stdout",
     "output_type": "stream",
     "text": [
      "Non-zero validation data mean accuracy = % 27.35 \n",
      "Full validation model mean accuracy = % 68.47 \n"
     ]
    }
   ],
   "source": [
    "not_zero_accuracy_stats <- c(not_zero_percent_accurate_round7, not_zero_percent_accurate_round6, not_zero_percent_accurate_round5, \n",
    "                             not_zero_percent_accurate_round4, not_zero_percent_accurate_round3, not_zero_percent_accurate_round2, \n",
    "                             not_zero_percent_accurate_round1, not_zero_percent_accurate_round0)\n",
    "\n",
    "not_zero_accuracy_stats_mean <- round(mean(as.numeric(not_zero_accuracy_stats)),2)\n",
    "\n",
    "accuracy_stats <- c(percent_accurate_round7, percent_accurate_round6, percent_accurate_round5, percent_accurate_round4,\n",
    "                    percent_accurate_round3, percent_accurate_round2, percent_accurate_round1, percent_accurate_round0)\n",
    "\n",
    "accuracy_stats_mean <- round(mean(as.numeric(accuracy_stats)),2)\n",
    "\n",
    "cat('Non-zero validation data mean accuracy = %', as.character(not_zero_accuracy_stats_mean),'\\n')\n",
    "cat('Full validation model mean accuracy = %', as.character(accuracy_stats_mean),'\\n')\n"
   ]
  },
  {
   "cell_type": "code",
   "execution_count": null,
   "metadata": {},
   "outputs": [],
   "source": []
  }
 ],
 "metadata": {
  "kernelspec": {
   "display_name": "R",
   "language": "R",
   "name": "ir"
  },
  "language_info": {
   "codemirror_mode": "r",
   "file_extension": ".r",
   "mimetype": "text/x-r-source",
   "name": "R",
   "pygments_lexer": "r",
   "version": "3.5.0"
  }
 },
 "nbformat": 4,
 "nbformat_minor": 2
}
