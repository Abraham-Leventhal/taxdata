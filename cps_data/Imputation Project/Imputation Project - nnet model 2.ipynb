{
 "cells": [
  {
   "cell_type": "markdown",
   "metadata": {},
   "source": [
    "# nnet P22250 Imputation"
   ]
  },
  {
   "cell_type": "markdown",
   "metadata": {},
   "source": [
    "## Data"
   ]
  },
  {
   "cell_type": "code",
   "execution_count": 50,
   "metadata": {},
   "outputs": [],
   "source": [
    "library('nnet')"
   ]
  },
  {
   "cell_type": "code",
   "execution_count": 51,
   "metadata": {},
   "outputs": [],
   "source": [
    "# read, change sign col to factor, drop aggregate rows.\n",
    "\n",
    "puf <- read.csv('puf2011.csv')\n",
    "puf$P22250_sign <- sign(puf$P22250)\n",
    "puf <- puf[!(puf$RECID %in% c(999996, 999997, 999998, 999999)),]\n",
    "\n",
    "#80% training data, 20% testing\n",
    "\n",
    "set.seed(1994)\n",
    "sample <- sample(2, nrow(puf), replace = TRUE, prob = c(0.8,0.2))\n",
    "training <- puf[sample == 1,]\n",
    "testing <- puf[sample == 2,]\n",
    "\n",
    "# Write training and testing data to csv for later use in Python's sklearn \n",
    "\n",
    "write.csv(training, file = 'puf80%training')\n",
    "write.csv(testing, file = 'puf20%testing')"
   ]
  },
  {
   "cell_type": "code",
   "execution_count": 52,
   "metadata": {},
   "outputs": [],
   "source": [
    "# Change sign column to factor, prune puf, training and testing datasets to include only predictors & response\n",
    "\n",
    "puf$P22250_sign <- as.factor(puf$P22250_sign)\n",
    "\n",
    "predictors <- c('DSI', 'EIC', 'MARS', 'XTOT', 'E00200', 'E00300', 'E00400','E00600', \n",
    "               'E00800', 'E00900', 'E01100', 'E01400', 'E01500', 'E01700','E02100', \n",
    "               'E02300', 'E02400', 'E03150', 'E03210', 'E03240', 'E03270','E03300', \n",
    "               'E17500', 'E18400', 'E18500', 'E19200', 'E19800', 'E20100','E20400', \n",
    "               'E32800')\n",
    "response <- 'P22250_sign'\n",
    "\n",
    "puf <- puf[, c(predictors, response)]\n",
    "training <- training[, c(predictors, response)]\n",
    "testing <- testing[, c(predictors, response)]"
   ]
  },
  {
   "cell_type": "code",
   "execution_count": 53,
   "metadata": {
    "scrolled": false
   },
   "outputs": [
    {
     "name": "stdout",
     "output_type": "stream",
     "text": [
      "# weights:  96 (62 variable)\n",
      "initial  value 144108.269742 \n",
      "iter  10 value 141078.648283\n",
      "iter  20 value 138576.467153\n",
      "iter  30 value 136897.685827\n",
      "iter  40 value 134681.888657\n",
      "iter  50 value 132500.425734\n",
      "iter  60 value 93978.222514\n",
      "iter  70 value 78295.933067\n",
      "iter  80 value 77723.679613\n",
      "iter  90 value 77452.000461\n",
      "iter 100 value 77420.353477\n",
      "iter 110 value 77330.265376\n",
      "iter 120 value 76971.508268\n",
      "iter 130 value 75962.217237\n",
      "iter 130 value 75962.217237\n",
      "iter 140 value 75842.116701\n",
      "iter 150 value 75817.000814\n",
      "iter 160 value 75810.015419\n",
      "iter 170 value 75808.790848\n",
      "iter 180 value 75807.603888\n",
      "iter 190 value 75689.430498\n",
      "iter 200 value 75583.121997\n",
      "iter 210 value 75567.543683\n",
      "final  value 75567.531211 \n",
      "converged\n"
     ]
    }
   ],
   "source": [
    "#Model\n",
    "P22250_model <- multinom(P22250_sign ~ ., data = training, maxit = 500)"
   ]
  },
  {
   "cell_type": "markdown",
   "metadata": {},
   "source": [
    "## Summary"
   ]
  },
  {
   "cell_type": "code",
   "execution_count": 54,
   "metadata": {},
   "outputs": [
    {
     "name": "stdout",
     "output_type": "stream",
     "text": [
      "[1] \"Model Summary\"\n"
     ]
    },
    {
     "data": {
      "text/html": [
       "<table>\n",
       "<thead><tr><th></th><th scope=col>Coefficients_0</th><th scope=col>Std_Errors_0</th><th scope=col>T_Stats_0</th><th scope=col>Coefficients_1</th><th scope=col>Std_Errors_1</th><th scope=col>T_Stats_1</th></tr></thead>\n",
       "<tbody>\n",
       "\t<tr><th scope=row>(Intercept)</th><td> 2.916984e+00</td><td>2.392707e-08 </td><td> 1.219114e+08</td><td>-1.544420e-01</td><td>1.408746e-08 </td><td>-1.096309e+07</td></tr>\n",
       "\t<tr><th scope=row>DSI</th><td> 9.705252e-01</td><td>3.209538e-12 </td><td> 3.023878e+11</td><td> 2.699394e-01</td><td>2.051094e-12 </td><td> 1.316075e+11</td></tr>\n",
       "\t<tr><th scope=row>EIC</th><td> 1.628664e+00</td><td>2.607538e-10 </td><td> 6.245983e+09</td><td> 1.636738e-02</td><td>1.757860e-10 </td><td> 9.310965e+07</td></tr>\n",
       "\t<tr><th scope=row>MARS</th><td> 3.929251e-02</td><td>4.145239e-08 </td><td> 9.478951e+05</td><td>-1.756157e-02</td><td>2.473908e-08 </td><td>-7.098715e+05</td></tr>\n",
       "\t<tr><th scope=row>XTOT</th><td>-2.137370e-01</td><td>5.861429e-08 </td><td>-3.646500e+06</td><td> 1.825081e-02</td><td>3.610222e-08 </td><td> 5.055316e+05</td></tr>\n",
       "\t<tr><th scope=row>E00200</th><td>-9.187332e-07</td><td>2.275662e-08 </td><td>-4.037212e+01</td><td>-1.385492e-08</td><td>7.131810e-09 </td><td>-1.942693e+00</td></tr>\n",
       "\t<tr><th scope=row>E00300</th><td>-2.939419e-06</td><td>1.848629e-07 </td><td>-1.590054e+01</td><td> 1.041168e-07</td><td>3.465442e-08 </td><td> 3.004431e+00</td></tr>\n",
       "\t<tr><th scope=row>E00400</th><td>-4.161534e-06</td><td>2.552957e-07 </td><td>-1.630084e+01</td><td>-1.130540e-07</td><td>4.949649e-08 </td><td>-2.284081e+00</td></tr>\n",
       "\t<tr><th scope=row>E00600</th><td>-1.282350e-06</td><td>1.051005e-07 </td><td>-1.220118e+01</td><td> 3.428553e-09</td><td>1.607993e-08 </td><td> 2.132194e-01</td></tr>\n",
       "\t<tr><th scope=row>E00800</th><td>-1.901714e-05</td><td>5.998101e-06 </td><td>-3.170527e+00</td><td>-1.904443e-05</td><td>1.155125e-05 </td><td>-1.648690e+00</td></tr>\n",
       "\t<tr><th scope=row>E00900</th><td> 1.100092e-08</td><td>3.663162e-08 </td><td> 3.003121e-01</td><td>-3.517453e-08</td><td>3.347025e-08 </td><td>-1.050919e+00</td></tr>\n",
       "\t<tr><th scope=row>E01100</th><td> 7.723022e+00</td><td>7.961110e-15 </td><td> 9.700937e+14</td><td>-9.920732e+00</td><td>6.249452e-20 </td><td>-1.587456e+20</td></tr>\n",
       "\t<tr><th scope=row>E01400</th><td>-1.429527e-06</td><td>1.400483e-07 </td><td>-1.020739e+01</td><td> 9.593681e-09</td><td>6.108666e-08 </td><td> 1.570504e-01</td></tr>\n",
       "\t<tr><th scope=row>E01500</th><td>-4.670748e-07</td><td>3.126321e-08 </td><td>-1.494007e+01</td><td>-7.198423e-09</td><td>2.059101e-08 </td><td>-3.495907e-01</td></tr>\n",
       "\t<tr><th scope=row>E01700</th><td>-4.448116e-07</td><td>2.199517e-07 </td><td>-2.022315e+00</td><td>-2.254809e-08</td><td>1.500241e-07 </td><td>-1.502965e-01</td></tr>\n",
       "\t<tr><th scope=row>E02100</th><td> 2.360636e-07</td><td>1.325614e-07 </td><td> 1.780788e+00</td><td> 9.181255e-08</td><td>1.186402e-07 </td><td> 7.738738e-01</td></tr>\n",
       "\t<tr><th scope=row>E02300</th><td> 2.715573e-05</td><td>4.513718e-06 </td><td> 6.016266e+00</td><td>-6.240742e-06</td><td>6.198284e-06 </td><td>-1.006850e+00</td></tr>\n",
       "\t<tr><th scope=row>E02400</th><td>-2.377930e-05</td><td>7.543068e-07 </td><td>-3.152471e+01</td><td>-4.651545e-06</td><td>7.830594e-07 </td><td>-5.940221e+00</td></tr>\n",
       "\t<tr><th scope=row>E03150</th><td>-5.704880e-05</td><td>6.261331e-06 </td><td>-9.111289e+00</td><td> 4.827689e-06</td><td>6.844366e-06 </td><td> 7.053522e-01</td></tr>\n",
       "\t<tr><th scope=row>E03210</th><td> 6.655657e-04</td><td>3.900729e-05 </td><td> 1.706260e+01</td><td>-5.506814e-05</td><td>2.195943e-05 </td><td>-2.507721e+00</td></tr>\n",
       "\t<tr><th scope=row>E03240</th><td>-7.366869e-07</td><td>3.188652e-07 </td><td>-2.310339e+00</td><td>-4.284155e-07</td><td>1.842071e-07 </td><td>-2.325727e+00</td></tr>\n",
       "\t<tr><th scope=row>E03270</th><td>-2.903858e-05</td><td>1.892795e-06 </td><td>-1.534164e+01</td><td> 3.371261e-06</td><td>1.699917e-06 </td><td> 1.983191e+00</td></tr>\n",
       "\t<tr><th scope=row>E03300</th><td>-1.245889e-05</td><td>7.020160e-07 </td><td>-1.774730e+01</td><td>-1.119764e-07</td><td>4.589376e-07 </td><td>-2.439905e-01</td></tr>\n",
       "\t<tr><th scope=row>E17500</th><td>-4.578894e-06</td><td>1.002295e-06 </td><td>-4.568409e+00</td><td>-7.545089e-08</td><td>6.911909e-07 </td><td>-1.091607e-01</td></tr>\n",
       "\t<tr><th scope=row>E18400</th><td>-8.896373e-07</td><td>1.369441e-07 </td><td>-6.496355e+00</td><td> 2.168176e-08</td><td>3.672315e-08 </td><td> 5.904111e-01</td></tr>\n",
       "\t<tr><th scope=row>E18500</th><td>-3.709236e-05</td><td>1.008120e-06 </td><td>-3.679358e+01</td><td>-4.161050e-07</td><td>4.264332e-07 </td><td>-9.757801e-01</td></tr>\n",
       "\t<tr><th scope=row>E19200</th><td>-2.602652e-07</td><td>3.632996e-07 </td><td>-7.163927e-01</td><td> 4.800015e-07</td><td>1.453101e-07 </td><td> 3.303290e+00</td></tr>\n",
       "\t<tr><th scope=row>E19800</th><td>-4.828995e-08</td><td>1.272896e-07 </td><td>-3.793706e-01</td><td>-3.426782e-09</td><td>3.400767e-08 </td><td>-1.007650e-01</td></tr>\n",
       "\t<tr><th scope=row>E20100</th><td>-6.597398e-08</td><td>1.325073e-07 </td><td>-4.978895e-01</td><td> 2.059388e-08</td><td>2.992607e-08 </td><td> 6.881586e-01</td></tr>\n",
       "\t<tr><th scope=row>E20400</th><td>-4.552335e-05</td><td>1.160408e-06 </td><td>-3.923046e+01</td><td>-8.532888e-08</td><td>1.046923e-07 </td><td>-8.150446e-01</td></tr>\n",
       "\t<tr><th scope=row>E32800</th><td> 9.159960e-05</td><td>1.351320e-05 </td><td> 6.778526e+00</td><td> 9.688132e-07</td><td>1.616740e-05 </td><td> 5.992389e-02</td></tr>\n",
       "</tbody>\n",
       "</table>\n"
      ],
      "text/latex": [
       "\\begin{tabular}{r|llllll}\n",
       "  & Coefficients\\_0 & Std\\_Errors\\_0 & T\\_Stats\\_0 & Coefficients\\_1 & Std\\_Errors\\_1 & T\\_Stats\\_1\\\\\n",
       "\\hline\n",
       "\t(Intercept) &  2.916984e+00 & 2.392707e-08  &  1.219114e+08 & -1.544420e-01 & 1.408746e-08  & -1.096309e+07\\\\\n",
       "\tDSI &  9.705252e-01 & 3.209538e-12  &  3.023878e+11 &  2.699394e-01 & 2.051094e-12  &  1.316075e+11\\\\\n",
       "\tEIC &  1.628664e+00 & 2.607538e-10  &  6.245983e+09 &  1.636738e-02 & 1.757860e-10  &  9.310965e+07\\\\\n",
       "\tMARS &  3.929251e-02 & 4.145239e-08  &  9.478951e+05 & -1.756157e-02 & 2.473908e-08  & -7.098715e+05\\\\\n",
       "\tXTOT & -2.137370e-01 & 5.861429e-08  & -3.646500e+06 &  1.825081e-02 & 3.610222e-08  &  5.055316e+05\\\\\n",
       "\tE00200 & -9.187332e-07 & 2.275662e-08  & -4.037212e+01 & -1.385492e-08 & 7.131810e-09  & -1.942693e+00\\\\\n",
       "\tE00300 & -2.939419e-06 & 1.848629e-07  & -1.590054e+01 &  1.041168e-07 & 3.465442e-08  &  3.004431e+00\\\\\n",
       "\tE00400 & -4.161534e-06 & 2.552957e-07  & -1.630084e+01 & -1.130540e-07 & 4.949649e-08  & -2.284081e+00\\\\\n",
       "\tE00600 & -1.282350e-06 & 1.051005e-07  & -1.220118e+01 &  3.428553e-09 & 1.607993e-08  &  2.132194e-01\\\\\n",
       "\tE00800 & -1.901714e-05 & 5.998101e-06  & -3.170527e+00 & -1.904443e-05 & 1.155125e-05  & -1.648690e+00\\\\\n",
       "\tE00900 &  1.100092e-08 & 3.663162e-08  &  3.003121e-01 & -3.517453e-08 & 3.347025e-08  & -1.050919e+00\\\\\n",
       "\tE01100 &  7.723022e+00 & 7.961110e-15  &  9.700937e+14 & -9.920732e+00 & 6.249452e-20  & -1.587456e+20\\\\\n",
       "\tE01400 & -1.429527e-06 & 1.400483e-07  & -1.020739e+01 &  9.593681e-09 & 6.108666e-08  &  1.570504e-01\\\\\n",
       "\tE01500 & -4.670748e-07 & 3.126321e-08  & -1.494007e+01 & -7.198423e-09 & 2.059101e-08  & -3.495907e-01\\\\\n",
       "\tE01700 & -4.448116e-07 & 2.199517e-07  & -2.022315e+00 & -2.254809e-08 & 1.500241e-07  & -1.502965e-01\\\\\n",
       "\tE02100 &  2.360636e-07 & 1.325614e-07  &  1.780788e+00 &  9.181255e-08 & 1.186402e-07  &  7.738738e-01\\\\\n",
       "\tE02300 &  2.715573e-05 & 4.513718e-06  &  6.016266e+00 & -6.240742e-06 & 6.198284e-06  & -1.006850e+00\\\\\n",
       "\tE02400 & -2.377930e-05 & 7.543068e-07  & -3.152471e+01 & -4.651545e-06 & 7.830594e-07  & -5.940221e+00\\\\\n",
       "\tE03150 & -5.704880e-05 & 6.261331e-06  & -9.111289e+00 &  4.827689e-06 & 6.844366e-06  &  7.053522e-01\\\\\n",
       "\tE03210 &  6.655657e-04 & 3.900729e-05  &  1.706260e+01 & -5.506814e-05 & 2.195943e-05  & -2.507721e+00\\\\\n",
       "\tE03240 & -7.366869e-07 & 3.188652e-07  & -2.310339e+00 & -4.284155e-07 & 1.842071e-07  & -2.325727e+00\\\\\n",
       "\tE03270 & -2.903858e-05 & 1.892795e-06  & -1.534164e+01 &  3.371261e-06 & 1.699917e-06  &  1.983191e+00\\\\\n",
       "\tE03300 & -1.245889e-05 & 7.020160e-07  & -1.774730e+01 & -1.119764e-07 & 4.589376e-07  & -2.439905e-01\\\\\n",
       "\tE17500 & -4.578894e-06 & 1.002295e-06  & -4.568409e+00 & -7.545089e-08 & 6.911909e-07  & -1.091607e-01\\\\\n",
       "\tE18400 & -8.896373e-07 & 1.369441e-07  & -6.496355e+00 &  2.168176e-08 & 3.672315e-08  &  5.904111e-01\\\\\n",
       "\tE18500 & -3.709236e-05 & 1.008120e-06  & -3.679358e+01 & -4.161050e-07 & 4.264332e-07  & -9.757801e-01\\\\\n",
       "\tE19200 & -2.602652e-07 & 3.632996e-07  & -7.163927e-01 &  4.800015e-07 & 1.453101e-07  &  3.303290e+00\\\\\n",
       "\tE19800 & -4.828995e-08 & 1.272896e-07  & -3.793706e-01 & -3.426782e-09 & 3.400767e-08  & -1.007650e-01\\\\\n",
       "\tE20100 & -6.597398e-08 & 1.325073e-07  & -4.978895e-01 &  2.059388e-08 & 2.992607e-08  &  6.881586e-01\\\\\n",
       "\tE20400 & -4.552335e-05 & 1.160408e-06  & -3.923046e+01 & -8.532888e-08 & 1.046923e-07  & -8.150446e-01\\\\\n",
       "\tE32800 &  9.159960e-05 & 1.351320e-05  &  6.778526e+00 &  9.688132e-07 & 1.616740e-05  &  5.992389e-02\\\\\n",
       "\\end{tabular}\n"
      ],
      "text/markdown": [
       "\n",
       "| <!--/--> | Coefficients_0 | Std_Errors_0 | T_Stats_0 | Coefficients_1 | Std_Errors_1 | T_Stats_1 | \n",
       "|---|---|---|---|---|---|---|---|---|---|---|---|---|---|---|---|---|---|---|---|---|---|---|---|---|---|---|---|---|---|---|\n",
       "| (Intercept) |  2.916984e+00 | 2.392707e-08  |  1.219114e+08 | -1.544420e-01 | 1.408746e-08  | -1.096309e+07 | \n",
       "| DSI |  9.705252e-01 | 3.209538e-12  |  3.023878e+11 |  2.699394e-01 | 2.051094e-12  |  1.316075e+11 | \n",
       "| EIC |  1.628664e+00 | 2.607538e-10  |  6.245983e+09 |  1.636738e-02 | 1.757860e-10  |  9.310965e+07 | \n",
       "| MARS |  3.929251e-02 | 4.145239e-08  |  9.478951e+05 | -1.756157e-02 | 2.473908e-08  | -7.098715e+05 | \n",
       "| XTOT | -2.137370e-01 | 5.861429e-08  | -3.646500e+06 |  1.825081e-02 | 3.610222e-08  |  5.055316e+05 | \n",
       "| E00200 | -9.187332e-07 | 2.275662e-08  | -4.037212e+01 | -1.385492e-08 | 7.131810e-09  | -1.942693e+00 | \n",
       "| E00300 | -2.939419e-06 | 1.848629e-07  | -1.590054e+01 |  1.041168e-07 | 3.465442e-08  |  3.004431e+00 | \n",
       "| E00400 | -4.161534e-06 | 2.552957e-07  | -1.630084e+01 | -1.130540e-07 | 4.949649e-08  | -2.284081e+00 | \n",
       "| E00600 | -1.282350e-06 | 1.051005e-07  | -1.220118e+01 |  3.428553e-09 | 1.607993e-08  |  2.132194e-01 | \n",
       "| E00800 | -1.901714e-05 | 5.998101e-06  | -3.170527e+00 | -1.904443e-05 | 1.155125e-05  | -1.648690e+00 | \n",
       "| E00900 |  1.100092e-08 | 3.663162e-08  |  3.003121e-01 | -3.517453e-08 | 3.347025e-08  | -1.050919e+00 | \n",
       "| E01100 |  7.723022e+00 | 7.961110e-15  |  9.700937e+14 | -9.920732e+00 | 6.249452e-20  | -1.587456e+20 | \n",
       "| E01400 | -1.429527e-06 | 1.400483e-07  | -1.020739e+01 |  9.593681e-09 | 6.108666e-08  |  1.570504e-01 | \n",
       "| E01500 | -4.670748e-07 | 3.126321e-08  | -1.494007e+01 | -7.198423e-09 | 2.059101e-08  | -3.495907e-01 | \n",
       "| E01700 | -4.448116e-07 | 2.199517e-07  | -2.022315e+00 | -2.254809e-08 | 1.500241e-07  | -1.502965e-01 | \n",
       "| E02100 |  2.360636e-07 | 1.325614e-07  |  1.780788e+00 |  9.181255e-08 | 1.186402e-07  |  7.738738e-01 | \n",
       "| E02300 |  2.715573e-05 | 4.513718e-06  |  6.016266e+00 | -6.240742e-06 | 6.198284e-06  | -1.006850e+00 | \n",
       "| E02400 | -2.377930e-05 | 7.543068e-07  | -3.152471e+01 | -4.651545e-06 | 7.830594e-07  | -5.940221e+00 | \n",
       "| E03150 | -5.704880e-05 | 6.261331e-06  | -9.111289e+00 |  4.827689e-06 | 6.844366e-06  |  7.053522e-01 | \n",
       "| E03210 |  6.655657e-04 | 3.900729e-05  |  1.706260e+01 | -5.506814e-05 | 2.195943e-05  | -2.507721e+00 | \n",
       "| E03240 | -7.366869e-07 | 3.188652e-07  | -2.310339e+00 | -4.284155e-07 | 1.842071e-07  | -2.325727e+00 | \n",
       "| E03270 | -2.903858e-05 | 1.892795e-06  | -1.534164e+01 |  3.371261e-06 | 1.699917e-06  |  1.983191e+00 | \n",
       "| E03300 | -1.245889e-05 | 7.020160e-07  | -1.774730e+01 | -1.119764e-07 | 4.589376e-07  | -2.439905e-01 | \n",
       "| E17500 | -4.578894e-06 | 1.002295e-06  | -4.568409e+00 | -7.545089e-08 | 6.911909e-07  | -1.091607e-01 | \n",
       "| E18400 | -8.896373e-07 | 1.369441e-07  | -6.496355e+00 |  2.168176e-08 | 3.672315e-08  |  5.904111e-01 | \n",
       "| E18500 | -3.709236e-05 | 1.008120e-06  | -3.679358e+01 | -4.161050e-07 | 4.264332e-07  | -9.757801e-01 | \n",
       "| E19200 | -2.602652e-07 | 3.632996e-07  | -7.163927e-01 |  4.800015e-07 | 1.453101e-07  |  3.303290e+00 | \n",
       "| E19800 | -4.828995e-08 | 1.272896e-07  | -3.793706e-01 | -3.426782e-09 | 3.400767e-08  | -1.007650e-01 | \n",
       "| E20100 | -6.597398e-08 | 1.325073e-07  | -4.978895e-01 |  2.059388e-08 | 2.992607e-08  |  6.881586e-01 | \n",
       "| E20400 | -4.552335e-05 | 1.160408e-06  | -3.923046e+01 | -8.532888e-08 | 1.046923e-07  | -8.150446e-01 | \n",
       "| E32800 |  9.159960e-05 | 1.351320e-05  |  6.778526e+00 |  9.688132e-07 | 1.616740e-05  |  5.992389e-02 | \n",
       "\n",
       "\n"
      ],
      "text/plain": [
       "            Coefficients_0 Std_Errors_0 T_Stats_0     Coefficients_1\n",
       "(Intercept)  2.916984e+00  2.392707e-08  1.219114e+08 -1.544420e-01 \n",
       "DSI          9.705252e-01  3.209538e-12  3.023878e+11  2.699394e-01 \n",
       "EIC          1.628664e+00  2.607538e-10  6.245983e+09  1.636738e-02 \n",
       "MARS         3.929251e-02  4.145239e-08  9.478951e+05 -1.756157e-02 \n",
       "XTOT        -2.137370e-01  5.861429e-08 -3.646500e+06  1.825081e-02 \n",
       "E00200      -9.187332e-07  2.275662e-08 -4.037212e+01 -1.385492e-08 \n",
       "E00300      -2.939419e-06  1.848629e-07 -1.590054e+01  1.041168e-07 \n",
       "E00400      -4.161534e-06  2.552957e-07 -1.630084e+01 -1.130540e-07 \n",
       "E00600      -1.282350e-06  1.051005e-07 -1.220118e+01  3.428553e-09 \n",
       "E00800      -1.901714e-05  5.998101e-06 -3.170527e+00 -1.904443e-05 \n",
       "E00900       1.100092e-08  3.663162e-08  3.003121e-01 -3.517453e-08 \n",
       "E01100       7.723022e+00  7.961110e-15  9.700937e+14 -9.920732e+00 \n",
       "E01400      -1.429527e-06  1.400483e-07 -1.020739e+01  9.593681e-09 \n",
       "E01500      -4.670748e-07  3.126321e-08 -1.494007e+01 -7.198423e-09 \n",
       "E01700      -4.448116e-07  2.199517e-07 -2.022315e+00 -2.254809e-08 \n",
       "E02100       2.360636e-07  1.325614e-07  1.780788e+00  9.181255e-08 \n",
       "E02300       2.715573e-05  4.513718e-06  6.016266e+00 -6.240742e-06 \n",
       "E02400      -2.377930e-05  7.543068e-07 -3.152471e+01 -4.651545e-06 \n",
       "E03150      -5.704880e-05  6.261331e-06 -9.111289e+00  4.827689e-06 \n",
       "E03210       6.655657e-04  3.900729e-05  1.706260e+01 -5.506814e-05 \n",
       "E03240      -7.366869e-07  3.188652e-07 -2.310339e+00 -4.284155e-07 \n",
       "E03270      -2.903858e-05  1.892795e-06 -1.534164e+01  3.371261e-06 \n",
       "E03300      -1.245889e-05  7.020160e-07 -1.774730e+01 -1.119764e-07 \n",
       "E17500      -4.578894e-06  1.002295e-06 -4.568409e+00 -7.545089e-08 \n",
       "E18400      -8.896373e-07  1.369441e-07 -6.496355e+00  2.168176e-08 \n",
       "E18500      -3.709236e-05  1.008120e-06 -3.679358e+01 -4.161050e-07 \n",
       "E19200      -2.602652e-07  3.632996e-07 -7.163927e-01  4.800015e-07 \n",
       "E19800      -4.828995e-08  1.272896e-07 -3.793706e-01 -3.426782e-09 \n",
       "E20100      -6.597398e-08  1.325073e-07 -4.978895e-01  2.059388e-08 \n",
       "E20400      -4.552335e-05  1.160408e-06 -3.923046e+01 -8.532888e-08 \n",
       "E32800       9.159960e-05  1.351320e-05  6.778526e+00  9.688132e-07 \n",
       "            Std_Errors_1 T_Stats_1    \n",
       "(Intercept) 1.408746e-08 -1.096309e+07\n",
       "DSI         2.051094e-12  1.316075e+11\n",
       "EIC         1.757860e-10  9.310965e+07\n",
       "MARS        2.473908e-08 -7.098715e+05\n",
       "XTOT        3.610222e-08  5.055316e+05\n",
       "E00200      7.131810e-09 -1.942693e+00\n",
       "E00300      3.465442e-08  3.004431e+00\n",
       "E00400      4.949649e-08 -2.284081e+00\n",
       "E00600      1.607993e-08  2.132194e-01\n",
       "E00800      1.155125e-05 -1.648690e+00\n",
       "E00900      3.347025e-08 -1.050919e+00\n",
       "E01100      6.249452e-20 -1.587456e+20\n",
       "E01400      6.108666e-08  1.570504e-01\n",
       "E01500      2.059101e-08 -3.495907e-01\n",
       "E01700      1.500241e-07 -1.502965e-01\n",
       "E02100      1.186402e-07  7.738738e-01\n",
       "E02300      6.198284e-06 -1.006850e+00\n",
       "E02400      7.830594e-07 -5.940221e+00\n",
       "E03150      6.844366e-06  7.053522e-01\n",
       "E03210      2.195943e-05 -2.507721e+00\n",
       "E03240      1.842071e-07 -2.325727e+00\n",
       "E03270      1.699917e-06  1.983191e+00\n",
       "E03300      4.589376e-07 -2.439905e-01\n",
       "E17500      6.911909e-07 -1.091607e-01\n",
       "E18400      3.672315e-08  5.904111e-01\n",
       "E18500      4.264332e-07 -9.757801e-01\n",
       "E19200      1.453101e-07  3.303290e+00\n",
       "E19800      3.400767e-08 -1.007650e-01\n",
       "E20100      2.992607e-08  6.881586e-01\n",
       "E20400      1.046923e-07 -8.150446e-01\n",
       "E32800      1.616740e-05  5.992389e-02"
      ]
     },
     "metadata": {},
     "output_type": "display_data"
    },
    {
     "name": "stdout",
     "output_type": "stream",
     "text": [
      "[1] \"Residual Deviance\"\n"
     ]
    },
    {
     "data": {
      "text/html": [
       "151135.062422536"
      ],
      "text/latex": [
       "151135.062422536"
      ],
      "text/markdown": [
       "151135.062422536"
      ],
      "text/plain": [
       "[1] 151135.1"
      ]
     },
     "metadata": {},
     "output_type": "display_data"
    }
   ],
   "source": [
    "model_sum <- summary(P22250_model)\n",
    "\n",
    "print('Model Summary')\n",
    "\n",
    "# Pulls coefficients & standard errors from summary, creates df and adds columns for t-stats\n",
    "\n",
    "model_sum_df <- rbind(model_sum$coefficients, model_sum$standard.errors)\n",
    "model_sum_df <- data.frame(t(model_sum_df))\n",
    "model_sum_df <- model_sum_df[,c(1, 3, 2, 4)]\n",
    "colnames(model_sum_df) <- c('Coefficients_0', 'Std_Errors_0', 'Coefficients_1', 'Std_Errors_1')\n",
    "\n",
    "T_Stats_0 <- model_sum_df[,'Coefficients_0']/model_sum_df[,'Std_Errors_0']\n",
    "T_Stats_1 <- model_sum_df[,'Coefficients_1']/model_sum_df[,'Std_Errors_1']\n",
    "model_sum_df$T_Stats_0 <- T_Stats_0\n",
    "model_sum_df$T_Stats_1 <- T_Stats_1\n",
    "\n",
    "model_sum_df <- model_sum_df[,c(1,2,5,3,4,6)]\n",
    "\n",
    "model_sum_df\n",
    "\n",
    "# Adds residual deviance\n",
    "\n",
    "print('Residual Deviance')\n",
    "model_sum$deviance"
   ]
  },
  {
   "cell_type": "markdown",
   "metadata": {},
   "source": [
    "## Intercept-only summary"
   ]
  },
  {
   "cell_type": "code",
   "execution_count": 55,
   "metadata": {
    "scrolled": true
   },
   "outputs": [
    {
     "name": "stdout",
     "output_type": "stream",
     "text": [
      "# weights:  6 (2 variable)\n",
      "initial  value 179937.312312 \n",
      "final  value 124030.211417 \n",
      "converged\n",
      "[1] \"Model summary\"\n"
     ]
    },
    {
     "data": {
      "text/html": [
       "<table>\n",
       "<thead><tr><th></th><th scope=col>Coefficients</th><th scope=col>Std Errors</th><th scope=col>T-stats</th></tr></thead>\n",
       "<tbody>\n",
       "\t<tr><th scope=row>0</th><td> 1.6431718 </td><td>0.007149548</td><td>229.82877  </td></tr>\n",
       "\t<tr><th scope=row>1</th><td>-0.1696247 </td><td>0.009673945</td><td>-17.53418  </td></tr>\n",
       "</tbody>\n",
       "</table>\n"
      ],
      "text/latex": [
       "\\begin{tabular}{r|lll}\n",
       "  & Coefficients & Std Errors & T-stats\\\\\n",
       "\\hline\n",
       "\t0 &  1.6431718  & 0.007149548 & 229.82877  \\\\\n",
       "\t1 & -0.1696247  & 0.009673945 & -17.53418  \\\\\n",
       "\\end{tabular}\n"
      ],
      "text/markdown": [
       "\n",
       "| <!--/--> | Coefficients | Std Errors | T-stats | \n",
       "|---|---|\n",
       "| 0 |  1.6431718  | 0.007149548 | 229.82877   | \n",
       "| 1 | -0.1696247  | 0.009673945 | -17.53418   | \n",
       "\n",
       "\n"
      ],
      "text/plain": [
       "  Coefficients Std Errors  T-stats  \n",
       "0  1.6431718   0.007149548 229.82877\n",
       "1 -0.1696247   0.009673945 -17.53418"
      ]
     },
     "metadata": {},
     "output_type": "display_data"
    },
    {
     "name": "stdout",
     "output_type": "stream",
     "text": [
      "[1] \"Residual deviance\"\n"
     ]
    },
    {
     "data": {
      "text/html": [
       "248060.422834896"
      ],
      "text/latex": [
       "248060.422834896"
      ],
      "text/markdown": [
       "248060.422834896"
      ],
      "text/plain": [
       "[1] 248060.4"
      ]
     },
     "metadata": {},
     "output_type": "display_data"
    },
    {
     "name": "stdout",
     "output_type": "stream",
     "text": [
      "[1] \"Predicted probabilities\"\n"
     ]
    },
    {
     "data": {
      "text/html": [
       "<table>\n",
       "<thead><tr><th scope=col>-1</th><th scope=col>0</th><th scope=col>1</th></tr></thead>\n",
       "<tbody>\n",
       "\t<tr><td>0.1425409</td><td>0.7371572</td><td>0.1203019</td></tr>\n",
       "</tbody>\n",
       "</table>\n"
      ],
      "text/latex": [
       "\\begin{tabular}{lll}\n",
       " -1 & 0 & 1\\\\\n",
       "\\hline\n",
       "\t 0.1425409 & 0.7371572 & 0.1203019\\\\\n",
       "\\end{tabular}\n"
      ],
      "text/markdown": [
       "\n",
       "-1 | 0 | 1 | \n",
       "|---|\n",
       "| 0.1425409 | 0.7371572 | 0.1203019 | \n",
       "\n",
       "\n"
      ],
      "text/plain": [
       "     -1        0         1        \n",
       "[1,] 0.1425409 0.7371572 0.1203019"
      ]
     },
     "metadata": {},
     "output_type": "display_data"
    }
   ],
   "source": [
    "# Model, prediction df, summary\n",
    "\n",
    "int_P22250_model <- multinom(P22250_sign ~ 1 , data = puf)\n",
    "int_P22250_model_probs <- predict(int_P22250_model, puf, type = 'prob')\n",
    "int_model_sum <- summary(int_P22250_model)\n",
    "\n",
    "print('Model summary')\n",
    "int_model_sum_df <- data.frame(int_model_sum$coefficients, int_model_sum$standard.errors,\n",
    "                           int_model_sum$coefficients/int_model_sum$standard.errors)\n",
    "names(int_model_sum_df) <- c('Coefficients', 'Std Errors', 'T-stats')\n",
    "int_model_sum_df\n",
    "\n",
    "print('Residual deviance')\n",
    "int_P22250_model$deviance\n",
    "\n",
    "print('Predicted probabilities')\n",
    "t(int_P22250_model_probs[1,])"
   ]
  },
  {
   "cell_type": "markdown",
   "metadata": {},
   "source": [
    "# Imputation & testing"
   ]
  },
  {
   "cell_type": "markdown",
   "metadata": {},
   "source": [
    "## Stochastic imputation function"
   ]
  },
  {
   "cell_type": "code",
   "execution_count": 56,
   "metadata": {},
   "outputs": [],
   "source": [
    "# 'probs0,' 'probs0_full' contain predicted sign probabilities for testing, full datasets. \n",
    "# Probabilities are written to csv for log-loss computation.\n",
    "\n",
    "probs0 <- predict(P22250_model, testing, type = 'prob')\n",
    "write.csv(probs0, file = 'nnet_predictions_test')\n",
    "probs0_full <- predict(P22250_model, puf, type = 'prob')\n",
    "write.csv(probs0_full, file = 'nnet_predictions_full')\n",
    "\n",
    "# Create imputation function. Arguments = random uniform in [0,1] and one row of probs0 named probs.\n",
    "# Function outputs predicted category if its associated CDF value > runif.\n",
    "# Probs[[1]] = P(negative), Probs[[2]] = P(zero), Probs[[3]] = P(positive)\n",
    "\n",
    "stoch_imp <- function(runif, probs){\n",
    "    if (runif < probs[[1]]) {\n",
    "        return (-1)\n",
    "    }\n",
    "    else if (runif < (probs[[2]] + probs[[1]])) {\n",
    "        return (0)\n",
    "    }\n",
    "    else {\n",
    "        return (1)\n",
    "    }\n",
    "}\n"
   ]
  },
  {
   "cell_type": "markdown",
   "metadata": {},
   "source": [
    "## Imputation"
   ]
  },
  {
   "cell_type": "code",
   "execution_count": 57,
   "metadata": {},
   "outputs": [],
   "source": [
    "# Creates empty prediction column in testing, and a vector of runifs in [0,1] which is the length of \n",
    "# the testing dataset.\n",
    "\n",
    "testing$P22250_p0_sign <- NA\n",
    "set.seed(1995)\n",
    "test_rand0 <- runif(nrow(testing))\n",
    "\n",
    "count <- 1\n",
    "\n",
    "# Inserts output of stoch_imp function row-by-row into the testing dataframe's empty prediction column,\n",
    "# given runif and corresponding row of probs0 as arguments. \n",
    "\n",
    "for(i in test_rand0){\n",
    "    probs <- probs0[count,]\n",
    "    testing[count,'P22250_p0_sign'] <- stoch_imp(i, probs)\n",
    "    count <- count + 1\n",
    "}\n"
   ]
  },
  {
   "cell_type": "markdown",
   "metadata": {},
   "source": [
    "## Testing"
   ]
  },
  {
   "cell_type": "markdown",
   "metadata": {},
   "source": [
    "### Percent accuracy"
   ]
  },
  {
   "cell_type": "code",
   "execution_count": 58,
   "metadata": {},
   "outputs": [
    {
     "data": {
      "text/html": [
       "0.684512311041609"
      ],
      "text/latex": [
       "0.684512311041609"
      ],
      "text/markdown": [
       "0.684512311041609"
      ],
      "text/plain": [
       "[1] 0.6845123"
      ]
     },
     "metadata": {},
     "output_type": "display_data"
    }
   ],
   "source": [
    "# Creates df containing columns for predicted and actual P22250 signs (P22250_sign = actual, P22250_p0_sign = predicted)\n",
    "\n",
    "P22250_test <- data.frame(testing$P22250_sign, testing$P22250_p0_sign)\n",
    "\n",
    "# Prepares columns for analysis\n",
    "\n",
    "names(P22250_test) <- c('actual', 'predicted')\n",
    "P22250_test$actual <- as.numeric(as.character(P22250_test$actual))\n",
    "\n",
    "# Create boolean accuracy column, 0 = wrong, 1 = correct prediction.\n",
    "\n",
    "P22250_test$correct_sign <- P22250_test$actual == P22250_test$predicted\n",
    "\n",
    "accuracy = mean(P22250_test$correct_sign)\n",
    "\n",
    "accuracy"
   ]
  }
 ],
 "metadata": {
  "kernelspec": {
   "display_name": "R",
   "language": "R",
   "name": "ir"
  },
  "language_info": {
   "codemirror_mode": "r",
   "file_extension": ".r",
   "mimetype": "text/x-r-source",
   "name": "R",
   "pygments_lexer": "r",
   "version": "3.5.0"
  }
 },
 "nbformat": 4,
 "nbformat_minor": 2
}
