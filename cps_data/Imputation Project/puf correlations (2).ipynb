{
 "cells": [
  {
   "cell_type": "code",
   "execution_count": 1,
   "metadata": {},
   "outputs": [],
   "source": [
    "import numpy as np\n",
    "import pandas as pd\n",
    "import seaborn as sns\n",
    "import matplotlib.pyplot as plt"
   ]
  },
  {
   "cell_type": "markdown",
   "metadata": {},
   "source": [
    "## Set up"
   ]
  },
  {
   "cell_type": "code",
   "execution_count": 2,
   "metadata": {},
   "outputs": [],
   "source": [
    "df = pd.read_csv('puf2011.csv')\n",
    "\n",
    "df = df[(df['RECID'] != 999996) &\n",
    "        (df['RECID'] != 999997) &\n",
    "        (df['RECID'] != 999998) &\n",
    "        (df['RECID'] != 999999)\n",
    "       ]\n",
    "           \n",
    "df = df.fillna(0)"
   ]
  },
  {
   "cell_type": "markdown",
   "metadata": {},
   "source": [
    "## Check `E00650` and `E00600`"
   ]
  },
  {
   "cell_type": "markdown",
   "metadata": {},
   "source": [
    "As was hypothesized"
   ]
  },
  {
   "cell_type": "code",
   "execution_count": 3,
   "metadata": {},
   "outputs": [
    {
     "data": {
      "text/plain": [
       "0.9395761242591618"
      ]
     },
     "execution_count": 3,
     "metadata": {},
     "output_type": "execute_result"
    }
   ],
   "source": [
    "np.corrcoef(df.E00650, df.E00600)[0][1]"
   ]
  },
  {
   "cell_type": "code",
   "execution_count": 4,
   "metadata": {},
   "outputs": [
    {
     "data": {
      "text/plain": [
       "163786"
      ]
     },
     "execution_count": 4,
     "metadata": {},
     "output_type": "execute_result"
    }
   ],
   "source": [
    "df.shape[0]"
   ]
  },
  {
   "cell_type": "code",
   "execution_count": 5,
   "metadata": {},
   "outputs": [],
   "source": [
    "df_E00650_E00600 = df[(df.E00650 + df.E00600) > 0.]"
   ]
  },
  {
   "cell_type": "code",
   "execution_count": 6,
   "metadata": {},
   "outputs": [
    {
     "data": {
      "text/plain": [
       "67813"
      ]
     },
     "execution_count": 6,
     "metadata": {},
     "output_type": "execute_result"
    }
   ],
   "source": [
    "df_E00650_E00600.shape[0]"
   ]
  },
  {
   "cell_type": "code",
   "execution_count": 7,
   "metadata": {},
   "outputs": [
    {
     "data": {
      "text/plain": [
       "0.939040576302187"
      ]
     },
     "execution_count": 7,
     "metadata": {},
     "output_type": "execute_result"
    }
   ],
   "source": [
    "np.corrcoef(df_E00650_E00600.E00650, df_E00650_E00600.E00600)[0][1]"
   ]
  },
  {
   "cell_type": "markdown",
   "metadata": {},
   "source": [
    "E00650 is removed from following analysis"
   ]
  },
  {
   "cell_type": "markdown",
   "metadata": {},
   "source": [
    "## Is `E01100` colinear with others?"
   ]
  },
  {
   "cell_type": "code",
   "execution_count": 21,
   "metadata": {},
   "outputs": [],
   "source": [
    "# Predictors except E00650, E01100 \n",
    "predictors =  ['DSI', 'EIC', 'MARS', 'XTOT', 'E00200', 'E00300', 'E00400','E00600', \n",
    "                          'E00800', 'E00900',          'E01400', 'E01500', 'E01700',\n",
    "               'E02100', 'E02300', 'E02400', 'E03150', 'E03210', 'E03240', 'E03270',\n",
    "               'E03300', 'E17500', 'E18400', 'E18500', 'E19200', 'E19800', 'E20100',\n",
    "               'E20400', 'E32800', 'F2441', 'N24']\n",
    "\n",
    "predictors_plus_E01100 = predictors + ['E01100']\n",
    "predictors_full = predictors_plus_E01100 + ['E00650']\n",
    "\n",
    "df = df[predictors_plus_E01100]"
   ]
  },
  {
   "cell_type": "code",
   "execution_count": 9,
   "metadata": {},
   "outputs": [
    {
     "name": "stdout",
     "output_type": "stream",
     "text": [
      "DSI: -0.002450304407952469\n",
      "EIC: -0.005770364072514708\n",
      "MARS: -0.0005345798427549097\n",
      "XTOT: 0.003859083819616031\n",
      "E00200: 0.007005752776752023\n",
      "E00300: -0.0003081428323845073\n",
      "E00400: -0.0010374916953898746\n",
      "E00600: 0.008484113561486501\n",
      "E00800: -0.0002781844272934732\n",
      "E00900: 0.005034885370630819\n",
      "E01400: 0.0001884732076324321\n",
      "E01500: 0.0015660212505961425\n",
      "E01700: 0.0021503875160369416\n",
      "E02100: 0.00014753560516280164\n",
      "E02300: -0.0016594135443888484\n",
      "E02400: -0.001440884039744523\n",
      "E03150: 0.0008620084203943303\n",
      "E03210: -0.0031823725541633035\n",
      "E03240: 0.019969662889072242\n",
      "E03270: 0.00860532275779318\n",
      "E03300: 0.0014293979288300587\n",
      "E17500: -0.0013407913784136928\n",
      "E18400: 0.004602040473329941\n",
      "E18500: 0.004892294056842053\n",
      "E19200: -0.001167531869777565\n",
      "E19800: 0.000551298700281853\n",
      "E20100: -0.00037768355066800183\n",
      "E20400: 8.729182348313901e-05\n",
      "E32800: -0.001601310212416729\n",
      "F2441: -0.0014562877461278545\n",
      "N24: 0.0009255279089733505\n"
     ]
    }
   ],
   "source": [
    "for i in predictors:\n",
    "    corr = np.corrcoef(df.E01100, df[i])[0][1]\n",
    "    print(i + ': ' + corr.astype(str))"
   ]
  },
  {
   "cell_type": "markdown",
   "metadata": {},
   "source": [
    "No not really."
   ]
  },
  {
   "cell_type": "markdown",
   "metadata": {},
   "source": [
    "## Check general collinearity"
   ]
  },
  {
   "cell_type": "markdown",
   "metadata": {},
   "source": [
    "Check collinearity per https://stackoverflow.com/a/25833792/1840471. Any value close to 0 in the eigenvector points to collinearity."
   ]
  },
  {
   "cell_type": "code",
   "execution_count": 10,
   "metadata": {},
   "outputs": [],
   "source": [
    "def min_eig(df):\n",
    "    corr = np.corrcoef(df, rowvar=0)\n",
    "    w, v = np.linalg.eig(corr) \n",
    "    return w.min()"
   ]
  },
  {
   "cell_type": "code",
   "execution_count": 11,
   "metadata": {},
   "outputs": [
    {
     "data": {
      "text/plain": [
       "0.15278109560387398"
      ]
     },
     "execution_count": 11,
     "metadata": {},
     "output_type": "execute_result"
    }
   ],
   "source": [
    "min_eig(df[predictors_plus_E01100])"
   ]
  },
  {
   "cell_type": "markdown",
   "metadata": {},
   "source": [
    "Now after removing `E01100`"
   ]
  },
  {
   "cell_type": "code",
   "execution_count": 12,
   "metadata": {},
   "outputs": [
    {
     "data": {
      "text/plain": [
       "0.1527811046902145"
      ]
     },
     "execution_count": 12,
     "metadata": {},
     "output_type": "execute_result"
    }
   ],
   "source": [
    "min_eig(df[predictors])"
   ]
  },
  {
   "cell_type": "markdown",
   "metadata": {},
   "source": [
    "Remove each feature from `predictors` and recheck collinearity."
   ]
  },
  {
   "cell_type": "code",
   "execution_count": 13,
   "metadata": {},
   "outputs": [
    {
     "name": "stdout",
     "output_type": "stream",
     "text": [
      "DSI: 0.15320833091562402\n",
      "EIC: 0.153592027315085\n",
      "MARS: 0.15286895824299554\n",
      "XTOT: 0.153506038604724\n",
      "E00200: 0.15280520705294712\n",
      "E00300: 0.15278275585177792\n",
      "E00400: 0.1527814464329546\n",
      "E00600: 0.15278145772391308\n",
      "E00800: 0.15278188544958599\n",
      "E00900: 0.1527811322684748\n",
      "E01400: 0.15278349308877553\n",
      "E01500: 0.1527919279589253\n",
      "E01700: 0.1527813791518063\n",
      "E02100: 0.15278155258264126\n",
      "E02300: 0.15278479319798172\n",
      "E02400: 0.15283505651650942\n",
      "E03150: 0.15278471933203047\n",
      "E03210: 0.1528049153436615\n",
      "E03240: 0.1527812206792059\n",
      "E03270: 0.15280752805448647\n",
      "E03300: 0.15282510149299544\n",
      "E17500: 0.15278190728315486\n",
      "E18400: 0.15278263606480375\n",
      "E18500: 0.15280796889245815\n",
      "E19200: 0.15278592480437017\n",
      "E19800: 0.1527811777152562\n",
      "E20100: 0.15278112980902023\n",
      "E20400: 0.15278960657747268\n",
      "E32800: 0.16848649076965214\n",
      "F2441: 0.1692281661687451\n",
      "N24: 0.1542546921607233\n",
      "E01100: 0.1527811046902145\n"
     ]
    }
   ],
   "source": [
    "for i in predictors_plus_E01100:\n",
    "    print(i + ': ' + \n",
    "          min_eig(df[predictors_plus_E01100].drop(i, axis=1)).astype(str))"
   ]
  },
  {
   "cell_type": "markdown",
   "metadata": {},
   "source": [
    "Neither E01100 or other PUF variables appear to be greatly collinear with the other PUF variables."
   ]
  },
  {
   "cell_type": "markdown",
   "metadata": {},
   "source": [
    "## `E19800` vs `E20100`"
   ]
  },
  {
   "cell_type": "markdown",
   "metadata": {},
   "source": [
    "E19800 and E20100 are not highly correlated in PUF, though they might be combined to form one predictor given that they are one variable in CPS that was split into two by a constant ratio."
   ]
  },
  {
   "cell_type": "code",
   "execution_count": 14,
   "metadata": {},
   "outputs": [
    {
     "data": {
      "text/plain": [
       "0.2212186664978193"
      ]
     },
     "execution_count": 14,
     "metadata": {},
     "output_type": "execute_result"
    }
   ],
   "source": [
    "np.corrcoef(df.E19800, df.E20100)[0][1]"
   ]
  },
  {
   "cell_type": "code",
   "execution_count": 15,
   "metadata": {},
   "outputs": [
    {
     "data": {
      "image/png": "[encoded data removed]",
      "text/plain": [
       "<matplotlib.figure.Figure at 0x1a14e57e48>"
      ]
     },
     "metadata": {},
     "output_type": "display_data"
    }
   ],
   "source": [
    "sns.regplot(df.E19800, df.E20100)\n",
    "plt.show()"
   ]
  },
  {
   "cell_type": "markdown",
   "metadata": {},
   "source": [
    "## Check general correlations"
   ]
  },
  {
   "cell_type": "markdown",
   "metadata": {},
   "source": [
    "EIC and N24"
   ]
  },
  {
   "cell_type": "code",
   "execution_count": 16,
   "metadata": {},
   "outputs": [
    {
     "data": {
      "text/plain": [
       "0.3707682534862349"
      ]
     },
     "execution_count": 16,
     "metadata": {},
     "output_type": "execute_result"
    }
   ],
   "source": [
    "np.corrcoef(df.EIC, df.N24)[0][1]"
   ]
  },
  {
   "cell_type": "markdown",
   "metadata": {},
   "source": [
    "The highest correlate of EIC is MARS."
   ]
  },
  {
   "cell_type": "code",
   "execution_count": 17,
   "metadata": {},
   "outputs": [
    {
     "data": {
      "text/plain": [
       "0.39184812882663356"
      ]
     },
     "execution_count": 17,
     "metadata": {},
     "output_type": "execute_result"
    }
   ],
   "source": [
    "np.corrcoef(df.EIC, df.MARS)[0][1]"
   ]
  },
  {
   "cell_type": "markdown",
   "metadata": {},
   "source": [
    "Below is a full analysis of the predictor correlations including E01100 but excluding E00650 (as we know what it correlates with already)."
   ]
  },
  {
   "cell_type": "code",
   "execution_count": 22,
   "metadata": {},
   "outputs": [
    {
     "name": "stdout",
     "output_type": "stream",
     "text": [
      "Predictors and their highest correlates:\n",
      "\n",
      "DSI         XTOT\n",
      "EIC         MARS\n",
      "MARS        XTOT\n",
      "XTOT         N24\n",
      "E00200    E18400\n",
      "E00300    E20400\n",
      "E00400    E18500\n",
      "E00600    E20400\n",
      "E00800      XTOT\n",
      "E00900    E03300\n",
      "E01400    E02400\n",
      "E01500    E01700\n",
      "E01700    E01500\n",
      "E02100    E00600\n",
      "E02300    E18500\n",
      "E02400       N24\n",
      "E03150    E03270\n",
      "E03210    E02400\n",
      "E03240    E18400\n",
      "E03270    E03300\n",
      "E03300    E03270\n",
      "E17500    E02400\n",
      "E18400    E00200\n",
      "E18500    E18400\n",
      "E19200    E20400\n",
      "E19800    E00300\n",
      "E20100    E19800\n",
      "E20400    E00300\n",
      "E32800     F2441\n",
      "F2441     E32800\n",
      "N24         XTOT\n",
      "E01100    E03240\n",
      "dtype: object\n"
     ]
    }
   ],
   "source": [
    "corr = df.corr().abs()\n",
    "\n",
    "# corr_not_1 = absolute-valued correlation matrix where all 1's replaced with NaN's. \n",
    "\n",
    "corr_not_1 = corr[corr != 1]\n",
    "\n",
    "corr_max = corr_not_1.idxmax(axis = 1)\n",
    "\n",
    "print('Predictors and their highest correlates:\\n')\n",
    "print(corr_max)"
   ]
  },
  {
   "cell_type": "code",
   "execution_count": 24,
   "metadata": {},
   "outputs": [
    {
     "name": "stdout",
     "output_type": "stream",
     "text": [
      "\n",
      " Most correlated pairs and their correlations values:\n"
     ]
    },
    {
     "data": {
      "text/html": [
       "<div>\n",
       "<style scoped>\n",
       "    .dataframe tbody tr th:only-of-type {\n",
       "        vertical-align: middle;\n",
       "    }\n",
       "\n",
       "    .dataframe tbody tr th {\n",
       "        vertical-align: top;\n",
       "    }\n",
       "\n",
       "    .dataframe thead th {\n",
       "        text-align: right;\n",
       "    }\n",
       "</style>\n",
       "<table border=\"1\" class=\"dataframe\">\n",
       "  <thead>\n",
       "    <tr style=\"text-align: right;\">\n",
       "      <th></th>\n",
       "      <th>Corr</th>\n",
       "      <th>Value</th>\n",
       "    </tr>\n",
       "  </thead>\n",
       "  <tbody>\n",
       "    <tr>\n",
       "      <th>F2441</th>\n",
       "      <td>E32800</td>\n",
       "      <td>0.843953</td>\n",
       "    </tr>\n",
       "    <tr>\n",
       "      <th>E32800</th>\n",
       "      <td>F2441</td>\n",
       "      <td>0.843953</td>\n",
       "    </tr>\n",
       "    <tr>\n",
       "      <th>XTOT</th>\n",
       "      <td>N24</td>\n",
       "      <td>0.771928</td>\n",
       "    </tr>\n",
       "    <tr>\n",
       "      <th>N24</th>\n",
       "      <td>XTOT</td>\n",
       "      <td>0.771928</td>\n",
       "    </tr>\n",
       "    <tr>\n",
       "      <th>MARS</th>\n",
       "      <td>XTOT</td>\n",
       "      <td>0.424276</td>\n",
       "    </tr>\n",
       "    <tr>\n",
       "      <th>E00200</th>\n",
       "      <td>E18400</td>\n",
       "      <td>0.400148</td>\n",
       "    </tr>\n",
       "    <tr>\n",
       "      <th>E18400</th>\n",
       "      <td>E00200</td>\n",
       "      <td>0.400148</td>\n",
       "    </tr>\n",
       "    <tr>\n",
       "      <th>E00300</th>\n",
       "      <td>E20400</td>\n",
       "      <td>0.400075</td>\n",
       "    </tr>\n",
       "    <tr>\n",
       "      <th>E20400</th>\n",
       "      <td>E00300</td>\n",
       "      <td>0.400075</td>\n",
       "    </tr>\n",
       "    <tr>\n",
       "      <th>EIC</th>\n",
       "      <td>MARS</td>\n",
       "      <td>0.391848</td>\n",
       "    </tr>\n",
       "    <tr>\n",
       "      <th>E18500</th>\n",
       "      <td>E18400</td>\n",
       "      <td>0.385399</td>\n",
       "    </tr>\n",
       "    <tr>\n",
       "      <th>E19200</th>\n",
       "      <td>E20400</td>\n",
       "      <td>0.352766</td>\n",
       "    </tr>\n",
       "    <tr>\n",
       "      <th>E00600</th>\n",
       "      <td>E20400</td>\n",
       "      <td>0.339109</td>\n",
       "    </tr>\n",
       "    <tr>\n",
       "      <th>DSI</th>\n",
       "      <td>XTOT</td>\n",
       "      <td>0.334941</td>\n",
       "    </tr>\n",
       "    <tr>\n",
       "      <th>E03270</th>\n",
       "      <td>E03300</td>\n",
       "      <td>0.311777</td>\n",
       "    </tr>\n",
       "    <tr>\n",
       "      <th>E03300</th>\n",
       "      <td>E03270</td>\n",
       "      <td>0.311777</td>\n",
       "    </tr>\n",
       "    <tr>\n",
       "      <th>E00400</th>\n",
       "      <td>E18500</td>\n",
       "      <td>0.292277</td>\n",
       "    </tr>\n",
       "    <tr>\n",
       "      <th>E19800</th>\n",
       "      <td>E00300</td>\n",
       "      <td>0.240565</td>\n",
       "    </tr>\n",
       "    <tr>\n",
       "      <th>E01700</th>\n",
       "      <td>E01500</td>\n",
       "      <td>0.238760</td>\n",
       "    </tr>\n",
       "    <tr>\n",
       "      <th>E01500</th>\n",
       "      <td>E01700</td>\n",
       "      <td>0.238760</td>\n",
       "    </tr>\n",
       "    <tr>\n",
       "      <th>E02400</th>\n",
       "      <td>N24</td>\n",
       "      <td>0.232632</td>\n",
       "    </tr>\n",
       "    <tr>\n",
       "      <th>E20100</th>\n",
       "      <td>E19800</td>\n",
       "      <td>0.221219</td>\n",
       "    </tr>\n",
       "    <tr>\n",
       "      <th>E00900</th>\n",
       "      <td>E03300</td>\n",
       "      <td>0.196414</td>\n",
       "    </tr>\n",
       "    <tr>\n",
       "      <th>E03240</th>\n",
       "      <td>E18400</td>\n",
       "      <td>0.189699</td>\n",
       "    </tr>\n",
       "    <tr>\n",
       "      <th>E01400</th>\n",
       "      <td>E02400</td>\n",
       "      <td>0.132915</td>\n",
       "    </tr>\n",
       "    <tr>\n",
       "      <th>E17500</th>\n",
       "      <td>E02400</td>\n",
       "      <td>0.128962</td>\n",
       "    </tr>\n",
       "    <tr>\n",
       "      <th>E03150</th>\n",
       "      <td>E03270</td>\n",
       "      <td>0.089605</td>\n",
       "    </tr>\n",
       "    <tr>\n",
       "      <th>E03210</th>\n",
       "      <td>E02400</td>\n",
       "      <td>0.062227</td>\n",
       "    </tr>\n",
       "    <tr>\n",
       "      <th>E02300</th>\n",
       "      <td>E18500</td>\n",
       "      <td>0.045206</td>\n",
       "    </tr>\n",
       "    <tr>\n",
       "      <th>E02100</th>\n",
       "      <td>E00600</td>\n",
       "      <td>0.036521</td>\n",
       "    </tr>\n",
       "    <tr>\n",
       "      <th>E01100</th>\n",
       "      <td>E03240</td>\n",
       "      <td>0.019970</td>\n",
       "    </tr>\n",
       "    <tr>\n",
       "      <th>E00800</th>\n",
       "      <td>XTOT</td>\n",
       "      <td>0.013576</td>\n",
       "    </tr>\n",
       "  </tbody>\n",
       "</table>\n",
       "</div>"
      ],
      "text/plain": [
       "          Corr     Value\n",
       "F2441   E32800  0.843953\n",
       "E32800   F2441  0.843953\n",
       "XTOT       N24  0.771928\n",
       "N24       XTOT  0.771928\n",
       "MARS      XTOT  0.424276\n",
       "E00200  E18400  0.400148\n",
       "E18400  E00200  0.400148\n",
       "E00300  E20400  0.400075\n",
       "E20400  E00300  0.400075\n",
       "EIC       MARS  0.391848\n",
       "E18500  E18400  0.385399\n",
       "E19200  E20400  0.352766\n",
       "E00600  E20400  0.339109\n",
       "DSI       XTOT  0.334941\n",
       "E03270  E03300  0.311777\n",
       "E03300  E03270  0.311777\n",
       "E00400  E18500  0.292277\n",
       "E19800  E00300  0.240565\n",
       "E01700  E01500  0.238760\n",
       "E01500  E01700  0.238760\n",
       "E02400     N24  0.232632\n",
       "E20100  E19800  0.221219\n",
       "E00900  E03300  0.196414\n",
       "E03240  E18400  0.189699\n",
       "E01400  E02400  0.132915\n",
       "E17500  E02400  0.128962\n",
       "E03150  E03270  0.089605\n",
       "E03210  E02400  0.062227\n",
       "E02300  E18500  0.045206\n",
       "E02100  E00600  0.036521\n",
       "E01100  E03240  0.019970\n",
       "E00800    XTOT  0.013576"
      ]
     },
     "execution_count": 24,
     "metadata": {},
     "output_type": "execute_result"
    }
   ],
   "source": [
    "corr_vals = []\n",
    "for i in corr_max.iteritems():\n",
    "    corr_vals.append(corr_not_1.loc[i[0], i[1]])\n",
    "\n",
    "# df matching correlation pairs with correlation values\n",
    "    \n",
    "corr_max_df = pd.DataFrame({'Corr': corr_max, 'Value': corr_vals})\n",
    "\n",
    "print('\\n Most correlated pairs and their correlations values:')\n",
    "\n",
    "corr_max_df.sort_values('Value', ascending = False)"
   ]
  },
  {
   "cell_type": "markdown",
   "metadata": {},
   "source": [
    "Regarding E32800/F2441:\n",
    "\n",
    "{'E32800': 'Child/dependent-care expenses for qualifying persons from Form 2441'\n",
    "\n",
    "'F2441': 'number of child/dependent-care qualifying persons'}\n",
    "\n",
    "This correlation makes sense"
   ]
  }
 ],
 "metadata": {
  "kernelspec": {
   "display_name": "Python 3",
   "language": "python",
   "name": "python3"
  },
  "language_info": {
   "codemirror_mode": {
    "name": "ipython",
    "version": 3
   },
   "file_extension": ".py",
   "mimetype": "text/x-python",
   "name": "python",
   "nbconvert_exporter": "python",
   "pygments_lexer": "ipython3",
   "version": "3.6.4"
  }
 },
 "nbformat": 4,
 "nbformat_minor": 2
}
