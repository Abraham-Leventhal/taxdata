{
 "cells": [
  {
   "cell_type": "markdown",
   "metadata": {},
   "source": [
    "# Random forests imputation"
   ]
  },
  {
   "cell_type": "markdown",
   "metadata": {},
   "source": [
    "## Setup\n",
    "\n",
    "### Imports"
   ]
  },
  {
   "cell_type": "code",
   "execution_count": 47,
   "metadata": {},
   "outputs": [],
   "source": [
    "import pandas as pd\n",
    "import numpy as np\n",
    "from sklearn import ensemble\n",
    "from sklearn import linear_model\n",
    "from sklearn import metrics\n",
    "from sklearn import model_selection\n",
    "import os"
   ]
  },
  {
   "cell_type": "markdown",
   "metadata": {},
   "source": [
    "## Data\n",
    "\n",
    "Get PUF records."
   ]
  },
  {
   "cell_type": "code",
   "execution_count": 48,
   "metadata": {},
   "outputs": [
    {
     "data": {
      "text/plain": [
       "\"df = pd.read_csv('puf2011.csv')\\n\\n# Removes aggregate rows\\ndf = df[(df.RECID != 999996) & \\n        (df.RECID != 999997) & \\n        (df.RECID != 999998) &\\n        (df.RECID != 999999)]\""
      ]
     },
     "execution_count": 48,
     "metadata": {},
     "output_type": "execute_result"
    }
   ],
   "source": [
    "'''df = pd.read_csv('puf2011.csv')\n",
    "\n",
    "# Removes aggregate rows\n",
    "df = df[(df.RECID != 999996) & \n",
    "        (df.RECID != 999997) & \n",
    "        (df.RECID != 999998) &\n",
    "        (df.RECID != 999999)]'''"
   ]
  },
  {
   "cell_type": "code",
   "execution_count": 49,
   "metadata": {},
   "outputs": [
    {
     "data": {
      "text/plain": [
       "\"P22250_indp = ['DSI', 'EIC', 'MARS', 'E00200', 'E00300','E00600', 'E00800', 'E00900', \\n               'E01100', 'E01400', 'E01500', 'E01700','E02100', 'E02300', 'E02400', \\n               'E03150', 'E03210', 'E03240', 'E03270','E03300', 'E17500', 'E18400', \\n               'E18500', 'E19200', 'E19800', 'E20100','E20400', 'E32800', 'P22250']\\ndf.drop([i for i in df.columns if i not in P22250_indp], axis=1, inplace=True)\""
      ]
     },
     "execution_count": 49,
     "metadata": {},
     "output_type": "execute_result"
    }
   ],
   "source": [
    "'''P22250_indp = ['DSI', 'EIC', 'MARS', 'E00200', 'E00300','E00600', 'E00800', 'E00900', \n",
    "               'E01100', 'E01400', 'E01500', 'E01700','E02100', 'E02300', 'E02400', \n",
    "               'E03150', 'E03210', 'E03240', 'E03270','E03300', 'E17500', 'E18400', \n",
    "               'E18500', 'E19200', 'E19800', 'E20100','E20400', 'E32800', 'P22250']\n",
    "df.drop([i for i in df.columns if i not in P22250_indp], axis=1, inplace=True)'''"
   ]
  },
  {
   "cell_type": "code",
   "execution_count": 51,
   "metadata": {},
   "outputs": [
    {
     "data": {
      "text/plain": [
       "'df.describe().transpose()'"
      ]
     },
     "execution_count": 51,
     "metadata": {},
     "output_type": "execute_result"
    }
   ],
   "source": [
    "'df.describe().transpose()'"
   ]
  },
  {
   "cell_type": "markdown",
   "metadata": {},
   "source": [
    "## Model\n",
    "\n",
    "Train a random forests model."
   ]
  },
  {
   "cell_type": "code",
   "execution_count": 52,
   "metadata": {},
   "outputs": [],
   "source": [
    "#YCOL = 'P22250'\n",
    "\n",
    "train = pd.read_csv('puf80%training')\n",
    "train.drop(columns = [i for i in train.columns if i not in P22250_indp], axis = 1, inplace = True)\n",
    "\n",
    "test = pd.read_csv('puf20%validation')\n",
    "test.drop(columns = [i for i in test.columns if i not in P22250_indp], axis = 1, inplace = True)"
   ]
  },
  {
   "cell_type": "code",
   "execution_count": 53,
   "metadata": {},
   "outputs": [],
   "source": [
    "#X_train, X_test, Y_train, Y_test = model_selection.train_test_split(\n",
    "    #df.drop(YCOL, axis=1), df[YCOL], random_state=3)\n",
    "\n",
    "X_train = train.drop(columns = ['P22250'], axis = 1)\n",
    "X_test = test.drop(columns = ['P22250'], axis = 1)\n",
    "Y_train = train['P22250']\n",
    "Y_test = test['P22250']"
   ]
  },
  {
   "cell_type": "code",
   "execution_count": 54,
   "metadata": {},
   "outputs": [],
   "source": [
    "Y_train_sign = np.sign(Y_train)\n",
    "Y_test_sign = np.sign(Y_test)"
   ]
  },
  {
   "cell_type": "code",
   "execution_count": 55,
   "metadata": {},
   "outputs": [
    {
     "name": "stderr",
     "output_type": "stream",
     "text": [
      "[Parallel(n_jobs=-1)]: Done  42 tasks      | elapsed:  1.1min\n",
      "[Parallel(n_jobs=-1)]: Done 100 out of 100 | elapsed:  2.4min finished\n"
     ]
    },
    {
     "data": {
      "text/plain": [
       "RandomForestRegressor(bootstrap=True, criterion='mse', max_depth=None,\n",
       "           max_features='auto', max_leaf_nodes=None,\n",
       "           min_impurity_decrease=0.0, min_impurity_split=None,\n",
       "           min_samples_leaf=1, min_samples_split=2,\n",
       "           min_weight_fraction_leaf=0.0, n_estimators=100, n_jobs=-1,\n",
       "           oob_score=False, random_state=3, verbose=True, warm_start=False)"
      ]
     },
     "execution_count": 55,
     "metadata": {},
     "output_type": "execute_result"
    }
   ],
   "source": [
    "# Reduce for faster runtime.\n",
    "N_ESTIMATORS = 100\n",
    "rf = ensemble.RandomForestRegressor(n_estimators=N_ESTIMATORS, \n",
    "                                    min_samples_leaf=1, random_state=3, \n",
    "                                    verbose=True, \n",
    "                                    n_jobs=-1)  # Use maximum number of cores.\n",
    "rf.fit(X_train, Y_train)"
   ]
  },
  {
   "cell_type": "markdown",
   "metadata": {},
   "source": [
    "### Model description\n",
    "\n",
    "Show the ten most important features."
   ]
  },
  {
   "cell_type": "code",
   "execution_count": 56,
   "metadata": {},
   "outputs": [
    {
     "data": {
      "text/plain": [
       "E00300    0.188059\n",
       "E00600    0.104188\n",
       "MARS      0.102279\n",
       "E00200    0.097157\n",
       "E18400    0.077229\n",
       "E19200    0.071628\n",
       "E20400    0.057189\n",
       "E19800    0.049433\n",
       "E03300    0.045403\n",
       "E18500    0.044406\n",
       "dtype: float64"
      ]
     },
     "execution_count": 56,
     "metadata": {},
     "output_type": "execute_result"
    }
   ],
   "source": [
    "feature_importance = pd.Series(rf.feature_importances_, index=X_train.columns)\n",
    "feature_importance.sort_values(ascending=False)[:10]"
   ]
  },
  {
   "cell_type": "markdown",
   "metadata": {},
   "source": [
    "## Predict\n",
    "\n",
    "### Top-line (average)"
   ]
  },
  {
   "cell_type": "code",
   "execution_count": 57,
   "metadata": {},
   "outputs": [
    {
     "name": "stderr",
     "output_type": "stream",
     "text": [
      "[Parallel(n_jobs=4)]: Done  42 tasks      | elapsed:    0.2s\n",
      "[Parallel(n_jobs=4)]: Done 100 out of 100 | elapsed:    0.5s finished\n"
     ]
    }
   ],
   "source": [
    "pred = pd.DataFrame({'actual': Y_test,\n",
    "                     'pred': rf.predict(X_test)})\n",
    "pred['error'] = pred.pred - pred.actual\n",
    "pred['actual_sign'] = np.sign(pred.actual)\n",
    "pred['pred_sign'] = np.sign(pred.pred)\n",
    "pred['correct_sign'] = (pred.actual_sign == pred.pred_sign)\n",
    "pred['count'] = 1"
   ]
  },
  {
   "cell_type": "markdown",
   "metadata": {},
   "source": [
    "MAE, RMSE, and % negative/zero/positive."
   ]
  },
  {
   "cell_type": "code",
   "execution_count": 58,
   "metadata": {},
   "outputs": [
    {
     "data": {
      "text/plain": [
       "35601.24474728538"
      ]
     },
     "execution_count": 58,
     "metadata": {},
     "output_type": "execute_result"
    }
   ],
   "source": [
    "pred.error.abs().mean()"
   ]
  },
  {
   "cell_type": "code",
   "execution_count": 59,
   "metadata": {},
   "outputs": [
    {
     "data": {
      "text/plain": [
       "296625.87750879786"
      ]
     },
     "execution_count": 59,
     "metadata": {},
     "output_type": "execute_result"
    }
   ],
   "source": [
    "pred.error.pow(2).mean() ** 0.5"
   ]
  },
  {
   "cell_type": "code",
   "execution_count": 60,
   "metadata": {},
   "outputs": [
    {
     "data": {
      "text/html": [
       "<div>\n",
       "<style scoped>\n",
       "    .dataframe tbody tr th:only-of-type {\n",
       "        vertical-align: middle;\n",
       "    }\n",
       "\n",
       "    .dataframe tbody tr th {\n",
       "        vertical-align: top;\n",
       "    }\n",
       "\n",
       "    .dataframe thead th {\n",
       "        text-align: right;\n",
       "    }\n",
       "</style>\n",
       "<table border=\"1\" class=\"dataframe\">\n",
       "  <thead>\n",
       "    <tr style=\"text-align: right;\">\n",
       "      <th>pred_sign</th>\n",
       "      <th>-1.0</th>\n",
       "      <th>0.0</th>\n",
       "      <th>1.0</th>\n",
       "      <th>All</th>\n",
       "    </tr>\n",
       "    <tr>\n",
       "      <th>actual_sign</th>\n",
       "      <th></th>\n",
       "      <th></th>\n",
       "      <th></th>\n",
       "      <th></th>\n",
       "    </tr>\n",
       "  </thead>\n",
       "  <tbody>\n",
       "    <tr>\n",
       "      <th>-1.0</th>\n",
       "      <td>2982</td>\n",
       "      <td>55</td>\n",
       "      <td>1638</td>\n",
       "      <td>4675</td>\n",
       "    </tr>\n",
       "    <tr>\n",
       "      <th>0.0</th>\n",
       "      <td>7572</td>\n",
       "      <td>11356</td>\n",
       "      <td>5056</td>\n",
       "      <td>23984</td>\n",
       "    </tr>\n",
       "    <tr>\n",
       "      <th>1.0</th>\n",
       "      <td>2392</td>\n",
       "      <td>44</td>\n",
       "      <td>1518</td>\n",
       "      <td>3954</td>\n",
       "    </tr>\n",
       "    <tr>\n",
       "      <th>All</th>\n",
       "      <td>12946</td>\n",
       "      <td>11455</td>\n",
       "      <td>8212</td>\n",
       "      <td>32613</td>\n",
       "    </tr>\n",
       "  </tbody>\n",
       "</table>\n",
       "</div>"
      ],
      "text/plain": [
       "pred_sign     -1.0    0.0   1.0    All\n",
       "actual_sign                           \n",
       "-1.0          2982     55  1638   4675\n",
       "0.0           7572  11356  5056  23984\n",
       "1.0           2392     44  1518   3954\n",
       "All          12946  11455  8212  32613"
      ]
     },
     "execution_count": 60,
     "metadata": {},
     "output_type": "execute_result"
    }
   ],
   "source": [
    "pred.pivot_table(index='actual_sign', columns='pred_sign', values='count', \n",
    "                 aggfunc=sum, margins=True)"
   ]
  },
  {
   "cell_type": "code",
   "execution_count": 61,
   "metadata": {},
   "outputs": [
    {
     "data": {
      "text/plain": [
       "0.48618649004998005"
      ]
     },
     "execution_count": 61,
     "metadata": {},
     "output_type": "execute_result"
    }
   ],
   "source": [
    "pred.correct_sign.mean()"
   ]
  },
  {
   "cell_type": "markdown",
   "metadata": {},
   "source": [
    "### All trees"
   ]
  },
  {
   "cell_type": "code",
   "execution_count": 62,
   "metadata": {},
   "outputs": [],
   "source": [
    "preds = []\n",
    "for estimator in rf.estimators_:\n",
    "    preds.append(estimator.predict(X_test))\n",
    "preds = np.array(preds).transpose()  # One row per record."
   ]
  },
  {
   "cell_type": "code",
   "execution_count": 63,
   "metadata": {},
   "outputs": [],
   "source": [
    "rand_col = np.random.randint(N_ESTIMATORS, size=preds.shape[0])\n",
    "random_tree = preds[np.arange(preds.shape[0]), rand_col]"
   ]
  },
  {
   "cell_type": "code",
   "execution_count": 64,
   "metadata": {},
   "outputs": [],
   "source": [
    "pred_random_tree = pd.DataFrame({'actual': Y_test,\n",
    "                                 'pred': random_tree})\n",
    "pred_random_tree['error'] = pred_random_tree.pred - pred_random_tree.actual\n",
    "pred_random_tree['actual_sign'] = np.sign(pred_random_tree.actual)\n",
    "pred_random_tree['pred_sign'] = np.sign(pred_random_tree.pred)\n",
    "pred_random_tree['correct_sign'] = (\n",
    "    pred_random_tree.actual_sign == pred_random_tree.pred_sign)\n",
    "pred_random_tree['count'] = 1"
   ]
  },
  {
   "cell_type": "markdown",
   "metadata": {},
   "source": [
    "As expected, MAE and RMSE exceed values from the point estimate prediction."
   ]
  },
  {
   "cell_type": "code",
   "execution_count": 65,
   "metadata": {},
   "outputs": [
    {
     "data": {
      "text/plain": [
       "50240.61039866049"
      ]
     },
     "execution_count": 65,
     "metadata": {},
     "output_type": "execute_result"
    }
   ],
   "source": [
    "pred_random_tree.error.abs().mean()"
   ]
  },
  {
   "cell_type": "code",
   "execution_count": 66,
   "metadata": {},
   "outputs": [
    {
     "data": {
      "text/plain": [
       "542762.7703379896"
      ]
     },
     "execution_count": 66,
     "metadata": {},
     "output_type": "execute_result"
    }
   ],
   "source": [
    "pred_random_tree.error.pow(2).mean() ** 0.5"
   ]
  },
  {
   "cell_type": "markdown",
   "metadata": {},
   "source": [
    "But the distribution of sign is closer to correct, since it's not averaging out the zeros."
   ]
  },
  {
   "cell_type": "code",
   "execution_count": 67,
   "metadata": {},
   "outputs": [
    {
     "data": {
      "text/html": [
       "<div>\n",
       "<style scoped>\n",
       "    .dataframe tbody tr th:only-of-type {\n",
       "        vertical-align: middle;\n",
       "    }\n",
       "\n",
       "    .dataframe tbody tr th {\n",
       "        vertical-align: top;\n",
       "    }\n",
       "\n",
       "    .dataframe thead th {\n",
       "        text-align: right;\n",
       "    }\n",
       "</style>\n",
       "<table border=\"1\" class=\"dataframe\">\n",
       "  <thead>\n",
       "    <tr style=\"text-align: right;\">\n",
       "      <th>pred_sign</th>\n",
       "      <th>-1.0</th>\n",
       "      <th>0.0</th>\n",
       "      <th>1.0</th>\n",
       "      <th>All</th>\n",
       "    </tr>\n",
       "    <tr>\n",
       "      <th>actual_sign</th>\n",
       "      <th></th>\n",
       "      <th></th>\n",
       "      <th></th>\n",
       "      <th></th>\n",
       "    </tr>\n",
       "  </thead>\n",
       "  <tbody>\n",
       "    <tr>\n",
       "      <th>-1.0</th>\n",
       "      <td>1764</td>\n",
       "      <td>1424</td>\n",
       "      <td>1487</td>\n",
       "      <td>4675</td>\n",
       "    </tr>\n",
       "    <tr>\n",
       "      <th>0.0</th>\n",
       "      <td>1671</td>\n",
       "      <td>20791</td>\n",
       "      <td>1522</td>\n",
       "      <td>23984</td>\n",
       "    </tr>\n",
       "    <tr>\n",
       "      <th>1.0</th>\n",
       "      <td>1363</td>\n",
       "      <td>1365</td>\n",
       "      <td>1226</td>\n",
       "      <td>3954</td>\n",
       "    </tr>\n",
       "    <tr>\n",
       "      <th>All</th>\n",
       "      <td>4798</td>\n",
       "      <td>23580</td>\n",
       "      <td>4235</td>\n",
       "      <td>32613</td>\n",
       "    </tr>\n",
       "  </tbody>\n",
       "</table>\n",
       "</div>"
      ],
      "text/plain": [
       "pred_sign    -1.0    0.0   1.0    All\n",
       "actual_sign                          \n",
       "-1.0         1764   1424  1487   4675\n",
       "0.0          1671  20791  1522  23984\n",
       "1.0          1363   1365  1226   3954\n",
       "All          4798  23580  4235  32613"
      ]
     },
     "execution_count": 67,
     "metadata": {},
     "output_type": "execute_result"
    }
   ],
   "source": [
    "pred_random_tree.pivot_table(index='actual_sign', columns='pred_sign', \n",
    "                             values='count', aggfunc=sum, margins=True)"
   ]
  },
  {
   "cell_type": "code",
   "execution_count": 68,
   "metadata": {},
   "outputs": [
    {
     "data": {
      "text/plain": [
       "0.7291877472173673"
      ]
     },
     "execution_count": 68,
     "metadata": {},
     "output_type": "execute_result"
    }
   ],
   "source": [
    "pred_random_tree.correct_sign.mean()"
   ]
  },
  {
   "cell_type": "markdown",
   "metadata": {},
   "source": [
    "#### Log-loss of sign"
   ]
  },
  {
   "cell_type": "code",
   "execution_count": 69,
   "metadata": {},
   "outputs": [
    {
     "data": {
      "text/plain": [
       "0.6379758818358536"
      ]
     },
     "execution_count": 69,
     "metadata": {},
     "output_type": "execute_result"
    }
   ],
   "source": [
    "preds_neg = np.sum(preds < 0, axis=1) / 100\n",
    "preds_zero = np.sum(preds == 0, axis=1) / 100\n",
    "preds_pos = np.sum(preds > 0, axis=1) / 100\n",
    "\n",
    "rf_pred_proba = list(map(list, zip(*[preds_neg, preds_zero, preds_pos])))\n",
    "\n",
    "metrics.log_loss(Y_test_sign, rf_pred_proba)"
   ]
  },
  {
   "cell_type": "markdown",
   "metadata": {},
   "source": [
    "## Multinomial logistic regression of sign"
   ]
  },
  {
   "cell_type": "code",
   "execution_count": 70,
   "metadata": {},
   "outputs": [
    {
     "name": "stderr",
     "output_type": "stream",
     "text": [
      "/anaconda3/lib/python3.6/site-packages/sklearn/utils/optimize.py:203: ConvergenceWarning: newton-cg failed to converge. Increase the number of iterations.\n",
      "  \"number of iterations.\", ConvergenceWarning)\n"
     ]
    },
    {
     "data": {
      "text/plain": [
       "LogisticRegression(C=1.0, class_weight=None, dual=False, fit_intercept=True,\n",
       "          intercept_scaling=1, max_iter=100, multi_class='multinomial',\n",
       "          n_jobs=1, penalty='l2', random_state=3, solver='newton-cg',\n",
       "          tol=0.0001, verbose=0, warm_start=False)"
      ]
     },
     "execution_count": 70,
     "metadata": {},
     "output_type": "execute_result"
    }
   ],
   "source": [
    "mult = linear_model.LogisticRegression(\n",
    "    multi_class='multinomial', solver='newton-cg', random_state=3)\n",
    "mult.fit(X_train, Y_train_sign)"
   ]
  },
  {
   "cell_type": "markdown",
   "metadata": {},
   "source": [
    "### Coefficients\n",
    "\n",
    "p-values are tricky to calculate, so just show the features with highest absolute coefficient on the zero class."
   ]
  },
  {
   "cell_type": "code",
   "execution_count": 71,
   "metadata": {},
   "outputs": [
    {
     "data": {
      "text/html": [
       "<div>\n",
       "<style scoped>\n",
       "    .dataframe tbody tr th:only-of-type {\n",
       "        vertical-align: middle;\n",
       "    }\n",
       "\n",
       "    .dataframe tbody tr th {\n",
       "        vertical-align: top;\n",
       "    }\n",
       "\n",
       "    .dataframe thead th {\n",
       "        text-align: right;\n",
       "    }\n",
       "</style>\n",
       "<table border=\"1\" class=\"dataframe\">\n",
       "  <thead>\n",
       "    <tr style=\"text-align: right;\">\n",
       "      <th></th>\n",
       "      <th>abs_zero</th>\n",
       "      <th>negative</th>\n",
       "      <th>positive</th>\n",
       "      <th>zero</th>\n",
       "    </tr>\n",
       "  </thead>\n",
       "  <tbody>\n",
       "    <tr>\n",
       "      <th>MARS</th>\n",
       "      <td>0.073554</td>\n",
       "      <td>-0.036209</td>\n",
       "      <td>-0.037345</td>\n",
       "      <td>0.073554</td>\n",
       "    </tr>\n",
       "    <tr>\n",
       "      <th>E01100</th>\n",
       "      <td>0.018495</td>\n",
       "      <td>-0.009427</td>\n",
       "      <td>-0.009067</td>\n",
       "      <td>0.018495</td>\n",
       "    </tr>\n",
       "    <tr>\n",
       "      <th>EIC</th>\n",
       "      <td>0.011337</td>\n",
       "      <td>-0.005715</td>\n",
       "      <td>-0.005622</td>\n",
       "      <td>0.011337</td>\n",
       "    </tr>\n",
       "    <tr>\n",
       "      <th>DSI</th>\n",
       "      <td>0.003024</td>\n",
       "      <td>-0.001520</td>\n",
       "      <td>-0.001504</td>\n",
       "      <td>0.003024</td>\n",
       "    </tr>\n",
       "    <tr>\n",
       "      <th>E03210</th>\n",
       "      <td>0.002131</td>\n",
       "      <td>-0.000908</td>\n",
       "      <td>-0.001223</td>\n",
       "      <td>0.002131</td>\n",
       "    </tr>\n",
       "    <tr>\n",
       "      <th>E32800</th>\n",
       "      <td>0.000271</td>\n",
       "      <td>-0.000122</td>\n",
       "      <td>-0.000149</td>\n",
       "      <td>0.000271</td>\n",
       "    </tr>\n",
       "    <tr>\n",
       "      <th>E02300</th>\n",
       "      <td>0.000154</td>\n",
       "      <td>-0.000062</td>\n",
       "      <td>-0.000093</td>\n",
       "      <td>0.000154</td>\n",
       "    </tr>\n",
       "    <tr>\n",
       "      <th>E00800</th>\n",
       "      <td>0.000044</td>\n",
       "      <td>0.000019</td>\n",
       "      <td>-0.000063</td>\n",
       "      <td>0.000044</td>\n",
       "    </tr>\n",
       "    <tr>\n",
       "      <th>E03150</th>\n",
       "      <td>0.000042</td>\n",
       "      <td>-0.000016</td>\n",
       "      <td>-0.000025</td>\n",
       "      <td>0.000042</td>\n",
       "    </tr>\n",
       "    <tr>\n",
       "      <th>E02400</th>\n",
       "      <td>0.000027</td>\n",
       "      <td>-0.000008</td>\n",
       "      <td>-0.000018</td>\n",
       "      <td>0.000027</td>\n",
       "    </tr>\n",
       "  </tbody>\n",
       "</table>\n",
       "</div>"
      ],
      "text/plain": [
       "        abs_zero  negative  positive      zero\n",
       "MARS    0.073554 -0.036209 -0.037345  0.073554\n",
       "E01100  0.018495 -0.009427 -0.009067  0.018495\n",
       "EIC     0.011337 -0.005715 -0.005622  0.011337\n",
       "DSI     0.003024 -0.001520 -0.001504  0.003024\n",
       "E03210  0.002131 -0.000908 -0.001223  0.002131\n",
       "E32800  0.000271 -0.000122 -0.000149  0.000271\n",
       "E02300  0.000154 -0.000062 -0.000093  0.000154\n",
       "E00800  0.000044  0.000019 -0.000063  0.000044\n",
       "E03150  0.000042 -0.000016 -0.000025  0.000042\n",
       "E02400  0.000027 -0.000008 -0.000018  0.000027"
      ]
     },
     "execution_count": 71,
     "metadata": {},
     "output_type": "execute_result"
    }
   ],
   "source": [
    "mult_coef = pd.DataFrame({\n",
    "    'negative': mult.coef_[0],\n",
    "    'zero': mult.coef_[1],\n",
    "    'positive': mult.coef_[2],\n",
    "    'abs_zero': np.abs(mult.coef_[1])},\n",
    "    index=X_train.columns)\n",
    "\n",
    "mult_coef.sort_values('abs_zero', ascending=False)[:10]"
   ]
  },
  {
   "cell_type": "markdown",
   "metadata": {},
   "source": [
    "### Predict"
   ]
  },
  {
   "cell_type": "code",
   "execution_count": 72,
   "metadata": {},
   "outputs": [
    {
     "data": {
      "text/plain": [
       "0.7642657835832337"
      ]
     },
     "execution_count": 72,
     "metadata": {},
     "output_type": "execute_result"
    }
   ],
   "source": [
    "mult_pred = pd.DataFrame({'actual': Y_test_sign,\n",
    "                          'pred': mult.predict(X_test)})\n",
    "mult_pred['sign_correct'] = (mult_pred.actual == mult_pred.pred)\n",
    "mult_pred['count'] = 1\n",
    "mult_pred.sign_correct.mean()"
   ]
  },
  {
   "cell_type": "code",
   "execution_count": 73,
   "metadata": {},
   "outputs": [
    {
     "data": {
      "text/html": [
       "<div>\n",
       "<style scoped>\n",
       "    .dataframe tbody tr th:only-of-type {\n",
       "        vertical-align: middle;\n",
       "    }\n",
       "\n",
       "    .dataframe tbody tr th {\n",
       "        vertical-align: top;\n",
       "    }\n",
       "\n",
       "    .dataframe thead th {\n",
       "        text-align: right;\n",
       "    }\n",
       "</style>\n",
       "<table border=\"1\" class=\"dataframe\">\n",
       "  <thead>\n",
       "    <tr style=\"text-align: right;\">\n",
       "      <th>pred</th>\n",
       "      <th>-1.0</th>\n",
       "      <th>0.0</th>\n",
       "      <th>1.0</th>\n",
       "      <th>All</th>\n",
       "    </tr>\n",
       "    <tr>\n",
       "      <th>actual</th>\n",
       "      <th></th>\n",
       "      <th></th>\n",
       "      <th></th>\n",
       "      <th></th>\n",
       "    </tr>\n",
       "  </thead>\n",
       "  <tbody>\n",
       "    <tr>\n",
       "      <th>-1.0</th>\n",
       "      <td>1786</td>\n",
       "      <td>2733</td>\n",
       "      <td>156</td>\n",
       "      <td>4675</td>\n",
       "    </tr>\n",
       "    <tr>\n",
       "      <th>0.0</th>\n",
       "      <td>913</td>\n",
       "      <td>22987</td>\n",
       "      <td>84</td>\n",
       "      <td>23984</td>\n",
       "    </tr>\n",
       "    <tr>\n",
       "      <th>1.0</th>\n",
       "      <td>1342</td>\n",
       "      <td>2460</td>\n",
       "      <td>152</td>\n",
       "      <td>3954</td>\n",
       "    </tr>\n",
       "    <tr>\n",
       "      <th>All</th>\n",
       "      <td>4041</td>\n",
       "      <td>28180</td>\n",
       "      <td>392</td>\n",
       "      <td>32613</td>\n",
       "    </tr>\n",
       "  </tbody>\n",
       "</table>\n",
       "</div>"
      ],
      "text/plain": [
       "pred    -1.0    0.0  1.0    All\n",
       "actual                         \n",
       "-1.0    1786   2733  156   4675\n",
       "0.0      913  22987   84  23984\n",
       "1.0     1342   2460  152   3954\n",
       "All     4041  28180  392  32613"
      ]
     },
     "execution_count": 73,
     "metadata": {},
     "output_type": "execute_result"
    }
   ],
   "source": [
    "mult_pred.pivot_table(index='actual', columns='pred', \n",
    "                      values='count', aggfunc=sum, margins=True)"
   ]
  },
  {
   "cell_type": "markdown",
   "metadata": {},
   "source": [
    "#### Log-loss"
   ]
  },
  {
   "cell_type": "code",
   "execution_count": 74,
   "metadata": {},
   "outputs": [
    {
     "data": {
      "text/plain": [
       "0.8995764140809479"
      ]
     },
     "execution_count": 74,
     "metadata": {},
     "output_type": "execute_result"
    }
   ],
   "source": [
    "mult_pred_proba = mult.predict_proba(X_test)\n",
    "metrics.log_loss(Y_test_sign, mult_pred_proba)"
   ]
  },
  {
   "cell_type": "code",
   "execution_count": null,
   "metadata": {},
   "outputs": [],
   "source": []
  }
 ],
 "metadata": {
  "kernelspec": {
   "display_name": "Python 3",
   "language": "python",
   "name": "python3"
  },
  "language_info": {
   "codemirror_mode": {
    "name": "ipython",
    "version": 3
   },
   "file_extension": ".py",
   "mimetype": "text/x-python",
   "name": "python",
   "nbconvert_exporter": "python",
   "pygments_lexer": "ipython3",
   "version": "3.6.4"
  },
  "toc": {
   "base_numbering": 1,
   "nav_menu": {},
   "number_sections": true,
   "sideBar": true,
   "skip_h1_title": false,
   "title_cell": "Table of Contents",
   "title_sidebar": "Contents",
   "toc_cell": false,
   "toc_position": {},
   "toc_section_display": true,
   "toc_window_display": false
  }
 },
 "nbformat": 4,
 "nbformat_minor": 2
}
