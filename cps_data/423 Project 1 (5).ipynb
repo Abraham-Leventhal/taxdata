{
 "cells": [
  {
   "cell_type": "markdown",
   "metadata": {},
   "source": [
    "## Data & imports"
   ]
  },
  {
   "cell_type": "code",
   "execution_count": 1,
   "metadata": {},
   "outputs": [
    {
     "name": "stderr",
     "output_type": "stream",
     "text": [
      "Warning message:\n",
      "“package ‘questionr’ was built under R version 3.6.1”Registered S3 methods overwritten by 'ggplot2':\n",
      "  method         from \n",
      "  [.quosures     rlang\n",
      "  c.quosures     rlang\n",
      "  print.quosures rlang\n"
     ]
    }
   ],
   "source": [
    "library(questionr)\n",
    "library(ggplot2)"
   ]
  },
  {
   "cell_type": "code",
   "execution_count": 2,
   "metadata": {},
   "outputs": [],
   "source": [
    "df <- read.csv('liebman.csv')"
   ]
  },
  {
   "cell_type": "code",
   "execution_count": 3,
   "metadata": {},
   "outputs": [
    {
     "data": {
      "text/html": [
       "<table>\n",
       "<thead><tr><th scope=col>year</th><th scope=col>sample_weight</th><th scope=col>age</th><th scope=col>sex</th><th scope=col>nchild</th><th scope=col>yngch</th><th scope=col>real1992_earnings</th><th scope=col>race_eth</th><th scope=col>educ_lvl</th><th scope=col>employed</th><th scope=col>in_labor_force</th></tr></thead>\n",
       "<tbody>\n",
       "\t<tr><td>1984              </td><td>640.29            </td><td>30                </td><td>female            </td><td>2                 </td><td>9                 </td><td> 4379.825         </td><td>White             </td><td>Less than HS      </td><td>Not Employed      </td><td>Out of Labor Force</td></tr>\n",
       "\t<tr><td>1984              </td><td>694.48            </td><td>21                </td><td>female            </td><td>0 children present</td><td>niu               </td><td> 2521.103         </td><td>White             </td><td>Some College      </td><td>Employed          </td><td>In Labor Force    </td></tr>\n",
       "\t<tr><td>1984              </td><td>777.34            </td><td>21                </td><td>female            </td><td>1 child present   </td><td>1                 </td><td>10814.380         </td><td>White             </td><td>                  </td><td>Employed          </td><td>In Labor Force    </td></tr>\n",
       "\t<tr><td>1984              </td><td>715.03            </td><td>35                </td><td>female            </td><td>0 children present</td><td>niu               </td><td>14283.100         </td><td>White             </td><td>Less than HS      </td><td>Employed          </td><td>In Labor Force    </td></tr>\n",
       "\t<tr><td>1984              </td><td>789.91            </td><td>26                </td><td>female            </td><td>0 children present</td><td>niu               </td><td>33254.230         </td><td>White             </td><td>                  </td><td>Employed          </td><td>In Labor Force    </td></tr>\n",
       "\t<tr><td>1984              </td><td>731.65            </td><td>18                </td><td>female            </td><td>0 children present</td><td>niu               </td><td> 3739.073         </td><td>White             </td><td>                  </td><td>Not Employed      </td><td>Out of Labor Force</td></tr>\n",
       "</tbody>\n",
       "</table>\n"
      ],
      "text/latex": [
       "\\begin{tabular}{r|lllllllllll}\n",
       " year & sample\\_weight & age & sex & nchild & yngch & real1992\\_earnings & race\\_eth & educ\\_lvl & employed & in\\_labor\\_force\\\\\n",
       "\\hline\n",
       "\t 1984               & 640.29             & 30                 & female             & 2                  & 9                  &  4379.825          & White              & Less than HS       & Not Employed       & Out of Labor Force\\\\\n",
       "\t 1984               & 694.48             & 21                 & female             & 0 children present & niu                &  2521.103          & White              & Some College       & Employed           & In Labor Force    \\\\\n",
       "\t 1984               & 777.34             & 21                 & female             & 1 child present    & 1                  & 10814.380          & White              &                    & Employed           & In Labor Force    \\\\\n",
       "\t 1984               & 715.03             & 35                 & female             & 0 children present & niu                & 14283.100          & White              & Less than HS       & Employed           & In Labor Force    \\\\\n",
       "\t 1984               & 789.91             & 26                 & female             & 0 children present & niu                & 33254.230          & White              &                    & Employed           & In Labor Force    \\\\\n",
       "\t 1984               & 731.65             & 18                 & female             & 0 children present & niu                &  3739.073          & White              &                    & Not Employed       & Out of Labor Force\\\\\n",
       "\\end{tabular}\n"
      ],
      "text/markdown": [
       "\n",
       "| year | sample_weight | age | sex | nchild | yngch | real1992_earnings | race_eth | educ_lvl | employed | in_labor_force |\n",
       "|---|---|---|---|---|---|---|---|---|---|---|\n",
       "| 1984               | 640.29             | 30                 | female             | 2                  | 9                  |  4379.825          | White              | Less than HS       | Not Employed       | Out of Labor Force |\n",
       "| 1984               | 694.48             | 21                 | female             | 0 children present | niu                |  2521.103          | White              | Some College       | Employed           | In Labor Force     |\n",
       "| 1984               | 777.34             | 21                 | female             | 1 child present    | 1                  | 10814.380          | White              |                    | Employed           | In Labor Force     |\n",
       "| 1984               | 715.03             | 35                 | female             | 0 children present | niu                | 14283.100          | White              | Less than HS       | Employed           | In Labor Force     |\n",
       "| 1984               | 789.91             | 26                 | female             | 0 children present | niu                | 33254.230          | White              |                    | Employed           | In Labor Force     |\n",
       "| 1984               | 731.65             | 18                 | female             | 0 children present | niu                |  3739.073          | White              |                    | Not Employed       | Out of Labor Force |\n",
       "\n"
      ],
      "text/plain": [
       "  year sample_weight age sex    nchild             yngch real1992_earnings\n",
       "1 1984 640.29        30  female 2                  9      4379.825        \n",
       "2 1984 694.48        21  female 0 children present niu    2521.103        \n",
       "3 1984 777.34        21  female 1 child present    1     10814.380        \n",
       "4 1984 715.03        35  female 0 children present niu   14283.100        \n",
       "5 1984 789.91        26  female 0 children present niu   33254.230        \n",
       "6 1984 731.65        18  female 0 children present niu    3739.073        \n",
       "  race_eth educ_lvl     employed     in_labor_force    \n",
       "1 White    Less than HS Not Employed Out of Labor Force\n",
       "2 White    Some College Employed     In Labor Force    \n",
       "3 White                 Employed     In Labor Force    \n",
       "4 White    Less than HS Employed     In Labor Force    \n",
       "5 White                 Employed     In Labor Force    \n",
       "6 White                 Not Employed Out of Labor Force"
      ]
     },
     "metadata": {},
     "output_type": "display_data"
    }
   ],
   "source": [
    "head(df)"
   ]
  },
  {
   "cell_type": "code",
   "execution_count": 4,
   "metadata": {},
   "outputs": [],
   "source": [
    "# Create copy dataset where string columns are not factors so R can easily change them to numerical\n",
    "df0 = read.csv('liebman.csv', stringsAsFactors = FALSE)\n",
    "df1 <- data.frame(df0)\n",
    "\n",
    "# Fiddle with copy\n",
    "df1[df1 == 'niu'] <- '0'\n",
    "df1[df1 == 'less than 1 year old'] <- '0'\n",
    "df1$yngch <- as.numeric(df1$yngch)"
   ]
  },
  {
   "cell_type": "markdown",
   "metadata": {},
   "source": [
    "## Problem 2"
   ]
  },
  {
   "cell_type": "markdown",
   "metadata": {},
   "source": [
    "Summary stats"
   ]
  },
  {
   "cell_type": "code",
   "execution_count": 5,
   "metadata": {},
   "outputs": [
    {
     "data": {
      "text/plain": [
       "      year      sample_weight          age            sex       \n",
       " Min.   :1984   Min.   :    0.0   Min.   :16.00   female:82707  \n",
       " 1st Qu.:1985   1st Qu.:  985.2   1st Qu.:20.00                 \n",
       " Median :1988   Median : 1562.3   Median :25.00                 \n",
       " Mean   :1987   Mean   : 1589.6   Mean   :26.47                 \n",
       " 3rd Qu.:1989   3rd Qu.: 2028.0   3rd Qu.:32.00                 \n",
       " Max.   :1990   Max.   :10966.2   Max.   :44.00                 \n",
       "                                                                \n",
       "                nchild                       yngch       real1992_earnings\n",
       " 0 children present:60363   niu                 :60363   Min.   :     0   \n",
       " 1 child present   :11030   less than 1 year old: 2070   1st Qu.:  3415   \n",
       " 2                 : 7145   1                   : 1862   Median : 10814   \n",
       " 3                 : 2842   2                   : 1685   Mean   : 13828   \n",
       " 4                 :  883   3                   : 1535   3rd Qu.: 20489   \n",
       " 5                 :  291   5                   : 1446   Max.   :137309   \n",
       " (Other)           :  153   (Other)             :13746   NA's   :16114    \n",
       "  race_eth             educ_lvl             employed    \n",
       " Black:13177               :23963   Employed    :56678  \n",
       " Other: 3262   College +   : 4468   Not Employed:26029  \n",
       " White:66268   High School : 5505                       \n",
       "               Less than HS:21247                       \n",
       "               Some College:27524                       \n",
       "                                                        \n",
       "                                                        \n",
       "            in_labor_force \n",
       " In Labor Force    :64657  \n",
       " Out of Labor Force:18050  \n",
       "                           \n",
       "                           \n",
       "                           \n",
       "                           \n",
       "                           "
      ]
     },
     "metadata": {},
     "output_type": "display_data"
    }
   ],
   "source": [
    "summary(df)"
   ]
  },
  {
   "cell_type": "markdown",
   "metadata": {},
   "source": [
    "Data types"
   ]
  },
  {
   "cell_type": "code",
   "execution_count": 6,
   "metadata": {},
   "outputs": [
    {
     "data": {
      "text/html": [
       "<dl class=dl-horizontal>\n",
       "\t<dt>year</dt>\n",
       "\t\t<dd>'integer'</dd>\n",
       "\t<dt>sample_weight</dt>\n",
       "\t\t<dd>'numeric'</dd>\n",
       "\t<dt>age</dt>\n",
       "\t\t<dd>'integer'</dd>\n",
       "\t<dt>sex</dt>\n",
       "\t\t<dd>'factor'</dd>\n",
       "\t<dt>nchild</dt>\n",
       "\t\t<dd>'factor'</dd>\n",
       "\t<dt>yngch</dt>\n",
       "\t\t<dd>'factor'</dd>\n",
       "\t<dt>real1992_earnings</dt>\n",
       "\t\t<dd>'numeric'</dd>\n",
       "\t<dt>race_eth</dt>\n",
       "\t\t<dd>'factor'</dd>\n",
       "\t<dt>educ_lvl</dt>\n",
       "\t\t<dd>'factor'</dd>\n",
       "\t<dt>employed</dt>\n",
       "\t\t<dd>'factor'</dd>\n",
       "\t<dt>in_labor_force</dt>\n",
       "\t\t<dd>'factor'</dd>\n",
       "</dl>\n"
      ],
      "text/latex": [
       "\\begin{description*}\n",
       "\\item[year] 'integer'\n",
       "\\item[sample\\textbackslash{}\\_weight] 'numeric'\n",
       "\\item[age] 'integer'\n",
       "\\item[sex] 'factor'\n",
       "\\item[nchild] 'factor'\n",
       "\\item[yngch] 'factor'\n",
       "\\item[real1992\\textbackslash{}\\_earnings] 'numeric'\n",
       "\\item[race\\textbackslash{}\\_eth] 'factor'\n",
       "\\item[educ\\textbackslash{}\\_lvl] 'factor'\n",
       "\\item[employed] 'factor'\n",
       "\\item[in\\textbackslash{}\\_labor\\textbackslash{}\\_force] 'factor'\n",
       "\\end{description*}\n"
      ],
      "text/markdown": [
       "year\n",
       ":   'integer'sample_weight\n",
       ":   'numeric'age\n",
       ":   'integer'sex\n",
       ":   'factor'nchild\n",
       ":   'factor'yngch\n",
       ":   'factor'real1992_earnings\n",
       ":   'numeric'race_eth\n",
       ":   'factor'educ_lvl\n",
       ":   'factor'employed\n",
       ":   'factor'in_labor_force\n",
       ":   'factor'\n",
       "\n"
      ],
      "text/plain": [
       "             year     sample_weight               age               sex \n",
       "        \"integer\"         \"numeric\"         \"integer\"          \"factor\" \n",
       "           nchild             yngch real1992_earnings          race_eth \n",
       "         \"factor\"          \"factor\"         \"numeric\"          \"factor\" \n",
       "         educ_lvl          employed    in_labor_force \n",
       "         \"factor\"          \"factor\"          \"factor\" "
      ]
     },
     "metadata": {},
     "output_type": "display_data"
    }
   ],
   "source": [
    "sapply(df, class)"
   ]
  },
  {
   "cell_type": "markdown",
   "metadata": {},
   "source": [
    "## Problem 3"
   ]
  },
  {
   "cell_type": "markdown",
   "metadata": {},
   "source": [
    "a."
   ]
  },
  {
   "cell_type": "code",
   "execution_count": 7,
   "metadata": {},
   "outputs": [],
   "source": [
    "# Create has_child_u19 in copy\n",
    "\n",
    "df1$has_child_u19 <- ifelse(df1$nchild != '0 children present' & df1$yngch < 19, 1, 0)\n",
    "\n",
    "\n",
    "# Then send to main dataset \"df\"\n",
    "\n",
    "df$has_child_u19 <- df1$has_child_u19"
   ]
  },
  {
   "cell_type": "code",
   "execution_count": 8,
   "metadata": {},
   "outputs": [
    {
     "data": {
      "text/html": [
       "<table>\n",
       "<thead><tr><th scope=col>yngch</th><th scope=col>has_child_u19</th></tr></thead>\n",
       "<tbody>\n",
       "\t<tr><td>9  </td><td>1  </td></tr>\n",
       "\t<tr><td>niu</td><td>0  </td></tr>\n",
       "\t<tr><td>1  </td><td>1  </td></tr>\n",
       "\t<tr><td>niu</td><td>0  </td></tr>\n",
       "\t<tr><td>niu</td><td>0  </td></tr>\n",
       "\t<tr><td>niu</td><td>0  </td></tr>\n",
       "</tbody>\n",
       "</table>\n"
      ],
      "text/latex": [
       "\\begin{tabular}{r|ll}\n",
       " yngch & has\\_child\\_u19\\\\\n",
       "\\hline\n",
       "\t 9   & 1  \\\\\n",
       "\t niu & 0  \\\\\n",
       "\t 1   & 1  \\\\\n",
       "\t niu & 0  \\\\\n",
       "\t niu & 0  \\\\\n",
       "\t niu & 0  \\\\\n",
       "\\end{tabular}\n"
      ],
      "text/markdown": [
       "\n",
       "| yngch | has_child_u19 |\n",
       "|---|---|\n",
       "| 9   | 1   |\n",
       "| niu | 0   |\n",
       "| 1   | 1   |\n",
       "| niu | 0   |\n",
       "| niu | 0   |\n",
       "| niu | 0   |\n",
       "\n"
      ],
      "text/plain": [
       "  yngch has_child_u19\n",
       "1 9     1            \n",
       "2 niu   0            \n",
       "3 1     1            \n",
       "4 niu   0            \n",
       "5 niu   0            \n",
       "6 niu   0            "
      ]
     },
     "metadata": {},
     "output_type": "display_data"
    }
   ],
   "source": [
    "# Results on first 6 rows\n",
    "head(df[,c('yngch','has_child_u19')])"
   ]
  },
  {
   "cell_type": "markdown",
   "metadata": {},
   "source": [
    "b."
   ]
  },
  {
   "cell_type": "code",
   "execution_count": 9,
   "metadata": {},
   "outputs": [],
   "source": [
    "df$post_eitc_expansion <- ifelse(df$year >= 1987, 1, 0)"
   ]
  },
  {
   "cell_type": "code",
   "execution_count": 10,
   "metadata": {},
   "outputs": [
    {
     "name": "stdout",
     "output_type": "stream",
     "text": [
      "[1] \"pre-1987\"\n"
     ]
    },
    {
     "data": {
      "text/html": [
       "<table>\n",
       "<thead><tr><th scope=col>year</th><th scope=col>post_eitc_expansion</th></tr></thead>\n",
       "<tbody>\n",
       "\t<tr><td>1984</td><td>0   </td></tr>\n",
       "\t<tr><td>1984</td><td>0   </td></tr>\n",
       "\t<tr><td>1984</td><td>0   </td></tr>\n",
       "\t<tr><td>1984</td><td>0   </td></tr>\n",
       "\t<tr><td>1984</td><td>0   </td></tr>\n",
       "\t<tr><td>1984</td><td>0   </td></tr>\n",
       "</tbody>\n",
       "</table>\n"
      ],
      "text/latex": [
       "\\begin{tabular}{r|ll}\n",
       " year & post\\_eitc\\_expansion\\\\\n",
       "\\hline\n",
       "\t 1984 & 0   \\\\\n",
       "\t 1984 & 0   \\\\\n",
       "\t 1984 & 0   \\\\\n",
       "\t 1984 & 0   \\\\\n",
       "\t 1984 & 0   \\\\\n",
       "\t 1984 & 0   \\\\\n",
       "\\end{tabular}\n"
      ],
      "text/markdown": [
       "\n",
       "| year | post_eitc_expansion |\n",
       "|---|---|\n",
       "| 1984 | 0    |\n",
       "| 1984 | 0    |\n",
       "| 1984 | 0    |\n",
       "| 1984 | 0    |\n",
       "| 1984 | 0    |\n",
       "| 1984 | 0    |\n",
       "\n"
      ],
      "text/plain": [
       "  year post_eitc_expansion\n",
       "1 1984 0                  \n",
       "2 1984 0                  \n",
       "3 1984 0                  \n",
       "4 1984 0                  \n",
       "5 1984 0                  \n",
       "6 1984 0                  "
      ]
     },
     "metadata": {},
     "output_type": "display_data"
    },
    {
     "name": "stdout",
     "output_type": "stream",
     "text": [
      "[1] \"post-1987\"\n"
     ]
    },
    {
     "data": {
      "text/html": [
       "<table>\n",
       "<thead><tr><th></th><th scope=col>year</th><th scope=col>post_eitc_expansion</th></tr></thead>\n",
       "<tbody>\n",
       "\t<tr><th scope=row>37837</th><td>1988</td><td>1   </td></tr>\n",
       "\t<tr><th scope=row>37838</th><td>1988</td><td>1   </td></tr>\n",
       "\t<tr><th scope=row>37839</th><td>1988</td><td>1   </td></tr>\n",
       "\t<tr><th scope=row>37840</th><td>1988</td><td>1   </td></tr>\n",
       "\t<tr><th scope=row>37841</th><td>1988</td><td>1   </td></tr>\n",
       "\t<tr><th scope=row>37842</th><td>1988</td><td>1   </td></tr>\n",
       "</tbody>\n",
       "</table>\n"
      ],
      "text/latex": [
       "\\begin{tabular}{r|ll}\n",
       "  & year & post\\_eitc\\_expansion\\\\\n",
       "\\hline\n",
       "\t37837 & 1988 & 1   \\\\\n",
       "\t37838 & 1988 & 1   \\\\\n",
       "\t37839 & 1988 & 1   \\\\\n",
       "\t37840 & 1988 & 1   \\\\\n",
       "\t37841 & 1988 & 1   \\\\\n",
       "\t37842 & 1988 & 1   \\\\\n",
       "\\end{tabular}\n"
      ],
      "text/markdown": [
       "\n",
       "| <!--/--> | year | post_eitc_expansion |\n",
       "|---|---|---|\n",
       "| 37837 | 1988 | 1    |\n",
       "| 37838 | 1988 | 1    |\n",
       "| 37839 | 1988 | 1    |\n",
       "| 37840 | 1988 | 1    |\n",
       "| 37841 | 1988 | 1    |\n",
       "| 37842 | 1988 | 1    |\n",
       "\n"
      ],
      "text/plain": [
       "      year post_eitc_expansion\n",
       "37837 1988 1                  \n",
       "37838 1988 1                  \n",
       "37839 1988 1                  \n",
       "37840 1988 1                  \n",
       "37841 1988 1                  \n",
       "37842 1988 1                  "
      ]
     },
     "metadata": {},
     "output_type": "display_data"
    }
   ],
   "source": [
    "# Results on first 6 rows\n",
    "print('pre-1987')\n",
    "head(df[,c('year','post_eitc_expansion')])\n",
    "\n",
    "# Results on first 6 rows post 1987\n",
    "print('post-1987')\n",
    "head(df[df$year > 1987,c('year','post_eitc_expansion')])"
   ]
  },
  {
   "cell_type": "markdown",
   "metadata": {},
   "source": [
    "## Problem 4"
   ]
  },
  {
   "cell_type": "code",
   "execution_count": 11,
   "metadata": {},
   "outputs": [],
   "source": [
    "# To summarize\n",
    "\n",
    "x <- c('age', 'employed', 'in_labor_force', 'real1992_earnings')\n",
    "\n",
    "#Make binaries\n",
    "\n",
    "df$employed <- ifelse(df$employed == 'Employed', 1, 0)\n",
    "\n",
    "df$in_labor_force <- ifelse(df$in_labor_force == 'In Labor Force', 1, 0)\n",
    "\n",
    "\n",
    "# For tables\n",
    "\n",
    "newnames <- c('Child under 19?', x)"
   ]
  },
  {
   "cell_type": "code",
   "execution_count": 12,
   "metadata": {},
   "outputs": [
    {
     "data": {
      "text/html": [
       "<table>\n",
       "<thead><tr><th scope=col>Child under 19?</th><th scope=col>age</th><th scope=col>employed</th><th scope=col>in_labor_force</th><th scope=col>real1992_earnings</th></tr></thead>\n",
       "<tbody>\n",
       "\t<tr><td>0        </td><td>24.75022 </td><td>0.7182727</td><td>0.8087638</td><td>13522.00 </td></tr>\n",
       "\t<tr><td>1        </td><td>31.41331 </td><td>0.5905729</td><td>0.7042221</td><td>14861.22 </td></tr>\n",
       "</tbody>\n",
       "</table>\n"
      ],
      "text/latex": [
       "\\begin{tabular}{r|lllll}\n",
       " Child under 19? & age & employed & in\\_labor\\_force & real1992\\_earnings\\\\\n",
       "\\hline\n",
       "\t 0         & 24.75022  & 0.7182727 & 0.8087638 & 13522.00 \\\\\n",
       "\t 1         & 31.41331  & 0.5905729 & 0.7042221 & 14861.22 \\\\\n",
       "\\end{tabular}\n"
      ],
      "text/markdown": [
       "\n",
       "| Child under 19? | age | employed | in_labor_force | real1992_earnings |\n",
       "|---|---|---|---|---|\n",
       "| 0         | 24.75022  | 0.7182727 | 0.8087638 | 13522.00  |\n",
       "| 1         | 31.41331  | 0.5905729 | 0.7042221 | 14861.22  |\n",
       "\n"
      ],
      "text/plain": [
       "  Child under 19? age      employed  in_labor_force real1992_earnings\n",
       "1 0               24.75022 0.7182727 0.8087638      13522.00         \n",
       "2 1               31.41331 0.5905729 0.7042221      14861.22         "
      ]
     },
     "metadata": {},
     "output_type": "display_data"
    }
   ],
   "source": [
    "# Create means table & display\n",
    "# 0 = No child under 19, 1 = has child under 19\n",
    "\n",
    "means <- aggregate(df[,x], list(df$has_child_u19), \n",
    "  FUN=mean, na.rm=TRUE)\n",
    "names(means) <- newnames\n",
    "means"
   ]
  },
  {
   "cell_type": "code",
   "execution_count": 13,
   "metadata": {},
   "outputs": [
    {
     "data": {
      "text/plain": [
       "   \n",
       "    College + High School Less than HS\n",
       "  0      3764        4559        15670\n",
       "  1       704         946         5577"
      ]
     },
     "metadata": {},
     "output_type": "display_data"
    }
   ],
   "source": [
    "# Education level frequency by child under 19\n",
    "# 0 = No child under 19, 1 = has child under 19\n",
    "\n",
    "table(df$has_child_u19, df$educ_lvl)[,c(2,3,4)]"
   ]
  },
  {
   "cell_type": "code",
   "execution_count": 14,
   "metadata": {},
   "outputs": [
    {
     "data": {
      "text/plain": [
       "   \n",
       "    Black Other White\n",
       "  0  6853  2542 51948\n",
       "  1  6324   720 14320"
      ]
     },
     "metadata": {},
     "output_type": "display_data"
    }
   ],
   "source": [
    "# Race frequency by child under 19\n",
    "# 0 = No child under 19, 1 = has child under 19\n",
    "\n",
    "table(df$has_child_u19, df$race_eth)"
   ]
  },
  {
   "cell_type": "code",
   "execution_count": 15,
   "metadata": {},
   "outputs": [
    {
     "data": {
      "text/plain": [
       "  College + High School Less than HS\n",
       "0   5854681     7392500     23801244\n",
       "1   1093221     1507062      8750754"
      ]
     },
     "metadata": {},
     "output_type": "display_data"
    }
   ],
   "source": [
    "# Weighted education frequency by child under 19\n",
    "# 0 = No child under 19, 1 = has child under 19\n",
    "\n",
    "wtd.table(df$has_child_u19, y = df$educ_lvl, weights = df$sample_weight)[,c(2,3,4)]"
   ]
  },
  {
   "cell_type": "code",
   "execution_count": 16,
   "metadata": {},
   "outputs": [
    {
     "data": {
      "text/plain": [
       "       Black      Other      White\n",
       "0 12693001.5  3445993.9 81264088.9\n",
       "1 11925919.9   774809.3 21369788.8"
      ]
     },
     "metadata": {},
     "output_type": "display_data"
    }
   ],
   "source": [
    "# Weighted race frequency by child under 19\n",
    "# 0 = No child under 19, 1 = has child under 19\n",
    "\n",
    "wtd.table(df$has_child_u19, y = df$race_eth, weights = df$sample_weight)"
   ]
  },
  {
   "cell_type": "markdown",
   "metadata": {},
   "source": [
    "### Prompt:\n",
    "\n",
    "\"Describe (in writing) how the samples of women with versus without children under 19 differ. If there are differences, explain why a simple comparison of the employment, earnings or labor force participation after the expansion of the EITC across the two samples may not generate a causal estimate of the impact of the EITC.\"\n",
    "\n",
    "### Response:\n",
    "\n",
    "Women without children under 19 tended to be younger and more employed in terms of labor force participation and employment rates than women with children, although they had slightly smaller real earnings on average. In addition, women without children under 19 were much more likely to be White than women with children under 19 (no children u19 = ~83% white, vs ~63% White for with children u19), and women with children under 19 were much more likely to be Black (no children u19 = ~13% Black, vs 35% Black with children u19).\n",
    "\n",
    "Simply comparing the mean values of employment and earnings data post-1987 would fail to account for the already-present differences between women with vs without children pre-1987, and would falsely atttribute the entire size of these mean differences to the effect of EITC, rather than measuring how both groups' employment data CHANGED after 1987."
   ]
  },
  {
   "cell_type": "markdown",
   "metadata": {},
   "source": [
    "## Problem 5"
   ]
  },
  {
   "cell_type": "code",
   "execution_count": 17,
   "metadata": {},
   "outputs": [],
   "source": [
    "# Create has/doesnt have children sub samples\n",
    "\n",
    "child = df[df$nchild != \"0 children present\",]\n",
    "nchild = df[df$nchild == \"0 children present\",]\n",
    "\n",
    "# For tables\n",
    "x1 = c('employed', 'in_labor_force')\n",
    "newnames1 = c('year',x1)"
   ]
  },
  {
   "cell_type": "code",
   "execution_count": 18,
   "metadata": {},
   "outputs": [
    {
     "name": "stdout",
     "output_type": "stream",
     "text": [
      "[1] \"1+ Children\"\n"
     ]
    },
    {
     "data": {
      "text/html": [
       "<table>\n",
       "<thead><tr><th scope=col>year</th><th scope=col>employed</th><th scope=col>in_labor_force</th></tr></thead>\n",
       "<tbody>\n",
       "\t<tr><td>1984     </td><td>0.6056106</td><td>0.7299230</td></tr>\n",
       "\t<tr><td>1985     </td><td>0.6124053</td><td>0.7350547</td></tr>\n",
       "\t<tr><td>1986     </td><td>0.6175676</td><td>0.7327027</td></tr>\n",
       "\t<tr><td>1988     </td><td>0.5927396</td><td>0.6968236</td></tr>\n",
       "\t<tr><td>1989     </td><td>0.5986792</td><td>0.7005334</td></tr>\n",
       "\t<tr><td>1990     </td><td>0.5725766</td><td>0.6795580</td></tr>\n",
       "</tbody>\n",
       "</table>\n"
      ],
      "text/latex": [
       "\\begin{tabular}{r|lll}\n",
       " year & employed & in\\_labor\\_force\\\\\n",
       "\\hline\n",
       "\t 1984      & 0.6056106 & 0.7299230\\\\\n",
       "\t 1985      & 0.6124053 & 0.7350547\\\\\n",
       "\t 1986      & 0.6175676 & 0.7327027\\\\\n",
       "\t 1988      & 0.5927396 & 0.6968236\\\\\n",
       "\t 1989      & 0.5986792 & 0.7005334\\\\\n",
       "\t 1990      & 0.5725766 & 0.6795580\\\\\n",
       "\\end{tabular}\n"
      ],
      "text/markdown": [
       "\n",
       "| year | employed | in_labor_force |\n",
       "|---|---|---|\n",
       "| 1984      | 0.6056106 | 0.7299230 |\n",
       "| 1985      | 0.6124053 | 0.7350547 |\n",
       "| 1986      | 0.6175676 | 0.7327027 |\n",
       "| 1988      | 0.5927396 | 0.6968236 |\n",
       "| 1989      | 0.5986792 | 0.7005334 |\n",
       "| 1990      | 0.5725766 | 0.6795580 |\n",
       "\n"
      ],
      "text/plain": [
       "  year employed  in_labor_force\n",
       "1 1984 0.6056106 0.7299230     \n",
       "2 1985 0.6124053 0.7350547     \n",
       "3 1986 0.6175676 0.7327027     \n",
       "4 1988 0.5927396 0.6968236     \n",
       "5 1989 0.5986792 0.7005334     \n",
       "6 1990 0.5725766 0.6795580     "
      ]
     },
     "metadata": {},
     "output_type": "display_data"
    },
    {
     "name": "stdout",
     "output_type": "stream",
     "text": [
      "[1] \"No Children\"\n"
     ]
    },
    {
     "data": {
      "text/html": [
       "<table>\n",
       "<thead><tr><th scope=col>year</th><th scope=col>employed</th><th scope=col>in_labor_force</th></tr></thead>\n",
       "<tbody>\n",
       "\t<tr><td>1984     </td><td>0.8061819</td><td>0.9154108</td></tr>\n",
       "\t<tr><td>1985     </td><td>0.8153863</td><td>0.9209438</td></tr>\n",
       "\t<tr><td>1986     </td><td>0.8156801</td><td>0.9231720</td></tr>\n",
       "\t<tr><td>1988     </td><td>0.6429260</td><td>0.7189668</td></tr>\n",
       "\t<tr><td>1989     </td><td>0.6434291</td><td>0.7207137</td></tr>\n",
       "\t<tr><td>1990     </td><td>0.6345156</td><td>0.7122837</td></tr>\n",
       "</tbody>\n",
       "</table>\n"
      ],
      "text/latex": [
       "\\begin{tabular}{r|lll}\n",
       " year & employed & in\\_labor\\_force\\\\\n",
       "\\hline\n",
       "\t 1984      & 0.8061819 & 0.9154108\\\\\n",
       "\t 1985      & 0.8153863 & 0.9209438\\\\\n",
       "\t 1986      & 0.8156801 & 0.9231720\\\\\n",
       "\t 1988      & 0.6429260 & 0.7189668\\\\\n",
       "\t 1989      & 0.6434291 & 0.7207137\\\\\n",
       "\t 1990      & 0.6345156 & 0.7122837\\\\\n",
       "\\end{tabular}\n"
      ],
      "text/markdown": [
       "\n",
       "| year | employed | in_labor_force |\n",
       "|---|---|---|\n",
       "| 1984      | 0.8061819 | 0.9154108 |\n",
       "| 1985      | 0.8153863 | 0.9209438 |\n",
       "| 1986      | 0.8156801 | 0.9231720 |\n",
       "| 1988      | 0.6429260 | 0.7189668 |\n",
       "| 1989      | 0.6434291 | 0.7207137 |\n",
       "| 1990      | 0.6345156 | 0.7122837 |\n",
       "\n"
      ],
      "text/plain": [
       "  year employed  in_labor_force\n",
       "1 1984 0.8061819 0.9154108     \n",
       "2 1985 0.8153863 0.9209438     \n",
       "3 1986 0.8156801 0.9231720     \n",
       "4 1988 0.6429260 0.7189668     \n",
       "5 1989 0.6434291 0.7207137     \n",
       "6 1990 0.6345156 0.7122837     "
      ]
     },
     "metadata": {},
     "output_type": "display_data"
    }
   ],
   "source": [
    "# Create data to plot\n",
    "\n",
    "print('1+ Children')\n",
    "employment_year_child <- aggregate(child[,x1], list(child$year), \n",
    "  FUN=mean, na.rm=TRUE)\n",
    "names(employment_year_child) <- newnames1\n",
    "employment_year_child\n",
    "\n",
    "print('No Children')\n",
    "employment_year_nchild <- aggregate(nchild[,x1], list(nchild$year), \n",
    "  FUN=mean, na.rm=TRUE)\n",
    "names(employment_year_nchild) <- newnames1\n",
    "employment_year_nchild\n"
   ]
  },
  {
   "cell_type": "markdown",
   "metadata": {},
   "source": [
    "1+ Children Plots"
   ]
  },
  {
   "cell_type": "code",
   "execution_count": 19,
   "metadata": {
    "scrolled": false
   },
   "outputs": [
    {
     "name": "stdout",
     "output_type": "stream",
     "text": [
      "[1] \"1+ Children: Employment by year\"\n"
     ]
    },
    {
     "data": {
      "image/png": "[encoded data removed]",
      "text/plain": [
       "plot without title"
      ]
     },
     "metadata": {},
     "output_type": "display_data"
    }
   ],
   "source": [
    "print('1+ Children: Employment by year')\n",
    "ggplot(data=employment_year_child, aes(x=year, y=employed)) +\n",
    "  geom_bar(stat=\"identity\")"
   ]
  },
  {
   "cell_type": "code",
   "execution_count": 20,
   "metadata": {},
   "outputs": [
    {
     "name": "stdout",
     "output_type": "stream",
     "text": [
      "[1] \"1+ Children: In Labor Force by year\"\n"
     ]
    },
    {
     "data": {
      "image/png": "[encoded data removed]",
      "text/plain": [
       "plot without title"
      ]
     },
     "metadata": {},
     "output_type": "display_data"
    }
   ],
   "source": [
    "print('1+ Children: In Labor Force by year')\n",
    "ggplot(data=employment_year_child, aes(x=year, y=employed)) +\n",
    "  geom_bar(stat=\"identity\")"
   ]
  },
  {
   "cell_type": "markdown",
   "metadata": {},
   "source": [
    "No Children Plots"
   ]
  },
  {
   "cell_type": "code",
   "execution_count": 21,
   "metadata": {},
   "outputs": [
    {
     "name": "stdout",
     "output_type": "stream",
     "text": [
      "[1] \"No Children: Employment by year\"\n"
     ]
    },
    {
     "data": {
      "image/png": "[encoded data removed]",
      "text/plain": [
       "plot without title"
      ]
     },
     "metadata": {},
     "output_type": "display_data"
    }
   ],
   "source": [
    "print('No Children: Employment by year')\n",
    "ggplot(data=employment_year_nchild, aes(x=year, y=employed)) +\n",
    "  geom_bar(stat=\"identity\")"
   ]
  },
  {
   "cell_type": "code",
   "execution_count": 22,
   "metadata": {},
   "outputs": [
    {
     "name": "stdout",
     "output_type": "stream",
     "text": [
      "[1] \"No Children: In labor force by year\"\n"
     ]
    },
    {
     "data": {
      "image/png": "[encoded data removed]",
      "text/plain": [
       "plot without title"
      ]
     },
     "metadata": {},
     "output_type": "display_data"
    }
   ],
   "source": [
    "print('No Children: In labor force by year')\n",
    "ggplot(data=employment_year_nchild, aes(x=year, y=in_labor_force)) +\n",
    "  geom_bar(stat=\"identity\")"
   ]
  },
  {
   "cell_type": "markdown",
   "metadata": {},
   "source": [
    "### Prompt:\n",
    "\n",
    "What are the implications of these graphs for the parallel trends assumption?\n",
    "\n",
    "### Response:\n",
    "\n",
    "The parallel trends assumption implies that the control group and treatment groups would share a time-trend in the dependent variable of interest if not for the treatment being applied to the treatment group. In this case, we can validate this by looking at the time trend in the employment data for both groups, women with and without children under 19, and note that time trends appear identical before treatment, before 1987. However, between 1986 and 1988, employment rates for women without children under 19 dropped significantly, while they did not for women with children under 19, implying a divergence in time trends beginning only after the treatment, the EITC expansion, took effect. \n"
   ]
  },
  {
   "cell_type": "markdown",
   "metadata": {},
   "source": [
    "## Problem 6"
   ]
  },
  {
   "cell_type": "markdown",
   "metadata": {},
   "source": [
    "### Simple diff in diff"
   ]
  },
  {
   "cell_type": "code",
   "execution_count": 23,
   "metadata": {},
   "outputs": [],
   "source": [
    "# Create treatment dummy\n",
    "\n",
    "df$treatment <- df$has_child_u19*df$post_eitc_expansion\n"
   ]
  },
  {
   "cell_type": "markdown",
   "metadata": {},
   "source": [
    "**Real earnings model**"
   ]
  },
  {
   "cell_type": "code",
   "execution_count": 24,
   "metadata": {},
   "outputs": [
    {
     "data": {
      "text/plain": [
       "\n",
       "Call:\n",
       "lm(formula = real1992_earnings ~ has_child_u19 + post_eitc_expansion + \n",
       "    treatment, data = df, weights = sample_weight)\n",
       "\n",
       "Weighted Residuals:\n",
       "     Min       1Q   Median       3Q      Max \n",
       "-1350718  -370569  -115294   231340  7670463 \n",
       "\n",
       "Coefficients:\n",
       "                    Estimate Std. Error t value Pr(>|t|)    \n",
       "(Intercept)         13710.10      86.23 158.987  < 2e-16 ***\n",
       "has_child_u19        1167.42     178.51   6.540  6.2e-11 ***\n",
       "post_eitc_expansion   172.98     116.93   1.479    0.139    \n",
       "treatment              49.46     244.27   0.202    0.840    \n",
       "---\n",
       "Signif. codes:  0 ‘***’ 0.001 ‘**’ 0.01 ‘*’ 0.05 ‘.’ 0.1 ‘ ’ 1\n",
       "\n",
       "Residual standard error: 526300 on 66568 degrees of freedom\n",
       "  (16114 observations deleted due to missingness)\n",
       "Multiple R-squared:  0.001483,\tAdjusted R-squared:  0.001438 \n",
       "F-statistic: 32.96 on 3 and 66568 DF,  p-value: < 2.2e-16\n"
      ]
     },
     "metadata": {},
     "output_type": "display_data"
    }
   ],
   "source": [
    "simple_real_earnings <- lm(\n",
    "                        real1992_earnings ~ has_child_u19 + post_eitc_expansion + treatment,\n",
    "                        data=df,\n",
    "                        weights=sample_weight\n",
    "                        )\n",
    "summary(simple_real_earnings)"
   ]
  },
  {
   "cell_type": "markdown",
   "metadata": {},
   "source": [
    "**Employment model**"
   ]
  },
  {
   "cell_type": "code",
   "execution_count": 25,
   "metadata": {},
   "outputs": [
    {
     "data": {
      "text/plain": [
       "\n",
       "Call:\n",
       "lm(formula = employed ~ has_child_u19 + post_eitc_expansion + \n",
       "    treatment, data = df, weights = sample_weight)\n",
       "\n",
       "Weighted Residuals:\n",
       "    Min      1Q  Median      3Q     Max \n",
       "-85.215 -18.871   7.647  13.509  37.420 \n",
       "\n",
       "Coefficients:\n",
       "                     Estimate Std. Error t value Pr(>|t|)    \n",
       "(Intercept)          0.813744   0.002805  290.12   <2e-16 ***\n",
       "has_child_u19       -0.214881   0.005330  -40.32   <2e-16 ***\n",
       "post_eitc_expansion -0.163830   0.003715  -44.10   <2e-16 ***\n",
       "treatment            0.142671   0.007253   19.67   <2e-16 ***\n",
       "---\n",
       "Signif. codes:  0 ‘***’ 0.001 ‘**’ 0.01 ‘*’ 0.05 ‘.’ 0.1 ‘ ’ 1\n",
       "\n",
       "Residual standard error: 18.15 on 82680 degrees of freedom\n",
       "Multiple R-squared:  0.03844,\tAdjusted R-squared:  0.03841 \n",
       "F-statistic:  1102 on 3 and 82680 DF,  p-value: < 2.2e-16\n"
      ]
     },
     "metadata": {},
     "output_type": "display_data"
    }
   ],
   "source": [
    "simple_employment <- lm(\n",
    "                        employed ~ has_child_u19 + post_eitc_expansion + treatment,\n",
    "                        data=df,\n",
    "                        weights=sample_weight\n",
    "                        )\n",
    "summary(simple_employment)"
   ]
  },
  {
   "cell_type": "markdown",
   "metadata": {},
   "source": [
    "**Labor force participation model**"
   ]
  },
  {
   "cell_type": "code",
   "execution_count": 26,
   "metadata": {},
   "outputs": [
    {
     "data": {
      "text/plain": [
       "\n",
       "Call:\n",
       "lm(formula = in_labor_force ~ has_child_u19 + post_eitc_expansion + \n",
       "    treatment, data = df, weights = sample_weight)\n",
       "\n",
       "Weighted Residuals:\n",
       "    Min      1Q  Median      3Q     Max \n",
       "-77.077   1.799   3.989  10.883  28.034 \n",
       "\n",
       "Coefficients:\n",
       "                     Estimate Std. Error t value Pr(>|t|)    \n",
       "(Intercept)          0.920557   0.002475  371.99   <2e-16 ***\n",
       "has_child_u19       -0.193549   0.004702  -41.16   <2e-16 ***\n",
       "post_eitc_expansion -0.194811   0.003277  -59.44   <2e-16 ***\n",
       "treatment            0.151433   0.006399   23.66   <2e-16 ***\n",
       "---\n",
       "Signif. codes:  0 ‘***’ 0.001 ‘**’ 0.01 ‘*’ 0.05 ‘.’ 0.1 ‘ ’ 1\n",
       "\n",
       "Residual standard error: 16.01 on 82680 degrees of freedom\n",
       "Multiple R-squared:  0.05368,\tAdjusted R-squared:  0.05365 \n",
       "F-statistic:  1563 on 3 and 82680 DF,  p-value: < 2.2e-16\n"
      ]
     },
     "metadata": {},
     "output_type": "display_data"
    }
   ],
   "source": [
    "simple_in_lab <- lm(\n",
    "                        in_labor_force ~ has_child_u19 + post_eitc_expansion + treatment,\n",
    "                        data=df,\n",
    "                        weights=sample_weight\n",
    "                        )\n",
    "summary(simple_in_lab)"
   ]
  },
  {
   "cell_type": "markdown",
   "metadata": {},
   "source": [
    "### Diff in diff with controls"
   ]
  },
  {
   "cell_type": "code",
   "execution_count": 27,
   "metadata": {},
   "outputs": [],
   "source": [
    "# Make age squared column\n",
    "\n",
    "df$age2 <- df$age*df$age\n",
    "\n",
    "# Make make k-1 dummies for categorical vars\n",
    "\n",
    "# Other = base race\n",
    "\n",
    "df$white <- ifelse(df$race_eth == 'White', 1, 0)\n",
    "\n",
    "df$black <- ifelse(df$race_eth == 'Black', 1, 0)\n",
    "\n",
    "# Less than highschool = base education level\n",
    "\n",
    "# Note that every dummy column will check if the education level value is blank, and insert NA\n",
    "\n",
    "df$college <- ifelse(df$educ_lvl == 'College +', 1, ifelse(df$educ_lvl == '', NA, 0))\n",
    "\n",
    "df$some_college <- ifelse(df$educ_lvl == 'Some College', 1, ifelse(df$educ_lvl == '', NA, 0))\n",
    "\n",
    "df$high_school <- ifelse(df$educ_lvl == 'High School', 1, ifelse(df$educ_lvl == '', NA, 0))\n"
   ]
  },
  {
   "cell_type": "markdown",
   "metadata": {},
   "source": [
    "**Real earnings model**"
   ]
  },
  {
   "cell_type": "code",
   "execution_count": 28,
   "metadata": {},
   "outputs": [
    {
     "data": {
      "text/plain": [
       "\n",
       "Call:\n",
       "lm(formula = real1992_earnings ~ has_child_u19 + post_eitc_expansion + \n",
       "    treatment + age + age2 + white + black + high_school + some_college + \n",
       "    college, data = df, weights = sample_weight)\n",
       "\n",
       "Weighted Residuals:\n",
       "     Min       1Q   Median       3Q      Max \n",
       "-2196523  -237204   -17634   154149  8486315 \n",
       "\n",
       "Coefficients:\n",
       "                      Estimate Std. Error t value Pr(>|t|)    \n",
       "(Intercept)         -42379.426    841.253 -50.377  < 2e-16 ***\n",
       "has_child_u19        -4164.054    210.410 -19.790  < 2e-16 ***\n",
       "post_eitc_expansion    315.701    114.795   2.750 0.005959 ** \n",
       "treatment               54.786    267.990   0.204 0.838017    \n",
       "age                   3144.354     60.046  52.366  < 2e-16 ***\n",
       "age2                   -39.197      1.004 -39.050  < 2e-16 ***\n",
       "white                  129.796    290.685   0.447 0.655226    \n",
       "black                -1086.526    319.713  -3.398 0.000678 ***\n",
       "high_school           2413.057    193.645  12.461  < 2e-16 ***\n",
       "some_college          4840.336    148.454  32.605  < 2e-16 ***\n",
       "college              11808.849    230.767  51.172  < 2e-16 ***\n",
       "---\n",
       "Signif. codes:  0 ‘***’ 0.001 ‘**’ 0.01 ‘*’ 0.05 ‘.’ 0.1 ‘ ’ 1\n",
       "\n",
       "Residual standard error: 442300 on 46476 degrees of freedom\n",
       "  (36202 observations deleted due to missingness)\n",
       "Multiple R-squared:  0.3952,\tAdjusted R-squared:  0.3951 \n",
       "F-statistic:  3037 on 10 and 46476 DF,  p-value: < 2.2e-16\n"
      ]
     },
     "metadata": {},
     "output_type": "display_data"
    }
   ],
   "source": [
    "real_earnings <- lm(\n",
    "                        real1992_earnings ~ has_child_u19 + post_eitc_expansion + treatment\n",
    "                                            + age + age2 + white + black + high_school\n",
    "                                            + some_college + college,\n",
    "                        data=df,\n",
    "                        weights=sample_weight\n",
    "                        )\n",
    "summary(real_earnings)"
   ]
  },
  {
   "cell_type": "markdown",
   "metadata": {},
   "source": [
    "**Employment model**"
   ]
  },
  {
   "cell_type": "code",
   "execution_count": 29,
   "metadata": {},
   "outputs": [
    {
     "data": {
      "text/plain": [
       "\n",
       "Call:\n",
       "lm(formula = employed ~ has_child_u19 + post_eitc_expansion + \n",
       "    treatment + age + age2 + white + black + high_school + some_college + \n",
       "    college, data = df, weights = sample_weight)\n",
       "\n",
       "Weighted Residuals:\n",
       "    Min      1Q  Median      3Q     Max \n",
       "-98.330 -13.300   4.304  11.187  59.296 \n",
       "\n",
       "Coefficients:\n",
       "                      Estimate Std. Error t value Pr(>|t|)    \n",
       "(Intercept)          1.559e-01  2.730e-02   5.711 1.13e-08 ***\n",
       "has_child_u19       -2.249e-01  6.850e-03 -32.833  < 2e-16 ***\n",
       "post_eitc_expansion -1.711e-01  4.004e-03 -42.732  < 2e-16 ***\n",
       "treatment            1.409e-01  8.576e-03  16.424  < 2e-16 ***\n",
       "age                  2.374e-02  1.967e-03  12.070  < 2e-16 ***\n",
       "age2                -2.701e-04  3.314e-05  -8.151 3.69e-16 ***\n",
       "white                8.253e-02  9.306e-03   8.868  < 2e-16 ***\n",
       "black               -5.325e-02  1.011e-02  -5.266 1.40e-07 ***\n",
       "high_school          1.796e-01  6.442e-03  27.882  < 2e-16 ***\n",
       "some_college         2.759e-01  4.703e-03  58.664  < 2e-16 ***\n",
       "college              2.994e-01  7.997e-03  37.432  < 2e-16 ***\n",
       "---\n",
       "Signif. codes:  0 ‘***’ 0.001 ‘**’ 0.01 ‘*’ 0.05 ‘.’ 0.1 ‘ ’ 1\n",
       "\n",
       "Residual standard error: 16.78 on 58714 degrees of freedom\n",
       "  (23963 observations deleted due to missingness)\n",
       "Multiple R-squared:  0.1973,\tAdjusted R-squared:  0.1971 \n",
       "F-statistic:  1443 on 10 and 58714 DF,  p-value: < 2.2e-16\n"
      ]
     },
     "metadata": {},
     "output_type": "display_data"
    }
   ],
   "source": [
    "employment <- lm(\n",
    "                 employed ~ has_child_u19 + post_eitc_expansion + treatment\n",
    "                            + age + age2 + white + black + high_school\n",
    "                            + some_college + college,\n",
    "                 data=df,\n",
    "                 weights=sample_weight\n",
    "                )\n",
    "summary(employment)"
   ]
  },
  {
   "cell_type": "markdown",
   "metadata": {},
   "source": [
    "**In labor force model**"
   ]
  },
  {
   "cell_type": "code",
   "execution_count": 30,
   "metadata": {},
   "outputs": [
    {
     "data": {
      "text/plain": [
       "\n",
       "Call:\n",
       "lm(formula = in_labor_force ~ has_child_u19 + post_eitc_expansion + \n",
       "    treatment + age + age2 + white + black + high_school + some_college + \n",
       "    college, data = df, weights = sample_weight)\n",
       "\n",
       "Weighted Residuals:\n",
       "    Min      1Q  Median      3Q     Max \n",
       "-78.258  -4.562   4.059   9.563  47.591 \n",
       "\n",
       "Coefficients:\n",
       "                      Estimate Std. Error t value Pr(>|t|)    \n",
       "(Intercept)          3.379e-01  2.467e-02  13.699  < 2e-16 ***\n",
       "has_child_u19       -2.127e-01  6.190e-03 -34.358  < 2e-16 ***\n",
       "post_eitc_expansion -2.115e-01  3.618e-03 -58.462  < 2e-16 ***\n",
       "treatment            1.518e-01  7.749e-03  19.596  < 2e-16 ***\n",
       "age                  2.023e-02  1.777e-03  11.382  < 2e-16 ***\n",
       "age2                -2.318e-04  2.995e-05  -7.740 1.01e-14 ***\n",
       "white                8.673e-02  8.409e-03  10.314  < 2e-16 ***\n",
       "black                4.173e-04  9.136e-03   0.046    0.964    \n",
       "high_school          1.584e-01  5.821e-03  27.217  < 2e-16 ***\n",
       "some_college         2.442e-01  4.250e-03  57.466  < 2e-16 ***\n",
       "college              2.570e-01  7.226e-03  35.563  < 2e-16 ***\n",
       "---\n",
       "Signif. codes:  0 ‘***’ 0.001 ‘**’ 0.01 ‘*’ 0.05 ‘.’ 0.1 ‘ ’ 1\n",
       "\n",
       "Residual standard error: 15.17 on 58714 degrees of freedom\n",
       "  (23963 observations deleted due to missingness)\n",
       "Multiple R-squared:  0.2023,\tAdjusted R-squared:  0.2022 \n",
       "F-statistic:  1489 on 10 and 58714 DF,  p-value: < 2.2e-16\n"
      ]
     },
     "metadata": {},
     "output_type": "display_data"
    }
   ],
   "source": [
    "in_lab <- lm(\n",
    "             in_labor_force ~ has_child_u19 + post_eitc_expansion + treatment\n",
    "                            + age + age2 + white + black + high_school\n",
    "                            + some_college + college,\n",
    "             data=df,\n",
    "             weights=sample_weight\n",
    "             )\n",
    "summary(in_lab)"
   ]
  },
  {
   "cell_type": "markdown",
   "metadata": {},
   "source": [
    "### Prompt:\n",
    "\n",
    "Do you find that the expansion of the EITC generated a statistically significant change in the real earnings, employment rate, or labor force participation rate?  Is the effect economically significant?  Do your results differ when you include the additional control variables (age, race, education level)?\n",
    "\n",
    "### Response:\n",
    "\n",
    "In the simple model, the EITC generated a statistically significant impact on employment rate and labor force participation, but not on real earnings. The effects on employment rate and labor force participation were also economically significant in these models, both increasing the probability that the unit was employed or in the labor force by more than 10 percentage points. After expanding the model to include more control variables, this continued to be the case. Treatment remained statistically significant in the latter two models, and the coefficients for treatment retained similar values to those from the simple model. Treatment still did not have a statistically or economically significant impact on real earnings."
   ]
  },
  {
   "cell_type": "markdown",
   "metadata": {},
   "source": [
    "## Problem 7"
   ]
  },
  {
   "cell_type": "code",
   "execution_count": 31,
   "metadata": {},
   "outputs": [],
   "source": [
    "# Create placebo dummy, placebo treatment variables\n",
    "\n",
    "df$post_1985 <- ifelse(df$year == 1986, 1, 0)\n",
    "\n",
    "df$treatment_placebo <- df$post_1985*df$has_child_u19\n",
    "\n",
    "# Create subset of pre-1987 data\n",
    "\n",
    "df_pre_87 <- df[df$year < 1987,]"
   ]
  },
  {
   "cell_type": "markdown",
   "metadata": {},
   "source": [
    "**Real earnings placebo model**"
   ]
  },
  {
   "cell_type": "code",
   "execution_count": 32,
   "metadata": {},
   "outputs": [
    {
     "data": {
      "text/plain": [
       "\n",
       "Call:\n",
       "lm(formula = real1992_earnings ~ has_child_u19 + post_1985 + \n",
       "    treatment_placebo + age + age2 + white + black + high_school + \n",
       "    some_college + college, data = df_pre_87, weights = sample_weight)\n",
       "\n",
       "Weighted Residuals:\n",
       "     Min       1Q   Median       3Q      Max \n",
       "-1594912  -223293   -13006   154778  5595535 \n",
       "\n",
       "Coefficients:\n",
       "                   Estimate Std. Error t value Pr(>|t|)    \n",
       "(Intercept)       -43768.21    1188.10 -36.839  < 2e-16 ***\n",
       "has_child_u19      -3877.17     246.43 -15.734  < 2e-16 ***\n",
       "post_1985            667.06     166.84   3.998 6.41e-05 ***\n",
       "treatment_placebo     62.94     385.88   0.163   0.8704    \n",
       "age                 3210.26      84.19  38.133  < 2e-16 ***\n",
       "age2                 -40.87       1.41 -28.977  < 2e-16 ***\n",
       "white                852.80     427.04   1.997   0.0458 *  \n",
       "black               -859.35     466.15  -1.844   0.0653 .  \n",
       "high_school         2545.08     271.56   9.372  < 2e-16 ***\n",
       "some_college        4927.42     205.09  24.026  < 2e-16 ***\n",
       "college            11035.65     317.31  34.779  < 2e-16 ***\n",
       "---\n",
       "Signif. codes:  0 ‘***’ 0.001 ‘**’ 0.01 ‘*’ 0.05 ‘.’ 0.1 ‘ ’ 1\n",
       "\n",
       "Residual standard error: 409000 on 21576 degrees of freedom\n",
       "  (16231 observations deleted due to missingness)\n",
       "Multiple R-squared:  0.4023,\tAdjusted R-squared:  0.402 \n",
       "F-statistic:  1452 on 10 and 21576 DF,  p-value: < 2.2e-16\n"
      ]
     },
     "metadata": {},
     "output_type": "display_data"
    }
   ],
   "source": [
    "real_earnings_placebo <- lm(\n",
    "                            real1992_earnings ~ has_child_u19 + post_1985 + treatment_placebo\n",
    "                                              + age + age2 + white + black + high_school\n",
    "                                              + some_college + college,\n",
    "                        data=df_pre_87,\n",
    "                        weights=sample_weight\n",
    "                        )\n",
    "summary(real_earnings_placebo)"
   ]
  },
  {
   "cell_type": "markdown",
   "metadata": {},
   "source": [
    "**Employment placebo model**"
   ]
  },
  {
   "cell_type": "code",
   "execution_count": 33,
   "metadata": {},
   "outputs": [
    {
     "data": {
      "text/plain": [
       "\n",
       "Call:\n",
       "lm(formula = employed ~ has_child_u19 + post_1985 + treatment_placebo + \n",
       "    age + age2 + white + black + high_school + some_college + \n",
       "    college, data = df_pre_87, weights = sample_weight)\n",
       "\n",
       "Weighted Residuals:\n",
       "    Min      1Q  Median      3Q     Max \n",
       "-94.356   0.473   3.731   8.866  46.504 \n",
       "\n",
       "Coefficients:\n",
       "                    Estimate Std. Error t value Pr(>|t|)    \n",
       "(Intercept)        9.136e-01  3.920e-02  23.308  < 2e-16 ***\n",
       "has_child_u19     -1.597e-01  7.917e-03 -20.172  < 2e-16 ***\n",
       "post_1985         -1.156e-04  5.837e-03  -0.020    0.984    \n",
       "treatment_placebo -3.377e-03  1.214e-02  -0.278    0.781    \n",
       "age               -2.249e-02  2.769e-03  -8.119  4.9e-16 ***\n",
       "age2               4.047e-04  4.653e-05   8.698  < 2e-16 ***\n",
       "white              7.333e-03  1.441e-02   0.509    0.611    \n",
       "black             -1.444e-01  1.548e-02  -9.326  < 2e-16 ***\n",
       "high_school        2.150e-01  9.132e-03  23.544  < 2e-16 ***\n",
       "some_college       2.892e-01  6.486e-03  44.597  < 2e-16 ***\n",
       "college            3.101e-01  1.083e-02  28.641  < 2e-16 ***\n",
       "---\n",
       "Signif. codes:  0 ‘***’ 0.001 ‘**’ 0.01 ‘*’ 0.05 ‘.’ 0.1 ‘ ’ 1\n",
       "\n",
       "Residual standard error: 15.18 on 25707 degrees of freedom\n",
       "  (12099 observations deleted due to missingness)\n",
       "Multiple R-squared:  0.1686,\tAdjusted R-squared:  0.1683 \n",
       "F-statistic: 521.3 on 10 and 25707 DF,  p-value: < 2.2e-16\n"
      ]
     },
     "metadata": {},
     "output_type": "display_data"
    }
   ],
   "source": [
    "employment_placebo <- lm(\n",
    "                         employed ~ has_child_u19 + post_1985 + treatment_placebo\n",
    "                                  + age + age2 + white + black + high_school\n",
    "                                  + some_college + college,\n",
    "                         data=df_pre_87,\n",
    "                         weights=sample_weight\n",
    "                        )\n",
    "summary(employment_placebo)"
   ]
  },
  {
   "cell_type": "markdown",
   "metadata": {},
   "source": [
    "**In labor force placebo model**"
   ]
  },
  {
   "cell_type": "code",
   "execution_count": 34,
   "metadata": {},
   "outputs": [
    {
     "data": {
      "text/plain": [
       "\n",
       "Call:\n",
       "lm(formula = in_labor_force ~ has_child_u19 + post_1985 + treatment_placebo + \n",
       "    age + age2 + white + black + high_school + some_college + \n",
       "    college, data = df_pre_87, weights = sample_weight)\n",
       "\n",
       "Weighted Residuals:\n",
       "    Min      1Q  Median      3Q     Max \n",
       "-81.860  -0.079   1.497   5.980  36.815 \n",
       "\n",
       "Coefficients:\n",
       "                    Estimate Std. Error t value Pr(>|t|)    \n",
       "(Intercept)        1.332e+00  3.038e-02  43.849  < 2e-16 ***\n",
       "has_child_u19     -1.359e-01  6.135e-03 -22.147  < 2e-16 ***\n",
       "post_1985          2.805e-03  4.523e-03   0.620    0.535    \n",
       "treatment_placebo -6.566e-03  9.404e-03  -0.698    0.485    \n",
       "age               -4.184e-02  2.146e-03 -19.498  < 2e-16 ***\n",
       "age2               6.774e-04  3.606e-05  18.787  < 2e-16 ***\n",
       "white              1.170e-02  1.116e-02   1.048    0.295    \n",
       "black             -5.793e-02  1.200e-02  -4.829 1.38e-06 ***\n",
       "high_school        1.860e-01  7.077e-03  26.291  < 2e-16 ***\n",
       "some_college       2.480e-01  5.026e-03  49.346  < 2e-16 ***\n",
       "college            2.753e-01  8.390e-03  32.813  < 2e-16 ***\n",
       "---\n",
       "Signif. codes:  0 ‘***’ 0.001 ‘**’ 0.01 ‘*’ 0.05 ‘.’ 0.1 ‘ ’ 1\n",
       "\n",
       "Residual standard error: 11.76 on 25707 degrees of freedom\n",
       "  (12099 observations deleted due to missingness)\n",
       "Multiple R-squared:  0.177,\tAdjusted R-squared:  0.1767 \n",
       "F-statistic: 552.8 on 10 and 25707 DF,  p-value: < 2.2e-16\n"
      ]
     },
     "metadata": {},
     "output_type": "display_data"
    }
   ],
   "source": [
    "in_lab_placebo <- lm(\n",
    "                     in_labor_force ~ has_child_u19 + post_1985 + treatment_placebo\n",
    "                                    + age + age2 + white + black + high_school\n",
    "                                    + some_college + college,\n",
    "                     data=df_pre_87,\n",
    "                     weights=sample_weight\n",
    "                    )\n",
    "summary(in_lab_placebo)"
   ]
  },
  {
   "cell_type": "markdown",
   "metadata": {},
   "source": [
    "### Prompt:\n",
    "\n",
    "If you conduct a difference in differences estimate of earnings, employment and labor force participation (as the outcome variables) that compares 1984 and 1985 versus 1986, do you find an effect of the non-existent (placebo) EITC expansion in 1986?  Explain the implications of this placebo test for your confidence in your results for these different outcome variables.\n",
    "\n",
    "### Response:\n",
    "\n",
    "In all 3 models, the placebo treatment variables had gigantic p-values (smallest one around 0.4), and were thus statistically insignificant. This gives me increased confidence in the method of causal estimation via regression and significance testing, it is important that the same methods I used to confirm the effect of a real EITC expansion would not also confirm the effect for a non-existent one."
   ]
  }
 ],
 "metadata": {
  "kernelspec": {
   "display_name": "R",
   "language": "R",
   "name": "ir"
  },
  "language_info": {
   "codemirror_mode": "r",
   "file_extension": ".r",
   "mimetype": "text/x-r-source",
   "name": "R",
   "pygments_lexer": "r",
   "version": "3.6.0"
  }
 },
 "nbformat": 4,
 "nbformat_minor": 2
}
