{
 "cells": [
  {
   "cell_type": "markdown",
   "metadata": {},
   "source": [
    "## Imports"
   ]
  },
  {
   "cell_type": "code",
   "execution_count": 1,
   "metadata": {},
   "outputs": [],
   "source": [
    "import numpy as np\n",
    "import pandas as pd\n",
    "import statsmodels.regression.linear_model as sm\n",
    "import matplotlib.pyplot as plt\n",
    "import seaborn as sn\n",
    "import warnings\n",
    "warnings.filterwarnings('ignore')"
   ]
  },
  {
   "cell_type": "markdown",
   "metadata": {},
   "source": [
    "## Data & cleaning"
   ]
  },
  {
   "cell_type": "markdown",
   "metadata": {},
   "source": [
    "Data are from the 1994 Canadian Survey of Labour and Income Dynamics in the province of Ontario. Data were prepared by the Institute for Social Research at York University, and are available at: https://vincentarelbundock.github.io/Rdatasets/datasets.html\n",
    "\n",
    "Wage data are in $/hour from all jobs. Language refers to respondents' preferred language.\n",
    "\n",
    "The objective in this notebook is to model wage earners' hourly wages. \"Wage earners\" are the rows without \"NaN\" values in their wages column. (Salaried employees' hourly wages were estimated with hours worked, yearly income)."
   ]
  },
  {
   "cell_type": "code",
   "execution_count": 2,
   "metadata": {
    "scrolled": true
   },
   "outputs": [
    {
     "data": {
      "text/html": [
       "<div>\n",
       "<style scoped>\n",
       "    .dataframe tbody tr th:only-of-type {\n",
       "        vertical-align: middle;\n",
       "    }\n",
       "\n",
       "    .dataframe tbody tr th {\n",
       "        vertical-align: top;\n",
       "    }\n",
       "\n",
       "    .dataframe thead th {\n",
       "        text-align: right;\n",
       "    }\n",
       "</style>\n",
       "<table border=\"1\" class=\"dataframe\">\n",
       "  <thead>\n",
       "    <tr style=\"text-align: right;\">\n",
       "      <th></th>\n",
       "      <th>Unnamed: 0</th>\n",
       "      <th>wages</th>\n",
       "      <th>education</th>\n",
       "      <th>age</th>\n",
       "      <th>sex</th>\n",
       "      <th>language</th>\n",
       "    </tr>\n",
       "  </thead>\n",
       "  <tbody>\n",
       "    <tr>\n",
       "      <th>0</th>\n",
       "      <td>1</td>\n",
       "      <td>10.56</td>\n",
       "      <td>15.0</td>\n",
       "      <td>40</td>\n",
       "      <td>Male</td>\n",
       "      <td>English</td>\n",
       "    </tr>\n",
       "    <tr>\n",
       "      <th>1</th>\n",
       "      <td>2</td>\n",
       "      <td>11.00</td>\n",
       "      <td>13.2</td>\n",
       "      <td>19</td>\n",
       "      <td>Male</td>\n",
       "      <td>English</td>\n",
       "    </tr>\n",
       "    <tr>\n",
       "      <th>2</th>\n",
       "      <td>3</td>\n",
       "      <td>NaN</td>\n",
       "      <td>16.0</td>\n",
       "      <td>49</td>\n",
       "      <td>Male</td>\n",
       "      <td>Other</td>\n",
       "    </tr>\n",
       "    <tr>\n",
       "      <th>3</th>\n",
       "      <td>4</td>\n",
       "      <td>17.76</td>\n",
       "      <td>14.0</td>\n",
       "      <td>46</td>\n",
       "      <td>Male</td>\n",
       "      <td>Other</td>\n",
       "    </tr>\n",
       "    <tr>\n",
       "      <th>4</th>\n",
       "      <td>5</td>\n",
       "      <td>NaN</td>\n",
       "      <td>8.0</td>\n",
       "      <td>71</td>\n",
       "      <td>Male</td>\n",
       "      <td>English</td>\n",
       "    </tr>\n",
       "  </tbody>\n",
       "</table>\n",
       "</div>"
      ],
      "text/plain": [
       "   Unnamed: 0  wages  education  age   sex language\n",
       "0           1  10.56       15.0   40  Male  English\n",
       "1           2  11.00       13.2   19  Male  English\n",
       "2           3    NaN       16.0   49  Male    Other\n",
       "3           4  17.76       14.0   46  Male    Other\n",
       "4           5    NaN        8.0   71  Male  English"
      ]
     },
     "execution_count": 2,
     "metadata": {},
     "output_type": "execute_result"
    }
   ],
   "source": [
    "df = pd.read_csv('SLID.csv')\n",
    "df.head()"
   ]
  },
  {
   "cell_type": "markdown",
   "metadata": {},
   "source": [
    "Objectives:\n",
    "  * Remove Unnamed index column\n",
    "  * Change sex to binary (F=0)\n",
    "  * Create k-1 (2) dummies for language\n",
    "  * Add intercept for statsmodels' OLS\n",
    "  * Create subsample of the original dataset (df, n=7425) without ANY NaN values (df1, n=3987), and another where at least the wage data are available (df2, n=4147)"
   ]
  },
  {
   "cell_type": "code",
   "execution_count": 3,
   "metadata": {},
   "outputs": [
    {
     "data": {
      "text/html": [
       "<div>\n",
       "<style scoped>\n",
       "    .dataframe tbody tr th:only-of-type {\n",
       "        vertical-align: middle;\n",
       "    }\n",
       "\n",
       "    .dataframe tbody tr th {\n",
       "        vertical-align: top;\n",
       "    }\n",
       "\n",
       "    .dataframe thead th {\n",
       "        text-align: right;\n",
       "    }\n",
       "</style>\n",
       "<table border=\"1\" class=\"dataframe\">\n",
       "  <thead>\n",
       "    <tr style=\"text-align: right;\">\n",
       "      <th></th>\n",
       "      <th>wages</th>\n",
       "      <th>education</th>\n",
       "      <th>age</th>\n",
       "      <th>sex</th>\n",
       "      <th>language</th>\n",
       "      <th>En</th>\n",
       "      <th>Fr</th>\n",
       "      <th>c</th>\n",
       "    </tr>\n",
       "  </thead>\n",
       "  <tbody>\n",
       "    <tr>\n",
       "      <th>0</th>\n",
       "      <td>10.56</td>\n",
       "      <td>15.0</td>\n",
       "      <td>40</td>\n",
       "      <td>1</td>\n",
       "      <td>English</td>\n",
       "      <td>1</td>\n",
       "      <td>0</td>\n",
       "      <td>1</td>\n",
       "    </tr>\n",
       "    <tr>\n",
       "      <th>1</th>\n",
       "      <td>11.00</td>\n",
       "      <td>13.2</td>\n",
       "      <td>19</td>\n",
       "      <td>1</td>\n",
       "      <td>English</td>\n",
       "      <td>1</td>\n",
       "      <td>0</td>\n",
       "      <td>1</td>\n",
       "    </tr>\n",
       "    <tr>\n",
       "      <th>3</th>\n",
       "      <td>17.76</td>\n",
       "      <td>14.0</td>\n",
       "      <td>46</td>\n",
       "      <td>1</td>\n",
       "      <td>Other</td>\n",
       "      <td>0</td>\n",
       "      <td>0</td>\n",
       "      <td>1</td>\n",
       "    </tr>\n",
       "    <tr>\n",
       "      <th>5</th>\n",
       "      <td>14.00</td>\n",
       "      <td>16.0</td>\n",
       "      <td>50</td>\n",
       "      <td>0</td>\n",
       "      <td>English</td>\n",
       "      <td>1</td>\n",
       "      <td>0</td>\n",
       "      <td>1</td>\n",
       "    </tr>\n",
       "    <tr>\n",
       "      <th>8</th>\n",
       "      <td>8.20</td>\n",
       "      <td>15.0</td>\n",
       "      <td>31</td>\n",
       "      <td>1</td>\n",
       "      <td>English</td>\n",
       "      <td>1</td>\n",
       "      <td>0</td>\n",
       "      <td>1</td>\n",
       "    </tr>\n",
       "  </tbody>\n",
       "</table>\n",
       "</div>"
      ],
      "text/plain": [
       "   wages  education  age  sex language  En  Fr  c\n",
       "0  10.56       15.0   40    1  English   1   0  1\n",
       "1  11.00       13.2   19    1  English   1   0  1\n",
       "3  17.76       14.0   46    1    Other   0   0  1\n",
       "5  14.00       16.0   50    0  English   1   0  1\n",
       "8   8.20       15.0   31    1  English   1   0  1"
      ]
     },
     "execution_count": 3,
     "metadata": {},
     "output_type": "execute_result"
    }
   ],
   "source": [
    "df.drop('Unnamed: 0', axis = 1, inplace = True)\n",
    "\n",
    "df['sex'] = np.where(df['sex'] == 'Female', 0, 1)\n",
    "\n",
    "df['En'] = np.where(df['language'] == 'English', 1, 0)\n",
    "df['Fr'] = np.where(df['language'] == 'French', 1, 0)\n",
    "\n",
    "df['c'] = 1\n",
    "\n",
    "df1 = df.dropna()\n",
    "df2 = df[pd.notnull(df['wages'])]\n",
    "\n",
    "df1.head()"
   ]
  },
  {
   "cell_type": "markdown",
   "metadata": {},
   "source": [
    "## Analysis"
   ]
  },
  {
   "cell_type": "markdown",
   "metadata": {},
   "source": [
    "Objectives:\n",
    " * Verify multicollinearity will not be an issue in OLS\n",
    " * Analyze distributions of wages, education, age, sex and language in both df1 df2\n",
    "   * Verify that df1 adequately represents the wage-earner sub-sample (df2)\n",
    "   * Verify that variables have enough variance to explain variance in wages "
   ]
  },
  {
   "cell_type": "markdown",
   "metadata": {},
   "source": [
    "Multicollinearity not a significant issue, especially given that our standard errors will be low, given the large sample size."
   ]
  },
  {
   "cell_type": "code",
   "execution_count": 4,
   "metadata": {},
   "outputs": [
    {
     "data": {
      "text/plain": [
       "education    0.098751\n",
       "age          0.014390\n",
       "sex          0.022363\n",
       "En           0.098751\n",
       "Fr           0.022363\n",
       "dtype: float64"
      ]
     },
     "execution_count": 4,
     "metadata": {},
     "output_type": "execute_result"
    }
   ],
   "source": [
    "# Exog, endog\n",
    "X, y = df1[['c', 'education', 'age', 'sex', 'En', 'Fr']], df1['wages']\n",
    "\n",
    "# Display largest correlation each exog variable has with another exog variable\n",
    "corr = X.corr().replace(1, 0)\n",
    "corr.max()[1:]"
   ]
  },
  {
   "cell_type": "markdown",
   "metadata": {},
   "source": [
    "Wages: \n",
    "\n",
    "* Large concentration at \\$7/hr, reflecting Ontario's 1994 minimum wage of \\$6.85, and (probably) rounding on the part of firms or survey respondents.\n",
    "* Distributions are largely identical between non-missing-data sample (df1) and df2."
   ]
  },
  {
   "cell_type": "code",
   "execution_count": 5,
   "metadata": {},
   "outputs": [
    {
     "data": {
      "text/plain": [
       "[]"
      ]
     },
     "execution_count": 5,
     "metadata": {},
     "output_type": "execute_result"
    },
    {
     "data": {
      "image/png": "[encoded data removed]",
      "text/plain": [
       "<Figure size 1296x432 with 2 Axes>"
      ]
     },
     "metadata": {},
     "output_type": "display_data"
    }
   ],
   "source": [
    "plt.figure(figsize=(18,6))\n",
    "\n",
    "plt.subplot(1, 2, 1)\n",
    "sn.distplot(df1.wages)\n",
    "plt.title('df1: No missing data')\n",
    "plt.ylabel('Proportion of data')\n",
    "\n",
    "plt.subplot(1, 2, 2)\n",
    "sn.distplot(df2.wages)\n",
    "plt.title('df2: At least wage data')\n",
    "plt.ylabel('Proportion of data')\n",
    "\n",
    "plt.plot()"
   ]
  },
  {
   "cell_type": "markdown",
   "metadata": {},
   "source": [
    "Education:\n",
    "\n",
    "* Nearly identical"
   ]
  },
  {
   "cell_type": "code",
   "execution_count": 6,
   "metadata": {},
   "outputs": [
    {
     "data": {
      "text/plain": [
       "[]"
      ]
     },
     "execution_count": 6,
     "metadata": {},
     "output_type": "execute_result"
    },
    {
     "data": {
      "image/png": "[encoded data removed]",
      "text/plain": [
       "<Figure size 1296x432 with 2 Axes>"
      ]
     },
     "metadata": {},
     "output_type": "display_data"
    }
   ],
   "source": [
    "plt.figure(figsize=(18,6))\n",
    "\n",
    "plt.subplot(1, 2, 1)\n",
    "sn.distplot(df1.education)\n",
    "plt.title('df1: No missing data')\n",
    "plt.ylabel('Proportion of data')\n",
    "\n",
    "plt.subplot(1, 2, 2)\n",
    "sn.distplot(df2.education.dropna())\n",
    "plt.title('df2: At least wage data')\n",
    "plt.ylabel('Proportion of data')\n",
    "\n",
    "plt.plot()"
   ]
  },
  {
   "cell_type": "markdown",
   "metadata": {},
   "source": [
    "Age:\n",
    "\n",
    "* Nearly identical"
   ]
  },
  {
   "cell_type": "code",
   "execution_count": 7,
   "metadata": {},
   "outputs": [
    {
     "data": {
      "text/plain": [
       "[]"
      ]
     },
     "execution_count": 7,
     "metadata": {},
     "output_type": "execute_result"
    },
    {
     "data": {
      "image/png": "[encoded data removed]",
      "text/plain": [
       "<Figure size 1296x432 with 2 Axes>"
      ]
     },
     "metadata": {},
     "output_type": "display_data"
    }
   ],
   "source": [
    "plt.figure(figsize=(18,6))\n",
    "\n",
    "plt.subplot(1, 2, 1)\n",
    "sn.distplot(df1.age, 50)\n",
    "plt.title('df1: No missing data')\n",
    "plt.ylabel('Proportion of data')\n",
    "\n",
    "plt.subplot(1, 2, 2)\n",
    "sn.distplot(df2.age.dropna(), 50)\n",
    "plt.title('df2: At least wage data')\n",
    "plt.ylabel('Proportion of data')\n",
    "\n",
    "plt.plot()"
   ]
  },
  {
   "cell_type": "markdown",
   "metadata": {},
   "source": [
    "Gender:\n",
    "* Both near gender parity"
   ]
  },
  {
   "cell_type": "code",
   "execution_count": 8,
   "metadata": {},
   "outputs": [
    {
     "name": "stdout",
     "output_type": "stream",
     "text": [
      "\n",
      " df1 mean sex: 0.498 \n",
      " df2 mean sex : 0.499\n"
     ]
    }
   ],
   "source": [
    "print('\\n df1 mean sex:', round(df1.sex.mean(), 3), '\\n df2 mean sex :', round(df2.sex.mean(), 3))"
   ]
  },
  {
   "cell_type": "markdown",
   "metadata": {},
   "source": [
    "Language preference:\n",
    "\n",
    "* Distributions are similar, but English comprises over 80% of data, French 6%, Other 12%. These data are unlikely to provide any explanatory value for wages."
   ]
  },
  {
   "cell_type": "code",
   "execution_count": 9,
   "metadata": {},
   "outputs": [],
   "source": [
    "En1 = (len(df1[df1['language'] == 'English'])/len(df1))*100\n",
    "Fr1 = (len(df1[df1['language'] == 'French'])/len(df1))*100\n",
    "Oth1 = (len(df1[df1['language'] == 'Other'])/len(df1))*100\n",
    "\n",
    "En2 = (len(df2[df2['language'] == 'English'])/len(df2))*100\n",
    "Fr2 = (len(df2[df2['language'] == 'French'])/len(df2))*100\n",
    "Oth2 = (len(df2[df2['language'] == 'Other'])/len(df2))*100"
   ]
  },
  {
   "cell_type": "markdown",
   "metadata": {},
   "source": [
    "df1: English, French, Other"
   ]
  },
  {
   "cell_type": "code",
   "execution_count": 10,
   "metadata": {},
   "outputs": [
    {
     "data": {
      "text/plain": [
       "(81.36, 6.5, 12.14)"
      ]
     },
     "execution_count": 10,
     "metadata": {},
     "output_type": "execute_result"
    }
   ],
   "source": [
    "round(En1, 2), round(Fr1, 2), round(Oth1, 2)"
   ]
  },
  {
   "cell_type": "markdown",
   "metadata": {},
   "source": [
    "df2: English, French, Other"
   ]
  },
  {
   "cell_type": "code",
   "execution_count": 11,
   "metadata": {},
   "outputs": [
    {
     "data": {
      "text/plain": [
       "(80.18, 6.41, 12.06)"
      ]
     },
     "execution_count": 11,
     "metadata": {},
     "output_type": "execute_result"
    }
   ],
   "source": [
    "round(En2, 2), round(Fr2, 2), round(Oth2, 2)"
   ]
  },
  {
   "cell_type": "markdown",
   "metadata": {},
   "source": [
    "Conclusions:\n",
    "   * Multicollinearity is not a problem\n",
    "   * Non-null data provide good representation of wage-earner data.\n",
    "   * Langauge preference should not be included in regression"
   ]
  },
  {
   "cell_type": "markdown",
   "metadata": {},
   "source": [
    "* Removing language from exog"
   ]
  },
  {
   "cell_type": "code",
   "execution_count": 12,
   "metadata": {
    "scrolled": true
   },
   "outputs": [],
   "source": [
    "X = X.drop(labels=['En', 'Fr'], axis =1)"
   ]
  },
  {
   "cell_type": "markdown",
   "metadata": {},
   "source": [
    "## Model"
   ]
  },
  {
   "cell_type": "markdown",
   "metadata": {},
   "source": [
    "Regressing wages via OLS on:\n",
    "  * constant\n",
    "  * education\n",
    "  * age\n",
    "  * sex\n",
    " "
   ]
  },
  {
   "cell_type": "markdown",
   "metadata": {},
   "source": [
    "OLS model"
   ]
  },
  {
   "cell_type": "code",
   "execution_count": 13,
   "metadata": {
    "scrolled": false
   },
   "outputs": [
    {
     "data": {
      "text/html": [
       "<table class=\"simpletable\">\n",
       "<caption>OLS Regression Results</caption>\n",
       "<tr>\n",
       "  <th>Dep. Variable:</th>          <td>wages</td>      <th>  R-squared:         </th> <td>   0.297</td> \n",
       "</tr>\n",
       "<tr>\n",
       "  <th>Model:</th>                   <td>OLS</td>       <th>  Adj. R-squared:    </th> <td>   0.297</td> \n",
       "</tr>\n",
       "<tr>\n",
       "  <th>Method:</th>             <td>Least Squares</td>  <th>  F-statistic:       </th> <td>   561.5</td> \n",
       "</tr>\n",
       "<tr>\n",
       "  <th>Date:</th>             <td>Tue, 21 May 2019</td> <th>  Prob (F-statistic):</th> <td>2.34e-304</td>\n",
       "</tr>\n",
       "<tr>\n",
       "  <th>Time:</th>                 <td>17:49:42</td>     <th>  Log-Likelihood:    </th> <td> -13178.</td> \n",
       "</tr>\n",
       "<tr>\n",
       "  <th>No. Observations:</th>      <td>  3987</td>      <th>  AIC:               </th> <td>2.636e+04</td>\n",
       "</tr>\n",
       "<tr>\n",
       "  <th>Df Residuals:</th>          <td>  3983</td>      <th>  BIC:               </th> <td>2.639e+04</td>\n",
       "</tr>\n",
       "<tr>\n",
       "  <th>Df Model:</th>              <td>     3</td>      <th>                     </th>     <td> </td>    \n",
       "</tr>\n",
       "<tr>\n",
       "  <th>Covariance Type:</th>      <td>nonrobust</td>    <th>                     </th>     <td> </td>    \n",
       "</tr>\n",
       "</table>\n",
       "<table class=\"simpletable\">\n",
       "<tr>\n",
       "      <td></td>         <th>coef</th>     <th>std err</th>      <th>t</th>      <th>P>|t|</th>  <th>[0.025</th>    <th>0.975]</th>  \n",
       "</tr>\n",
       "<tr>\n",
       "  <th>c</th>         <td>   -7.8705</td> <td>    0.609</td> <td>  -12.920</td> <td> 0.000</td> <td>   -9.065</td> <td>   -6.676</td>\n",
       "</tr>\n",
       "<tr>\n",
       "  <th>education</th> <td>    0.9154</td> <td>    0.035</td> <td>   26.449</td> <td> 0.000</td> <td>    0.848</td> <td>    0.983</td>\n",
       "</tr>\n",
       "<tr>\n",
       "  <th>age</th>       <td>    0.2555</td> <td>    0.009</td> <td>   29.505</td> <td> 0.000</td> <td>    0.239</td> <td>    0.273</td>\n",
       "</tr>\n",
       "<tr>\n",
       "  <th>sex</th>       <td>    3.4545</td> <td>    0.209</td> <td>   16.521</td> <td> 0.000</td> <td>    3.045</td> <td>    3.864</td>\n",
       "</tr>\n",
       "</table>\n",
       "<table class=\"simpletable\">\n",
       "<tr>\n",
       "  <th>Omnibus:</th>       <td>596.435</td> <th>  Durbin-Watson:     </th> <td>   1.944</td> \n",
       "</tr>\n",
       "<tr>\n",
       "  <th>Prob(Omnibus):</th> <td> 0.000</td>  <th>  Jarque-Bera (JB):  </th> <td>1267.766</td> \n",
       "</tr>\n",
       "<tr>\n",
       "  <th>Skew:</th>          <td> 0.891</td>  <th>  Prob(JB):          </th> <td>5.11e-276</td>\n",
       "</tr>\n",
       "<tr>\n",
       "  <th>Kurtosis:</th>      <td> 5.111</td>  <th>  Cond. No.          </th> <td>    240.</td> \n",
       "</tr>\n",
       "</table><br/><br/>Warnings:<br/>[1] Standard Errors assume that the covariance matrix of the errors is correctly specified."
      ],
      "text/plain": [
       "<class 'statsmodels.iolib.summary.Summary'>\n",
       "\"\"\"\n",
       "                            OLS Regression Results                            \n",
       "==============================================================================\n",
       "Dep. Variable:                  wages   R-squared:                       0.297\n",
       "Model:                            OLS   Adj. R-squared:                  0.297\n",
       "Method:                 Least Squares   F-statistic:                     561.5\n",
       "Date:                Tue, 21 May 2019   Prob (F-statistic):          2.34e-304\n",
       "Time:                        17:49:42   Log-Likelihood:                -13178.\n",
       "No. Observations:                3987   AIC:                         2.636e+04\n",
       "Df Residuals:                    3983   BIC:                         2.639e+04\n",
       "Df Model:                           3                                         \n",
       "Covariance Type:            nonrobust                                         \n",
       "==============================================================================\n",
       "                 coef    std err          t      P>|t|      [0.025      0.975]\n",
       "------------------------------------------------------------------------------\n",
       "c             -7.8705      0.609    -12.920      0.000      -9.065      -6.676\n",
       "education      0.9154      0.035     26.449      0.000       0.848       0.983\n",
       "age            0.2555      0.009     29.505      0.000       0.239       0.273\n",
       "sex            3.4545      0.209     16.521      0.000       3.045       3.864\n",
       "==============================================================================\n",
       "Omnibus:                      596.435   Durbin-Watson:                   1.944\n",
       "Prob(Omnibus):                  0.000   Jarque-Bera (JB):             1267.766\n",
       "Skew:                           0.891   Prob(JB):                    5.11e-276\n",
       "Kurtosis:                       5.111   Cond. No.                         240.\n",
       "==============================================================================\n",
       "\n",
       "Warnings:\n",
       "[1] Standard Errors assume that the covariance matrix of the errors is correctly specified.\n",
       "\"\"\""
      ]
     },
     "execution_count": 13,
     "metadata": {},
     "output_type": "execute_result"
    }
   ],
   "source": [
    "Results = sm.OLS(y, X).fit().summary()\n",
    "Results"
   ]
  },
  {
   "cell_type": "markdown",
   "metadata": {},
   "source": [
    "## Conclusion"
   ]
  },
  {
   "cell_type": "markdown",
   "metadata": {},
   "source": [
    "Conclusions:\n",
    "   * Approximately 30% of the variance in Ontarian wage-earner's reported income in 1994 is explained by their variance in education, age and sex.\n",
    "   * Education level and age have significant positive effects on wages at a 99% significance level\n",
    "   * Sex is estimated to have a significant positive impact on wages at a 99% significance level\n",
    "   * \"Becoming male\" is estimated to increase the average female Ontarian's wages by \\$3.50 per hour in 1994 Canadian dollars, approximately \\$2.60 in 1994 USD, or \\$4.50 per hour in 2019 USD, holding education and age constant.\n",
    "   * This partial effect of \\$3.50 CAD is approximately equal to the expected increase in hourly wages from attending an extra 4 years of schooling (\\$3.66 CAD), holding age and gender constant."
   ]
  },
  {
   "cell_type": "markdown",
   "metadata": {},
   "source": [
    "Critiques:\n",
    "   * More data, such as the prevailing wage rates for each type of worker surveyed, would greatly improve this model's capacity to isolate the effects education, age or sex on wages - though age and education can be expected to capture some of the industry-based variation in wage.\n",
    "   \n",
    "   \n",
    "   * A linear model assumes a constant partial effect on y  in x, which is not a suitable assumption for analyzing education data - 4 years of graduate school are not equivalent to 4 years of undergraduate, or 4 years of highschool. Finishing one's Senior year of college (and graduating) means more than finishing one's Sophomore year.\n",
    "   \n",
    "      * Adding graduated/didn't-graduate dummy variables, splitting the data on secondary/tertiary/post-graduate education levels, or the use of non-linear models like random forests might be effective methods of accounting for this dynamic."
   ]
  }
 ],
 "metadata": {
  "kernelspec": {
   "display_name": "Python 3",
   "language": "python",
   "name": "python3"
  },
  "language_info": {
   "codemirror_mode": {
    "name": "ipython",
    "version": 3
   },
   "file_extension": ".py",
   "mimetype": "text/x-python",
   "name": "python",
   "nbconvert_exporter": "python",
   "pygments_lexer": "ipython3",
   "version": "3.6.8"
  }
 },
 "nbformat": 4,
 "nbformat_minor": 2
}
