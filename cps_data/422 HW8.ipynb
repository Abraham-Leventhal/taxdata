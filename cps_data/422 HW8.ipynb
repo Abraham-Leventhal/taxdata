{
 "cells": [
  {
   "cell_type": "code",
   "execution_count": 33,
   "metadata": {},
   "outputs": [],
   "source": [
    "import numpy as np\n",
    "import pandas as pd\n",
    "import statsmodels.formula.api as sm"
   ]
  },
  {
   "cell_type": "code",
   "execution_count": 34,
   "metadata": {
    "scrolled": true
   },
   "outputs": [],
   "source": [
    "df = pd.read_stata('fertil3.dta')\n",
    "df.fillna(0, inplace=True)\n",
    "\n",
    "# Create datasets for restricted (1) / unrestricted (0) models\n",
    "\n",
    "df0 = df.drop([0, 1, 2, 3], axis=0)\n",
    "df1 = df.drop([0, 1], axis = 0)"
   ]
  },
  {
   "cell_type": "code",
   "execution_count": 35,
   "metadata": {
    "scrolled": false
   },
   "outputs": [],
   "source": [
    "# Unrestricted model\n",
    "\n",
    "results0 = sm.ols('gfr ~ ww2 + pill + pe + pe_1 + pe_2 + pe_3 + pe_4', data=df0).fit()\n",
    "\n",
    "# Restricted model\n",
    "results1 = sm.ols('gfr ~ ww2 + pill + pe + pe_1 + pe_2', data=df1).fit()"
   ]
  },
  {
   "cell_type": "code",
   "execution_count": 36,
   "metadata": {},
   "outputs": [
    {
     "data": {
      "text/plain": [
       "2.639966681178517"
      ]
     },
     "execution_count": 36,
     "metadata": {},
     "output_type": "execute_result"
    }
   ],
   "source": [
    "# Compute F stat\n",
    "num = (results0.rsquared - results1.rsquared)/2\n",
    "den = (1 - results0.rsquared)/64\n",
    "F = num/den\n",
    "F"
   ]
  },
  {
   "cell_type": "code",
   "execution_count": 37,
   "metadata": {},
   "outputs": [
    {
     "name": "stdout",
     "output_type": "stream",
     "text": [
      "params: \n",
      "\n",
      " Intercept    92.501551\n",
      "ww2         -21.343483\n",
      "pill        -31.081643\n",
      "pe            0.088749\n",
      "pe_1         -0.003977\n",
      "pe_2          0.007395\n",
      "pe_3          0.018083\n",
      "pe_4          0.013940\n",
      "dtype: float64 \n",
      "\n",
      " LRP =  0.12418997531754411\n"
     ]
    }
   ],
   "source": [
    "# Sum betas of pe_i\n",
    "print(\n",
    "      'params:','\\n\\n',\n",
    "       results0.params,'\\n\\n',\n",
    "      'LRP = ',sum(i for i in results0.params[3:])\n",
    "     )"
   ]
  }
 ],
 "metadata": {
  "kernelspec": {
   "display_name": "Python 3",
   "language": "python",
   "name": "python3"
  },
  "language_info": {
   "codemirror_mode": {
    "name": "ipython",
    "version": 3
   },
   "file_extension": ".py",
   "mimetype": "text/x-python",
   "name": "python",
   "nbconvert_exporter": "python",
   "pygments_lexer": "ipython3",
   "version": "3.6.6"
  }
 },
 "nbformat": 4,
 "nbformat_minor": 2
}
